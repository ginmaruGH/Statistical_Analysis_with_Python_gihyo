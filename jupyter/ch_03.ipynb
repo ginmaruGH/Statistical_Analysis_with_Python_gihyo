{
 "cells": [
  {
   "cell_type": "markdown",
   "metadata": {},
   "source": [
    "# Chapter03 2次元データの整理\n",
    "\n",
    "- 3.1 2つのデータの関係性の指標\n",
    "- 3.2 2次元データの視覚化\n",
    "- 3.3 アンスコムの例"
   ]
  },
  {
   "cell_type": "code",
   "execution_count": 199,
   "metadata": {},
   "outputs": [],
   "source": [
    "# ライブラリーの準備\n",
    "import numpy as np\n",
    "import pandas as pd\n",
    "import matplotlib.pyplot as plt\n",
    "\n",
    "from plot_util import plot_cov_interact\n",
    "\n",
    "%precision 3\n",
    "pd.set_option('display.precision', 3)\n",
    "%matplotlib inline"
   ]
  },
  {
   "cell_type": "code",
   "execution_count": 200,
   "metadata": {},
   "outputs": [
    {
     "data": {
      "text/html": [
       "<div>\n",
       "<style scoped>\n",
       "    .dataframe tbody tr th:only-of-type {\n",
       "        vertical-align: middle;\n",
       "    }\n",
       "\n",
       "    .dataframe tbody tr th {\n",
       "        vertical-align: top;\n",
       "    }\n",
       "\n",
       "    .dataframe thead th {\n",
       "        text-align: right;\n",
       "    }\n",
       "</style>\n",
       "<table border=\"1\" class=\"dataframe\">\n",
       "  <thead>\n",
       "    <tr style=\"text-align: right;\">\n",
       "      <th></th>\n",
       "      <th>英語</th>\n",
       "      <th>数学</th>\n",
       "    </tr>\n",
       "    <tr>\n",
       "      <th>生徒番号</th>\n",
       "      <th></th>\n",
       "      <th></th>\n",
       "    </tr>\n",
       "  </thead>\n",
       "  <tbody>\n",
       "    <tr>\n",
       "      <th>1</th>\n",
       "      <td>42</td>\n",
       "      <td>65</td>\n",
       "    </tr>\n",
       "    <tr>\n",
       "      <th>2</th>\n",
       "      <td>69</td>\n",
       "      <td>80</td>\n",
       "    </tr>\n",
       "    <tr>\n",
       "      <th>3</th>\n",
       "      <td>56</td>\n",
       "      <td>63</td>\n",
       "    </tr>\n",
       "    <tr>\n",
       "      <th>4</th>\n",
       "      <td>41</td>\n",
       "      <td>63</td>\n",
       "    </tr>\n",
       "    <tr>\n",
       "      <th>5</th>\n",
       "      <td>57</td>\n",
       "      <td>76</td>\n",
       "    </tr>\n",
       "  </tbody>\n",
       "</table>\n",
       "</div>"
      ],
      "text/plain": [
       "      英語  数学\n",
       "生徒番号        \n",
       "1     42  65\n",
       "2     69  80\n",
       "3     56  63\n",
       "4     41  63\n",
       "5     57  76"
      ]
     },
     "execution_count": 200,
     "metadata": {},
     "output_type": "execute_result"
    }
   ],
   "source": [
    "# データの準備\n",
    "df = pd.read_csv('../data/ch2_scores_em.csv', index_col='生徒番号')\n",
    "df.head()"
   ]
  },
  {
   "cell_type": "code",
   "execution_count": 201,
   "metadata": {},
   "outputs": [
    {
     "data": {
      "text/html": [
       "<div>\n",
       "<style scoped>\n",
       "    .dataframe tbody tr th:only-of-type {\n",
       "        vertical-align: middle;\n",
       "    }\n",
       "\n",
       "    .dataframe tbody tr th {\n",
       "        vertical-align: top;\n",
       "    }\n",
       "\n",
       "    .dataframe thead th {\n",
       "        text-align: right;\n",
       "    }\n",
       "</style>\n",
       "<table border=\"1\" class=\"dataframe\">\n",
       "  <thead>\n",
       "    <tr style=\"text-align: right;\">\n",
       "      <th></th>\n",
       "      <th>english</th>\n",
       "      <th>math</th>\n",
       "    </tr>\n",
       "    <tr>\n",
       "      <th>students</th>\n",
       "      <th></th>\n",
       "      <th></th>\n",
       "    </tr>\n",
       "  </thead>\n",
       "  <tbody>\n",
       "    <tr>\n",
       "      <th>A</th>\n",
       "      <td>42</td>\n",
       "      <td>65</td>\n",
       "    </tr>\n",
       "    <tr>\n",
       "      <th>B</th>\n",
       "      <td>69</td>\n",
       "      <td>80</td>\n",
       "    </tr>\n",
       "    <tr>\n",
       "      <th>C</th>\n",
       "      <td>56</td>\n",
       "      <td>63</td>\n",
       "    </tr>\n",
       "    <tr>\n",
       "      <th>D</th>\n",
       "      <td>41</td>\n",
       "      <td>63</td>\n",
       "    </tr>\n",
       "    <tr>\n",
       "      <th>E</th>\n",
       "      <td>57</td>\n",
       "      <td>76</td>\n",
       "    </tr>\n",
       "    <tr>\n",
       "      <th>F</th>\n",
       "      <td>48</td>\n",
       "      <td>60</td>\n",
       "    </tr>\n",
       "    <tr>\n",
       "      <th>G</th>\n",
       "      <td>65</td>\n",
       "      <td>81</td>\n",
       "    </tr>\n",
       "    <tr>\n",
       "      <th>H</th>\n",
       "      <td>49</td>\n",
       "      <td>66</td>\n",
       "    </tr>\n",
       "    <tr>\n",
       "      <th>I</th>\n",
       "      <td>65</td>\n",
       "      <td>78</td>\n",
       "    </tr>\n",
       "    <tr>\n",
       "      <th>J</th>\n",
       "      <td>58</td>\n",
       "      <td>82</td>\n",
       "    </tr>\n",
       "  </tbody>\n",
       "</table>\n",
       "</div>"
      ],
      "text/plain": [
       "          english  math\n",
       "students               \n",
       "A              42    65\n",
       "B              69    80\n",
       "C              56    63\n",
       "D              41    63\n",
       "E              57    76\n",
       "F              48    60\n",
       "G              65    81\n",
       "H              49    66\n",
       "I              65    78\n",
       "J              58    82"
      ]
     },
     "execution_count": 201,
     "metadata": {},
     "output_type": "execute_result"
    }
   ],
   "source": [
    "# arrayとDataFrameの作成\n",
    "en_scores = np.array(df['英語'])[:10]\n",
    "ma_scores = np.array(df['数学'])[:10]\n",
    "\n",
    "scores_df = pd.DataFrame(\n",
    "    {'english': en_scores, 'math': ma_scores},\n",
    "    index=pd.Index(['A', 'B', 'C', 'D','E', 'F', 'G', 'H', 'I', 'J'], name='students')\n",
    ")\n",
    "scores_df"
   ]
  },
  {
   "cell_type": "markdown",
   "metadata": {},
   "source": [
    "## 3.1 2つのデータの関係性の指標\n",
    "\n",
    "- 散布図（scatter plot）\n",
    "- 共分散（covariance）"
   ]
  },
  {
   "cell_type": "code",
   "execution_count": 202,
   "metadata": {},
   "outputs": [
    {
     "data": {
      "application/vnd.jupyter.widget-view+json": {
       "model_id": "ca6aabae4f9347579afc91545e76f31e",
       "version_major": 2,
       "version_minor": 0
      },
      "text/plain": [
       "interactive(children=(IntSlider(value=42, description='Aさんの英語'), IntSlider(value=65, description='Aさんの数学'), In…"
      ]
     },
     "metadata": {},
     "output_type": "display_data"
    }
   ],
   "source": [
    "# 点数の散布図と符号付き面積\n",
    "plot_cov_interact(en_scores, ma_scores)"
   ]
  },
  {
   "cell_type": "code",
   "execution_count": 203,
   "metadata": {},
   "outputs": [
    {
     "data": {
      "text/html": [
       "<div>\n",
       "<style scoped>\n",
       "    .dataframe tbody tr th:only-of-type {\n",
       "        vertical-align: middle;\n",
       "    }\n",
       "\n",
       "    .dataframe tbody tr th {\n",
       "        vertical-align: top;\n",
       "    }\n",
       "\n",
       "    .dataframe thead th {\n",
       "        text-align: right;\n",
       "    }\n",
       "</style>\n",
       "<table border=\"1\" class=\"dataframe\">\n",
       "  <thead>\n",
       "    <tr style=\"text-align: right;\">\n",
       "      <th></th>\n",
       "      <th>english</th>\n",
       "      <th>math</th>\n",
       "      <th>en_dev</th>\n",
       "      <th>ma_dev</th>\n",
       "      <th>dev_prod</th>\n",
       "    </tr>\n",
       "    <tr>\n",
       "      <th>students</th>\n",
       "      <th></th>\n",
       "      <th></th>\n",
       "      <th></th>\n",
       "      <th></th>\n",
       "      <th></th>\n",
       "    </tr>\n",
       "  </thead>\n",
       "  <tbody>\n",
       "    <tr>\n",
       "      <th>A</th>\n",
       "      <td>42</td>\n",
       "      <td>65</td>\n",
       "      <td>-13.0</td>\n",
       "      <td>-6.4</td>\n",
       "      <td>83.2</td>\n",
       "    </tr>\n",
       "    <tr>\n",
       "      <th>B</th>\n",
       "      <td>69</td>\n",
       "      <td>80</td>\n",
       "      <td>14.0</td>\n",
       "      <td>8.6</td>\n",
       "      <td>120.4</td>\n",
       "    </tr>\n",
       "    <tr>\n",
       "      <th>C</th>\n",
       "      <td>56</td>\n",
       "      <td>63</td>\n",
       "      <td>1.0</td>\n",
       "      <td>-8.4</td>\n",
       "      <td>-8.4</td>\n",
       "    </tr>\n",
       "    <tr>\n",
       "      <th>D</th>\n",
       "      <td>41</td>\n",
       "      <td>63</td>\n",
       "      <td>-14.0</td>\n",
       "      <td>-8.4</td>\n",
       "      <td>117.6</td>\n",
       "    </tr>\n",
       "    <tr>\n",
       "      <th>E</th>\n",
       "      <td>57</td>\n",
       "      <td>76</td>\n",
       "      <td>2.0</td>\n",
       "      <td>4.6</td>\n",
       "      <td>9.2</td>\n",
       "    </tr>\n",
       "    <tr>\n",
       "      <th>F</th>\n",
       "      <td>48</td>\n",
       "      <td>60</td>\n",
       "      <td>-7.0</td>\n",
       "      <td>-11.4</td>\n",
       "      <td>79.8</td>\n",
       "    </tr>\n",
       "    <tr>\n",
       "      <th>G</th>\n",
       "      <td>65</td>\n",
       "      <td>81</td>\n",
       "      <td>10.0</td>\n",
       "      <td>9.6</td>\n",
       "      <td>96.0</td>\n",
       "    </tr>\n",
       "    <tr>\n",
       "      <th>H</th>\n",
       "      <td>49</td>\n",
       "      <td>66</td>\n",
       "      <td>-6.0</td>\n",
       "      <td>-5.4</td>\n",
       "      <td>32.4</td>\n",
       "    </tr>\n",
       "    <tr>\n",
       "      <th>I</th>\n",
       "      <td>65</td>\n",
       "      <td>78</td>\n",
       "      <td>10.0</td>\n",
       "      <td>6.6</td>\n",
       "      <td>66.0</td>\n",
       "    </tr>\n",
       "    <tr>\n",
       "      <th>J</th>\n",
       "      <td>58</td>\n",
       "      <td>82</td>\n",
       "      <td>3.0</td>\n",
       "      <td>10.6</td>\n",
       "      <td>31.8</td>\n",
       "    </tr>\n",
       "  </tbody>\n",
       "</table>\n",
       "</div>"
      ],
      "text/plain": [
       "          english  math  en_dev  ma_dev  dev_prod\n",
       "students                                         \n",
       "A              42    65   -13.0    -6.4      83.2\n",
       "B              69    80    14.0     8.6     120.4\n",
       "C              56    63     1.0    -8.4      -8.4\n",
       "D              41    63   -14.0    -8.4     117.6\n",
       "E              57    76     2.0     4.6       9.2\n",
       "F              48    60    -7.0   -11.4      79.8\n",
       "G              65    81    10.0     9.6      96.0\n",
       "H              49    66    -6.0    -5.4      32.4\n",
       "I              65    78    10.0     6.6      66.0\n",
       "J              58    82     3.0    10.6      31.8"
      ]
     },
     "execution_count": 203,
     "metadata": {},
     "output_type": "execute_result"
    }
   ],
   "source": [
    "# 共分散の計算\n",
    "summary_df = scores_df.copy()\n",
    "summary_df['en_dev'] = summary_df['english'] - summary_df['english'].mean()\n",
    "summary_df['ma_dev'] = summary_df['math'] - summary_df['math'].mean()\n",
    "summary_df['dev_prod'] = summary_df['en_dev'] * summary_df['ma_dev']\n",
    "\n",
    "summary_df"
   ]
  },
  {
   "cell_type": "code",
   "execution_count": 204,
   "metadata": {},
   "outputs": [
    {
     "data": {
      "text/plain": [
       "62.800"
      ]
     },
     "execution_count": 204,
     "metadata": {},
     "output_type": "execute_result"
    }
   ],
   "source": [
    "# 偏差の積の平均\n",
    "summary_df['dev_prod'].mean()"
   ]
  },
  {
   "cell_type": "markdown",
   "metadata": {},
   "source": [
    "- 共分散 $ S_{xy} = \\dfrac{1}{n} \\displaystyle\\sum_{i=1}^n (x_i - \\bar{x})(y_i - \\bar{y}) $\n",
    "- Numpyの共分散\n",
    "  - cov()関数で求める\n",
    "  - 返り値は、\n",
    "    - 共分散行列（covariance matrix）\n",
    "    - 分散共分散行列（variance-covariance matrix）\n",
    "  - と呼ばれる行列"
   ]
  },
  {
   "cell_type": "code",
   "execution_count": 205,
   "metadata": {},
   "outputs": [
    {
     "data": {
      "text/plain": [
       "array([[86.  , 62.8 ],\n",
       "       [62.8 , 68.44]])"
      ]
     },
     "execution_count": 205,
     "metadata": {},
     "output_type": "execute_result"
    }
   ],
   "source": [
    "cov_mat = np.cov(en_scores, ma_scores, ddof=0)\n",
    "cov_mat"
   ]
  },
  {
   "cell_type": "code",
   "execution_count": 206,
   "metadata": {},
   "outputs": [
    {
     "data": {
      "text/plain": [
       "(62.800, 62.800)"
      ]
     },
     "execution_count": 206,
     "metadata": {},
     "output_type": "execute_result"
    }
   ],
   "source": [
    "# 英語と数学の共分散\n",
    "cov_mat[0, 1], cov_mat[1, 0]"
   ]
  },
  {
   "cell_type": "code",
   "execution_count": 207,
   "metadata": {},
   "outputs": [
    {
     "data": {
      "text/plain": [
       "(86.000, 68.440)"
      ]
     },
     "execution_count": 207,
     "metadata": {},
     "output_type": "execute_result"
    }
   ],
   "source": [
    "# 英語の分散と数学の分散\n",
    "cov_mat[0, 0], cov_mat[1, 1]"
   ]
  },
  {
   "cell_type": "code",
   "execution_count": 208,
   "metadata": {},
   "outputs": [
    {
     "data": {
      "text/plain": [
       "(86.000, 68.440)"
      ]
     },
     "execution_count": 208,
     "metadata": {},
     "output_type": "execute_result"
    }
   ],
   "source": [
    "# 英語の分散と数学の分散\n",
    "np.var(en_scores, ddof=0), np.var(ma_scores, ddof=0)"
   ]
  },
  {
   "cell_type": "markdown",
   "metadata": {},
   "source": [
    "### 3.1.2 相関係数\n",
    "\n",
    "- 共分散 $ S_{xy} = \\dfrac{1}{n} \\displaystyle\\sum_{i=1}^n (x_i - \\bar{x})(y_i - \\bar{y}) $\n",
    "- 相関係数（correlation coefficient）$ r_{xy} $\n",
    "\n",
    "$$ r_{xy} = \\dfrac{S_{xy}}{S_x S_y}\n",
    "          = \\dfrac{1}{n} \\displaystyle\\sum_{i=1}^n (\\dfrac{x_i - \\bar{x}}{S_x})(\\dfrac{y_i - \\bar{y}}{S_y})\n",
    "$$"
   ]
  },
  {
   "cell_type": "code",
   "execution_count": 209,
   "metadata": {},
   "outputs": [
    {
     "data": {
      "text/plain": [
       "0.819"
      ]
     },
     "execution_count": 209,
     "metadata": {},
     "output_type": "execute_result"
    }
   ],
   "source": [
    "# 英語と数学の相関係数\n",
    "np.cov(en_scores, ma_scores, ddof=0)[0, 1] / \\\n",
    "    (np.std(en_scores, ddof=0) * np.std(ma_scores, ddof=0))"
   ]
  },
  {
   "cell_type": "markdown",
   "metadata": {},
   "source": [
    "- Numpyの相関係数\n",
    "  - correcoef()関数\n",
    "  - 返り値は、\n",
    "    - 相関行列（correlation matrix）\n",
    "  - と呼ばれる行列"
   ]
  },
  {
   "cell_type": "code",
   "execution_count": 210,
   "metadata": {},
   "outputs": [
    {
     "data": {
      "text/plain": [
       "array([[1.   , 0.819],\n",
       "       [0.819, 1.   ]])"
      ]
     },
     "execution_count": 210,
     "metadata": {},
     "output_type": "execute_result"
    }
   ],
   "source": [
    "# 英語と数学の相関係数\n",
    "np.corrcoef(en_scores, ma_scores)"
   ]
  },
  {
   "cell_type": "code",
   "execution_count": 211,
   "metadata": {},
   "outputs": [
    {
     "data": {
      "text/html": [
       "<div>\n",
       "<style scoped>\n",
       "    .dataframe tbody tr th:only-of-type {\n",
       "        vertical-align: middle;\n",
       "    }\n",
       "\n",
       "    .dataframe tbody tr th {\n",
       "        vertical-align: top;\n",
       "    }\n",
       "\n",
       "    .dataframe thead th {\n",
       "        text-align: right;\n",
       "    }\n",
       "</style>\n",
       "<table border=\"1\" class=\"dataframe\">\n",
       "  <thead>\n",
       "    <tr style=\"text-align: right;\">\n",
       "      <th></th>\n",
       "      <th>english</th>\n",
       "      <th>math</th>\n",
       "    </tr>\n",
       "  </thead>\n",
       "  <tbody>\n",
       "    <tr>\n",
       "      <th>english</th>\n",
       "      <td>1.000</td>\n",
       "      <td>0.819</td>\n",
       "    </tr>\n",
       "    <tr>\n",
       "      <th>math</th>\n",
       "      <td>0.819</td>\n",
       "      <td>1.000</td>\n",
       "    </tr>\n",
       "  </tbody>\n",
       "</table>\n",
       "</div>"
      ],
      "text/plain": [
       "         english   math\n",
       "english    1.000  0.819\n",
       "math       0.819  1.000"
      ]
     },
     "execution_count": 211,
     "metadata": {},
     "output_type": "execute_result"
    }
   ],
   "source": [
    "# DataFrameでの相関係数\n",
    "# corr()メソッドで求める\n",
    "scores_df.corr()"
   ]
  },
  {
   "cell_type": "markdown",
   "metadata": {},
   "source": [
    "## 3.2 2次元データの視覚化\n",
    "\n",
    "### 3.2.1 散布図"
   ]
  },
  {
   "cell_type": "code",
   "execution_count": 212,
   "metadata": {},
   "outputs": [
    {
     "data": {
      "image/png": "[encoded data removed]",
      "text/plain": [
       "<Figure size 576x576 with 1 Axes>"
      ]
     },
     "metadata": {
      "needs_background": "light"
     },
     "output_type": "display_data"
    }
   ],
   "source": [
    "# Matplotlibのscatter()メソッドで、散布図を描画する\n",
    "english_scores = np.array(df['英語'])\n",
    "math_scores = np.array(df['数学'])\n",
    "\n",
    "fig = plt.figure(figsize=(8, 8))\n",
    "ax = fig.add_subplot(111)\n",
    "\n",
    "ax.scatter(english_scores, math_scores)\n",
    "\n",
    "ax.set_xlabel('English')\n",
    "ax.set_ylabel('Math')\n",
    "\n",
    "plt.show()\n"
   ]
  },
  {
   "cell_type": "markdown",
   "metadata": {},
   "source": [
    "### 3.2.2 回帰直線（regression line）\n",
    "\n",
    "- 回帰直線 $ y = \\beta_0 + \\beta_1 x $"
   ]
  },
  {
   "cell_type": "code",
   "execution_count": 214,
   "metadata": {},
   "outputs": [
    {
     "data": {
      "image/png": "[encoded data removed]",
      "text/plain": [
       "<Figure size 576x576 with 1 Axes>"
      ]
     },
     "metadata": {
      "needs_background": "light"
     },
     "output_type": "display_data"
    }
   ],
   "source": [
    "# Numpy.polyfit()関数とNumpy.poly1d()関数を使って\n",
    "# 回帰直線を求める\n",
    "\n",
    "# 係数β_0とβ_1を求める\n",
    "poly_fit = np.polyfit(english_scores, math_scores, 1)\n",
    "\n",
    "# β_0 + β_1 * x を返す関数を作成する\n",
    "poly_1d = np.poly1d(poly_fit)\n",
    "\n",
    "# 直線を描画するためにx座標を作成する\n",
    "xs = np.linspace(english_scores.min(), english_scores.max())\n",
    "\n",
    "# xsに対応するy座標を求める\n",
    "ys = poly_1d(xs)\n",
    "\n",
    "# グラフの描画\n",
    "fig = plt.figure(figsize=(8, 8))\n",
    "ax = fig.add_subplot(111)\n",
    "\n",
    "\n",
    "ax.set_xlabel('English')\n",
    "ax.set_ylabel('Math')\n",
    "\n",
    "ax.scatter(english_scores, math_scores, label='Scores')\n",
    "ax.plot(xs, ys, color='red', label=f\"{poly_fit[1]:.2f} + {poly_fit[0]:.2f}x\")\n",
    "\n",
    "# 凡例の表示\n",
    "ax.legend(loc='upper left')\n",
    "\n",
    "plt.show()\n"
   ]
  },
  {
   "cell_type": "code",
   "execution_count": 221,
   "metadata": {},
   "outputs": [
    {
     "data": {
      "image/png": "[encoded data removed]",
      "text/plain": [
       "<Figure size 720x576 with 2 Axes>"
      ]
     },
     "metadata": {
      "needs_background": "light"
     },
     "output_type": "display_data"
    }
   ],
   "source": [
    "# ヒートマップ\n",
    "\n",
    "fig = plt.figure(figsize=(10, 8))\n",
    "ax = fig.add_subplot(111)\n",
    "\n",
    "c = ax.hist2d(english_scores, math_scores, bins=[9, 8], range=[(35, 80), (55, 95)])\n",
    "ax.set_xticks(c[1])\n",
    "ax.set_yticks(c[2])\n",
    "\n",
    "ax.set_xlabel('English')\n",
    "ax.set_ylabel('Math')\n",
    "\n",
    "# カラーバーの表示\n",
    "fig.colorbar(c[3], ax=ax)\n",
    "\n",
    "plt.show()"
   ]
  },
  {
   "cell_type": "markdown",
   "metadata": {},
   "source": [
    "## 3.3 アンスコムの例\n",
    "\n",
    "- 同じ指標を持っているが、まったく異なるデータという例"
   ]
  },
  {
   "cell_type": "code",
   "execution_count": 224,
   "metadata": {},
   "outputs": [
    {
     "name": "stdout",
     "output_type": "stream",
     "text": [
      "(4, 11, 2)\n"
     ]
    },
    {
     "data": {
      "text/plain": [
       "array([[10.  ,  8.04],\n",
       "       [ 8.  ,  6.95],\n",
       "       [13.  ,  7.58],\n",
       "       [ 9.  ,  8.81],\n",
       "       [11.  ,  8.33],\n",
       "       [14.  ,  9.96],\n",
       "       [ 6.  ,  7.24],\n",
       "       [ 4.  ,  4.26],\n",
       "       [12.  , 10.84],\n",
       "       [ 7.  ,  4.82],\n",
       "       [ 5.  ,  5.68]])"
      ]
     },
     "execution_count": 224,
     "metadata": {},
     "output_type": "execute_result"
    }
   ],
   "source": [
    "# npy形式で保存されたNumpy arrayを読み込む\n",
    "# 大きさ:11の2次元データ\n",
    "anscombe_data = np.load('../data/ch3_anscombe.npy')\n",
    "print(anscombe_data.shape)\n",
    "anscombe_data[0]"
   ]
  },
  {
   "cell_type": "code",
   "execution_count": 226,
   "metadata": {},
   "outputs": [
    {
     "data": {
      "text/html": [
       "<div>\n",
       "<style scoped>\n",
       "    .dataframe tbody tr th:only-of-type {\n",
       "        vertical-align: middle;\n",
       "    }\n",
       "\n",
       "    .dataframe tbody tr th {\n",
       "        vertical-align: top;\n",
       "    }\n",
       "\n",
       "    .dataframe thead th {\n",
       "        text-align: right;\n",
       "    }\n",
       "</style>\n",
       "<table border=\"1\" class=\"dataframe\">\n",
       "  <thead>\n",
       "    <tr style=\"text-align: right;\">\n",
       "      <th></th>\n",
       "      <th>data1</th>\n",
       "      <th>data2</th>\n",
       "      <th>data3</th>\n",
       "      <th>data4</th>\n",
       "    </tr>\n",
       "  </thead>\n",
       "  <tbody>\n",
       "    <tr>\n",
       "      <th>Xの平均</th>\n",
       "      <td>9.00</td>\n",
       "      <td>9.00</td>\n",
       "      <td>9.00</td>\n",
       "      <td>9.00</td>\n",
       "    </tr>\n",
       "    <tr>\n",
       "      <th>Xの分散</th>\n",
       "      <td>10.00</td>\n",
       "      <td>10.00</td>\n",
       "      <td>10.00</td>\n",
       "      <td>10.00</td>\n",
       "    </tr>\n",
       "    <tr>\n",
       "      <th>Yの平均</th>\n",
       "      <td>7.50</td>\n",
       "      <td>7.50</td>\n",
       "      <td>7.50</td>\n",
       "      <td>7.50</td>\n",
       "    </tr>\n",
       "    <tr>\n",
       "      <th>Yの分散</th>\n",
       "      <td>3.75</td>\n",
       "      <td>3.75</td>\n",
       "      <td>3.75</td>\n",
       "      <td>3.75</td>\n",
       "    </tr>\n",
       "    <tr>\n",
       "      <th>XとYの相関係数</th>\n",
       "      <td>0.82</td>\n",
       "      <td>0.82</td>\n",
       "      <td>0.82</td>\n",
       "      <td>0.82</td>\n",
       "    </tr>\n",
       "    <tr>\n",
       "      <th>XとYの回帰直線</th>\n",
       "      <td>3.00+0.50x</td>\n",
       "      <td>3.00+0.50x</td>\n",
       "      <td>3.00+0.50x</td>\n",
       "      <td>3.00+0.50x</td>\n",
       "    </tr>\n",
       "  </tbody>\n",
       "</table>\n",
       "</div>"
      ],
      "text/plain": [
       "               data1       data2       data3       data4\n",
       "Xの平均            9.00        9.00        9.00        9.00\n",
       "Xの分散           10.00       10.00       10.00       10.00\n",
       "Yの平均            7.50        7.50        7.50        7.50\n",
       "Yの分散            3.75        3.75        3.75        3.75\n",
       "XとYの相関係数        0.82        0.82        0.82        0.82\n",
       "XとYの回帰直線  3.00+0.50x  3.00+0.50x  3.00+0.50x  3.00+0.50x"
      ]
     },
     "execution_count": 226,
     "metadata": {},
     "output_type": "execute_result"
    }
   ],
   "source": [
    "# 各データの平均・分散・相関係数・回帰直線を求め、DataFrameにまとめる\n",
    "stats_df = pd.DataFrame(\n",
    "    index=['Xの平均', 'Xの分散',\n",
    "           'Yの平均', 'Yの分散',\n",
    "           'XとYの相関係数', 'XとYの回帰直線'\n",
    "    ]\n",
    ")\n",
    "\n",
    "for i, data in enumerate(anscombe_data):\n",
    "    data_x = data[:, 0]\n",
    "    data_y = data[:, 1]\n",
    "    poly_fit = np.polyfit(data_x, data_y, 1)\n",
    "    stats_df[f\"data{i+1}\"] = [\n",
    "        f\"{np.mean(data_x):.2f}\",\n",
    "        f\"{np.var(data_x):.2f}\",\n",
    "        f\"{np.mean(data_y):.2f}\",\n",
    "        f\"{np.var(data_y):.2f}\",\n",
    "        f\"{np.corrcoef(data_x, data_y)[0, 1]:.2f}\",\n",
    "        f\"{poly_fit[1]:.2f}+{poly_fit[0]:.2f}x\"\n",
    "    ]\n",
    "stats_df"
   ]
  },
  {
   "cell_type": "code",
   "execution_count": 227,
   "metadata": {},
   "outputs": [
    {
     "data": {
      "image/png": "[encoded data removed]",
      "text/plain": [
       "<Figure size 720x720 with 4 Axes>"
      ]
     },
     "metadata": {
      "needs_background": "light"
     },
     "output_type": "display_data"
    }
   ],
   "source": [
    "# グラフを描画する領域を2x2個作成する\n",
    "fig, axes = plt.subplots(nrows=2, ncols=2, figsize=(10 ,10), sharex=True, sharey=True)\n",
    "\n",
    "xs = np.linspace(0, 30, 100)\n",
    "for i, data in enumerate(anscombe_data):\n",
    "    poly_fit = np.polyfit(data[:, 0], data[:, 1], 1)\n",
    "    poly_1d = np.poly1d(poly_fit)\n",
    "    ys = poly_1d(xs)\n",
    "\n",
    "    # 描画する領域の選択\n",
    "    ax = axes[i//2, i%2]\n",
    "    ax.set_xlim([4, 20])\n",
    "    ax.set_ylim([3, 13])\n",
    "\n",
    "    # タイトルを付ける\n",
    "    ax.set_title(f\"data{i+1}\")\n",
    "    ax.scatter(data[:, 0], data[:, 1])\n",
    "    ax.plot(xs, ys, color='red')\n",
    "\n",
    "# グラフ同士の間隔を狭くする\n",
    "plt.tight_layout()\n",
    "plt.show()"
   ]
  }
 ],
 "metadata": {
  "interpreter": {
   "hash": "18aa02ce14a85bb7f4615a92049f5200f59992eb58b8bc2715593121788c94f0"
  },
  "kernelspec": {
   "display_name": "Python 3.9.12 ('sap_env': venv)",
   "language": "python",
   "name": "python3"
  },
  "language_info": {
   "codemirror_mode": {
    "name": "ipython",
    "version": 3
   },
   "file_extension": ".py",
   "mimetype": "text/x-python",
   "name": "python",
   "nbconvert_exporter": "python",
   "pygments_lexer": "ipython3",
   "version": "3.9.12"
  },
  "orig_nbformat": 4
 },
 "nbformat": 4,
 "nbformat_minor": 2
}
