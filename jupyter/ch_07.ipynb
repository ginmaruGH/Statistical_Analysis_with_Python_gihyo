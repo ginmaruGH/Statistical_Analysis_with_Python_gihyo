{
 "cells": [
  {
   "cell_type": "markdown",
   "metadata": {},
   "source": [
    "# Chapter07 連続型確率変数"
   ]
  },
  {
   "cell_type": "code",
   "execution_count": 29,
   "metadata": {},
   "outputs": [],
   "source": [
    "# ライブラリーの準備\n",
    "import numpy as np\n",
    "import matplotlib.pyplot as plt\n",
    "from matplotlib import rcParams\n",
    "\n",
    "plt.style.use('seaborn')\n",
    "rcParams['font.family'] = 'IPAexgothic'\n",
    "%precision 3\n",
    "%matplotlib inline"
   ]
  },
  {
   "cell_type": "code",
   "execution_count": 30,
   "metadata": {},
   "outputs": [],
   "source": [
    "from scipy import integrate\n",
    "import warnings\n",
    "\n",
    "# 積分に関するwarningを出力しないようにする\n",
    "warnings.filterwarnings(\n",
    "    'ignore', category=integrate.IntegrationWarning\n",
    ")"
   ]
  },
  {
   "cell_type": "markdown",
   "metadata": {},
   "source": [
    "## 7.1 1次元の連続型確率変数\n",
    "\n",
    "### 7.1.1 1次元の連続型確率変数の定義\n",
    "\n",
    "#### 確率密度関数（probability density function, PDF）、密度関数\n",
    "\n",
    "- 離散型確率変数\n",
    "  - とりうる値の（離散的な）集合と確率関数によって定義できた。\n",
    "  - $f(x) = P(X = x)$\n",
    "\n",
    "- 連続型確率変数\n",
    "  - とりうる値は、区間$[a, b$で定義され、\n",
    "  - 確率は、確率密度関数（密度関数）$f(x)$によって定義される。\n",
    "- 密度関数による確率は、\n",
    "  - 確率変数$X$が$x_0 \\leq X \\leq x_1$の区間に入る確率$P(x_0 \\leq X \\leq x_1)$で定義され、\n",
    "  - 積分で計算される。\n",
    "\n",
    "$$\n",
    "P(x_0 \\leq X \\leq x_1) = \\int_{x_0}^{x_1} f(x)dx\n",
    "$$\n",
    "\n",
    "- この積分は密度関数$f(x)$と$x$軸、2直線 $x=x_0, x=x_1$ に囲まれた領域の面積と解釈できる。\n",
    "- つまり領域の面積が、確率$P(x_0 \\leq X \\leq x_1)$になる。"
   ]
  },
  {
   "cell_type": "markdown",
   "metadata": {},
   "source": [
    "いかさまルーレットの作成\n",
    "\n",
    "- ルーレットは大きい値ほど出やすい\n",
    "- 定義域は、$(0 \\leq x \\leq 1)$\n",
    "- 2をかけているのは確率の性質を満たすため\n",
    "\n",
    "密度関数は以下とする。\n",
    "\n",
    "$$\n",
    "f(x) = \n",
    "\\begin{cases}\n",
    "\\begin{align*}\n",
    "2x ~~ &(0 \\leq x \\leq 1)\n",
    "\\\\\n",
    "0 ~~~~ &(otherwise)\n",
    "\\end{align*}\n",
    "\\end{cases}\n",
    "$$"
   ]
  },
  {
   "cell_type": "code",
   "execution_count": 31,
   "metadata": {},
   "outputs": [],
   "source": [
    "# とりうる値の区間の下限と上限をx_rangeに定義する\n",
    "x_range = np.array([0, 1])"
   ]
  },
  {
   "cell_type": "code",
   "execution_count": 32,
   "metadata": {},
   "outputs": [],
   "source": [
    "# x_rangeを定義域とする密度関数を作成する\n",
    "def f(x):\n",
    "    \"\"\"いかさまルーレットの密度関数\"\"\"\n",
    "    if x_range[0] <= x <= x_range[1]:\n",
    "        return 2 * x\n",
    "    else:\n",
    "        return 0"
   ]
  },
  {
   "cell_type": "code",
   "execution_count": 33,
   "metadata": {},
   "outputs": [],
   "source": [
    "# 定義域x_rangeと密度関数f(x)のセットが確率分布\n",
    "# 確率分布によって、確率変数Xの振る舞いが決まる\n",
    "# 確率変数Xは、定義域x_rangeと密度関数f(x)を要素にもつリストとして実装する\n",
    "X = [x_range, f]"
   ]
  },
  {
   "cell_type": "code",
   "execution_count": 34,
   "metadata": {},
   "outputs": [
    {
     "data": {
      "image/png": "[encoded data removed]",
      "text/plain": [
       "<Figure size 720x432 with 1 Axes>"
      ]
     },
     "metadata": {
      "needs_background": "light"
     },
     "output_type": "display_data"
    }
   ],
   "source": [
    "# 密度関数f(x)を図示する\n",
    "# f(x)とx軸、2直線 x=0.4, x=0.6 に囲まれた領域を塗りつぶす\n",
    "# いかさまルーレットが0.4から0.6の間の値をとる確率になる\n",
    "xs = np.linspace(x_range[0], x_range[1], 100)\n",
    "\n",
    "fig = plt.figure(figsize=(10, 6))\n",
    "ax = fig.add_subplot(111)\n",
    "ax.plot(xs, [f(x) for x in xs], label='f(x)', color='gray')\n",
    "ax.hlines(0, -0.2, 1.2, alpha=0.3)\n",
    "ax.vlines(0, -0.2, 2.2, alpha=0.3)\n",
    "ax.vlines(xs.max(), 0, 2.2, linestyles=':', color='gray')\n",
    "\n",
    "# 0.4~0.6のx座標\n",
    "xs = np.linspace(0.4, 0.6, 100)\n",
    "\n",
    "# xsの範囲でf(x)とx軸に囲まれた領域を塗りつぶす\n",
    "ax.fill_between(xs, [f(x) for x in xs], label='prob')\n",
    "\n",
    "ax.set_xticks(np.arange(-0.2, 1.3, 0.1))\n",
    "ax.set_xlim(-0.1, 1.1)\n",
    "ax.set_ylim(-0.2, 2.1)\n",
    "ax.legend()\n",
    "plt.show()"
   ]
  },
  {
   "cell_type": "markdown",
   "metadata": {},
   "source": [
    "- 囲まれた領域の面積は、台形の面積の公式から求めることができる\n",
    "- ここでは積分で求める\n",
    "\n",
    "$$\n",
    "P(x_0 \\leq X \\leq x_1) = \\int_{x_0}^{x_1} f(x)dx\n",
    "$$\n",
    "\n",
    "&nbsp;\n",
    "\n",
    "$$\n",
    "f(x) = \n",
    "\\begin{cases}\n",
    "\\begin{align*}\n",
    "2x ~~ &(0 \\leq x \\leq 1)\n",
    "\\\\\n",
    "0 ~~~~ &(otherwise)\n",
    "\\end{align*}\n",
    "\\end{cases}\n",
    "$$\n",
    "\n",
    "$$\n",
    "P(0.4 \\leq X \\leq 0.6) = \\int_{0.4}^{0.6} 2x~dx\n",
    "$$"
   ]
  },
  {
   "cell_type": "code",
   "execution_count": 35,
   "metadata": {},
   "outputs": [
    {
     "data": {
      "text/plain": [
       "(0.200, 0.000)"
      ]
     },
     "execution_count": 35,
     "metadata": {},
     "output_type": "execute_result"
    }
   ],
   "source": [
    "# integrate.quad()関数を使って求める\n",
    "# quad()関数の返り値は、積分値と推定誤差\n",
    "# 第1引数が被積分関数、第2引数と第3引数が積分区間\n",
    "integrate.quad(f, 0.4, 0.6)"
   ]
  },
  {
   "cell_type": "markdown",
   "metadata": {},
   "source": [
    "#### 確率の性質\n",
    "\n",
    "連続確率変数では、確率の性質として次の2つの式を満たす必要がある。\n",
    "\n",
    "$$\n",
    "\\begin{align*}\n",
    "f(x) &\\geq 0\n",
    "\\\\\n",
    "\\int_{-\\infty}^{\\infty} f(x)dx &= 1\n",
    "\\end{align*}\n",
    "$$"
   ]
  },
  {
   "cell_type": "code",
   "execution_count": 36,
   "metadata": {},
   "outputs": [
    {
     "data": {
      "text/plain": [
       "0"
      ]
     },
     "execution_count": 36,
     "metadata": {},
     "output_type": "execute_result"
    }
   ],
   "source": [
    "# 確率の性質、1つ目の式の確認\n",
    "# f(x)が常に0以上の値をとるという性質\n",
    "# 関数の最小値を求める関数\n",
    "# scipy.optimize.minimize_scalar()関数\n",
    "from scipy.optimize import minimize_scalar\n",
    "\n",
    "res = minimize_scalar(f)\n",
    "# 関数の最小値はfunというインスタンス変数にある\n",
    "res.fun"
   ]
  },
  {
   "cell_type": "code",
   "execution_count": 37,
   "metadata": {},
   "outputs": [
    {
     "data": {
      "text/plain": [
       "1.000"
      ]
     },
     "execution_count": 37,
     "metadata": {},
     "output_type": "execute_result"
    }
   ],
   "source": [
    "# 確率の性質、2つ目の式の確認\n",
    "# f(x)を「-∞ から ∞」の区間で積分した結果が「1」\n",
    "# 三角形も面積が「1」になることど同義\n",
    "# 無限大は、np.infで表現できる\n",
    "integrate.quad(f, -np.inf, np.inf)[0]"
   ]
  },
  {
   "cell_type": "markdown",
   "metadata": {},
   "source": [
    "#### 累積分布関数（cumulative distribution function, CDF）、分布関数\n",
    "\n",
    "確率変数$X$が$x$以下になるときの確率を返す関数を$F(x)$と表す\n",
    "\n",
    "$$\n",
    "F(x) = P(X \\leq x) = \\int_{-\\infty}^{x} f(x)dx\n",
    "$$"
   ]
  },
  {
   "cell_type": "code",
   "execution_count": 38,
   "metadata": {},
   "outputs": [],
   "source": [
    "# いかさまルーレットの分布関数の実装\n",
    "def F(x):\n",
    "    \"\"\"いかさまルーレットの分布関数\"\"\"\n",
    "    return integrate.quad(f, -np.inf, x)[0]"
   ]
  },
  {
   "cell_type": "markdown",
   "metadata": {},
   "source": [
    "- 分布関数でも確率を求めることができる\n",
    "- ルーレットが0.4から0.6の間をとる確率\n",
    "\n",
    "$$\n",
    "P(0.4 \\geq X \\geq 0.6) = F(0.6) - F(0.4)\n",
    "$$"
   ]
  },
  {
   "cell_type": "code",
   "execution_count": 39,
   "metadata": {},
   "outputs": [
    {
     "data": {
      "text/plain": [
       "0.200"
      ]
     },
     "execution_count": 39,
     "metadata": {},
     "output_type": "execute_result"
    }
   ],
   "source": [
    "F(0.6) - F(0.4)"
   ]
  },
  {
   "cell_type": "code",
   "execution_count": 40,
   "metadata": {},
   "outputs": [
    {
     "data": {
      "image/png": "[encoded data removed]",
      "text/plain": [
       "<Figure size 720x432 with 1 Axes>"
      ]
     },
     "metadata": {
      "needs_background": "light"
     },
     "output_type": "display_data"
    }
   ],
   "source": [
    "# いかさまルーレットの分布関数を図示する\n",
    "# 単調増加関数（xが増えたときにyが減少することがない関数）になる\n",
    "xs = np.linspace(x_range[0], x_range[1], 100)\n",
    "\n",
    "fig = plt.figure(figsize=(10, 6))\n",
    "ax = fig.add_subplot(111)\n",
    "\n",
    "ax.plot(xs, [F(x) for x in xs], label=\"F(x)\", color=\"gray\")\n",
    "ax.hlines(0, -0.1, 1.1, alpha=0.3)\n",
    "ax.vlines(0, -0.1, 1.1, alpha=0.3)\n",
    "ax.vlines(xs.max(), 0, 1, linestyles=\":\", color=\"gray\")\n",
    "\n",
    "ax.set_xticks(np.arange(-0.1, 1.2, 0.1))\n",
    "ax.set_xlim(-0.1, 1.1)\n",
    "ax.set_ylim(-0.1, 1.1)\n",
    "ax.legend()\n",
    "\n",
    "plt.show()"
   ]
  },
  {
   "cell_type": "markdown",
   "metadata": {},
   "source": [
    "#### 確率変数の変換\n",
    "\n",
    "- ルーレットの出た値に2をかけて3を足した$2X+3$を使い、これを$Y$とすると、\n",
    "- $x = (y - 3)/2$\n",
    "- $Y$もまた連続型の確率変数になっている。\n",
    "\n",
    "\n",
    "確率変数$Y$の密度関数を$g(y)$とすると、\n",
    "\n",
    "$$\n",
    "g(y) = \n",
    "\\begin{cases}\n",
    "\\begin{align*}\n",
    "(y - 3)/2 ~~~ &(3 \\leq y \\leq 5)\n",
    "\\\\\n",
    "0 ~~~~~~~~~~~ &(otherwise)\n",
    "\\end{align*}\n",
    "\\end{cases}\n",
    "$$\n",
    "\n",
    "分布関数は、$G(y)$として、\n",
    "\n",
    "$$\n",
    "G(y) = P(Y \\leq y) \\int_{-\\infty}^{y} g(y)dy\n",
    "$$"
   ]
  },
  {
   "cell_type": "code",
   "execution_count": 41,
   "metadata": {},
   "outputs": [],
   "source": [
    "# 確率変数の変換\n",
    "# Y=2X+3\n",
    "# X=(Y-3)/2\n",
    "y_range = [3, 5]\n",
    "\n",
    "def g(y):\n",
    "    \"\"\"Yの密度関数\"\"\"\n",
    "    if y_range[0] <= y <= y_range[1]:\n",
    "        return (y - 3) /2\n",
    "    else:\n",
    "        return 0\n",
    "\n",
    "def G(y):\n",
    "    \"\"\"Yの分布関数G(y)\"\"\"\n",
    "    return integrate.quad(g, -np.inf, y)[0]"
   ]
  },
  {
   "cell_type": "code",
   "execution_count": 42,
   "metadata": {},
   "outputs": [
    {
     "data": {
      "image/png": "[encoded data removed]",
      "text/plain": [
       "<Figure size 720x432 with 1 Axes>"
      ]
     },
     "metadata": {
      "needs_background": "light"
     },
     "output_type": "display_data"
    }
   ],
   "source": [
    "# Yの密度関数g(y)と分布関数G(y)を同時に図示する\n",
    "ys = np.linspace(y_range[0], y_range[1], 100)\n",
    "\n",
    "fig = plt.figure(figsize=(10, 6))\n",
    "ax = fig.add_subplot(111)\n",
    "\n",
    "ax.plot(\n",
    "    ys, [g(y) for y in ys],\n",
    "    label=\"g(y)\", color=\"gray\"\n",
    ")\n",
    "ax.plot(\n",
    "    ys, [G(y) for y in ys],\n",
    "    label=\"G(y)\", ls=\"--\", color=\"gray\"\n",
    ")\n",
    "ax.hlines(0, 2.8, 5.2, alpha=0.3)\n",
    "ax.vlines(ys.max(), 0, 1, linestyle=\":\", color=\"gray\")\n",
    "\n",
    "ax.set_xticks(np.arange(2.8, 5.2, 0.2))\n",
    "ax.set_xlim(2.8, 5.2)\n",
    "ax.set_ylim(-0.1, 1.1)\n",
    "ax.legend()\n",
    "\n",
    "plt.show()"
   ]
  },
  {
   "cell_type": "markdown",
   "metadata": {},
   "source": [
    "### 7.1.2 1次元の連続型確率分布の指標\n",
    "\n",
    "#### 期待値\n",
    "\n",
    "- 連続型確率変数$X$の平均は次の式で定義される。\n",
    "- これは、確率変数$X$の期待値とも呼ばれる。\n",
    "\n",
    "$$\n",
    "\\mu = E(X) = \\int_{-\\infty}^{\\infty} x f(x)dx\n",
    "$$"
   ]
  },
  {
   "cell_type": "markdown",
   "metadata": {},
   "source": [
    "変換した確率変数について期待値を定義できる。\n",
    "\n",
    "- 確率変数$X$を$2X + 3$と変換した確率変数$Y$の期待値は次の式で定義される。\n",
    "\n",
    "$$\n",
    "E(Y) = E(2X + 3) = \\int_{-\\infty}^{\\infty} (2x + 3)f(x)dx\n",
    "$$"
   ]
  },
  {
   "cell_type": "markdown",
   "metadata": {},
   "source": [
    "より一般的に、確率変数$X$の変換$g(X)$の期待値を定義できる。\n",
    "\n",
    "#### 連続型確率変数の期待値（平均）\n",
    "\n",
    "$$\n",
    "E\\big(~g(X)~\\big) = \\int_{-\\infty}^{\\infty} g(x)f(x)dx\n",
    "$$\n",
    "\n",
    "- $g$が確率変数に対する変換の関数になる。"
   ]
  },
  {
   "cell_type": "code",
   "execution_count": 43,
   "metadata": {},
   "outputs": [],
   "source": [
    "# 連続型確率変数の期待値\n",
    "# 引数gが確率変数に対する関数になる\n",
    "def E(X, g=lambda x: x):\n",
    "    \"\"\"連続型確率変数の期待値\"\"\"\n",
    "    x_range, f = X\n",
    "    def integrand(x):\n",
    "        \"\"\"被積分関数\"\"\"\n",
    "        return g(x) * f(x)\n",
    "\n",
    "    return integrate.quad(integrand, -np.inf, np.inf)[0]"
   ]
  },
  {
   "cell_type": "code",
   "execution_count": 44,
   "metadata": {},
   "outputs": [
    {
     "data": {
      "text/plain": [
       "0.667"
      ]
     },
     "execution_count": 44,
     "metadata": {},
     "output_type": "execute_result"
    }
   ],
   "source": [
    "# いかさまルーレットの確率変数Xの期待値\n",
    "E(X)"
   ]
  },
  {
   "cell_type": "code",
   "execution_count": 45,
   "metadata": {},
   "outputs": [
    {
     "data": {
      "text/plain": [
       "4.333"
      ]
     },
     "execution_count": 45,
     "metadata": {},
     "output_type": "execute_result"
    }
   ],
   "source": [
    "# 確率変数Y = 2X + 3の期待値\n",
    "E(X, g=lambda x: 2*x+3)"
   ]
  },
  {
   "cell_type": "code",
   "execution_count": 46,
   "metadata": {},
   "outputs": [
    {
     "data": {
      "text/plain": [
       "4.333"
      ]
     },
     "execution_count": 46,
     "metadata": {},
     "output_type": "execute_result"
    }
   ],
   "source": [
    "# E(2X + 3) = 2E(X) + 3 の確認\n",
    "2 * E(X) + 3"
   ]
  },
  {
   "cell_type": "markdown",
   "metadata": {},
   "source": [
    "#### 分散\n",
    "\n",
    "- 連続型確率変数$X$の分散は、次の式で定義される。\n",
    "- $\\mu$は、確率変数$X$の期待値$E(X)$。\n",
    "\n",
    "$$\n",
    "\\sigma^2 = V(X) = \\int_{-\\infty}^{\\infty} (x - \\mu)^2 f(x)dx\n",
    "$$"
   ]
  },
  {
   "cell_type": "code",
   "execution_count": 48,
   "metadata": {},
   "outputs": [
    {
     "data": {
      "text/plain": [
       "0.056"
      ]
     },
     "execution_count": 48,
     "metadata": {},
     "output_type": "execute_result"
    }
   ],
   "source": [
    "# いかさまルーレットの分散を計算する\n",
    "mean = E(X)\n",
    "def integrand(x):\n",
    "    \"\"\"被積分関数\"\"\"\n",
    "    return (x - mean) ** 2 * f(x)\n",
    "\n",
    "integrate.quad(integrand, -np.inf, np.inf)[0]"
   ]
  },
  {
   "cell_type": "markdown",
   "metadata": {},
   "source": [
    "変換した確率変数について分散を定義できる。\n",
    "\n",
    "- 確率変数$X$を$2X + 3$と変換した確率変数$Y$の分散は次の式で定義される。\n",
    "- $\\mu = E(2X + 3)$\n",
    "\n",
    "$$\n",
    "V(Y) = V(2X + 3) = \\int_{-\\infty}^{\\infty} ((2x + 3) - \\mu)^2 f(x)dx\n",
    "$$"
   ]
  },
  {
   "cell_type": "markdown",
   "metadata": {},
   "source": [
    "より一般的に、確率変数$X$の変換$g(X)$の分散を定義できる。\n",
    "\n",
    "#### 連続型確率変数の分散\n",
    "\n",
    "$$\n",
    "V\\big(~g(X)~\\big) = \\int_{-\\infty}^{\\infty} \\big( ~g(x) - E(g(X))~ \\big)^2 f(x)dx\n",
    "$$\n",
    "\n",
    "- $g$が確率変数に対する変換の関数になる\n",
    "- $E(g(X))$が期待値"
   ]
  },
  {
   "cell_type": "code",
   "execution_count": 49,
   "metadata": {},
   "outputs": [],
   "source": [
    "# 連続型確率変数の分散\n",
    "# 引数gが確率変数に対する関数になる\n",
    "def V(X, g=lambda x: x):\n",
    "    \"\"\"連続型確率変数の分散\"\"\"\n",
    "    x_range, f = X\n",
    "    mean = E(X, g)\n",
    "    def integrand(x):\n",
    "        \"\"\"被積分関数\"\"\"\n",
    "        return (g(x) - mean) ** 2 * f(x)\n",
    "\n",
    "    return integrate.quad(integrand, -np.inf, np.inf)[0]"
   ]
  },
  {
   "cell_type": "code",
   "execution_count": 50,
   "metadata": {},
   "outputs": [
    {
     "data": {
      "text/plain": [
       "0.056"
      ]
     },
     "execution_count": 50,
     "metadata": {},
     "output_type": "execute_result"
    }
   ],
   "source": [
    "# いかさまルーレットの分散を計算する\n",
    "# gを指定しなければ、確率変数Xの分散を計算する\n",
    "V(X)"
   ]
  },
  {
   "cell_type": "code",
   "execution_count": 51,
   "metadata": {},
   "outputs": [
    {
     "data": {
      "text/plain": [
       "0.222"
      ]
     },
     "execution_count": 51,
     "metadata": {},
     "output_type": "execute_result"
    }
   ],
   "source": [
    "# 確率変数Y = 2X + 3 の分散\n",
    "V(X, lambda x: 2*x + 3)"
   ]
  },
  {
   "cell_type": "code",
   "execution_count": 53,
   "metadata": {},
   "outputs": [
    {
     "data": {
      "text/plain": [
       "0.222"
      ]
     },
     "execution_count": 53,
     "metadata": {},
     "output_type": "execute_result"
    }
   ],
   "source": [
    "# V(2X + 3) = 2^2V(X)の確認\n",
    "2**2 * V(X)"
   ]
  }
 ],
 "metadata": {
  "interpreter": {
   "hash": "18aa02ce14a85bb7f4615a92049f5200f59992eb58b8bc2715593121788c94f0"
  },
  "kernelspec": {
   "display_name": "Python 3.9.12 ('sap_env': venv)",
   "language": "python",
   "name": "python3"
  },
  "language_info": {
   "codemirror_mode": {
    "name": "ipython",
    "version": 3
   },
   "file_extension": ".py",
   "mimetype": "text/x-python",
   "name": "python",
   "nbconvert_exporter": "python",
   "pygments_lexer": "ipython3",
   "version": "3.9.12"
  },
  "orig_nbformat": 4
 },
 "nbformat": 4,
 "nbformat_minor": 2
}
