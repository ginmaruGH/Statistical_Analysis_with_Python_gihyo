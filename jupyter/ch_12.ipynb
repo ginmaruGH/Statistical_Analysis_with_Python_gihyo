{
 "cells": [
  {
   "cell_type": "markdown",
   "metadata": {},
   "source": [
    "# Chapter12 回帰分析"
   ]
  },
  {
   "cell_type": "code",
   "execution_count": 1,
   "metadata": {},
   "outputs": [],
   "source": [
    "# ライブラリーの準備\n",
    "import numpy as np\n",
    "import pandas as pd\n",
    "import matplotlib.pyplot as plt\n",
    "from matplotlib import rcParams\n",
    "from scipy import stats\n",
    "import statsmodels.formula.api as smf\n",
    "\n",
    "plt.style.use('seaborn')\n",
    "rcParams['font.family'] = 'IPAexgothic'\n",
    "%precision 3\n",
    "%matplotlib inline"
   ]
  },
  {
   "cell_type": "code",
   "execution_count": 2,
   "metadata": {},
   "outputs": [
    {
     "name": "stdout",
     "output_type": "stream",
     "text": [
      "20\n"
     ]
    },
    {
     "data": {
      "text/html": [
       "<div>\n",
       "<style scoped>\n",
       "    .dataframe tbody tr th:only-of-type {\n",
       "        vertical-align: middle;\n",
       "    }\n",
       "\n",
       "    .dataframe tbody tr th {\n",
       "        vertical-align: top;\n",
       "    }\n",
       "\n",
       "    .dataframe thead th {\n",
       "        text-align: right;\n",
       "    }\n",
       "</style>\n",
       "<table border=\"1\" class=\"dataframe\">\n",
       "  <thead>\n",
       "    <tr style=\"text-align: right;\">\n",
       "      <th></th>\n",
       "      <th>小テスト</th>\n",
       "      <th>期末テスト</th>\n",
       "      <th>睡眠時間</th>\n",
       "      <th>通学方法</th>\n",
       "    </tr>\n",
       "  </thead>\n",
       "  <tbody>\n",
       "    <tr>\n",
       "      <th>0</th>\n",
       "      <td>4.2</td>\n",
       "      <td>67</td>\n",
       "      <td>7.2</td>\n",
       "      <td>バス</td>\n",
       "    </tr>\n",
       "    <tr>\n",
       "      <th>1</th>\n",
       "      <td>7.2</td>\n",
       "      <td>71</td>\n",
       "      <td>7.9</td>\n",
       "      <td>自転車</td>\n",
       "    </tr>\n",
       "    <tr>\n",
       "      <th>2</th>\n",
       "      <td>0.0</td>\n",
       "      <td>19</td>\n",
       "      <td>5.3</td>\n",
       "      <td>バス</td>\n",
       "    </tr>\n",
       "    <tr>\n",
       "      <th>3</th>\n",
       "      <td>3.0</td>\n",
       "      <td>35</td>\n",
       "      <td>6.8</td>\n",
       "      <td>徒歩</td>\n",
       "    </tr>\n",
       "    <tr>\n",
       "      <th>4</th>\n",
       "      <td>1.5</td>\n",
       "      <td>35</td>\n",
       "      <td>7.5</td>\n",
       "      <td>徒歩</td>\n",
       "    </tr>\n",
       "  </tbody>\n",
       "</table>\n",
       "</div>"
      ],
      "text/plain": [
       "   小テスト  期末テスト  睡眠時間 通学方法\n",
       "0   4.2     67   7.2   バス\n",
       "1   7.2     71   7.9  自転車\n",
       "2   0.0     19   5.3   バス\n",
       "3   3.0     35   6.8   徒歩\n",
       "4   1.5     35   7.5   徒歩"
      ]
     },
     "execution_count": 2,
     "metadata": {},
     "output_type": "execute_result"
    }
   ],
   "source": [
    "# データの準備\n",
    "df = pd.read_csv('../data/ch12_scores_reg.csv')\n",
    "n = len(df)\n",
    "print(n)\n",
    "df.head()"
   ]
  },
  {
   "cell_type": "markdown",
   "metadata": {},
   "source": [
    "## 12.1 | 単回帰モデル\n",
    "\n",
    "- 回帰分析（regression analysis）\n",
    "  - 因果の関係が疑われる複数の変数を使って、ある変数からほかの変数の値を予測する手法。\n",
    "  - 説明変数（explanatory variable）\n",
    "    - 原因となる変数\n",
    "    - 独立変数（independent variable）\n",
    "  - 応答変数（response variable）\n",
    "    - 結果となる変数\n",
    "    - 従属変数（dependent variable）\n",
    "  - 単回帰モデル（simple regression model）\n",
    "    - 回帰分析において、説明変数と応答変数が1つずつの最も単純なモデル"
   ]
  },
  {
   "cell_type": "markdown",
   "metadata": {},
   "source": [
    "- 応答変数: 期末テストの点数 $y$\n",
    "- 説明変数: 小テストの平均点 $x$\n",
    "- 説明変数の数: $p$"
   ]
  },
  {
   "cell_type": "code",
   "execution_count": 3,
   "metadata": {},
   "outputs": [],
   "source": [
    "x = np.array(df['小テスト'])\n",
    "y = np.array(df['期末テスト'])\n",
    "p = 1"
   ]
  },
  {
   "cell_type": "code",
   "execution_count": 4,
   "metadata": {},
   "outputs": [
    {
     "data": {
      "image/png": "[encoded data removed]",
      "text/plain": [
       "<Figure size 720x432 with 1 Axes>"
      ]
     },
     "metadata": {
      "needs_background": "light"
     },
     "output_type": "display_data"
    }
   ],
   "source": [
    "# 図 12.1: 散布図と回帰直線\n",
    "poly_fit = np.polyfit(x, y, 1)\n",
    "poly_1d = np.poly1d(poly_fit)\n",
    "xs = np.linspace(x.min(), x.max())\n",
    "ys = poly_1d(xs)\n",
    "\n",
    "fig = plt.figure(figsize=(10, 6))\n",
    "ax = fig.add_subplot(111)\n",
    "\n",
    "ax.set_xlabel('小テスト')\n",
    "ax.set_ylabel('期末テスト')\n",
    "ax.plot(\n",
    "    xs, ys, color='red',\n",
    "    label=f\"y={poly_fit[1]:.2f} + {poly_fit[0]:.2f}x\"\n",
    ")\n",
    "ax.legend()\n",
    "\n",
    "ax.scatter(x, y)\n",
    "plt.show()"
   ]
  },
  {
   "cell_type": "markdown",
   "metadata": {},
   "source": [
    "### 12.1.1 回帰分析における仮説\n",
    "\n",
    "単回帰モデルでは説明変数xと応答変数yの間に次のような関係性を仮定する\n",
    "\n",
    "$$\n",
    "y = \\beta_0 + \\beta_1 x\n",
    "$$\n",
    "\n",
    "- 誤差項（error term）$\\epsilon_i$\n",
    "  - 予測できない確率的なもの\n",
    "\n",
    "期末テストの結果 $Y_i$\n",
    "\n",
    "$$\n",
    "Y_i = \\beta_0 + \\beta_1 x_i + \\epsilon_i ~ (i = 1, 2, ..., n)\n",
    "$$\n",
    "\n",
    "- 説明変数は確率変数ではない\n",
    "- $\\epsilon_i$ は互いに独立に $N(0, \\sigma^2)$ にしたがう\n",
    "- 上記のことから、\n",
    "- 確率変数 $Y_i$ は互いに独立に $N(\\beta_0 + \\beta_1 x_i, \\sigma^2)$ にしたがう\n",
    "- 小テストの平均点が「4点」の生徒の期末テストの点数を $(\\beta_0 + 4\\beta_1 , \\sigma^2)$ にしたがう確率変数とみなす\n",
    "\n",
    "これらの仮定のもとで、標本である$(x_1, Y_1), (x_2, Y_2), ..., (x_n, Y_n)$ から母数 $\\beta_0 と \\beta_1$ を推定する。\n",
    "\n",
    "この $\\beta_0 と \\beta_1$ の推定値である $\\hat{\\beta_0} と \\hat{\\beta_1}$ によって作られる直線\n",
    "\n",
    "$$\n",
    "y = \\hat{\\beta_0} + \\hat{\\beta_1} x\n",
    "$$\n",
    "\n",
    "が、回帰直線（regression line）と呼ばれる。\n",
    "\n",
    "その係数である $\\hat{\\beta_0} と \\hat{\\beta_1}$ を回帰係数（regression coefficient）という。"
   ]
  },
  {
   "cell_type": "markdown",
   "metadata": {},
   "source": [
    "### 12.1.2 stansmodelsによる回帰分析\n",
    "\n",
    "- 最小二乗法（Ordinary Least Squares, ols）"
   ]
  },
  {
   "cell_type": "code",
   "execution_count": 5,
   "metadata": {},
   "outputs": [
    {
     "data": {
      "text/html": [
       "<table class=\"simpletable\">\n",
       "<caption>OLS Regression Results</caption>\n",
       "<tr>\n",
       "  <th>Dep. Variable:</th>          <td>期末テスト</td>      <th>  R-squared:         </th> <td>   0.676</td>\n",
       "</tr>\n",
       "<tr>\n",
       "  <th>Model:</th>                   <td>OLS</td>       <th>  Adj. R-squared:    </th> <td>   0.658</td>\n",
       "</tr>\n",
       "<tr>\n",
       "  <th>Method:</th>             <td>Least Squares</td>  <th>  F-statistic:       </th> <td>   37.61</td>\n",
       "</tr>\n",
       "<tr>\n",
       "  <th>Date:</th>             <td>Wed, 18 May 2022</td> <th>  Prob (F-statistic):</th> <td>8.59e-06</td>\n",
       "</tr>\n",
       "<tr>\n",
       "  <th>Time:</th>                 <td>08:34:01</td>     <th>  Log-Likelihood:    </th> <td> -76.325</td>\n",
       "</tr>\n",
       "<tr>\n",
       "  <th>No. Observations:</th>      <td>    20</td>      <th>  AIC:               </th> <td>   156.7</td>\n",
       "</tr>\n",
       "<tr>\n",
       "  <th>Df Residuals:</th>          <td>    18</td>      <th>  BIC:               </th> <td>   158.6</td>\n",
       "</tr>\n",
       "<tr>\n",
       "  <th>Df Model:</th>              <td>     1</td>      <th>                     </th>     <td> </td>   \n",
       "</tr>\n",
       "<tr>\n",
       "  <th>Covariance Type:</th>      <td>nonrobust</td>    <th>                     </th>     <td> </td>   \n",
       "</tr>\n",
       "</table>\n",
       "<table class=\"simpletable\">\n",
       "<tr>\n",
       "      <td></td>         <th>coef</th>     <th>std err</th>      <th>t</th>      <th>P>|t|</th>  <th>[0.025</th>    <th>0.975]</th>  \n",
       "</tr>\n",
       "<tr>\n",
       "  <th>Intercept</th> <td>   23.6995</td> <td>    4.714</td> <td>    5.028</td> <td> 0.000</td> <td>   13.796</td> <td>   33.603</td>\n",
       "</tr>\n",
       "<tr>\n",
       "  <th>小テスト</th>      <td>    6.5537</td> <td>    1.069</td> <td>    6.133</td> <td> 0.000</td> <td>    4.309</td> <td>    8.799</td>\n",
       "</tr>\n",
       "</table>\n",
       "<table class=\"simpletable\">\n",
       "<tr>\n",
       "  <th>Omnibus:</th>       <td> 2.139</td> <th>  Durbin-Watson:     </th> <td>   1.478</td>\n",
       "</tr>\n",
       "<tr>\n",
       "  <th>Prob(Omnibus):</th> <td> 0.343</td> <th>  Jarque-Bera (JB):  </th> <td>   1.773</td>\n",
       "</tr>\n",
       "<tr>\n",
       "  <th>Skew:</th>          <td> 0.670</td> <th>  Prob(JB):          </th> <td>   0.412</td>\n",
       "</tr>\n",
       "<tr>\n",
       "  <th>Kurtosis:</th>      <td> 2.422</td> <th>  Cond. No.          </th> <td>    8.32</td>\n",
       "</tr>\n",
       "</table><br/><br/>Notes:<br/>[1] Standard Errors assume that the covariance matrix of the errors is correctly specified."
      ],
      "text/plain": [
       "<class 'statsmodels.iolib.summary.Summary'>\n",
       "\"\"\"\n",
       "                            OLS Regression Results                            \n",
       "==============================================================================\n",
       "Dep. Variable:                  期末テスト   R-squared:                       0.676\n",
       "Model:                            OLS   Adj. R-squared:                  0.658\n",
       "Method:                 Least Squares   F-statistic:                     37.61\n",
       "Date:                Wed, 18 May 2022   Prob (F-statistic):           8.59e-06\n",
       "Time:                        08:34:01   Log-Likelihood:                -76.325\n",
       "No. Observations:                  20   AIC:                             156.7\n",
       "Df Residuals:                      18   BIC:                             158.6\n",
       "Df Model:                           1                                         \n",
       "Covariance Type:            nonrobust                                         \n",
       "==============================================================================\n",
       "                 coef    std err          t      P>|t|      [0.025      0.975]\n",
       "------------------------------------------------------------------------------\n",
       "Intercept     23.6995      4.714      5.028      0.000      13.796      33.603\n",
       "小テスト           6.5537      1.069      6.133      0.000       4.309       8.799\n",
       "==============================================================================\n",
       "Omnibus:                        2.139   Durbin-Watson:                   1.478\n",
       "Prob(Omnibus):                  0.343   Jarque-Bera (JB):                1.773\n",
       "Skew:                           0.670   Prob(JB):                        0.412\n",
       "Kurtosis:                       2.422   Cond. No.                         8.32\n",
       "==============================================================================\n",
       "\n",
       "Notes:\n",
       "[1] Standard Errors assume that the covariance matrix of the errors is correctly specified.\n",
       "\"\"\""
      ]
     },
     "execution_count": 5,
     "metadata": {},
     "output_type": "execute_result"
    }
   ],
   "source": [
    "formula = '期末テスト ~ 小テスト'\n",
    "result = smf.ols(formula, df).fit()\n",
    "result.summary()"
   ]
  },
  {
   "cell_type": "markdown",
   "metadata": {},
   "source": [
    "- モデルの概要とデータへのモデルの適合度\n",
    "- 回帰係数の推定結果\n",
    "- モデルに貸した誤差項が正規分布にしたがっているという仮定の妥当性"
   ]
  },
  {
   "cell_type": "markdown",
   "metadata": {},
   "source": [
    "### 12.1.3 回帰係数\n",
    "\n",
    "```text\n",
    "             coef    std err  t     P>|t|  [0.025   0.975]\n",
    "Intercept  23.6995   4.714   5.028   0.000   13.796   33.603\n",
    "小テスト      6.5537   1.069   6.133   0.000   4.309   8.799\n",
    "```\n",
    "\n",
    "- `Intercept`: 切片 $\\beta_0$\n",
    "- `小テスト`: 傾き $\\beta_1$\n",
    "- `coef`: 回帰係数の推定値\n",
    "- `std err`: 推定値の標準誤差\n",
    "- `t`: 回帰係数に関する t 検定統計量\n",
    "- `P>|t|`: t 検定統計量のp値\n",
    "- `[0.025, 0.975]`: 回帰係数の95%信頼区間"
   ]
  },
  {
   "cell_type": "markdown",
   "metadata": {},
   "source": [
    "#### 点推定\n",
    "\n",
    "- 予測値（predicted value）\n",
    "  - $\\hat{y_i} = \\hat{\\beta_0} + \\hat{\\beta_1} x_i$ と実データ $y_i$ との乖離がもっとも小さい直線。\n",
    "  - 残差二乗和がもっとも小さい直線。\n",
    "- 残差（residual）$\\epsilon_i$\n",
    "  - $y_i と \\hat{y_i} の差 ~ y_i - \\hat{y_i}$\n",
    "- 残差二乗和（residual sum of squares, RSS）$\\sum_i^n \\hat{\\epsilon_i}^2$\n",
    "- 最小二乗法（ordinary least squares）\n",
    "  - 残差二乗和の最小化によって、$\\hat{\\beta_0} と \\hat{\\beta_1}$ を求める方法\n",
    "- 最小二乗法によって求められた $\\hat{\\beta_0} と \\hat{\\beta_1}$ は、$\\beta_0 と \\beta_1$ の不偏一致推定量になる。"
   ]
  },
  {
   "cell_type": "markdown",
   "metadata": {},
   "source": [
    "最小二乗法で $hat{\\beta_0} と \\hat{\\beta_1}$ で求める。"
   ]
  },
  {
   "cell_type": "code",
   "execution_count": 6,
   "metadata": {},
   "outputs": [
    {
     "data": {
      "text/plain": [
       "array([[1. , 4.2],\n",
       "       [1. , 7.2],\n",
       "       [1. , 0. ],\n",
       "       [1. , 3. ],\n",
       "       [1. , 1.5],\n",
       "       [1. , 0.9],\n",
       "       [1. , 1.9],\n",
       "       [1. , 3.5],\n",
       "       [1. , 4. ],\n",
       "       [1. , 5.4],\n",
       "       [1. , 4.2],\n",
       "       [1. , 6.9],\n",
       "       [1. , 2. ],\n",
       "       [1. , 8.8],\n",
       "       [1. , 0.3],\n",
       "       [1. , 6.7],\n",
       "       [1. , 4.2],\n",
       "       [1. , 5.6],\n",
       "       [1. , 1.4],\n",
       "       [1. , 2. ]])"
      ]
     },
     "execution_count": 6,
     "metadata": {},
     "output_type": "execute_result"
    }
   ],
   "source": [
    "# 1列目がすべて「1」、2列目が「x」となる行列Xを作る\n",
    "X = np.array([np.ones_like(x), x]).T\n",
    "X"
   ]
  },
  {
   "cell_type": "code",
   "execution_count": 7,
   "metadata": {},
   "outputs": [
    {
     "name": "stderr",
     "output_type": "stream",
     "text": [
      "/var/folders/cm/w7d5zwgj0h3gp9q0lvvq4yrr0000gn/T/ipykernel_2048/2240477964.py:2: FutureWarning: `rcond` parameter will change to the default of machine precision times ``max(M, N)`` where M and N are the input matrix dimensions.\n",
      "To use the future default and silence this warning we advise to pass `rcond=None`, to keep using the old, explicitly pass `rcond=-1`.\n",
      "  beta0_hat, beta1_hat = np.linalg.lstsq(X, y)[0]\n"
     ]
    },
    {
     "data": {
      "text/plain": [
       "(23.699, 6.554)"
      ]
     },
     "execution_count": 7,
     "metadata": {},
     "output_type": "execute_result"
    }
   ],
   "source": [
    "# 最小二乗法の実行\n",
    "beta0_hat, beta1_hat = np.linalg.lstsq(X, y)[0]\n",
    "beta0_hat, beta1_hat"
   ]
  },
  {
   "cell_type": "code",
   "execution_count": 8,
   "metadata": {},
   "outputs": [],
   "source": [
    "# 予測値と残差を求める\n",
    "y_hat = beta0_hat + beta1_hat * x\n",
    "eps_hat = y - y_hat"
   ]
  },
  {
   "cell_type": "markdown",
   "metadata": {},
   "source": [
    "- 残差 $\\hat{\\epsilon_i}$ は誤差項 $\\epsilon_i$ に対応しているため、\n",
    "- 残差の分散から母分散 $\\sigma^2$ を推定できる。\n",
    "- ただし、残差の自由度は回帰係数の数 $p+1$ だけ減り $n - p -1$ となるので、母分散の不偏推定量 $\\hat{\\sigma^2}$ は $n - p -1$ 割って計算される\n",
    "\n",
    "$$\n",
    "\\hat{\\sigma}^2 = \\dfrac{1}{n - p -1}\\sum_i^n (\\hat{\\epsilon_i} - \\bar{\\hat{\\epsilon_i}})^2 = \\dfrac{1}{n - p -1}\\sum_i^n \\hat{\\epsilon_i}^2\n",
    "$$"
   ]
  },
  {
   "cell_type": "code",
   "execution_count": 9,
   "metadata": {},
   "outputs": [
    {
     "data": {
      "text/plain": [
       "134.290"
      ]
     },
     "execution_count": 9,
     "metadata": {},
     "output_type": "execute_result"
    }
   ],
   "source": [
    "s_var = np.var(eps_hat, ddof=p+1)\n",
    "s_var"
   ]
  },
  {
   "cell_type": "markdown",
   "metadata": {},
   "source": [
    "#### 区間推定\n",
    "\n",
    "- $\\beta_0 と \\beta_1$ の区間推定\n",
    "- $\\hat{\\beta_0} と \\hat{\\beta_1}$ の標準誤差が必要\n",
    "- $\\hat{\\beta_0} と \\hat{\\beta_1}$ の標準誤差 $\\sqrt{C_0 \\hat{\\sigma}^2} と \\sqrt{C_1 \\hat{\\sigma}^2}$\n",
    "- $(XX^T)^{-1}$ の対角成分の1番目が $C_0$、2番目が $C_1$ となる。"
   ]
  },
  {
   "cell_type": "code",
   "execution_count": 10,
   "metadata": {},
   "outputs": [
    {
     "data": {
      "text/plain": [
       "(0.165, 0.009)"
      ]
     },
     "execution_count": 10,
     "metadata": {},
     "output_type": "execute_result"
    }
   ],
   "source": [
    "C0, C1 = np.diag(np.linalg.pinv(np.dot(X.T, X)))\n",
    "C0, C1"
   ]
  },
  {
   "cell_type": "code",
   "execution_count": 11,
   "metadata": {},
   "outputs": [
    {
     "data": {
      "text/plain": [
       "(4.714, 1.069)"
      ]
     },
     "execution_count": 11,
     "metadata": {},
     "output_type": "execute_result"
    }
   ],
   "source": [
    "np.sqrt(s_var * C0), np.sqrt(s_var * C1)"
   ]
  },
  {
   "cell_type": "markdown",
   "metadata": {},
   "source": [
    "- $\\hat{\\sigma}^2$ の自由度が $n - 2$\n",
    "- 回帰係数の信頼区間は、自由度$n - 2$の t 分布を使って求めることができる。\n",
    "\n",
    "#### 回帰係数の信頼区間\n",
    "\n",
    "回帰係数 $\\beta_0 と \\beta_1$ の信頼区間 $100(1 - \\alpha)\\%$ の信頼区間は、\n",
    "\n",
    "$$\n",
    "\\left[~\n",
    "\\hat{\\beta_i} - t_{\\alpha/2}(n - 2)\\sqrt{\\hat{\\sigma}^2 C_i}, ~\n",
    "\\hat{\\beta_i} - t_{1 - \\alpha/2}(n - 2)\\sqrt{\\hat{\\sigma}^2 C_i} ~\n",
    "~\\right] ~ (i = 0, 1)\n",
    "$$\n",
    "\n",
    "で推定される。"
   ]
  },
  {
   "cell_type": "code",
   "execution_count": 12,
   "metadata": {},
   "outputs": [
    {
     "data": {
      "text/plain": [
       "(13.796, 33.603)"
      ]
     },
     "execution_count": 12,
     "metadata": {},
     "output_type": "execute_result"
    }
   ],
   "source": [
    "# B0_hatの95%信頼区間を求める\n",
    "rv = stats.t(n-2)\n",
    "\n",
    "lcl = beta0_hat - rv.isf(0.025) * np.sqrt(s_var * C0)\n",
    "ucl = beta0_hat - rv.isf(0.975) * np.sqrt(s_var * C0)\n",
    "lcl, ucl"
   ]
  },
  {
   "cell_type": "code",
   "execution_count": 13,
   "metadata": {},
   "outputs": [
    {
     "data": {
      "text/plain": [
       "(4.309, 8.799)"
      ]
     },
     "execution_count": 13,
     "metadata": {},
     "output_type": "execute_result"
    }
   ],
   "source": [
    "# B1_hatの95%信頼区間を求める\n",
    "rv = stats.t(n-2)\n",
    "\n",
    "lcl = beta1_hat - rv.isf(0.025) * np.sqrt(s_var * C1)\n",
    "ucl = beta1_hat - rv.isf(0.975) * np.sqrt(s_var * C1)\n",
    "lcl, ucl"
   ]
  },
  {
   "cell_type": "markdown",
   "metadata": {},
   "source": [
    "#### t 検定\n",
    "\n",
    "- 回帰係数 $beta_1$ の仮説検定\n",
    "  - 帰無仮説: $\\beta_1 = 0$\n",
    "  - 対立仮説: $\\beta_1 \\neq 0$\n",
    "- $\\beta_1 = 0$ の場合、\n",
    "  - $y_i = \\beta_0 + 0 * x_i + \\epsilon_i = \\beta_0 + \\epsilon_i$\n",
    "  - 説明変数が応答変数に一切影響を与えないモデルとなる。\n",
    "- $\\beta_1 \\neq 0$ の場合、\n",
    "  - 説明変数が応答変数に影響を与えていることを主張できる。\n",
    "\n",
    "この仮説検定の検定統計量は、\n",
    "\n",
    "$$\n",
    "t = \\dfrac{\\hat{\\beta_1} - \\beta_1}{\\sqrt{\\hat{\\sigma}^2 C_1}}\n",
    "$$\n",
    "\n",
    "この t も残差の制約から自由度 $n - 2$ の t 分布にしたがう。\n",
    "\n",
    "さらに、帰無仮説のもとでは $\\beta_1 = 0$ なので、\n",
    "\n",
    "$$\n",
    "t = \\dfrac{\\hat{\\beta_1}}{\\sqrt{\\hat{\\sigma}^2 C_1}}\n",
    "$$\n",
    "\n",
    "となる。"
   ]
  },
  {
   "cell_type": "code",
   "execution_count": 14,
   "metadata": {},
   "outputs": [
    {
     "data": {
      "text/plain": [
       "6.133"
      ]
     },
     "execution_count": 14,
     "metadata": {},
     "output_type": "execute_result"
    }
   ],
   "source": [
    "t = beta1_hat / np.sqrt(s_var * C1)\n",
    "t"
   ]
  },
  {
   "cell_type": "code",
   "execution_count": 15,
   "metadata": {},
   "outputs": [
    {
     "data": {
      "text/plain": [
       "0.000"
      ]
     },
     "execution_count": 15,
     "metadata": {},
     "output_type": "execute_result"
    }
   ],
   "source": [
    "# p値\n",
    "(1 - rv.cdf(t)) * 2"
   ]
  },
  {
   "cell_type": "markdown",
   "metadata": {},
   "source": [
    "- 帰無仮説は棄却され、小テストの平均点と期末テストの点数には因果関係がるといえそう。"
   ]
  },
  {
   "cell_type": "markdown",
   "metadata": {},
   "source": [
    "- 回帰係数 $beta_0$ の仮説検定\n",
    "  - 帰無仮説: $\\beta_0 = 0$\n",
    "  - 対立仮説: $\\beta_0 \\neq 0$"
   ]
  },
  {
   "cell_type": "code",
   "execution_count": 16,
   "metadata": {},
   "outputs": [
    {
     "data": {
      "text/plain": [
       "5.028"
      ]
     },
     "execution_count": 16,
     "metadata": {},
     "output_type": "execute_result"
    }
   ],
   "source": [
    "t = beta0_hat / np.sqrt(s_var * C0)\n",
    "t"
   ]
  },
  {
   "cell_type": "code",
   "execution_count": 17,
   "metadata": {},
   "outputs": [
    {
     "data": {
      "text/plain": [
       "0.000"
      ]
     },
     "execution_count": 17,
     "metadata": {},
     "output_type": "execute_result"
    }
   ],
   "source": [
    "# p値\n",
    "(1 - rv.cdf(t)) * 2"
   ]
  },
  {
   "cell_type": "markdown",
   "metadata": {},
   "source": [
    "## 12.2 | 重回帰モデル\n",
    "\n",
    "- 重回帰モデル（multiple regression model）\n",
    "  - 説明変数が複数ある回帰モデル\n",
    "  - $p$ 個の説明変数 $x_1, x_2, ..., x_p$ と応答変数 $y$ のあいだには次のような関係性を仮定したモデルといえる。\n",
    "  - $y = \\beta_0 + \\beta_1 x_1 + ... + \\beta_p x_p $"
   ]
  },
  {
   "cell_type": "code",
   "execution_count": 18,
   "metadata": {},
   "outputs": [
    {
     "data": {
      "text/html": [
       "<table class=\"simpletable\">\n",
       "<caption>OLS Regression Results</caption>\n",
       "<tr>\n",
       "  <th>Dep. Variable:</th>          <td>期末テスト</td>      <th>  R-squared:         </th> <td>   0.756</td>\n",
       "</tr>\n",
       "<tr>\n",
       "  <th>Model:</th>                   <td>OLS</td>       <th>  Adj. R-squared:    </th> <td>   0.727</td>\n",
       "</tr>\n",
       "<tr>\n",
       "  <th>Method:</th>             <td>Least Squares</td>  <th>  F-statistic:       </th> <td>   26.35</td>\n",
       "</tr>\n",
       "<tr>\n",
       "  <th>Date:</th>             <td>Wed, 18 May 2022</td> <th>  Prob (F-statistic):</th> <td>6.19e-06</td>\n",
       "</tr>\n",
       "<tr>\n",
       "  <th>Time:</th>                 <td>08:34:02</td>     <th>  Log-Likelihood:    </th> <td> -73.497</td>\n",
       "</tr>\n",
       "<tr>\n",
       "  <th>No. Observations:</th>      <td>    20</td>      <th>  AIC:               </th> <td>   153.0</td>\n",
       "</tr>\n",
       "<tr>\n",
       "  <th>Df Residuals:</th>          <td>    17</td>      <th>  BIC:               </th> <td>   156.0</td>\n",
       "</tr>\n",
       "<tr>\n",
       "  <th>Df Model:</th>              <td>     2</td>      <th>                     </th>     <td> </td>   \n",
       "</tr>\n",
       "<tr>\n",
       "  <th>Covariance Type:</th>      <td>nonrobust</td>    <th>                     </th>     <td> </td>   \n",
       "</tr>\n",
       "</table>\n",
       "<table class=\"simpletable\">\n",
       "<tr>\n",
       "      <td></td>         <th>coef</th>     <th>std err</th>      <th>t</th>      <th>P>|t|</th>  <th>[0.025</th>    <th>0.975]</th>  \n",
       "</tr>\n",
       "<tr>\n",
       "  <th>Intercept</th> <td>   -1.8709</td> <td>   11.635</td> <td>   -0.161</td> <td> 0.874</td> <td>  -26.420</td> <td>   22.678</td>\n",
       "</tr>\n",
       "<tr>\n",
       "  <th>小テスト</th>      <td>    6.4289</td> <td>    0.956</td> <td>    6.725</td> <td> 0.000</td> <td>    4.412</td> <td>    8.446</td>\n",
       "</tr>\n",
       "<tr>\n",
       "  <th>睡眠時間</th>      <td>    4.1917</td> <td>    1.778</td> <td>    2.357</td> <td> 0.031</td> <td>    0.440</td> <td>    7.943</td>\n",
       "</tr>\n",
       "</table>\n",
       "<table class=\"simpletable\">\n",
       "<tr>\n",
       "  <th>Omnibus:</th>       <td> 2.073</td> <th>  Durbin-Watson:     </th> <td>   1.508</td>\n",
       "</tr>\n",
       "<tr>\n",
       "  <th>Prob(Omnibus):</th> <td> 0.355</td> <th>  Jarque-Bera (JB):  </th> <td>   1.716</td>\n",
       "</tr>\n",
       "<tr>\n",
       "  <th>Skew:</th>          <td> 0.660</td> <th>  Prob(JB):          </th> <td>   0.424</td>\n",
       "</tr>\n",
       "<tr>\n",
       "  <th>Kurtosis:</th>      <td> 2.437</td> <th>  Cond. No.          </th> <td>    38.0</td>\n",
       "</tr>\n",
       "</table><br/><br/>Notes:<br/>[1] Standard Errors assume that the covariance matrix of the errors is correctly specified."
      ],
      "text/plain": [
       "<class 'statsmodels.iolib.summary.Summary'>\n",
       "\"\"\"\n",
       "                            OLS Regression Results                            \n",
       "==============================================================================\n",
       "Dep. Variable:                  期末テスト   R-squared:                       0.756\n",
       "Model:                            OLS   Adj. R-squared:                  0.727\n",
       "Method:                 Least Squares   F-statistic:                     26.35\n",
       "Date:                Wed, 18 May 2022   Prob (F-statistic):           6.19e-06\n",
       "Time:                        08:34:02   Log-Likelihood:                -73.497\n",
       "No. Observations:                  20   AIC:                             153.0\n",
       "Df Residuals:                      17   BIC:                             156.0\n",
       "Df Model:                           2                                         \n",
       "Covariance Type:            nonrobust                                         \n",
       "==============================================================================\n",
       "                 coef    std err          t      P>|t|      [0.025      0.975]\n",
       "------------------------------------------------------------------------------\n",
       "Intercept     -1.8709     11.635     -0.161      0.874     -26.420      22.678\n",
       "小テスト           6.4289      0.956      6.725      0.000       4.412       8.446\n",
       "睡眠時間           4.1917      1.778      2.357      0.031       0.440       7.943\n",
       "==============================================================================\n",
       "Omnibus:                        2.073   Durbin-Watson:                   1.508\n",
       "Prob(Omnibus):                  0.355   Jarque-Bera (JB):                1.716\n",
       "Skew:                           0.660   Prob(JB):                        0.424\n",
       "Kurtosis:                       2.437   Cond. No.                         38.0\n",
       "==============================================================================\n",
       "\n",
       "Notes:\n",
       "[1] Standard Errors assume that the covariance matrix of the errors is correctly specified.\n",
       "\"\"\""
      ]
     },
     "execution_count": 18,
     "metadata": {},
     "output_type": "execute_result"
    }
   ],
   "source": [
    "# 重回帰分析\n",
    "formula = '期末テスト ~ 小テスト + 睡眠時間'\n",
    "result = smf.ols(formula, df).fit()\n",
    "result.summary()"
   ]
  },
  {
   "cell_type": "markdown",
   "metadata": {},
   "source": [
    "### 12.2.1 回帰係数"
   ]
  },
  {
   "cell_type": "code",
   "execution_count": 19,
   "metadata": {},
   "outputs": [],
   "source": [
    "x1 = df['小テスト']\n",
    "x2 = df['睡眠時間']\n",
    "y = df['期末テスト']\n",
    "p = 2"
   ]
  },
  {
   "cell_type": "code",
   "execution_count": 20,
   "metadata": {},
   "outputs": [
    {
     "name": "stderr",
     "output_type": "stream",
     "text": [
      "/var/folders/cm/w7d5zwgj0h3gp9q0lvvq4yrr0000gn/T/ipykernel_2048/772113141.py:3: FutureWarning: `rcond` parameter will change to the default of machine precision times ``max(M, N)`` where M and N are the input matrix dimensions.\n",
      "To use the future default and silence this warning we advise to pass `rcond=None`, to keep using the old, explicitly pass `rcond=-1`.\n",
      "  beta0_hat, beta1_hat, beta2_hat = np.linalg.lstsq(X, y)[0]\n"
     ]
    },
    {
     "data": {
      "text/plain": [
       "(-1.871, 6.429, 4.192)"
      ]
     },
     "execution_count": 20,
     "metadata": {},
     "output_type": "execute_result"
    }
   ],
   "source": [
    "# B0, B1, B2の推定値を求める\n",
    "X = np.array([np.ones_like(x1), x1, x2]).T\n",
    "beta0_hat, beta1_hat, beta2_hat = np.linalg.lstsq(X, y)[0]\n",
    "beta0_hat, beta1_hat, beta2_hat"
   ]
  },
  {
   "cell_type": "markdown",
   "metadata": {},
   "source": [
    "$\\hat{\\beta_0}, \\hat{\\beta_1}, \\hat{\\beta_2}$ を使って、\n",
    "予測値 $\\hat{y} = \\hat{\\beta_0} + \\hat{\\beta_1}x_{i1} + \\hat{\\beta_2}x_{i2}$ と \n",
    "残差 $\\hat{\\epsilon_i} = y_i - \\hat{y_i}$ を求める。"
   ]
  },
  {
   "cell_type": "code",
   "execution_count": 21,
   "metadata": {},
   "outputs": [
    {
     "data": {
      "text/plain": [
       "0     11.689338\n",
       "1     -6.531491\n",
       "2     -1.345130\n",
       "3    -10.919325\n",
       "4     -4.210202\n",
       "5      4.227954\n",
       "6     -5.368293\n",
       "7     -1.235327\n",
       "8     -4.545620\n",
       "9     -9.282828\n",
       "10    -3.573883\n",
       "11     3.618926\n",
       "12   -14.682153\n",
       "13     7.727375\n",
       "14    18.438646\n",
       "15    13.581385\n",
       "16    -1.214809\n",
       "17    -9.730262\n",
       "18    -6.315512\n",
       "19    19.671212\n",
       "dtype: float64"
      ]
     },
     "execution_count": 21,
     "metadata": {},
     "output_type": "execute_result"
    }
   ],
   "source": [
    "y_hat = beta0_hat + beta1_hat * x1 + beta2_hat * x2\n",
    "eps_hat = y - y_hat\n",
    "eps_hat "
   ]
  },
  {
   "cell_type": "code",
   "execution_count": 22,
   "metadata": {},
   "outputs": [
    {
     "data": {
      "text/plain": [
       "107.159"
      ]
     },
     "execution_count": 22,
     "metadata": {},
     "output_type": "execute_result"
    }
   ],
   "source": [
    "# 標準誤差\n",
    "s_var = np.sum(eps_hat ** 2) / (n - p - 1)\n",
    "s_var"
   ]
  },
  {
   "cell_type": "code",
   "execution_count": 23,
   "metadata": {},
   "outputs": [
    {
     "data": {
      "text/plain": [
       "(1.263, 0.009, 0.030)"
      ]
     },
     "execution_count": 23,
     "metadata": {},
     "output_type": "execute_result"
    }
   ],
   "source": [
    "# 区間推定\n",
    "C0, C1, C2 = np.diag(np.linalg.pinv(np.dot(X.T, X)))\n",
    "C0, C1, C2"
   ]
  },
  {
   "cell_type": "code",
   "execution_count": 24,
   "metadata": {},
   "outputs": [
    {
     "data": {
      "text/plain": [
       "(0.440, 7.943)"
      ]
     },
     "execution_count": 24,
     "metadata": {},
     "output_type": "execute_result"
    }
   ],
   "source": [
    "# 睡眠時間の係数B2の95%信頼区間を求める\n",
    "rv = stats.t(n-p-1)\n",
    "\n",
    "lcl = beta2_hat - rv.isf(0.025) * np.sqrt(s_var * C2)\n",
    "ucl = beta2_hat - rv.isf(0.975) * np.sqrt(s_var * C2)\n",
    "lcl, ucl"
   ]
  },
  {
   "cell_type": "markdown",
   "metadata": {},
   "source": [
    "### 12.2.2 ダミー変数\n",
    "\n",
    "- ダミー変数（dummy variable）\n",
    "  - 質的変数を変換して量的変数と同様に扱えるようにする手法\n",
    "  - ダミー変数は「0」と「1」をとる2値変数\n",
    "  - 変換したい質的変数のカテゴリ数から1つ減らした数だけ必要になる\n",
    "    - 徒歩: $(x_{徒歩} = 1, x_{自転車} = 0)$\n",
    "    - 自転車: $(x_{徒歩} = 0, x_{自転車} = 1)$\n",
    "    - バス: $(x_{徒歩} = 0, x_{自転車} = 0)$\n",
    "\n",
    "説明変数を「小テスト」と「睡眠時間」、「通学方法」にした重回帰モデル\n",
    "\n",
    "$$\n",
    "Y_i = \\beta_0 + \\beta_1 x_{i1} + \\beta_2 x_{i2} + \\beta_3 x_{i 徒歩} + \\beta_4 x_{i 自転車} + \\epsilon_i\n",
    "$$"
   ]
  },
  {
   "cell_type": "code",
   "execution_count": 25,
   "metadata": {},
   "outputs": [
    {
     "data": {
      "text/html": [
       "<table class=\"simpletable\">\n",
       "<caption>OLS Regression Results</caption>\n",
       "<tr>\n",
       "  <th>Dep. Variable:</th>          <td>期末テスト</td>      <th>  R-squared:         </th> <td>   0.782</td>\n",
       "</tr>\n",
       "<tr>\n",
       "  <th>Model:</th>                   <td>OLS</td>       <th>  Adj. R-squared:    </th> <td>   0.724</td>\n",
       "</tr>\n",
       "<tr>\n",
       "  <th>Method:</th>             <td>Least Squares</td>  <th>  F-statistic:       </th> <td>   13.46</td>\n",
       "</tr>\n",
       "<tr>\n",
       "  <th>Date:</th>             <td>Wed, 18 May 2022</td> <th>  Prob (F-statistic):</th> <td>7.47e-05</td>\n",
       "</tr>\n",
       "<tr>\n",
       "  <th>Time:</th>                 <td>08:34:02</td>     <th>  Log-Likelihood:    </th> <td> -72.368</td>\n",
       "</tr>\n",
       "<tr>\n",
       "  <th>No. Observations:</th>      <td>    20</td>      <th>  AIC:               </th> <td>   154.7</td>\n",
       "</tr>\n",
       "<tr>\n",
       "  <th>Df Residuals:</th>          <td>    15</td>      <th>  BIC:               </th> <td>   159.7</td>\n",
       "</tr>\n",
       "<tr>\n",
       "  <th>Df Model:</th>              <td>     4</td>      <th>                     </th>     <td> </td>   \n",
       "</tr>\n",
       "<tr>\n",
       "  <th>Covariance Type:</th>      <td>nonrobust</td>    <th>                     </th>     <td> </td>   \n",
       "</tr>\n",
       "</table>\n",
       "<table class=\"simpletable\">\n",
       "<tr>\n",
       "       <td></td>          <th>coef</th>     <th>std err</th>      <th>t</th>      <th>P>|t|</th>  <th>[0.025</th>    <th>0.975]</th>  \n",
       "</tr>\n",
       "<tr>\n",
       "  <th>Intercept</th>   <td>   -0.4788</td> <td>   12.068</td> <td>   -0.040</td> <td> 0.969</td> <td>  -26.202</td> <td>   25.244</td>\n",
       "</tr>\n",
       "<tr>\n",
       "  <th>通学方法[T.徒歩]</th>  <td>   -5.8437</td> <td>    5.447</td> <td>   -1.073</td> <td> 0.300</td> <td>  -17.453</td> <td>    5.766</td>\n",
       "</tr>\n",
       "<tr>\n",
       "  <th>通学方法[T.自転車]</th> <td>    1.8118</td> <td>    6.324</td> <td>    0.286</td> <td> 0.778</td> <td>  -11.668</td> <td>   15.292</td>\n",
       "</tr>\n",
       "<tr>\n",
       "  <th>小テスト</th>        <td>    6.0029</td> <td>    1.033</td> <td>    5.809</td> <td> 0.000</td> <td>    3.800</td> <td>    8.206</td>\n",
       "</tr>\n",
       "<tr>\n",
       "  <th>睡眠時間</th>        <td>    4.5238</td> <td>    1.809</td> <td>    2.501</td> <td> 0.024</td> <td>    0.668</td> <td>    8.380</td>\n",
       "</tr>\n",
       "</table>\n",
       "<table class=\"simpletable\">\n",
       "<tr>\n",
       "  <th>Omnibus:</th>       <td> 1.764</td> <th>  Durbin-Watson:     </th> <td>   1.418</td>\n",
       "</tr>\n",
       "<tr>\n",
       "  <th>Prob(Omnibus):</th> <td> 0.414</td> <th>  Jarque-Bera (JB):  </th> <td>   0.989</td>\n",
       "</tr>\n",
       "<tr>\n",
       "  <th>Skew:</th>          <td> 0.545</td> <th>  Prob(JB):          </th> <td>   0.610</td>\n",
       "</tr>\n",
       "<tr>\n",
       "  <th>Kurtosis:</th>      <td> 2.985</td> <th>  Cond. No.          </th> <td>    39.8</td>\n",
       "</tr>\n",
       "</table><br/><br/>Notes:<br/>[1] Standard Errors assume that the covariance matrix of the errors is correctly specified."
      ],
      "text/plain": [
       "<class 'statsmodels.iolib.summary.Summary'>\n",
       "\"\"\"\n",
       "                            OLS Regression Results                            \n",
       "==============================================================================\n",
       "Dep. Variable:                  期末テスト   R-squared:                       0.782\n",
       "Model:                            OLS   Adj. R-squared:                  0.724\n",
       "Method:                 Least Squares   F-statistic:                     13.46\n",
       "Date:                Wed, 18 May 2022   Prob (F-statistic):           7.47e-05\n",
       "Time:                        08:34:02   Log-Likelihood:                -72.368\n",
       "No. Observations:                  20   AIC:                             154.7\n",
       "Df Residuals:                      15   BIC:                             159.7\n",
       "Df Model:                           4                                         \n",
       "Covariance Type:            nonrobust                                         \n",
       "===============================================================================\n",
       "                  coef    std err          t      P>|t|      [0.025      0.975]\n",
       "-------------------------------------------------------------------------------\n",
       "Intercept      -0.4788     12.068     -0.040      0.969     -26.202      25.244\n",
       "通学方法[T.徒歩]     -5.8437      5.447     -1.073      0.300     -17.453       5.766\n",
       "通学方法[T.自転車]     1.8118      6.324      0.286      0.778     -11.668      15.292\n",
       "小テスト            6.0029      1.033      5.809      0.000       3.800       8.206\n",
       "睡眠時間            4.5238      1.809      2.501      0.024       0.668       8.380\n",
       "==============================================================================\n",
       "Omnibus:                        1.764   Durbin-Watson:                   1.418\n",
       "Prob(Omnibus):                  0.414   Jarque-Bera (JB):                0.989\n",
       "Skew:                           0.545   Prob(JB):                        0.610\n",
       "Kurtosis:                       2.985   Cond. No.                         39.8\n",
       "==============================================================================\n",
       "\n",
       "Notes:\n",
       "[1] Standard Errors assume that the covariance matrix of the errors is correctly specified.\n",
       "\"\"\""
      ]
     },
     "execution_count": 25,
     "metadata": {},
     "output_type": "execute_result"
    }
   ],
   "source": [
    "formula = '期末テスト ~ 小テスト + 睡眠時間 + 通学方法'\n",
    "result = smf.ols(formula, df).fit()\n",
    "result.summary()"
   ]
  },
  {
   "cell_type": "markdown",
   "metadata": {},
   "source": [
    "## 12.3 | モデルの選択\n",
    "\n",
    "- 過学習（over fitting）\n",
    "  - 説明変数を増やしていくだけで、当てはまりの良さは上がっていくが、\n",
    "  - そのようにしてできたモデルは、一般的に予測精度が下がる\n",
    "  - あまりに複雑なモデルは、表現力が高すぎるあまり手元のデータに対して適合しすぎて、汎化的な予測性能を失ってしまう。\n",
    "- モデルは、適合度の良さよりも予測の精度の良さを比較して選ぶことになる。"
   ]
  },
  {
   "cell_type": "markdown",
   "metadata": {},
   "source": [
    "```text\n",
    "Dep. Variable:\t期末テスト \t  R-squared:\t0.676\n",
    "Model:\tOLS\tAdj.            R-squared:\t0.658\n",
    "Method:\tLeast Squares\t    F-statistic:\t37.61\n",
    "Date:\tMon, 16 May 2022\tProb (F-statistic):\t8.59e-06\n",
    "Time:\t08:53:55\t        Log-Likelihood:\t-76.325\n",
    "No. Observations:\t20\t    AIC:\t156.7\n",
    "Df Residuals:\t18\t        BIC:\t158.6\n",
    "Df Model:\t1\t\t\n",
    "Covariance Type: nonrobust\t\t\n",
    "```"
   ]
  },
  {
   "cell_type": "code",
   "execution_count": 26,
   "metadata": {},
   "outputs": [
    {
     "data": {
      "text/html": [
       "<table class=\"simpletable\">\n",
       "<caption>OLS Regression Results</caption>\n",
       "<tr>\n",
       "  <th>Dep. Variable:</th>          <td>期末テスト</td>      <th>  R-squared:         </th> <td>   0.676</td>\n",
       "</tr>\n",
       "<tr>\n",
       "  <th>Model:</th>                   <td>OLS</td>       <th>  Adj. R-squared:    </th> <td>   0.658</td>\n",
       "</tr>\n",
       "<tr>\n",
       "  <th>Method:</th>             <td>Least Squares</td>  <th>  F-statistic:       </th> <td>   37.61</td>\n",
       "</tr>\n",
       "<tr>\n",
       "  <th>Date:</th>             <td>Wed, 18 May 2022</td> <th>  Prob (F-statistic):</th> <td>8.59e-06</td>\n",
       "</tr>\n",
       "<tr>\n",
       "  <th>Time:</th>                 <td>08:34:02</td>     <th>  Log-Likelihood:    </th> <td> -76.325</td>\n",
       "</tr>\n",
       "<tr>\n",
       "  <th>No. Observations:</th>      <td>    20</td>      <th>  AIC:               </th> <td>   156.7</td>\n",
       "</tr>\n",
       "<tr>\n",
       "  <th>Df Residuals:</th>          <td>    18</td>      <th>  BIC:               </th> <td>   158.6</td>\n",
       "</tr>\n",
       "<tr>\n",
       "  <th>Df Model:</th>              <td>     1</td>      <th>                     </th>     <td> </td>   \n",
       "</tr>\n",
       "<tr>\n",
       "  <th>Covariance Type:</th>      <td>nonrobust</td>    <th>                     </th>     <td> </td>   \n",
       "</tr>\n",
       "</table>\n",
       "<table class=\"simpletable\">\n",
       "<tr>\n",
       "      <td></td>         <th>coef</th>     <th>std err</th>      <th>t</th>      <th>P>|t|</th>  <th>[0.025</th>    <th>0.975]</th>  \n",
       "</tr>\n",
       "<tr>\n",
       "  <th>Intercept</th> <td>   23.6995</td> <td>    4.714</td> <td>    5.028</td> <td> 0.000</td> <td>   13.796</td> <td>   33.603</td>\n",
       "</tr>\n",
       "<tr>\n",
       "  <th>小テスト</th>      <td>    6.5537</td> <td>    1.069</td> <td>    6.133</td> <td> 0.000</td> <td>    4.309</td> <td>    8.799</td>\n",
       "</tr>\n",
       "</table>\n",
       "<table class=\"simpletable\">\n",
       "<tr>\n",
       "  <th>Omnibus:</th>       <td> 2.139</td> <th>  Durbin-Watson:     </th> <td>   1.478</td>\n",
       "</tr>\n",
       "<tr>\n",
       "  <th>Prob(Omnibus):</th> <td> 0.343</td> <th>  Jarque-Bera (JB):  </th> <td>   1.773</td>\n",
       "</tr>\n",
       "<tr>\n",
       "  <th>Skew:</th>          <td> 0.670</td> <th>  Prob(JB):          </th> <td>   0.412</td>\n",
       "</tr>\n",
       "<tr>\n",
       "  <th>Kurtosis:</th>      <td> 2.422</td> <th>  Cond. No.          </th> <td>    8.32</td>\n",
       "</tr>\n",
       "</table><br/><br/>Notes:<br/>[1] Standard Errors assume that the covariance matrix of the errors is correctly specified."
      ],
      "text/plain": [
       "<class 'statsmodels.iolib.summary.Summary'>\n",
       "\"\"\"\n",
       "                            OLS Regression Results                            \n",
       "==============================================================================\n",
       "Dep. Variable:                  期末テスト   R-squared:                       0.676\n",
       "Model:                            OLS   Adj. R-squared:                  0.658\n",
       "Method:                 Least Squares   F-statistic:                     37.61\n",
       "Date:                Wed, 18 May 2022   Prob (F-statistic):           8.59e-06\n",
       "Time:                        08:34:02   Log-Likelihood:                -76.325\n",
       "No. Observations:                  20   AIC:                             156.7\n",
       "Df Residuals:                      18   BIC:                             158.6\n",
       "Df Model:                           1                                         \n",
       "Covariance Type:            nonrobust                                         \n",
       "==============================================================================\n",
       "                 coef    std err          t      P>|t|      [0.025      0.975]\n",
       "------------------------------------------------------------------------------\n",
       "Intercept     23.6995      4.714      5.028      0.000      13.796      33.603\n",
       "小テスト           6.5537      1.069      6.133      0.000       4.309       8.799\n",
       "==============================================================================\n",
       "Omnibus:                        2.139   Durbin-Watson:                   1.478\n",
       "Prob(Omnibus):                  0.343   Jarque-Bera (JB):                1.773\n",
       "Skew:                           0.670   Prob(JB):                        0.412\n",
       "Kurtosis:                       2.422   Cond. No.                         8.32\n",
       "==============================================================================\n",
       "\n",
       "Notes:\n",
       "[1] Standard Errors assume that the covariance matrix of the errors is correctly specified.\n",
       "\"\"\""
      ]
     },
     "execution_count": 26,
     "metadata": {},
     "output_type": "execute_result"
    }
   ],
   "source": [
    "formula = '期末テスト ~ 小テスト'\n",
    "result = smf.ols(formula, df).fit()\n",
    "result.summary()"
   ]
  },
  {
   "cell_type": "code",
   "execution_count": 27,
   "metadata": {},
   "outputs": [
    {
     "data": {
      "text/plain": [
       "array([51.225, 70.886, 23.699, 43.361, 33.53 , 29.598, 36.152, 46.638,\n",
       "       49.914, 59.09 , 51.225, 68.92 , 36.807, 81.372, 25.666, 67.61 ,\n",
       "       51.225, 60.4  , 32.875, 36.807])"
      ]
     },
     "execution_count": 27,
     "metadata": {},
     "output_type": "execute_result"
    }
   ],
   "source": [
    "# 予測値\n",
    "y_hat = np.array(result.fittedvalues)\n",
    "y_hat"
   ]
  },
  {
   "cell_type": "code",
   "execution_count": 28,
   "metadata": {},
   "outputs": [
    {
     "data": {
      "text/plain": [
       "array([ 15.775,   0.114,  -4.699,  -8.361,   1.47 ,  10.402, -13.152,\n",
       "        -9.638, -10.914,  -4.09 , -11.225,   1.08 ,  -7.807,   6.628,\n",
       "        21.334,   9.39 ,   0.775,  -5.4  , -14.875,  23.193])"
      ]
     },
     "execution_count": 28,
     "metadata": {},
     "output_type": "execute_result"
    }
   ],
   "source": [
    "# 残差\n",
    "eps_hat = np.array(result.resid)\n",
    "eps_hat"
   ]
  },
  {
   "cell_type": "code",
   "execution_count": 29,
   "metadata": {},
   "outputs": [
    {
     "data": {
      "text/plain": [
       "2417.228"
      ]
     },
     "execution_count": 29,
     "metadata": {},
     "output_type": "execute_result"
    }
   ],
   "source": [
    "# 残差二乗和\n",
    "np.sum(eps_hat ** 2)"
   ]
  },
  {
   "cell_type": "markdown",
   "metadata": {},
   "source": [
    "### 12.3.1 決定係数\n",
    "\n",
    "- 決定係数（R-squared）$R^2$\n",
    "  - モデルのデータへの適合度を表す基本的な指標\n",
    "  - $0 \\leq R^2 \\leq 1$\n",
    "  - 「1」に近いほどモデルはデータへよく適合していると考える\n",
    "- 全変動（total variance）\n",
    "  - 観測値 $y_i$ のばらつき度合いを表す指標\n",
    "  - $\\sum\\nolimits_{i=1}^n(y_i - \\bar{y})^2$\n",
    "- 回帰変動（explained variance）\n",
    "  - 予測値 $\\hat{y_i}$ が観測値の平均値 $\\bar{y}$ に対してのばらつき度合いを表す指標\n",
    "  - $\\sum\\nolimits_{i=1}^n(\\hat{y_i} - \\bar{y})^2$\n",
    "  - 予測値 $\\hat{y_i}$ が観測値 $y_i$ に近いほど全変動に近づく\n",
    "- 残差変動（unexplained variance）\n",
    "  - 残差のばらつきを表す指標\n",
    "  - $\\sum\\nolimits_{i=1}^n \\hat{\\epsilon_i}^2$\n",
    "  - 残差二乗和と同じ\n",
    "  - 予測値 $\\hat{y_i}$ が観測値 $y_i$ に近いほど「0」に近づく\n",
    "- 全変動 = 回帰変動 + 残差変動"
   ]
  },
  {
   "cell_type": "markdown",
   "metadata": {},
   "source": [
    "- 予測値 $\\hat{y_i}$ が観測値 $y_i$ に近ければ、回帰変動は全変動に近い値になる。\n",
    "- 全変動のうち回帰変動の占める割合が大きければ、適合度がよいモデルといえそう\n",
    "\n",
    "$$\n",
    "R^2 = \\dfrac{回帰変動}{全変動} = 1 - \\dfrac{残差変動}{全変動}\n",
    "$$"
   ]
  },
  {
   "cell_type": "code",
   "execution_count": 30,
   "metadata": {},
   "outputs": [
    {
     "data": {
      "text/plain": [
       "(7468.550, 5051.322, 2417.228)"
      ]
     },
     "execution_count": 30,
     "metadata": {},
     "output_type": "execute_result"
    }
   ],
   "source": [
    "# 各変動と求める\n",
    "total_var = np.sum((y - np.mean(y))**2)\n",
    "exp_var = np.sum((y_hat - np.mean(y))**2)\n",
    "unexp_var = np.sum(eps_hat ** 2)\n",
    "total_var, exp_var, unexp_var"
   ]
  },
  {
   "cell_type": "code",
   "execution_count": 31,
   "metadata": {},
   "outputs": [
    {
     "data": {
      "text/plain": [
       "(7468.550, 7468.550)"
      ]
     },
     "execution_count": 31,
     "metadata": {},
     "output_type": "execute_result"
    }
   ],
   "source": [
    "# 全変動 = 回帰変動 + 残差変動\n",
    "total_var, exp_var + unexp_var"
   ]
  },
  {
   "cell_type": "code",
   "execution_count": 32,
   "metadata": {},
   "outputs": [
    {
     "data": {
      "text/plain": [
       "0.676"
      ]
     },
     "execution_count": 32,
     "metadata": {},
     "output_type": "execute_result"
    }
   ],
   "source": [
    "# 決定係数を求める\n",
    "exp_var / total_var"
   ]
  },
  {
   "cell_type": "markdown",
   "metadata": {},
   "source": [
    "- 単回帰の決定係数は、\n",
    "- 説明変数と応答変数の相関係数の二乗 $r_{xy}^2$ に一致する"
   ]
  },
  {
   "cell_type": "code",
   "execution_count": 33,
   "metadata": {},
   "outputs": [
    {
     "data": {
      "text/plain": [
       "0.676"
      ]
     },
     "execution_count": 33,
     "metadata": {},
     "output_type": "execute_result"
    }
   ],
   "source": [
    "np.corrcoef(x, y)[0, 1] ** 2"
   ]
  },
  {
   "cell_type": "markdown",
   "metadata": {},
   "source": [
    "各モデルの決定係数\n",
    "\n",
    "- 期末テスト ~ 小テスト: 0.676\n",
    "- 期末テスト ~ 小テスト + 睡眠時間: 0.756\n",
    "- 期末テスト ~ 小テスト + 睡眠時間 + 通学方法: 0.782\n",
    "\n",
    "&nbsp;\n",
    "\n",
    "- 決定係数は、どんな無意味な変数であっても、説明変数が増えると値が増加する。"
   ]
  },
  {
   "cell_type": "markdown",
   "metadata": {},
   "source": [
    "### 12.3.2 自由度調整済み決定係数 $\\bar{R}^2$\n",
    "\n",
    "- 自由度調整済み決定係数（adjusted R-square）\n",
    "  - 説明変数を追加したときに、その説明変数にある程度以上の説明力がない場合は値が増加しないように調整した決定係数\n",
    "  - 自由度を考慮した決定係数\n",
    "\n",
    "$$\n",
    "\\bar{R}^2 = 1 - \\dfrac{残差変動 / (n - p - 1)}{全変動 / (n - 1)}\n",
    "$$\n",
    "\n",
    "- p: 回帰係数の数\n",
    "\n",
    "$$\n",
    "全変動の自由度 = 回帰変数の自由度 + 残差変動の自由度\n",
    "$$\n",
    "\n",
    "- 回帰変数の自由度は、モデルの自由度とも呼ばれる\n",
    "- `statsmodels`の分析結果の`Df Model`\n",
    "- 残差変動の自由度は、残差の自由度とも呼ばれる"
   ]
  },
  {
   "cell_type": "code",
   "execution_count": 34,
   "metadata": {},
   "outputs": [
    {
     "data": {
      "text/plain": [
       "0.638"
      ]
     },
     "execution_count": 34,
     "metadata": {},
     "output_type": "execute_result"
    }
   ],
   "source": [
    "# 自由度調整済み決定係数を求める\n",
    "1 - (unexp_var / (n - p - 1)) / (total_var / (n - 1))"
   ]
  },
  {
   "cell_type": "markdown",
   "metadata": {},
   "source": [
    "各モデルの自由度調整済み決定係数\n",
    "\n",
    "- 期末テスト ~ 小テスト: 0.658\n",
    "- 期末テスト ~ 小テスト + 睡眠時間: 0.727\n",
    "- 期末テスト ~ 小テスト + 睡眠時間 + 通学方法: 0.724"
   ]
  },
  {
   "cell_type": "markdown",
   "metadata": {},
   "source": [
    "### 12.3.3 F検定\n",
    "\n",
    "- F 検定（F test）\n",
    "  - 切片 $\\beta_0$ 以外の回帰係数に関する検定\n",
    "  - 帰無仮説: $\\beta_1 = \\beta_2 = ... = \\beta_p = 0$\n",
    "  - 対立仮説: すなくとも1つの $\\beta-i$ は「0」ではない。\n",
    "  - t 検定のように個々の回帰係数に対してではなく、モデル全体に対して行われる \n",
    "- F 検定統計量\n",
    "  - F-statistic\n",
    "- p値\n",
    "  - Prob (F-statistic)\n",
    "\n",
    "$$\n",
    "F = \\dfrac{回帰変動 / p}{残差変動 / (n - p - 1)}\n",
    "$$\n",
    "\n",
    "- モデルの適合度がよいときほど、残差変動より回帰変動が大きくなることを利用している\n",
    "- F 検定統計量がある値より大きくなった場合、モデルがデータに適合していると考える\n",
    "  - 上側の片側検定を行う\n",
    "- F 検定統計量は分散の比を検定していると解釈できる\n",
    "- **分散分析（analysis of variance, ANOVA）**とも呼ばれる"
   ]
  },
  {
   "cell_type": "code",
   "execution_count": 35,
   "metadata": {},
   "outputs": [
    {
     "data": {
      "text/plain": [
       "17.763"
      ]
     },
     "execution_count": 35,
     "metadata": {},
     "output_type": "execute_result"
    }
   ],
   "source": [
    "# F 検定統計量を求める\n",
    "f = (exp_var / p) / (unexp_var / (n - p - 1))\n",
    "f"
   ]
  },
  {
   "cell_type": "code",
   "execution_count": 36,
   "metadata": {},
   "outputs": [
    {
     "data": {
      "text/plain": [
       "0.000"
      ]
     },
     "execution_count": 36,
     "metadata": {},
     "output_type": "execute_result"
    }
   ],
   "source": [
    "# p値を求める\n",
    "rv = stats.f(p, n-p-1)\n",
    "1 - rv.cdf(f)"
   ]
  },
  {
   "cell_type": "markdown",
   "metadata": {},
   "source": [
    "### 12.3.4 最大対数尤度とAIC\n",
    "\n",
    "- 赤池情報量規準（Akaike's information criterion, AIC）\n",
    "  - 尤度\n",
    "  - 最大対数尤度"
   ]
  },
  {
   "cell_type": "markdown",
   "metadata": {},
   "source": [
    "#### 尤度（likelihood）\n",
    "\n",
    "- ある観測値が得られる確率"
   ]
  },
  {
   "cell_type": "markdown",
   "metadata": {},
   "source": [
    "コインの確率関数を $f(x)$、得られた観測値 $x_1, x_2, x_3, x_4, x_5$ とすると、\n",
    "\n",
    "尤度 $L$ は、\n",
    "\n",
    "$$\n",
    "L = \\prod_{i=1}^5 f(x-i) = 0.3^2 0.7^3 \\simeq 0.031\n",
    "$$"
   ]
  },
  {
   "cell_type": "code",
   "execution_count": 37,
   "metadata": {},
   "outputs": [
    {
     "data": {
      "text/plain": [
       "0.031"
      ]
     },
     "execution_count": 37,
     "metadata": {},
     "output_type": "execute_result"
    }
   ],
   "source": [
    "prob = 0.3\n",
    "coin_result = [0, 1, 0, 0, 1]\n",
    "\n",
    "rv = stats.bernoulli(prob)\n",
    "L = np.prod(rv.pmf(coin_result))\n",
    "L"
   ]
  },
  {
   "cell_type": "markdown",
   "metadata": {},
   "source": [
    "コインの表の出る確率がわからないときに、$[0, 1, 0, 0, 1]$ という結果を得た場合の尤度は、\n",
    "\n",
    "$$\n",
    "L = \\prod_{i=1}^5 f(x_i) = p^2(1 - p)^3\n",
    "$$\n",
    "\n",
    "と書くことができる。\n",
    "\n",
    "- この場合、母数 $p$ が未知のため、尤度 $L$ は $p$ の関数になったように見える。\n",
    "- これを**尤度関数（likelihood function）$L(p)$** と呼ぶ。"
   ]
  },
  {
   "cell_type": "code",
   "execution_count": 38,
   "metadata": {},
   "outputs": [
    {
     "data": {
      "image/png": "[encoded data removed]",
      "text/plain": [
       "<Figure size 720x432 with 1 Axes>"
      ]
     },
     "metadata": {
      "needs_background": "light"
     },
     "output_type": "display_data"
    }
   ],
   "source": [
    "# pを0から1で変化させたときの尤度関数を描画する\n",
    "ps = np.linspace(0, 1, 100)\n",
    "Ls = [\n",
    "    np.prod(stats.bernoulli(prob).pmf(coin_result))\n",
    "    for prob in ps\n",
    "]\n",
    "\n",
    "fig = plt.figure(figsize=(10, 6))\n",
    "ax = fig.add_subplot(111)\n",
    "\n",
    "ax.plot(ps, Ls, label='尤度関数', color='gray')\n",
    "ax.legend()\n",
    "plt.show()"
   ]
  },
  {
   "cell_type": "markdown",
   "metadata": {},
   "source": [
    "- 観測値にとって $p = 0.4$ が最もそれらしい母数であるといえる。\n",
    "\n",
    "&nbsp;\n",
    "\n",
    "- 最尤推定法（method of maximum likelihood）\n",
    "  - 観測値のとって最も尤もらしいという理由で母数 $p$ を推定する方法\n",
    "- 最尤推定量（maximum likelihood estimator）\n",
    "  - 最尤推定法によって推測される推定量\n",
    "- 最尤推定値（maximum likelihood estimate）\n",
    "  - 最尤推定法によって推測される推定値"
   ]
  },
  {
   "cell_type": "markdown",
   "metadata": {},
   "source": [
    "- $f(x)$ を\n",
    "  - 離散型確率変数の場合は確率関数で、\n",
    "  - 連続型確率変数の場合は確率密度関数とすると\n",
    "- 次の定義はどちらの場合にも対応した尤度の定義\n",
    "\n",
    "$$\n",
    "L = \\prod_{i=1}^n f(x_i)\n",
    "$$\n",
    "\n",
    "- 尤度は確率の積となるため、かければかけるほど「0」に近づく\n",
    "- 対数尤度（log-likelihood）\n",
    "  - 尤度の対数をとったもの\n",
    "\n",
    "$$\n",
    "log~L = \\sum_{i=1}^n log~f(x_i)\n",
    "$$\n",
    "\n",
    "- 尤度関数が最大となるとき、対数尤度関数も最大となる。\n",
    "- 最尤推定は、対数尤度関数が最大となるときのパラメータとして求めることができる。\n",
    "  - 対数尤度関数が最大のときの対数尤度の値を**最大対数尤度（maximum log-likelihood）**という。"
   ]
  },
  {
   "cell_type": "code",
   "execution_count": 39,
   "metadata": {},
   "outputs": [
    {
     "data": {
      "text/plain": [
       "-3.365"
      ]
     },
     "execution_count": 39,
     "metadata": {},
     "output_type": "execute_result"
    }
   ],
   "source": [
    "# 最大対数尤度を求める\n",
    "prob = 0.4\n",
    "rv = stats.bernoulli(prob)\n",
    "mll = np.sum(np.log(rv.pmf([0, 1, 0, 0, 1])))\n",
    "mll"
   ]
  },
  {
   "cell_type": "markdown",
   "metadata": {},
   "source": [
    "#### 最大対数尤度\n",
    "\n",
    "- 単回帰モデルはでは、$Y_i \\sim N(\\beta_0 + \\beta_1 x_i, \\sigma^2)$ という関係を仮定した。\n",
    "- この仮定のもとで観測値 $(x_1, y_1), (x_1, y_1), ..., (x_n, y_n)$ に対する最大対数尤度は、モデルのデータへの宛hまりの良さを表していると考えることができる。\n",
    "- $\\beta_0, \\beta_1 x_i, \\sigma^2$ の最尤推定量は、それぞれ$\\hat{\\beta_0}, \\hat{\\beta_1}, \\frac{1}{n} \\sum\\nolimits_{i=1}^n \\hat{\\epsilon_i}$ となる。\n",
    "\n",
    "最大対数尤度は、$N(\\hat{y}, \\sum\\nolimits_{i=1}^n \\hat{\\epsilon_i})$ の密度関数 $f(x)$ として、\n",
    "\n",
    "$$\n",
    "\\sum_{i=1}^n log~f(y_i)\n",
    "$$\n",
    "\n",
    "と求めることができる。"
   ]
  },
  {
   "cell_type": "code",
   "execution_count": 40,
   "metadata": {},
   "outputs": [
    {
     "data": {
      "text/plain": [
       "-76.325"
      ]
     },
     "execution_count": 40,
     "metadata": {},
     "output_type": "execute_result"
    }
   ],
   "source": [
    "rv = stats.norm(y_hat, np.sqrt(unexp_var / n))\n",
    "mll = np.sum(np.log(rv.pdf(y)))\n",
    "mll"
   ]
  },
  {
   "cell_type": "markdown",
   "metadata": {},
   "source": [
    "各モデルの最大対数尤度\n",
    "\n",
    "- 期末テスト ~ 小テスト: -76.325\n",
    "- 期末テスト ~ 小テスト + 睡眠時間: -73.497\n",
    "- 期末テスト ~ 小テスト + 睡眠時間 + 通学方法: -72.368\n",
    "\n",
    "&nbsp;\n",
    "\n",
    "- 最大対数尤度も説明変数を増やすと、値が増える特徴を持つ"
   ]
  },
  {
   "cell_type": "markdown",
   "metadata": {},
   "source": [
    "#### AIC\n",
    "\n",
    "$$\n",
    "AIC = -2 * 最大対数尤度 + 2 * 回帰係数の数\n",
    "$$\n",
    "\n",
    "- 最大対数尤度に回帰係数の数をペナルティとして付け加える"
   ]
  },
  {
   "cell_type": "code",
   "execution_count": 41,
   "metadata": {},
   "outputs": [
    {
     "data": {
      "text/plain": [
       "158.650"
      ]
     },
     "execution_count": 41,
     "metadata": {},
     "output_type": "execute_result"
    }
   ],
   "source": [
    "aic = -2 * mll + 2 * (p+1)\n",
    "aic"
   ]
  },
  {
   "cell_type": "markdown",
   "metadata": {},
   "source": [
    "各モデルのAIC\n",
    "\n",
    "- 期末テスト ~ 小テスト: 156.7\n",
    "- 期末テスト ~ 小テスト + 睡眠時間: 153.0\n",
    "- 期末テスト ~ 小テスト + 睡眠時間 + 通学方法: 154.7\n",
    "\n",
    "&nbsp;\n",
    "\n",
    "- AICは、値が小さいほどモデルの予測精度がよいと考える。"
   ]
  },
  {
   "cell_type": "markdown",
   "metadata": {},
   "source": [
    "#### ベイズ情報量規準\n",
    "\n",
    "- ベイズ情報量規準（bayesian information criterion, BIC）\n",
    "  - BICは、回帰係数に加え、サンプルサイズ $n$ に対してもペナルティを加える。\n",
    "\n",
    "$$\n",
    "BIC = -2 * 最大対数尤度 + log~n * 回帰係数の数\n",
    "$$"
   ]
  },
  {
   "cell_type": "code",
   "execution_count": 42,
   "metadata": {},
   "outputs": [
    {
     "data": {
      "text/plain": [
       "161.638"
      ]
     },
     "execution_count": 42,
     "metadata": {},
     "output_type": "execute_result"
    }
   ],
   "source": [
    "bic = -2 * mll + np.log(n) * (p+1)\n",
    "bic"
   ]
  },
  {
   "cell_type": "markdown",
   "metadata": {},
   "source": [
    "各モデルのBIC\n",
    "\n",
    "- 期末テスト ~ 小テスト: 158.6\n",
    "- 期末テスト ~ 小テスト + 睡眠時間: 156.0\n",
    "- 期末テスト ~ 小テスト + 睡眠時間 + 通学方法: 159.7\n",
    "\n",
    "&nbsp;\n",
    "\n",
    "- BICは、値が小さいほどモデルの予測精度がよいと考える。"
   ]
  },
  {
   "cell_type": "markdown",
   "metadata": {},
   "source": [
    "## 12.4 | モデルの妥当性\n",
    "\n",
    "- モデルの妥当性とは、\n",
    "  - 「誤差項 $\\epsilon_i$ は互いに独立に $N(0, \\sigma^2)$ にしたがう」という仮説が満たされているかの確認。\n",
    "  - 誤差項 $\\epsilon_i$ に関する確認なので、分析対象は 残差 $\\hat{\\epsilon_i}$"
   ]
  },
  {
   "cell_type": "code",
   "execution_count": 44,
   "metadata": {},
   "outputs": [
    {
     "data": {
      "text/plain": [
       "array([ 15.775,   0.114,  -4.699,  -8.361,   1.47 ,  10.402, -13.152,\n",
       "        -9.638, -10.914,  -4.09 , -11.225,   1.08 ,  -7.807,   6.628,\n",
       "        21.334,   9.39 ,   0.775,  -5.4  , -14.875,  23.193])"
      ]
     },
     "execution_count": 44,
     "metadata": {},
     "output_type": "execute_result"
    }
   ],
   "source": [
    "eps_hat = np.array(result.resid)\n",
    "eps_hat"
   ]
  },
  {
   "cell_type": "markdown",
   "metadata": {},
   "source": [
    "### 12.4.1 正規性の検定\n",
    "\n",
    "- 誤差項 $\\epsilon_i$ が $N(0, \\sigma^2)$ にしたがうという仮定が妥当かを調べる。\n",
    "  - 残差 $\\hat{\\epsilon_i}$ が正規分布にしたがっているかを確かめる正規性の検定。\n",
    "  - Omnibus検定 `Omnibus`, `Prob(Omnibus)`\n",
    "  - Jarque-Beta検定 `Jarque-Beta (JB)`, `Prob(JB)`\n",
    "  - 帰無仮説: 残差項は正規分布にしたがっている\n",
    "  - 対立仮説: 残差項は正規分布にしたがっていない\n",
    "  - 有意水準である 0.05 より大きければとくに問題はない"
   ]
  },
  {
   "cell_type": "markdown",
   "metadata": {},
   "source": [
    "\n",
    "#### 歪度（skewness）\n",
    "\n",
    "- 分布が左右対称かどうかを判断できる\n",
    "- 正規分布のような左右対称な分布であれば「0」\n",
    "- カイ二乗分布のように「右に歪んだ」分布であれば、「0より大きい」値になる\n",
    "- 「左に歪んだ」分布のとき、「0より小さい」値になる\n",
    "\n",
    "$$\n",
    "\\sum_i^n (\\dfrac{x - \\bar{x}}{S})^3\n",
    "$$"
   ]
  },
  {
   "cell_type": "code",
   "execution_count": 45,
   "metadata": {},
   "outputs": [
    {
     "data": {
      "text/plain": [
       "0.670"
      ]
     },
     "execution_count": 45,
     "metadata": {},
     "output_type": "execute_result"
    }
   ],
   "source": [
    "stats.skew(eps_hat)"
   ]
  },
  {
   "cell_type": "markdown",
   "metadata": {},
   "source": [
    "#### 尖度（kurtosis）\n",
    "\n",
    "- 分布の尖り具合を測る指標\n",
    "- 正規分布であれば、「3」になる\n",
    "- 正規分布より尖ったピークをもつ分布の場合「3より大きい」値になる\n",
    "- 正規分布より丸みがかったピークをもつ分布の場合「3より小さい」値になる"
   ]
  },
  {
   "cell_type": "code",
   "execution_count": 46,
   "metadata": {},
   "outputs": [
    {
     "data": {
      "text/plain": [
       "2.422"
      ]
     },
     "execution_count": 46,
     "metadata": {},
     "output_type": "execute_result"
    }
   ],
   "source": [
    "stats.kurtosis(eps_hat, fisher=False)"
   ]
  },
  {
   "cell_type": "markdown",
   "metadata": {},
   "source": [
    "### 12.4.2 ダービン・ワトソン比\n",
    "\n",
    "- ダービン・ワトソン比（Durbin-Watson ratio）\n",
    "  - 異なる誤差項は互いに無相関であることを確認する指標\n",
    "  - 扱っているデータが時系列データである場合にとくに重要\n",
    "  - 「0 ~ 4」の値をとる\n",
    "  - 「0」に近ければ、「正の相関」\n",
    "  - 「2」に近ければ、「無相関」\n",
    "  - 「4」に近ければ、「負の相関」\n",
    "\n",
    "$$\n",
    "\\dfrac{\\sum\\nolimits_{i=2}^n (\\hat{\\epsilon}_i - \\hat{\\epsilon}_{i-1})}\n",
    "{\\sum\\nolimits_{i=1}^n \\hat{\\epsilon}_i^2}\n",
    "$$"
   ]
  },
  {
   "cell_type": "code",
   "execution_count": 47,
   "metadata": {},
   "outputs": [
    {
     "data": {
      "text/plain": [
       "1.478"
      ]
     },
     "execution_count": 47,
     "metadata": {},
     "output_type": "execute_result"
    }
   ],
   "source": [
    "np.sum(np.diff(eps_hat, 1) ** 2) / np.sum(eps_hat ** 2)"
   ]
  },
  {
   "cell_type": "markdown",
   "metadata": {},
   "source": [
    "### 12.4.3 多重共線性\n",
    "\n",
    "- `Cond. No.`\n",
    "- 多重共線性とは、\n",
    "  - 説明変数間で、非常に強い相関が生じていることを指す\n",
    "  - 多重共線性がひどいと、回帰係数の分散が大きくなりモデルの予測結果が悪くなる"
   ]
  }
 ],
 "metadata": {
  "interpreter": {
   "hash": "18aa02ce14a85bb7f4615a92049f5200f59992eb58b8bc2715593121788c94f0"
  },
  "kernelspec": {
   "display_name": "Python 3.9.12 ('sap_env': venv)",
   "language": "python",
   "name": "python3"
  },
  "language_info": {
   "codemirror_mode": {
    "name": "ipython",
    "version": 3
   },
   "file_extension": ".py",
   "mimetype": "text/x-python",
   "name": "python",
   "nbconvert_exporter": "python",
   "pygments_lexer": "ipython3",
   "version": "3.9.12"
  },
  "orig_nbformat": 4
 },
 "nbformat": 4,
 "nbformat_minor": 2
}
