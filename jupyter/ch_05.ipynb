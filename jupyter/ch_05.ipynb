{
 "cells": [
  {
   "cell_type": "markdown",
   "metadata": {},
   "source": [
    "# Chapter05 離散型確率変数"
   ]
  },
  {
   "cell_type": "code",
   "execution_count": 112,
   "metadata": {},
   "outputs": [],
   "source": [
    "# ライブラリーの準備\n",
    "import numpy as np\n",
    "import matplotlib.pyplot as plt\n",
    "from matplotlib import rcParams\n",
    "\n",
    "plt.style.use('seaborn')\n",
    "rcParams['font.family'] = 'IPAexgothic'\n",
    "%precision 3\n",
    "%matplotlib inline\n"
   ]
  },
  {
   "cell_type": "markdown",
   "metadata": {},
   "source": [
    "## 5.1 1次元の離散型確率変数\n",
    "\n",
    "### 5.1.1 1次元の離散型確率変数の定義\n",
    "\n",
    "- 確率変数は、\n",
    "  - 「とりうる値」と「その値が出る確率」によって定義される\n",
    "- 離散型確率変数の場合、\n",
    "  - 確率変数 $X$ のとりうる値の集合を $\\{x_1, x_2, ...\\}$ として、\n",
    "  - 確率変数 $X$ が $x_k$ という値をとる確率を\n",
    "  - $ P(X = x_k) = p_k~~~(k = 1, 2, ...) $\n",
    "- と定義できる。\n",
    "- このとき「確率」は、「とりうる値 $x$ を引数にとる関数」とみることもできるため、\n",
    "  - $ f(x) = P(X = x) $\n",
    "  - となる「関数 $f(x)$ 」と考えることができる。\n",
    "  - これを、\n",
    "    - 「確率質量関数（probability mass function, PMF）」または、\n",
    "    - 「確率関数（probability function）」\n",
    "  - と呼ぶ。\n",
    "- 確率分布とは、\n",
    "  - 「とりうる値」と「その確率」の具体的な対応を表したもの\n",
    "  - 「確率変数の確率分布」が決まることで、「その確率変数の振る舞い」が定まることになる。"
   ]
  },
  {
   "cell_type": "markdown",
   "metadata": {},
   "source": [
    "#### いかさまサイコロの確率分布の作成"
   ]
  },
  {
   "cell_type": "code",
   "execution_count": 113,
   "metadata": {},
   "outputs": [],
   "source": [
    "# とりうる値の集合 x_set\n",
    "x_set = np.array([1, 2, 3, 4, 5, 6])\n"
   ]
  },
  {
   "cell_type": "markdown",
   "metadata": {},
   "source": [
    "いかさまサイコロの確率関数\n",
    "\n",
    "$$\n",
    "f(x) = \\begin{cases}\n",
    "          x/21~~~(x \\in \\{1,2,3,4,5,6\\})\n",
    "          \\\\\n",
    "          0~~~(\\text{otherwise})\n",
    "       \\end{cases}\n",
    "$$"
   ]
  },
  {
   "cell_type": "code",
   "execution_count": 114,
   "metadata": {},
   "outputs": [],
   "source": [
    "# いかさまサイコロの確率関数\n",
    "def f(x):\n",
    "    \"\"\"いかさまサイコロの確率関数\"\"\"\n",
    "    if x in x_set:\n",
    "        return x /21\n",
    "    else:\n",
    "        return 0"
   ]
  },
  {
   "cell_type": "markdown",
   "metadata": {},
   "source": [
    "「とりうる値の集合」と「確率関数」のセットで、「確率分布」が決まる。\n",
    "\n",
    "これによって、「確率変数 $X$ の振る舞い」が決まる。"
   ]
  },
  {
   "cell_type": "code",
   "execution_count": 115,
   "metadata": {},
   "outputs": [
    {
     "data": {
      "text/plain": [
       "[array([1, 2, 3, 4, 5, 6]), <function __main__.f(x)>]"
      ]
     },
     "execution_count": 115,
     "metadata": {},
     "output_type": "execute_result"
    }
   ],
   "source": [
    "# 確率変数X の定義\n",
    "X = [x_set, f]\n",
    "X"
   ]
  },
  {
   "cell_type": "code",
   "execution_count": 116,
   "metadata": {},
   "outputs": [
    {
     "data": {
      "text/plain": [
       "{1: 0.048, 2: 0.095, 3: 0.143, 4: 0.190, 5: 0.238, 6: 0.286}"
      ]
     },
     "execution_count": 116,
     "metadata": {},
     "output_type": "execute_result"
    }
   ],
   "source": [
    "# 確率p_kを求める\n",
    "prob = np.array([f(x_k) for x_k in x_set])\n",
    "\n",
    "# x_kとp_kの対応を辞書型にして表示する\n",
    "dict(zip(x_set, prob))"
   ]
  },
  {
   "cell_type": "code",
   "execution_count": 117,
   "metadata": {},
   "outputs": [
    {
     "data": {
      "image/png": "[encoded data removed]",
      "text/plain": [
       "<Figure size 720x432 with 1 Axes>"
      ]
     },
     "metadata": {
      "needs_background": "light"
     },
     "output_type": "display_data"
    }
   ],
   "source": [
    "# 「とりうる値」と「確率」を棒グラフに図示する\n",
    "fig = plt.figure(figsize=(10, 6))\n",
    "ax = fig.add_subplot(111)\n",
    "ax.bar(x_set, prob)\n",
    "ax.set_xlabel('とりうる値')\n",
    "ax.set_ylabel('確率')\n",
    "\n",
    "plt.show()"
   ]
  },
  {
   "cell_type": "markdown",
   "metadata": {},
   "source": [
    "#### 確率の性質\n",
    "\n",
    "- 確率は絶対に0以上\n",
    "- すべての確率を足すと、1にならなければならない\n",
    "\n",
    "$$\n",
    "\\begin{align}\n",
    "    f(x_k) \\geq 0 \\\\\n",
    "    \\sum_{k} f(x_k) = 1\n",
    "\\end{align}\n",
    "$$"
   ]
  },
  {
   "cell_type": "code",
   "execution_count": 118,
   "metadata": {},
   "outputs": [
    {
     "data": {
      "text/plain": [
       "True"
      ]
     },
     "execution_count": 118,
     "metadata": {},
     "output_type": "execute_result"
    }
   ],
   "source": [
    "# 確率がすべて0以上であるかの確認 np.all()関数\n",
    "np.all(prob >= 0)"
   ]
  },
  {
   "cell_type": "code",
   "execution_count": 119,
   "metadata": {},
   "outputs": [
    {
     "data": {
      "text/plain": [
       "1.000"
      ]
     },
     "execution_count": 119,
     "metadata": {},
     "output_type": "execute_result"
    }
   ],
   "source": [
    "# 確率の総和の確認\n",
    "np.sum(prob)"
   ]
  },
  {
   "cell_type": "markdown",
   "metadata": {},
   "source": [
    "#### 累積分布関数（cumulative distribution function, CDF）\n",
    "\n",
    "- 「確率関数」\n",
    "  - 「確率変数$X$」が、「$x$になるときの確率」を返す関数\n",
    "- 「累積分布関数」\n",
    "  - 「確率変数$X$」が、「$x$以下になるときの確率」を返す関数\n",
    "  - サイコロの出目が「3」以下になる確率など\n",
    "\n",
    "$$\n",
    "F(x) = P(X \\leq x) = \\sum_{x_k \\leq x} f(x_k)\n",
    "$$"
   ]
  },
  {
   "cell_type": "code",
   "execution_count": 120,
   "metadata": {},
   "outputs": [],
   "source": [
    "# 累積分布関数を作成する\n",
    "def F(x):\n",
    "    \"\"\"いかさまサイコロの累積分布関数\"\"\"\n",
    "    return np.sum([f(x_k) for x_k in x_set if x_k <= x])"
   ]
  },
  {
   "cell_type": "code",
   "execution_count": 121,
   "metadata": {},
   "outputs": [
    {
     "data": {
      "text/plain": [
       "0.286"
      ]
     },
     "execution_count": 121,
     "metadata": {},
     "output_type": "execute_result"
    }
   ],
   "source": [
    "# サイコロの出目が「3」以下になる確率\n",
    "F(3)"
   ]
  },
  {
   "cell_type": "markdown",
   "metadata": {},
   "source": [
    "#### 確率変数の変換\n",
    "\n",
    "- 確率変数$X$に、2をかけて3を足した、$2X+3$は、\n",
    "- 確率変数$2X+3$になる"
   ]
  },
  {
   "cell_type": "code",
   "execution_count": 122,
   "metadata": {},
   "outputs": [
    {
     "data": {
      "text/plain": [
       "{5: 0.048, 7: 0.095, 9: 0.143, 11: 0.190, 13: 0.238, 15: 0.286}"
      ]
     },
     "execution_count": 122,
     "metadata": {},
     "output_type": "execute_result"
    }
   ],
   "source": [
    "# 2X+3を確率変数Yとし、Yの確率分布を作成する\n",
    "y_set = np.array([2 * x_k + 3 for x_k in x_set])\n",
    "prob = np.array([f(x_k) for x_k in x_set])\n",
    "dict(zip(y_set, prob))"
   ]
  },
  {
   "cell_type": "markdown",
   "metadata": {},
   "source": [
    "### 5.1.2 １次元の離散型確率変数の指標\n",
    "\n",
    "#### 期待値（expected value）\n",
    "\n",
    "- 期待値\n",
    "  - 確率変数の平均\n",
    "  - $E(X)$\n",
    "    - 期待値の演算としての意味合いが強い場合に用いる\n",
    "  - $\\mu$\n",
    "    - 期待値の値そのものに関心がある場合に用いる\n",
    "- 離散型確率変数の期待値（平均）は、\n",
    "  - 確率変数の「とりうる値とその確率の積」の「総和」\n",
    "  - 確率変数を無限回試行して得られた実現値の平均に一致する\n",
    "\n",
    "$$\n",
    "E(X) = \\sum_{k} x_k f(x_k)\n",
    "$$"
   ]
  },
  {
   "cell_type": "code",
   "execution_count": 123,
   "metadata": {},
   "outputs": [
    {
     "data": {
      "text/plain": [
       "4.333"
      ]
     },
     "execution_count": 123,
     "metadata": {},
     "output_type": "execute_result"
    }
   ],
   "source": [
    "# いかさまサイコロの期待値を定義どおりに計算する\n",
    "np.sum([x_k * f(x_k) for x_k in x_set])"
   ]
  },
  {
   "cell_type": "code",
   "execution_count": 124,
   "metadata": {},
   "outputs": [
    {
     "data": {
      "text/plain": [
       "4.335"
      ]
     },
     "execution_count": 124,
     "metadata": {},
     "output_type": "execute_result"
    }
   ],
   "source": [
    "# いかさまサイコロを100万（=10^6）回試行した実現値の平均を求める\n",
    "sample = np.random.choice(x_set, int(1e6), p=prob)\n",
    "np.mean(sample)"
   ]
  },
  {
   "cell_type": "markdown",
   "metadata": {},
   "source": [
    "確率変数$X$を、$2X+3$に変換した確率変数$Y$の期待値\n",
    "\n",
    "$$\n",
    "E(Y) = E(2X + 3) = \\sum_{k} (2x_k + 3)f(x_k)\n",
    "$$"
   ]
  },
  {
   "cell_type": "markdown",
   "metadata": {},
   "source": [
    "#### 離散型確率変数の期待値\n",
    "\n",
    "より一般的に、確率変数$X$の関数$g(X)$の期待値が定義できる。\n",
    "\n",
    "$$\n",
    "E(g(X)) = \\sum_{k} g(x_k)f(x_k)\n",
    "$$\n",
    "\n",
    "引数$g$が、「確率変数に対する変換の関数」になっている。"
   ]
  },
  {
   "cell_type": "code",
   "execution_count": 125,
   "metadata": {},
   "outputs": [],
   "source": [
    "# 期待値の関数を実装する\n",
    "def E(X, g=lambda x: x):\n",
    "    x_set, f = X\n",
    "    return np.sum(\n",
    "        [g(x_k) * f(x_k) for x_k in x_set]\n",
    "    )"
   ]
  },
  {
   "cell_type": "code",
   "execution_count": 126,
   "metadata": {},
   "outputs": [
    {
     "data": {
      "text/plain": [
       "4.333"
      ]
     },
     "execution_count": 126,
     "metadata": {},
     "output_type": "execute_result"
    }
   ],
   "source": [
    "E(X)"
   ]
  },
  {
   "cell_type": "code",
   "execution_count": 127,
   "metadata": {},
   "outputs": [
    {
     "data": {
      "text/plain": [
       "11.667"
      ]
     },
     "execution_count": 127,
     "metadata": {},
     "output_type": "execute_result"
    }
   ],
   "source": [
    "E(X, g=lambda x: 2*x + 3)"
   ]
  },
  {
   "cell_type": "markdown",
   "metadata": {},
   "source": [
    "期待値の線形性\n",
    "\n",
    "a, bを実数、$X$を確率変数としたとき\n",
    "\n",
    "$$\n",
    "E(aX + b) = aE(X) + b\n",
    "$$\n",
    "\n",
    "が成り立つ。"
   ]
  },
  {
   "cell_type": "code",
   "execution_count": 128,
   "metadata": {},
   "outputs": [
    {
     "data": {
      "text/plain": [
       "11.667"
      ]
     },
     "execution_count": 128,
     "metadata": {},
     "output_type": "execute_result"
    }
   ],
   "source": [
    "2 * E(X) + 3"
   ]
  },
  {
   "cell_type": "markdown",
   "metadata": {},
   "source": [
    "#### 分散\n",
    "\n",
    "- 偏差の二乗の期待値として定義される。\n",
    "- $V(X)$\n",
    "  - 分散の演算としての意味合いが強い場合に用いる\n",
    "- $\\sigma^2$\n",
    "  - 分散の値そのものに関心がある場合に用いる\n",
    "- $\\sigma$\n",
    "  - 確率変数$X$の標準偏差\n",
    "\n",
    "$$\n",
    "V(X) = \\sum_{k}(x_k - \\mu)^2f(x_k)\n",
    "$$"
   ]
  },
  {
   "cell_type": "code",
   "execution_count": 129,
   "metadata": {},
   "outputs": [
    {
     "data": {
      "text/plain": [
       "2.222"
      ]
     },
     "execution_count": 129,
     "metadata": {},
     "output_type": "execute_result"
    }
   ],
   "source": [
    "# いかさまサイコロの分散を求める\n",
    "mean = E(X)\n",
    "np.sum([(x_k-mean)**2 * f(x_k) for x_k in x_set])"
   ]
  },
  {
   "cell_type": "markdown",
   "metadata": {},
   "source": [
    "- 変換した確率変数についても分散を定義できる。\n",
    "- 確率変数$X$を、$2X + 3$と変換した確率変数$Y$を考える。\n",
    "- $\\mu = E(2X + 3)$\n",
    "\n",
    "$$\n",
    "V(2X + 3) = \\sum_{k}\\left((2x_k + 3) - \\mu \\right)^2 f(x_k)\n",
    "$$"
   ]
  },
  {
   "cell_type": "markdown",
   "metadata": {},
   "source": [
    "#### 離散型確率変数の分散\n",
    "\n",
    "より一般的に、確率変数$X$の関数$g(X)$の分散が定義できる。\n",
    "\n",
    "$$\n",
    "V(g(X)) = \\sum_{k} (g(x_k) - E(g(X)))^2 f(x_k)\n",
    "$$"
   ]
  },
  {
   "cell_type": "code",
   "execution_count": 130,
   "metadata": {},
   "outputs": [],
   "source": [
    "def V(X, g=lambda x: x):\n",
    "    x_set, f = X\n",
    "    mean = E(X, g)\n",
    "    return np.sum(\n",
    "        [(g(x_k)-mean)**2 * f(x_k) for x_k in x_set]\n",
    "    )"
   ]
  },
  {
   "cell_type": "code",
   "execution_count": 131,
   "metadata": {},
   "outputs": [
    {
     "data": {
      "text/plain": [
       "2.222"
      ]
     },
     "execution_count": 131,
     "metadata": {},
     "output_type": "execute_result"
    }
   ],
   "source": [
    "V(X)"
   ]
  },
  {
   "cell_type": "code",
   "execution_count": 132,
   "metadata": {},
   "outputs": [
    {
     "data": {
      "text/plain": [
       "8.889"
      ]
     },
     "execution_count": 132,
     "metadata": {},
     "output_type": "execute_result"
    }
   ],
   "source": [
    "V(X, lambda x: 2*x + 3)"
   ]
  },
  {
   "cell_type": "markdown",
   "metadata": {},
   "source": [
    "#### 分散の公式\n",
    "\n",
    "a, bを実数、$X$を確率変数として、\n",
    "\n",
    "$$\n",
    "V(aX + b) = a^2V(X)\n",
    "$$\n",
    "\n",
    "が成り立つ。"
   ]
  },
  {
   "cell_type": "code",
   "execution_count": 133,
   "metadata": {},
   "outputs": [
    {
     "data": {
      "text/plain": [
       "8.889"
      ]
     },
     "execution_count": 133,
     "metadata": {},
     "output_type": "execute_result"
    }
   ],
   "source": [
    "# V(2X + 3) = 2^2V(X)\n",
    "2**2 * V(X)"
   ]
  },
  {
   "cell_type": "markdown",
   "metadata": {},
   "source": [
    "## 2次元の離散型確率変数\n",
    "\n",
    "### 5.2.1 2次元の離散型確率変数の定義\n",
    "\n",
    "#### 同時確率分布（join probability distribution）, 同時分布\n",
    "\n",
    "- 2次元の確率変数では、\n",
    "  - 1次元の確率変数を2つ同時に扱い$(X, Y)$と表記する。\n",
    "- 2次元の確率変数の振る舞いは、\n",
    "  - 「取りうる値の組み合わせの集合」と「その確率」に\n",
    "- よって定まる。\n",
    "\n",
    "- $(X, Y)$のとりうる値の組み合わせの集合を、\n",
    "  - $\\{(x_i, y_j)~|~i = 1, 2, ...; j = 1, 2, ...\\}$\n",
    "- とすると、\n",
    "- 確率はそれぞれのとりうる値の組み合わせについて定義できて、\n",
    "- 確率変数$X$が$x_i$、確率変数$Y$が$y_j$をとる確率は、\n",
    "  - $P(X = x_i, Y = y_j) = p_{ij}~~(i = 1, 2, ...; j = 1, 2, ...)$\n",
    "- と表すことができる。"
   ]
  },
  {
   "cell_type": "code",
   "execution_count": 134,
   "metadata": {},
   "outputs": [
    {
     "data": {
      "text/plain": [
       "array([['1/441', '0', '0', '0', '0', '0'],\n",
       "       ['2/441', '2/441', '0', '0', '0', '0'],\n",
       "       ['3/441', '4/441', '3/441', '0', '0', '0'],\n",
       "       ['4/441', '6/441', '6/441', '4/441', '0', '0'],\n",
       "       ['5/441', '8/441', '9/441', '8/441', '5/441', '0'],\n",
       "       ['6/441', '10/441', '12/441', '12/441', '10/441', '6/441'],\n",
       "       ['0', '12/441', '15/441', '16/441', '15/441', '12/441'],\n",
       "       ['0', '0', '18/441', '20/441', '20/441', '18/441'],\n",
       "       ['0', '0', '0', '24/441', '25/441', '24/441'],\n",
       "       ['0', '0', '0', '0', '30/441', '30/441'],\n",
       "       ['0', '0', '0', '0', '0', '36/441']], dtype='<U21')"
      ]
     },
     "execution_count": 134,
     "metadata": {},
     "output_type": "execute_result"
    }
   ],
   "source": [
    "# 表5.2: いかさまサイコロの同時確率分布\n",
    "x_set = np.arange(2, 13)\n",
    "y_set = np.arange(1, 7)\n",
    "\n",
    "def f_XY(x, y):\n",
    "    \"\"\"いかさまサイコロの同時確率分布を作成\"\"\"\n",
    "    if 1 <= y <= 6 and 1 <= (x - y) <= 6:\n",
    "        return f\"{y * (x - y)}/441\"\n",
    "    else:\n",
    "        return 0\n",
    "\n",
    "\n",
    "prob = np.array(\n",
    "    [[f_XY(x_i, y_j) for y_j in y_set]\n",
    "     for x_i in x_set]\n",
    ")\n",
    "prob\n"
   ]
  },
  {
   "cell_type": "markdown",
   "metadata": {},
   "source": [
    "#### 同時確率関数（join probability function）\n",
    "\n",
    "- 2次元確率分布の確率は、$x$と$y$を引数にとる関数とみることができる。\n",
    "- $P(X = x, Y = y) = f_{XY}(x, y)$となる、関数$f_{XY}(x, y)$を、\n",
    "- 「同時確率関数」という。"
   ]
  },
  {
   "cell_type": "markdown",
   "metadata": {},
   "source": [
    "いかさまサイコロの同時確率関数は、\n",
    "\n",
    "$$\n",
    "f_{XY}(x, y) = \n",
    "\\begin{cases}\n",
    "    y(x - y)/441~~~(y \\in \\{1, 2, 3, 4, 5, 6\\} & \\text{かつ} & x-y \\in \\{1, 2, 3, 4, 5, 6\\})\n",
    "    \\\\\n",
    "    0~~~(otherwise)\n",
    "\\end{cases}\n",
    "$$\n",
    "\n",
    "となる。"
   ]
  },
  {
   "cell_type": "markdown",
   "metadata": {},
   "source": [
    "#### 確率の性質\n",
    "\n",
    "2次元の離散確率変数も1次元のときと同様に、\n",
    "\n",
    "- 確率は必ず0以上\n",
    "- 全確率が1\n",
    "\n",
    "でなければならない。\n",
    "\n",
    "$$\n",
    "\\begin{align}\n",
    "    f_{XY}(x_i, y_j) \\geq 0 \\\\\n",
    "    \\sum_i \\sum_j f_{XY}(x_i, y_j) = 1\n",
    "\\end{align}\n",
    "$$"
   ]
  },
  {
   "cell_type": "code",
   "execution_count": 135,
   "metadata": {},
   "outputs": [],
   "source": [
    "# XとYのとりうる値の集合を定義する\n",
    "x_set = np.arange(2, 13)\n",
    "y_set = np.arange(1, 7)\n"
   ]
  },
  {
   "cell_type": "code",
   "execution_count": 136,
   "metadata": {},
   "outputs": [],
   "source": [
    "# 同時確率関数を定義する\n",
    "def f_XY(x, y):\n",
    "    \"\"\"いかさまサイコロの同時確率分布を作成\"\"\"\n",
    "    if 1 <= y <= 6 and 1 <= (x - y) <= 6:\n",
    "        return y * (x - y)/441\n",
    "    else:\n",
    "        return 0\n"
   ]
  },
  {
   "cell_type": "code",
   "execution_count": 137,
   "metadata": {},
   "outputs": [],
   "source": [
    "# 確率変数(X, Y)の振る舞いは\n",
    "# x_setとy_setとf_XYよって、定義される。\n",
    "XY = [x_set, y_set, f_XY]"
   ]
  },
  {
   "cell_type": "code",
   "execution_count": 138,
   "metadata": {},
   "outputs": [
    {
     "name": "stderr",
     "output_type": "stream",
     "text": [
      "/var/folders/cm/w7d5zwgj0h3gp9q0lvvq4yrr0000gn/T/ipykernel_1206/3695453461.py:8: MatplotlibDeprecationWarning: Auto-removal of grids by pcolor() and pcolormesh() is deprecated since 3.5 and will be removed two minor releases later; please call grid(False) first.\n",
      "  c = ax.pcolor(prob)\n",
      "/var/folders/cm/w7d5zwgj0h3gp9q0lvvq4yrr0000gn/T/ipykernel_1206/3695453461.py:17: MatplotlibDeprecationWarning: Auto-removal of grids by pcolor() and pcolormesh() is deprecated since 3.5 and will be removed two minor releases later; please call grid(False) first.\n",
      "  fig.colorbar(c, ax=ax)\n"
     ]
    },
    {
     "data": {
      "image/png": "[encoded data removed]",
      "text/plain": [
       "<Figure size 720x576 with 2 Axes>"
      ]
     },
     "metadata": {
      "needs_background": "light"
     },
     "output_type": "display_data"
    }
   ],
   "source": [
    "# 確率分布をヒートマップに図示する\n",
    "prob = np.array(\n",
    "    [[f_XY(x_i, y_j) for y_j in y_set]for x_i in x_set]\n",
    ")\n",
    "\n",
    "fig = plt.figure(figsize=(10, 8))\n",
    "ax = fig.add_subplot(111)\n",
    "c = ax.pcolor(prob)\n",
    "ax.set_xticks(np.arange(prob.shape[1]) + 0.5, minor=False)\n",
    "ax.set_yticks(np.arange(prob.shape[0]) + 0.5, minor=False)\n",
    "ax.set_xticklabels(np.arange(1, 7), minor=False)\n",
    "ax.set_yticklabels(np.arange(2, 13), minor=False)\n",
    "# y軸を上から下へ昇順（小 -> 大）に設定\n",
    "ax.invert_yaxis()\n",
    "# x軸の目盛りをグラフ上部に表示\n",
    "ax.xaxis.tick_top()\n",
    "fig.colorbar(c, ax=ax)\n",
    "\n",
    "plt.show()\n"
   ]
  },
  {
   "cell_type": "code",
   "execution_count": 139,
   "metadata": {},
   "outputs": [
    {
     "data": {
      "text/plain": [
       "True"
      ]
     },
     "execution_count": 139,
     "metadata": {},
     "output_type": "execute_result"
    }
   ],
   "source": [
    "# 確率の性質「確率が必ず0以上」の確認\n",
    "np.all(prob >= 0)"
   ]
  },
  {
   "cell_type": "code",
   "execution_count": 140,
   "metadata": {},
   "outputs": [
    {
     "data": {
      "text/plain": [
       "1.000"
      ]
     },
     "execution_count": 140,
     "metadata": {},
     "output_type": "execute_result"
    }
   ],
   "source": [
    "# 確率の性質「全確率が1」の確認\n",
    "np.sum(prob)"
   ]
  },
  {
   "cell_type": "markdown",
   "metadata": {},
   "source": [
    "#### 周辺確率分布（marginal probability distribution）、周辺分布\n",
    "\n",
    "- 確率変数$(X, Y)$は、同時確率関数$f_{XY}(x, y)$によって、同時に定義された。\n",
    "- 「確率変数$X$のみの振る舞い」、すなわち「確率変数$X$」の「確率関数$f_X(x)$」を知りたい場合、\n",
    "\n",
    "「確率変数$X$」の「確率関数$f_X(x)$」は、\n",
    "\n",
    "「同時確率関数$f_{XY}$」に$Y$のとりうる値すべてを代入して足し合わせる\n",
    "\n",
    "$$\n",
    "f_X(x) = \\sum_k f_{XY}(x, y_k)\n",
    "$$\n",
    "\n",
    "によって求められる。\n"
   ]
  },
  {
   "cell_type": "code",
   "execution_count": 141,
   "metadata": {},
   "outputs": [],
   "source": [
    "# 図 5.3: 周辺分布\n",
    "# いかさまサイコロのXの周辺分布\n",
    "def f_X(x):\n",
    "    return np.sum(f_XY(x, y_k) for y_k in y_set)\n",
    "    \n",
    "# いかさまサイコロのYの周辺分布\n",
    "def f_Y(y):\n",
    "    return np.sum(f_XY(x_k, y) for x_k in x_set)"
   ]
  },
  {
   "cell_type": "code",
   "execution_count": 142,
   "metadata": {},
   "outputs": [],
   "source": [
    "# XとYの振る舞いをそれぞれ独立に考え、定義する\n",
    "X = [x_set, f_X]\n",
    "Y = [y_set, f_Y]"
   ]
  },
  {
   "cell_type": "code",
   "execution_count": 143,
   "metadata": {},
   "outputs": [
    {
     "name": "stderr",
     "output_type": "stream",
     "text": [
      "/var/folders/cm/w7d5zwgj0h3gp9q0lvvq4yrr0000gn/T/ipykernel_1206/1666940279.py:4: DeprecationWarning: Calling np.sum(generator) is deprecated, and in the future will give a different result. Use np.sum(np.fromiter(generator)) or the python sum builtin instead.\n",
      "  return np.sum(f_XY(x, y_k) for y_k in y_set)\n",
      "/var/folders/cm/w7d5zwgj0h3gp9q0lvvq4yrr0000gn/T/ipykernel_1206/1666940279.py:8: DeprecationWarning: Calling np.sum(generator) is deprecated, and in the future will give a different result. Use np.sum(np.fromiter(generator)) or the python sum builtin instead.\n",
      "  return np.sum(f_XY(x_k, y) for x_k in x_set)\n"
     ]
    },
    {
     "data": {
      "image/png": "[encoded data removed]",
      "text/plain": [
       "<Figure size 864x288 with 2 Axes>"
      ]
     },
     "metadata": {
      "needs_background": "light"
     },
     "output_type": "display_data"
    }
   ],
   "source": [
    "# XとY、それぞれの周辺分布を図示する\n",
    "prob_x = np.array([f_X(x_k) for x_k in x_set])\n",
    "prob_y = np.array([f_Y(y_k) for y_k in y_set])\n",
    "\n",
    "fig = plt.figure(figsize=(12, 4))\n",
    "ax1 = fig.add_subplot(121)\n",
    "ax2 = fig.add_subplot(122)\n",
    "\n",
    "ax1.bar(x_set, prob_x)\n",
    "ax1.set_title('Xの周辺分布')\n",
    "ax1.set_xlabel('Xのとりうる値')\n",
    "ax1.set_ylabel('確率')\n",
    "ax1.set_xticks(x_set)\n",
    "\n",
    "ax2.bar(y_set, prob_y)\n",
    "ax2.set_title('Yの周辺分布')\n",
    "ax2.set_xlabel('Yのとりうる値')\n",
    "ax2.set_ylabel('確率')\n",
    "ax2.set_xticks(y_set)\n",
    "\n",
    "plt.show()"
   ]
  },
  {
   "cell_type": "markdown",
   "metadata": {},
   "source": [
    "### 5.2.2 2次元の離散確率変数の指標\n",
    "\n",
    "#### 期待値\n",
    "\n",
    "期待値は1次元のときとほぼ同じで、\n",
    "\n",
    "$X$の期待値であれば$x-i$と確率の積の和で求めることができる。\n",
    "\n",
    "$$\n",
    "\\mu_X = E(X) = \\sum_i \\sum_j x_i f_{XY} (x_i, y_i)\n",
    "$$\n"
   ]
  },
  {
   "cell_type": "code",
   "execution_count": 144,
   "metadata": {},
   "outputs": [
    {
     "data": {
      "text/plain": [
       "8.667"
      ]
     },
     "execution_count": 144,
     "metadata": {},
     "output_type": "execute_result"
    }
   ],
   "source": [
    "np.sum([x_i * f_XY(x_i, y_j) for x_i in x_set for y_j in y_set])"
   ]
  },
  {
   "cell_type": "markdown",
   "metadata": {},
   "source": [
    "\n",
    "一般に、$X, Y$の関数$g(X, Y)$の期待値を以下のように定義できる。\n",
    "\n",
    "$$\n",
    "E\\big( g(X, Y) \\big) = \\sum_i \\sum_j g(x_i, y_j) f_{XY}(x_i, y_j)\n",
    "$$"
   ]
  },
  {
   "cell_type": "code",
   "execution_count": 145,
   "metadata": {},
   "outputs": [],
   "source": [
    "# X, Yの関数g(X, Y)の期待値の関数\n",
    "def E(XY, g):\n",
    "    \"\"\"X, Yの関数g(X, Y)の期待値\"\"\"\n",
    "    x_set, y_set, f_XY = XY\n",
    "    return np.sum(\n",
    "        [g(x_i, y_j) * f_XY(x_i, y_j) \n",
    "        for x_i in x_set for y_j in y_set]\n",
    "    )"
   ]
  },
  {
   "cell_type": "code",
   "execution_count": 146,
   "metadata": {},
   "outputs": [
    {
     "data": {
      "text/plain": [
       "8.667"
      ]
     },
     "execution_count": 146,
     "metadata": {},
     "output_type": "execute_result"
    }
   ],
   "source": [
    "# Xの期待値\n",
    "mean_X = E(XY, lambda x, y: x)\n",
    "mean_X"
   ]
  },
  {
   "cell_type": "code",
   "execution_count": 147,
   "metadata": {},
   "outputs": [
    {
     "data": {
      "text/plain": [
       "4.333"
      ]
     },
     "execution_count": 147,
     "metadata": {},
     "output_type": "execute_result"
    }
   ],
   "source": [
    "# Yの期待値\n",
    "mean_Y = E(XY, lambda x, y: y)\n",
    "mean_Y\n"
   ]
  },
  {
   "cell_type": "markdown",
   "metadata": {},
   "source": [
    "#### 期待値の線形性\n",
    "\n",
    "a, bを実数、$X, Y$を確率変数としたとき\n",
    "\n",
    "$$\n",
    "E(aX + bY) = aE(X) + bE(Y)\n",
    "$$\n",
    "\n",
    "が成り立つ。"
   ]
  },
  {
   "cell_type": "code",
   "execution_count": 148,
   "metadata": {},
   "outputs": [],
   "source": [
    "a, b = 2, 3"
   ]
  },
  {
   "cell_type": "code",
   "execution_count": 149,
   "metadata": {},
   "outputs": [
    {
     "data": {
      "text/plain": [
       "30.333"
      ]
     },
     "execution_count": 149,
     "metadata": {},
     "output_type": "execute_result"
    }
   ],
   "source": [
    "E(XY, lambda x, y: a*x + b*y)"
   ]
  },
  {
   "cell_type": "code",
   "execution_count": 150,
   "metadata": {},
   "outputs": [
    {
     "data": {
      "text/plain": [
       "30.333"
      ]
     },
     "execution_count": 150,
     "metadata": {},
     "output_type": "execute_result"
    }
   ],
   "source": [
    "a * mean_X + b * mean_Y"
   ]
  },
  {
   "cell_type": "markdown",
   "metadata": {},
   "source": [
    "#### 分散\n",
    "\n",
    "分散も1次元のときとほぼ同じで、\n",
    "\n",
    "$X$のぶんさんであれば$X$についての偏差の二乗の期待値によってもとめることができる。\n",
    "\n",
    "$$\n",
    "\\sigma_X^2 = V(X) = \\sum_i \\sum_j (x_i - \\mu_X)^2 f_{XY}(x_i, y_j)\n",
    "$$"
   ]
  },
  {
   "cell_type": "code",
   "execution_count": 151,
   "metadata": {},
   "outputs": [
    {
     "data": {
      "text/plain": [
       "4.444"
      ]
     },
     "execution_count": 151,
     "metadata": {},
     "output_type": "execute_result"
    }
   ],
   "source": [
    "np.sum(\n",
    "    [(x_i - mean_X)**2 * f_XY(x_i, y_j) \n",
    "    for x_i in x_set for y_j in y_set]\n",
    ")"
   ]
  },
  {
   "cell_type": "markdown",
   "metadata": {},
   "source": [
    "一般に、$X, Y$の関数$g(X, Y)$の分散を、以下のように求めることができる。\n",
    "\n",
    "$$\n",
    "V\\big( g(X, Y) \\big) = \\sum_i \\sum_j \\big(~g(x_i, y_j) - E(g(X, Y))~\\big)^2 f_{XY}(x_i, y_j)\n",
    "$$"
   ]
  },
  {
   "cell_type": "code",
   "execution_count": 152,
   "metadata": {},
   "outputs": [],
   "source": [
    "def V(XY, g):\n",
    "    \"\"\"X, Yの関数g(X, Y)の分散の関数\"\"\"\n",
    "    x_set, y_set, f_XY = XY\n",
    "    mean = E(XY, g)\n",
    "    return np.sum(\n",
    "        [(g(x_i, y_j) - mean)**2 * f_XY(x_i, y_j)\n",
    "        for x_i in x_set for y_j in y_set]\n",
    "    )\n"
   ]
  },
  {
   "cell_type": "code",
   "execution_count": 153,
   "metadata": {},
   "outputs": [
    {
     "data": {
      "text/plain": [
       "4.444"
      ]
     },
     "execution_count": 153,
     "metadata": {},
     "output_type": "execute_result"
    }
   ],
   "source": [
    "var_X = V(XY, g=lambda x, y: x)\n",
    "var_X"
   ]
  },
  {
   "cell_type": "code",
   "execution_count": 154,
   "metadata": {},
   "outputs": [
    {
     "data": {
      "text/plain": [
       "2.222"
      ]
     },
     "execution_count": 154,
     "metadata": {},
     "output_type": "execute_result"
    }
   ],
   "source": [
    "var_Y = V(XY, g=lambda x, y: y)\n",
    "var_Y"
   ]
  },
  {
   "cell_type": "markdown",
   "metadata": {},
   "source": [
    "#### 共分散\n",
    "\n",
    "共分散を使うことで、2つの確率変数$X, Y$の間にどの程度相関があるかわかる。\n",
    "\n",
    "$$\n",
    "\\sigma_{XY} = Cov(X, Y) = \\sum_i \\sum_j (x_i - \\mu_X)(y_j - \\mu_Y) f_{XY}(x_i, y_i)\n",
    "$$"
   ]
  },
  {
   "cell_type": "code",
   "execution_count": 159,
   "metadata": {},
   "outputs": [],
   "source": [
    "def Cov(XY):\n",
    "    \"\"\"X, Yの関数g(X, Y)の共分散の関数\"\"\"\n",
    "    x_set, y_set, f_XY = XY\n",
    "    mean_X = E(XY, lambda x, y: x)\n",
    "    mean_Y = E(XY, lambda x, y: y)\n",
    "    return np.sum(\n",
    "        [(x_i - mean_X) * (y_j - mean_Y) * f_XY(x_i, y_j)\n",
    "        for x_i in x_set for y_j in y_set]\n",
    "    )\n"
   ]
  },
  {
   "cell_type": "code",
   "execution_count": 160,
   "metadata": {},
   "outputs": [
    {
     "data": {
      "text/plain": [
       "2.222"
      ]
     },
     "execution_count": 160,
     "metadata": {},
     "output_type": "execute_result"
    }
   ],
   "source": [
    "cov_xy = Cov(XY)\n",
    "cov_xy"
   ]
  },
  {
   "cell_type": "markdown",
   "metadata": {},
   "source": [
    "#### 分散と共分散の公式\n",
    "\n",
    "a, bを実数、$X, Y$を確率変数としたとき、\n",
    "\n",
    "$$\n",
    "V(aX + bY) = a^2 V(X) + b^2 V(Y) + 2abCov(X, Y)\n",
    "$$\n",
    "\n",
    "が成り立つ。"
   ]
  },
  {
   "cell_type": "code",
   "execution_count": 161,
   "metadata": {},
   "outputs": [
    {
     "data": {
      "text/plain": [
       "64.444"
      ]
     },
     "execution_count": 161,
     "metadata": {},
     "output_type": "execute_result"
    }
   ],
   "source": [
    "# V(2X + 3Y) = 4V(X) + 9V(Y) + 12Cov(X, Y)\n",
    "V(XY, lambda x, y: a*x + b*y)"
   ]
  },
  {
   "cell_type": "code",
   "execution_count": 162,
   "metadata": {},
   "outputs": [
    {
     "data": {
      "text/plain": [
       "64.444"
      ]
     },
     "execution_count": 162,
     "metadata": {},
     "output_type": "execute_result"
    }
   ],
   "source": [
    "a**2 * var_X + b**2 * var_Y + 2*a*b * cov_xy"
   ]
  },
  {
   "cell_type": "markdown",
   "metadata": {},
   "source": [
    "#### 相関係数\n",
    "\n",
    "共分散をそれぞれの標準偏差で割ることで求まる。\n",
    "\n",
    "記号は$\\rho$（ロー）が使われる。\n",
    "\n",
    "$$\n",
    "\\rho_{XY} = \\rho (X, Y) = \\dfrac{\\sigma_{XY}}{\\sigma_X \\sigma_Y}\n",
    "$$"
   ]
  },
  {
   "cell_type": "code",
   "execution_count": 163,
   "metadata": {},
   "outputs": [
    {
     "data": {
      "text/plain": [
       "0.707"
      ]
     },
     "execution_count": 163,
     "metadata": {},
     "output_type": "execute_result"
    }
   ],
   "source": [
    "cov_xy / np.sqrt(var_X * var_Y)"
   ]
  }
 ],
 "metadata": {
  "interpreter": {
   "hash": "18aa02ce14a85bb7f4615a92049f5200f59992eb58b8bc2715593121788c94f0"
  },
  "kernelspec": {
   "display_name": "Python 3.9.12 ('sap_env': venv)",
   "language": "python",
   "name": "python3"
  },
  "language_info": {
   "codemirror_mode": {
    "name": "ipython",
    "version": 3
   },
   "file_extension": ".py",
   "mimetype": "text/x-python",
   "name": "python",
   "nbconvert_exporter": "python",
   "pygments_lexer": "ipython3",
   "version": "3.9.12"
  },
  "orig_nbformat": 4
 },
 "nbformat": 4,
 "nbformat_minor": 2
}
