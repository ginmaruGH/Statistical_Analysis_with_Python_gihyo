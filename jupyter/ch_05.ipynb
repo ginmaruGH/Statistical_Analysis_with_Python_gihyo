{
 "cells": [
  {
   "cell_type": "markdown",
   "metadata": {},
   "source": [
    "# Chapter05 離散型確率変数"
   ]
  },
  {
   "cell_type": "code",
   "execution_count": 40,
   "metadata": {},
   "outputs": [],
   "source": [
    "# ライブラリーの準備\n",
    "import numpy as np\n",
    "import matplotlib.pyplot as plt\n",
    "from matplotlib import rcParams\n",
    "\n",
    "plt.style.use('seaborn')\n",
    "rcParams['font.family'] = 'IPAexgothic'\n",
    "%precision 3\n",
    "%matplotlib inline\n"
   ]
  },
  {
   "cell_type": "markdown",
   "metadata": {},
   "source": [
    "## 5.1 １次元の離散型確率変数\n",
    "\n",
    "### 5.1.1 １次元の離散型確率変数の定義\n",
    "\n",
    "- 確率変数は、\n",
    "  - 「とりうる値」と「その値が出る確率」によって定義される\n",
    "- 離散型確率変数の場合、\n",
    "  - 確率変数 $X$ のとりうる値の集合を $\\{x_1, x_2, ...\\}$ として、\n",
    "  - 確率変数 $X$ が $x_k$ という値をとる確率を\n",
    "  - $ P(X = x_k) = p_k~~~(k = 1, 2, ...) $\n",
    "- と定義できる。\n",
    "- このとき「確率」は、「とりうる値 $x$ を引数にとる関数」とみることもできるため、\n",
    "  - $ f(x) = P(X = x) $\n",
    "  - となる「関数 $f(x)$ 」と考えることができる。\n",
    "  - これを、\n",
    "    - 「確率質量関数（probability mass function, PMF）」または、\n",
    "    - 「確率関数（probability function）」\n",
    "  - と呼ぶ。\n",
    "- 確率分布とは、\n",
    "  - 「とりうる値」と「その確率」の具体的な対応を表したもの\n",
    "  - 「確率変数の確率分布」が決まることで、「その確率変数の振る舞い」が定まることになる。"
   ]
  },
  {
   "cell_type": "markdown",
   "metadata": {},
   "source": [
    "#### いかさまサイコロの確率分布の作成"
   ]
  },
  {
   "cell_type": "code",
   "execution_count": 41,
   "metadata": {},
   "outputs": [],
   "source": [
    "# とりうる値の集合 x_set\n",
    "x_set = np.array([1, 2, 3, 4, 5, 6])\n"
   ]
  },
  {
   "cell_type": "markdown",
   "metadata": {},
   "source": [
    "いかさまサイコロの確率関数\n",
    "\n",
    "$$\n",
    "f(x) = \\begin{cases}\n",
    "          x/21~~~(x \\in \\{1,2,3,4,5,6\\})\n",
    "          \\\\\n",
    "          0~~~(\\text{otherwise})\n",
    "       \\end{cases}\n",
    "$$"
   ]
  },
  {
   "cell_type": "code",
   "execution_count": 42,
   "metadata": {},
   "outputs": [],
   "source": [
    "# いかさまサイコロの確率関数\n",
    "def f(x):\n",
    "    \"\"\"いかさまサイコロの確率関数\"\"\"\n",
    "    if x in x_set:\n",
    "        return x /21\n",
    "    else:\n",
    "        return 0"
   ]
  },
  {
   "cell_type": "markdown",
   "metadata": {},
   "source": [
    "「とりうる値の集合」と「確率関数」のセットで、「確率分布」が決まる。\n",
    "\n",
    "これによって、「確率変数 $X$ の振る舞い」が決まる。"
   ]
  },
  {
   "cell_type": "code",
   "execution_count": 43,
   "metadata": {},
   "outputs": [
    {
     "data": {
      "text/plain": [
       "[array([1, 2, 3, 4, 5, 6]), <function __main__.f(x)>]"
      ]
     },
     "execution_count": 43,
     "metadata": {},
     "output_type": "execute_result"
    }
   ],
   "source": [
    "# 確率変数X の定義\n",
    "X = [x_set, f]\n",
    "X"
   ]
  },
  {
   "cell_type": "code",
   "execution_count": 44,
   "metadata": {},
   "outputs": [
    {
     "data": {
      "text/plain": [
       "{1: 0.048, 2: 0.095, 3: 0.143, 4: 0.190, 5: 0.238, 6: 0.286}"
      ]
     },
     "execution_count": 44,
     "metadata": {},
     "output_type": "execute_result"
    }
   ],
   "source": [
    "# 確率p_kを求める\n",
    "prob = np.array([f(x_k) for x_k in x_set])\n",
    "\n",
    "# x_kとp_kの対応を辞書型にして表示する\n",
    "dict(zip(x_set, prob))"
   ]
  },
  {
   "cell_type": "code",
   "execution_count": 45,
   "metadata": {},
   "outputs": [
    {
     "data": {
      "image/png": "[encoded data removed]",
      "text/plain": [
       "<Figure size 720x432 with 1 Axes>"
      ]
     },
     "metadata": {
      "needs_background": "light"
     },
     "output_type": "display_data"
    }
   ],
   "source": [
    "# 「とりうる値」と「確率」を棒グラフに図示する\n",
    "fig = plt.figure(figsize=(10, 6))\n",
    "ax = fig.add_subplot(111)\n",
    "ax.bar(x_set, prob)\n",
    "ax.set_xlabel('とりうる値')\n",
    "ax.set_ylabel('確率')\n",
    "\n",
    "plt.show()"
   ]
  },
  {
   "cell_type": "markdown",
   "metadata": {},
   "source": [
    "#### 確率の性質\n",
    "\n",
    "- 確率は絶対に0以上\n",
    "- すべての確率を足すと、1にならなければならない\n",
    "\n",
    "$$\n",
    "\\begin{align}\n",
    "    f(x_k) \\geq 0 \\\\\n",
    "    \\sum_{k} f(x_k) = 1\n",
    "\\end{align}\n",
    "$$"
   ]
  },
  {
   "cell_type": "code",
   "execution_count": 46,
   "metadata": {},
   "outputs": [
    {
     "data": {
      "text/plain": [
       "True"
      ]
     },
     "execution_count": 46,
     "metadata": {},
     "output_type": "execute_result"
    }
   ],
   "source": [
    "# 確率がすべて0以上であるかの確認 np.all()関数\n",
    "np.all(prob >= 0)"
   ]
  },
  {
   "cell_type": "code",
   "execution_count": 47,
   "metadata": {},
   "outputs": [
    {
     "data": {
      "text/plain": [
       "1.000"
      ]
     },
     "execution_count": 47,
     "metadata": {},
     "output_type": "execute_result"
    }
   ],
   "source": [
    "# 確率の総和の確認\n",
    "np.sum(prob)"
   ]
  },
  {
   "cell_type": "markdown",
   "metadata": {},
   "source": [
    "#### 累積分布関数（cumulative distribution function, CDF）\n",
    "\n",
    "- 「確率関数」\n",
    "  - 「確率変数$X$」が、「$x$になるときの確率」を返す関数\n",
    "- 「累積分布関数」\n",
    "  - 「確率変数$X$」が、「$x$以下になるときの確率」を返す関数\n",
    "  - サイコロの出目が「3」以下になる確率など\n",
    "\n",
    "$$\n",
    "F(x) = P(X \\leq x) = \\sum_{x_k \\leq x} f(x_k)\n",
    "$$"
   ]
  },
  {
   "cell_type": "code",
   "execution_count": 48,
   "metadata": {},
   "outputs": [],
   "source": [
    "# 累積分布関数を作成する\n",
    "def F(x):\n",
    "    \"\"\"いかさまサイコロの累積分布関数\"\"\"\n",
    "    return np.sum([f(x_k) for x_k in x_set if x_k <= x])"
   ]
  },
  {
   "cell_type": "code",
   "execution_count": 49,
   "metadata": {},
   "outputs": [
    {
     "data": {
      "text/plain": [
       "0.286"
      ]
     },
     "execution_count": 49,
     "metadata": {},
     "output_type": "execute_result"
    }
   ],
   "source": [
    "# サイコロの出目が「3」以下になる確率\n",
    "F(3)"
   ]
  },
  {
   "cell_type": "markdown",
   "metadata": {},
   "source": [
    "#### 確率変数の変換\n",
    "\n",
    "- 確率変数$X$に、2をかけて3を足した、$2X+3$は、\n",
    "- 確率変数$2X+3$になる"
   ]
  },
  {
   "cell_type": "code",
   "execution_count": 50,
   "metadata": {},
   "outputs": [
    {
     "data": {
      "text/plain": [
       "{5: 0.048, 7: 0.095, 9: 0.143, 11: 0.190, 13: 0.238, 15: 0.286}"
      ]
     },
     "execution_count": 50,
     "metadata": {},
     "output_type": "execute_result"
    }
   ],
   "source": [
    "# 2X+3を確率変数Yとし、Yの確率分布を作成する\n",
    "y_set = np.array([2 * x_k + 3 for x_k in x_set])\n",
    "prob = np.array([f(x_k) for x_k in x_set])\n",
    "dict(zip(y_set, prob))"
   ]
  },
  {
   "cell_type": "markdown",
   "metadata": {},
   "source": [
    "### 5.1.2 １次元の離散型確率変数の指標\n",
    "\n",
    "#### 期待値（expected value）\n",
    "\n",
    "- 期待値\n",
    "  - 確率変数の平均\n",
    "  - $E(X)$\n",
    "    - 期待値の演算としての意味合いが強い場合に用いる\n",
    "  - $\\mu$\n",
    "    - 期待値の値そのものに関心がある場合に用いる\n",
    "- 離散型確率変数の期待値（平均）は、\n",
    "  - 確率変数の「とりうる値とその確率の積」の「総和」\n",
    "  - 確率変数を無限回試行して得られた実現値の平均に一致する\n",
    "\n",
    "$$\n",
    "E(X) = \\sum_{k} x_k f(x_k)\n",
    "$$"
   ]
  },
  {
   "cell_type": "code",
   "execution_count": 51,
   "metadata": {},
   "outputs": [
    {
     "data": {
      "text/plain": [
       "4.333"
      ]
     },
     "execution_count": 51,
     "metadata": {},
     "output_type": "execute_result"
    }
   ],
   "source": [
    "# いかさまサイコロの期待値を定義どおりに計算する\n",
    "np.sum([x_k * f(x_k) for x_k in x_set])"
   ]
  },
  {
   "cell_type": "code",
   "execution_count": 52,
   "metadata": {},
   "outputs": [
    {
     "data": {
      "text/plain": [
       "4.334"
      ]
     },
     "execution_count": 52,
     "metadata": {},
     "output_type": "execute_result"
    }
   ],
   "source": [
    "# いかさまサイコロを100万（=10^6）回試行した実現値の平均を求める\n",
    "sample = np.random.choice(x_set, int(1e6), p=prob)\n",
    "np.mean(sample)"
   ]
  },
  {
   "cell_type": "markdown",
   "metadata": {},
   "source": [
    "確率変数$X$を、$2X+3$に変換した確率変数$Y$の期待値\n",
    "\n",
    "$$\n",
    "E(Y) = E(2X + 3) = \\sum_{k} (2x_k + 3)f(x_k)\n",
    "$$"
   ]
  },
  {
   "cell_type": "markdown",
   "metadata": {},
   "source": [
    "#### 離散型確率変数の期待値\n",
    "\n",
    "より一般的に、確率変数$X$の関数$g(X)$の期待値が定義できる。\n",
    "\n",
    "$$\n",
    "E(g(X)) = \\sum_{k} g(x_k)f(x_k)\n",
    "$$\n",
    "\n",
    "引数$g$が、「確率変数に対する変換の関数」になっている。"
   ]
  },
  {
   "cell_type": "code",
   "execution_count": 53,
   "metadata": {},
   "outputs": [],
   "source": [
    "# 期待値の関数を実装する\n",
    "def E(X, g=lambda x: x):\n",
    "    x_set, f = X\n",
    "    return np.sum([g(x_k) * f(x_k) for x_k in x_set])"
   ]
  },
  {
   "cell_type": "code",
   "execution_count": 54,
   "metadata": {},
   "outputs": [
    {
     "data": {
      "text/plain": [
       "4.333"
      ]
     },
     "execution_count": 54,
     "metadata": {},
     "output_type": "execute_result"
    }
   ],
   "source": [
    "E(X)"
   ]
  },
  {
   "cell_type": "code",
   "execution_count": 55,
   "metadata": {},
   "outputs": [
    {
     "data": {
      "text/plain": [
       "11.667"
      ]
     },
     "execution_count": 55,
     "metadata": {},
     "output_type": "execute_result"
    }
   ],
   "source": [
    "E(X, g=lambda x: 2*x + 3)"
   ]
  },
  {
   "cell_type": "markdown",
   "metadata": {},
   "source": [
    "期待値の線形性\n",
    "\n",
    "a, bを実数、$X$を確率変数としたとき\n",
    "\n",
    "$$\n",
    "E(aX + b) = aE(X) + b\n",
    "$$\n",
    "\n",
    "が成り立つ。"
   ]
  },
  {
   "cell_type": "code",
   "execution_count": 56,
   "metadata": {},
   "outputs": [
    {
     "data": {
      "text/plain": [
       "11.667"
      ]
     },
     "execution_count": 56,
     "metadata": {},
     "output_type": "execute_result"
    }
   ],
   "source": [
    "2 * E(X) + 3"
   ]
  },
  {
   "cell_type": "markdown",
   "metadata": {},
   "source": [
    "#### 分散\n",
    "\n",
    "- 偏差の二乗の期待値として定義される。\n",
    "- $V(X)$\n",
    "  - 分散の演算としての意味合いが強い場合に用いる\n",
    "- $\\sigma^2$\n",
    "  - 分散の値そのものに関心がある場合に用いる\n",
    "- $\\sigma$\n",
    "  - 確率変数$X$の標準偏差\n",
    "\n",
    "$$\n",
    "V(X) = \\sum_{k}(x_k - \\mu)^2f(x_k)\n",
    "$$"
   ]
  },
  {
   "cell_type": "code",
   "execution_count": 57,
   "metadata": {},
   "outputs": [
    {
     "data": {
      "text/plain": [
       "2.222"
      ]
     },
     "execution_count": 57,
     "metadata": {},
     "output_type": "execute_result"
    }
   ],
   "source": [
    "# いかさまサイコロの分散を求める\n",
    "mean = E(X)\n",
    "np.sum([(x_k-mean)**2 * f(x_k) for x_k in x_set])"
   ]
  },
  {
   "cell_type": "markdown",
   "metadata": {},
   "source": [
    "- 変換した確率変数についても分散を定義できる。\n",
    "- 確率変数$X$を、$2X + 3$と変換した確率変数$Y$を考える。\n",
    "- $\\mu = E(2X + 3)$\n",
    "\n",
    "$$\n",
    "V(2X + 3) = \\sum_{k}\\left((2x_k + 3) - \\mu \\right)^2 f(x_k)\n",
    "$$"
   ]
  },
  {
   "cell_type": "markdown",
   "metadata": {},
   "source": [
    "#### 離散型確率変数の分散\n",
    "\n",
    "より一般的に、確率変数$X$の関数$g(X)$の分散が定義できる。\n",
    "\n",
    "$$\n",
    "V(g(X)) = \\sum_{k} (g(x_k) - E(g(X)))^2 f(x_k)\n",
    "$$"
   ]
  },
  {
   "cell_type": "code",
   "execution_count": 58,
   "metadata": {},
   "outputs": [],
   "source": [
    "def V(X, g=lambda x: x):\n",
    "    x_set, f = X\n",
    "    mean = E(X, g)\n",
    "    return np.sum([(g(x_k)-mean)**2 * f(x_k) for x_k in x_set])"
   ]
  },
  {
   "cell_type": "code",
   "execution_count": 59,
   "metadata": {},
   "outputs": [
    {
     "data": {
      "text/plain": [
       "2.222"
      ]
     },
     "execution_count": 59,
     "metadata": {},
     "output_type": "execute_result"
    }
   ],
   "source": [
    "V(X)"
   ]
  },
  {
   "cell_type": "code",
   "execution_count": 60,
   "metadata": {},
   "outputs": [
    {
     "data": {
      "text/plain": [
       "8.889"
      ]
     },
     "execution_count": 60,
     "metadata": {},
     "output_type": "execute_result"
    }
   ],
   "source": [
    "V(X, lambda x: 2*x + 3)"
   ]
  },
  {
   "cell_type": "markdown",
   "metadata": {},
   "source": [
    "#### 分散の公式\n",
    "\n",
    "a, bを実数、$X$を確率変数として、\n",
    "\n",
    "$$\n",
    "V(aX + b) = a^2V(X)\n",
    "$$\n",
    "\n",
    "が成り立つ。"
   ]
  },
  {
   "cell_type": "code",
   "execution_count": 61,
   "metadata": {},
   "outputs": [
    {
     "data": {
      "text/plain": [
       "8.889"
      ]
     },
     "execution_count": 61,
     "metadata": {},
     "output_type": "execute_result"
    }
   ],
   "source": [
    "# V(2X + 3) = 2^2V(X)\n",
    "2**2 * V(X)"
   ]
  },
  {
   "cell_type": "markdown",
   "metadata": {},
   "source": [
    "## ２次元の離散型確率変数\n",
    "\n",
    "### 5.2.1 ２次元の離散型確率変数の定義\n",
    "\n",
    "#### 同時確率分布（join probability distribution）, 同時分布\n",
    "\n",
    "- ２次元の確率変数では、\n",
    "  - １次元の確率変数を２つ同時に扱い$(X, Y)$と表記する。\n",
    "- ２次元の確率変数の振る舞いは、\n",
    "  - 「取りうる値の組み合わせの集合」と「その確率」に\n",
    "- よって定まる。\n",
    "\n",
    "- $(X, Y)$のとりうる値の組み合わせの集合を、\n",
    "  - $\\{(x_i, y_j)~|~i = 1, 2, ...; j = 1, 2, ...\\}$\n",
    "- とすると、\n",
    "- 確率はそれぞれのとりうる値の組み合わせについて定義できて、\n",
    "- 確率変数$X$が$x_i$、確率変数$Y$が$y_j$をとる確率は、\n",
    "  - $P(X = x_i, Y = y_j) = p_{ij}~~(i = 1, 2, ...; j = 1, 2, ...)$\n",
    "- と表すことができる。"
   ]
  }
 ],
 "metadata": {
  "interpreter": {
   "hash": "18aa02ce14a85bb7f4615a92049f5200f59992eb58b8bc2715593121788c94f0"
  },
  "kernelspec": {
   "display_name": "Python 3.9.12 ('sap_env': venv)",
   "language": "python",
   "name": "python3"
  },
  "language_info": {
   "codemirror_mode": {
    "name": "ipython",
    "version": 3
   },
   "file_extension": ".py",
   "mimetype": "text/x-python",
   "name": "python",
   "nbconvert_exporter": "python",
   "pygments_lexer": "ipython3",
   "version": "3.9.12"
  },
  "orig_nbformat": 4
 },
 "nbformat": 4,
 "nbformat_minor": 2
}
