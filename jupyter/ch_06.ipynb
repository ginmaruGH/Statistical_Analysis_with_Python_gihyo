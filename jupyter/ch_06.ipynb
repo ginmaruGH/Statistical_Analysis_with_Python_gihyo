{
 "cells": [
  {
   "cell_type": "markdown",
   "metadata": {},
   "source": [
    "# Chapter06 代表的な離散型確率分布\n",
    "\n",
    "- 推測統計\n",
    "  - 限られた標本から母集団の平均や分散といった指標を推定することが目的\n",
    "- ノンパラメトリックな手法\n",
    "  - 母集団の確率分布の形状に何も仮定を置かず、指標を推定する方法\n",
    "- パラメトリックな手法\n",
    "  - 母集団の確率分布にある程度仮定を置いて、確率分布の期待値や分散を決める少数のパラメータのみを推定する方法"
   ]
  },
  {
   "cell_type": "code",
   "execution_count": 62,
   "metadata": {},
   "outputs": [],
   "source": [
    "# ライブラリーの準備\n",
    "import numpy as np\n",
    "import matplotlib.pyplot as plt\n",
    "from matplotlib import rcParams\n",
    "from scipy import stats\n",
    "from ipywidgets import interact\n",
    "\n",
    "plt.style.use('seaborn')\n",
    "rcParams['font.family'] = 'IPAexgothic'\n",
    "%precision 3\n",
    "%matplotlib inline\n"
   ]
  },
  {
   "cell_type": "code",
   "execution_count": 63,
   "metadata": {},
   "outputs": [],
   "source": [
    "# グラフの線の種類\n",
    "linestyles = ['-', '--', ':']\n",
    "\n",
    "# 関数の定義\n",
    "def E(x, g=lambda x: x):\n",
    "    \"\"\"期待値の関数\"\"\"\n",
    "    x_set, f = X\n",
    "    return np.sum(\n",
    "        [g(x_k) * f(x_k) \n",
    "        for x_k in x_set]\n",
    "    )\n",
    "\n",
    "def V(X, g=lambda x: x):\n",
    "    x_set, f = X\n",
    "    mean = E(X, g)\n",
    "    return np.sum(\n",
    "        [g(x_k - mean)**2 * f(x_k)\n",
    "        for x_k in x_set]\n",
    "    )\n",
    "\n",
    "def check_prob(X):\n",
    "    \"\"\"確率変数を引数に、\n",
    "    その確率変数が確率の性質を満たしているか確認し、\n",
    "    期待値と分散を返す関数\n",
    "    \"\"\"\n",
    "    x_set, f = X\n",
    "    prob = np.array([f(x_k) for x_k in x_set])\n",
    "    assert np.all(prob >= 0), \"負の確率があります。\"\n",
    "\n",
    "    prob_sum = np.round(np.sum(prob), 6)\n",
    "    assert prob_sum == 1, f\"確率の和が{prob_sum}になりました。\"\n",
    "\n",
    "    print(f\"期待値: {E(X):.4}\")\n",
    "    print(f\"分散: {V(X):.4}\")\n",
    "\n",
    "def plot_prob(X):\n",
    "    \"\"\"確率変数を引数に、\n",
    "    その確率変数の確率関数と期待値を図示するための関数\n",
    "    \"\"\"\n",
    "    x_set, f = X\n",
    "    prob = np.array([f(x_k) for x_k in x_set])\n",
    "\n",
    "    fig = plt.figure(figsize=(10, 6))\n",
    "    ax = fig.add_subplot(111)\n",
    "    ax.bar(x_set, prob, label='prob')\n",
    "    ax.vlines(E(X), 0, 1, label='mean', colors='red')\n",
    "    ax.set_xticks(np.append(x_set, E(X)))\n",
    "    ax.set_ylim(0, prob.max()*1.2)\n",
    "    ax.legend()\n",
    "\n",
    "    plt.show()\n"
   ]
  },
  {
   "cell_type": "markdown",
   "metadata": {},
   "source": [
    "## 6.1 ベルヌーイ分布（Bernoulli distribution）\n",
    "\n",
    "- とりうる値が「0」と「1」しかない確率分布\n",
    "- ベルヌーイ分布に従う確率変数の試行を、「ベルヌーイ試行」という\n",
    "- ベルヌーイ試行\n",
    "  - 「1」が出ることを「成功」\n",
    "  - 「0」が出ることを「失敗」\n",
    "- ベルヌーイ分布\n",
    "  - 「1」が出る確率を「$p$」\n",
    "  - 「0」が出る確率「$1-p$」"
   ]
  },
  {
   "cell_type": "markdown",
   "metadata": {},
   "source": [
    "### ベルヌーイ分布 $Bern(p)$の確率関数\n",
    "\n",
    "$0 \\leq p \\leq 1$\n",
    "\n",
    "$$\n",
    "f(x) = \n",
    "\\begin{cases}\n",
    "p^x(1 - p)^{(1-x)} ~~~ (x \\in \\{0, 1\\}) \\\\\n",
    "0 ~~~~~~~~~~~~~~~~~~~~~~~~ (otherwise)\n",
    "\\end{cases}\n",
    "$$\n",
    "\n",
    "- この関数に「1」を代入すると、「$p$」が返り、\n",
    "- 「0」を代入すると、「$1 - p$」が返る。"
   ]
  },
  {
   "cell_type": "markdown",
   "metadata": {},
   "source": [
    "**コインを投げて表が出るかどうか**\n",
    "\n",
    "- 表と裏が出る確率が等しいふつうのコインを投げて、\n",
    "- 「表」が出たら「1」、「裏」が出たら「0」とする確率変数$X$は、\n",
    "- $Bern(1/2)$に従う。\n",
    "\n",
    "このことからコインを投げて表が出る確率は、\n",
    "\n",
    "$$\n",
    "P(X = 1) = (1/2)^1 * (1 - 1/2)^{(1 - 1)} = 1/2\n",
    "$$\n",
    "\n",
    "と求めることができる。"
   ]
  },
  {
   "cell_type": "markdown",
   "metadata": {},
   "source": [
    "**サイコロを1回振って、「出目6」が出るかどうか**\n",
    "\n",
    "- すべての出目が出る確率が等しいふつうのサイコロを振って、\n",
    "- 「出目6」が出たら「1」、「それ以外」なら「0」とする確率変数$X$は、\n",
    "- $Bern(1/6)$に従う。\n",
    "\n",
    "このことからサイコロを振って「出目6」が出ない確率は、\n",
    "\n",
    "$$\n",
    "P(X = 0) = (1/6)^0 * (1 - 1/6)^{1 - 0} = 5/6\n",
    "$$\n",
    "\n",
    "と求めることができる。"
   ]
  },
  {
   "cell_type": "markdown",
   "metadata": {},
   "source": [
    "### ベルヌーイ分布の期待値と分散\n",
    "\n",
    "$X \\sim Bern(p)$とするとき、\n",
    "\n",
    "$$\n",
    "\\begin{align*}\n",
    "E(X) &= p \\\\\n",
    "V(X) &= p(1 -p)\n",
    "\\end{align*}\n",
    "$$"
   ]
  },
  {
   "cell_type": "code",
   "execution_count": 64,
   "metadata": {},
   "outputs": [],
   "source": [
    "def Bern(p):\n",
    "    \"\"\"ベルヌーイ分布\n",
    "    パラメータpを引数に、x_setとfを返す関数\n",
    "    \"\"\"\n",
    "    x_set = np.array([0, 1])\n",
    "    def f(x):\n",
    "        \"\"\"ベルヌーイ分布の確率関数\"\"\"\n",
    "        if x in x_set:\n",
    "            return p**x * (1 - p)**(1 - x)\n",
    "        else:\n",
    "            return 0\n",
    "    return x_set, f"
   ]
  },
  {
   "cell_type": "code",
   "execution_count": 65,
   "metadata": {},
   "outputs": [
    {
     "data": {
      "text/plain": [
       "(array([0, 1]), <function __main__.Bern.<locals>.f(x)>)"
      ]
     },
     "execution_count": 65,
     "metadata": {},
     "output_type": "execute_result"
    }
   ],
   "source": [
    "# Bern(0.3)に従う確率変数Xを作成する\n",
    "p = 0.3\n",
    "X = Bern(p)\n",
    "X"
   ]
  },
  {
   "cell_type": "code",
   "execution_count": 66,
   "metadata": {},
   "outputs": [
    {
     "name": "stdout",
     "output_type": "stream",
     "text": [
      "期待値: 0.3\n",
      "分散: 0.21\n"
     ]
    }
   ],
   "source": [
    "# Bern(0.3)に従う確率変数Xの期待値と分散\n",
    "check_prob(X)"
   ]
  },
  {
   "cell_type": "code",
   "execution_count": 67,
   "metadata": {},
   "outputs": [
    {
     "data": {
      "image/png": "[encoded data removed]",
      "text/plain": [
       "<Figure size 720x432 with 1 Axes>"
      ]
     },
     "metadata": {
      "needs_background": "light"
     },
     "output_type": "display_data"
    }
   ],
   "source": [
    "# Bern(0.3)に従う確率変数Xを図示する\n",
    "plot_prob(X)"
   ]
  },
  {
   "cell_type": "code",
   "execution_count": 68,
   "metadata": {},
   "outputs": [],
   "source": [
    "# scipy.statsを使った実装\n",
    "# rv(random variable, 確率変数)\n",
    "p = 0.3\n",
    "rv = stats.bernoulli(p)"
   ]
  },
  {
   "cell_type": "code",
   "execution_count": 69,
   "metadata": {},
   "outputs": [
    {
     "data": {
      "text/plain": [
       "(0.700, 0.300)"
      ]
     },
     "execution_count": 69,
     "metadata": {},
     "output_type": "execute_result"
    }
   ],
   "source": [
    "# pmf()メソッドは、確率関数を計算できる\n",
    "rv.pmf(0), rv.pmf(1)"
   ]
  },
  {
   "cell_type": "code",
   "execution_count": 70,
   "metadata": {},
   "outputs": [
    {
     "data": {
      "text/plain": [
       "array([0.7, 0.3])"
      ]
     },
     "execution_count": 70,
     "metadata": {},
     "output_type": "execute_result"
    }
   ],
   "source": [
    "# pmf()メソッドに、リストを渡す、Numpy.arrayが返ってくる\n",
    "rv.pmf([0, 1])"
   ]
  },
  {
   "cell_type": "code",
   "execution_count": 71,
   "metadata": {},
   "outputs": [
    {
     "data": {
      "text/plain": [
       "array([0.7, 1. ])"
      ]
     },
     "execution_count": 71,
     "metadata": {},
     "output_type": "execute_result"
    }
   ],
   "source": [
    "# cdf()メソッドで、累積密度関数を計算する\n",
    "rv.cdf([0, 1])"
   ]
  },
  {
   "cell_type": "code",
   "execution_count": 72,
   "metadata": {},
   "outputs": [
    {
     "data": {
      "text/plain": [
       "(0.300, 0.210)"
      ]
     },
     "execution_count": 72,
     "metadata": {},
     "output_type": "execute_result"
    }
   ],
   "source": [
    "# mean()メソッド、var()メソッド\n",
    "rv.mean(), rv.var()"
   ]
  },
  {
   "cell_type": "markdown",
   "metadata": {},
   "source": [
    "### ベルヌーイ分布のまとめ\n",
    "\n",
    "|||\n",
    "|:--:|:--:|\n",
    "|パラメータ|$p$|\n",
    "|とりうる値|$\\{0, 1\\}$|\n",
    "|確率関数|$p^x(1-p)^{1-x}$|\n",
    "|期待値|$p$|\n",
    "|分散|$p(1-p)$|\n",
    "|scipy.stats|bernoulli(p)|"
   ]
  },
  {
   "cell_type": "markdown",
   "metadata": {},
   "source": [
    "## 6.2 二項分布（binomial distribution）\n",
    "\n",
    "- 二項分布\n",
    "  - 成功確率が$p$のベルヌーイ試行を$n$回行ったときの成功回数が従う分布\n",
    "  - 「成功する回数」は、「0回から$n$回」\n",
    "  - 「とりうる値」は、「$\\{0, 1, ..., n\\}$」\n",
    "- 二項分布のパラメータ\n",
    "  - 成功確率 $p ~~~ (0 \\leq p \\leq 1)$\n",
    "  - 試行回数 $n ~~~ (n \\geq 1)$ 整数"
   ]
  },
  {
   "cell_type": "markdown",
   "metadata": {},
   "source": [
    "### 二項分布 $Bin(n, p)$の確率関数\n",
    "\n",
    "$$\n",
    "f(x) = \n",
    "\\begin{cases}\n",
    "\\begin{align*}\n",
    "{}_n C_x p^x (1 - p)^{(n - x)} ~~~ &(x \\in \\{0, 1, ..., n\\})\n",
    "\\\\\n",
    "0 ~~~~~~~~~~~~~~~~~~~~~~~~~~~~~~~~ &(otherwise)\n",
    "\\end{align*}\n",
    "\\end{cases}\n",
    "$$"
   ]
  },
  {
   "cell_type": "markdown",
   "metadata": {},
   "source": [
    "#### コンビネーション ${}_n C_x$\n",
    "\n",
    "- $n$個の異なるものの中から、$x$個を選んで「できる組み合わせの数」\n",
    "\n",
    "$$\n",
    "{}_n C_x = \\dfrac{n!}{x!(n-x)!}\n",
    "$$\n",
    "\n",
    "&nbsp;\n",
    "\n",
    "$$\n",
    "{}_6 C_2 = \\dfrac{6!}{2!4!} = \\dfrac{6*5*4*3*2}{2*4*3*2} = 15\n",
    "$$"
   ]
  },
  {
   "cell_type": "markdown",
   "metadata": {},
   "source": [
    "10回コインを投げて、表が出る回数\n",
    "\n",
    "- $p = 1/2$のベルヌーイ試行を10回行ったときの成功回数と考えることができるので、\n",
    "- $Bin(10, 1/2)$に従う。\n",
    "\n",
    "コインを10回投げて、表が3回出る確率は、\n",
    "\n",
    "$$\n",
    "P(X = 3) = {}_{10} C_3 (1/2)^3 (1 - 1/2)^{10-3} = 15/128\n",
    "$$\n",
    "\n",
    "と求めることができる。"
   ]
  },
  {
   "cell_type": "markdown",
   "metadata": {},
   "source": [
    "4回サイコロを振って、出目6が出る回数\n",
    "\n",
    "- $p = 1/6$のベルヌーイ試行を4回行ったときの成功回数と考えることができるので、\n",
    "- $Bin(4, 1/6)$に従う。\n",
    "\n",
    "4回サイコロを振って、出目6が1回も出ない確率は、\n",
    "\n",
    "$$\n",
    "P(X = 0) = {}_4 C_0 (1/6)^0 (1 - 1/6)^{(4-0)} = 625/1296\n",
    "$$\n",
    "\n",
    "と求めることができる。"
   ]
  },
  {
   "cell_type": "markdown",
   "metadata": {},
   "source": [
    "### 二項分布の期待値と分散\n",
    "\n",
    "$X \\sim Bin(n, p)$とするとき\n",
    "\n",
    "$$\n",
    "\\begin{align*}\n",
    "E(X) &= np \\\\\n",
    "V(X) &= np(1 -p)\n",
    "\\end{align*}\n",
    "$$"
   ]
  },
  {
   "cell_type": "code",
   "execution_count": 73,
   "metadata": {},
   "outputs": [],
   "source": [
    "# コンビネーションn_C_xの計算は\n",
    "# scipy.specialにある、comb()関数を使う\n",
    "from scipy.special import comb\n",
    "\n",
    "def Bin(n, p):\n",
    "    \"\"\"二項分布\n",
    "    パラメータ(n, p)を引数に、x_setとfを返す関数\n",
    "    \"\"\"\n",
    "    x_set = np.arange(n+1)\n",
    "    def f(x):\n",
    "        \"\"\"二項分布の確率関数\"\"\"\n",
    "        if x in x_set:\n",
    "            return comb(n, x) * p**x * (1 - p)**(n-x)\n",
    "        else:\n",
    "            return 0\n",
    "    return x_set, f"
   ]
  },
  {
   "cell_type": "code",
   "execution_count": 74,
   "metadata": {},
   "outputs": [
    {
     "data": {
      "text/plain": [
       "(array([ 0,  1,  2,  3,  4,  5,  6,  7,  8,  9, 10]),\n",
       " <function __main__.Bin.<locals>.f(x)>)"
      ]
     },
     "execution_count": 74,
     "metadata": {},
     "output_type": "execute_result"
    }
   ],
   "source": [
    "# Bin(10, 0.3)に従う確率変数Xを作成する\n",
    "n = 10\n",
    "p = 0.3\n",
    "X = Bin(n , p)\n",
    "X"
   ]
  },
  {
   "cell_type": "code",
   "execution_count": 75,
   "metadata": {},
   "outputs": [
    {
     "name": "stdout",
     "output_type": "stream",
     "text": [
      "期待値: 3.0\n",
      "分散: 2.1\n"
     ]
    }
   ],
   "source": [
    "# Bin(10, 0.3)に従う確率変数Xの\n",
    "# 期待値 = 10 * 0.3 = 3.0\n",
    "# 分散 = 10 * 0.3 * 0.7 = 2.1\n",
    "check_prob(X)"
   ]
  },
  {
   "cell_type": "code",
   "execution_count": 76,
   "metadata": {},
   "outputs": [
    {
     "data": {
      "image/png": "[encoded data removed]",
      "text/plain": [
       "<Figure size 720x432 with 1 Axes>"
      ]
     },
     "metadata": {
      "needs_background": "light"
     },
     "output_type": "display_data"
    }
   ],
   "source": [
    "# Bin(10, 0.3)に従う確率変数Xを図示する\n",
    "plot_prob(X)"
   ]
  },
  {
   "cell_type": "code",
   "execution_count": 77,
   "metadata": {},
   "outputs": [
    {
     "data": {
      "image/png": "[encoded data removed]",
      "text/plain": [
       "<Figure size 720x432 with 1 Axes>"
      ]
     },
     "metadata": {
      "needs_background": "light"
     },
     "output_type": "display_data"
    }
   ],
   "source": [
    "# scipy.statsのbinom()関数で\n",
    "# 二項分布の確率変数を作成して、図示する\n",
    "fig = plt.figure(figsize=(10, 6))\n",
    "ax = fig.add_subplot(111)\n",
    "\n",
    "x_set = np.arange(n+1)\n",
    "for p, ls in zip([0.3, 0.5, 0.7], linestyles):\n",
    "    rv = stats.binom(n, p)\n",
    "    ax.plot(\n",
    "        x_set, rv.pmf(x_set),\n",
    "        label=f\"p: {p}\", ls=ls, color='gray'\n",
    "    )\n",
    "ax.set_xticks(x_set)\n",
    "ax.legend()\n",
    "\n",
    "plt.show()"
   ]
  },
  {
   "cell_type": "code",
   "execution_count": 78,
   "metadata": {},
   "outputs": [
    {
     "data": {
      "application/vnd.jupyter.widget-view+json": {
       "model_id": "649419b9438545bbad0d46bc4cba4c20",
       "version_major": 2,
       "version_minor": 0
      },
      "text/plain": [
       "interactive(children=(IntSlider(value=10, description='n', max=20, min=1), FloatSlider(value=0.4, description=…"
      ]
     },
     "metadata": {},
     "output_type": "display_data"
    }
   ],
   "source": [
    "# 図6.3: さまざまな二項分布\n",
    "@interact(n=(1, 20, 1), p=(0.1, 0.9, 0.1))\n",
    "\n",
    "def Bin(n=10, p=0.4):\n",
    "    fig = plt.figure(figsize=(10, 6))\n",
    "    ax = fig.add_subplot(111)\n",
    "    rv = stats.binom(n, p)\n",
    "    x_set = np.arange(n+1)\n",
    "    ax.plot(x_set, rv.pmf(x_set))\n",
    "    ax.set_xticks(np.arange(21))\n",
    "    ax.set_ylim(-0.02, 1)\n",
    "    plt.show()"
   ]
  },
  {
   "cell_type": "markdown",
   "metadata": {},
   "source": [
    "### 二項分布のまとめ\n",
    "\n",
    "|||\n",
    "|:--:|:--:|\n",
    "|パラメータ|$n, p$|\n",
    "|とりうる値|$\\{0, 1, ..., n\\}$|\n",
    "|確率関数|${}_n C_x p^x (1 - p)^{(n - x)}$|\n",
    "|期待値|$np$|\n",
    "|分散|$np(1-p)$|\n",
    "|scipy.stats|binom(n, p)|"
   ]
  },
  {
   "cell_type": "markdown",
   "metadata": {},
   "source": [
    "## 6.3 幾何分布（geometric distribution）\n",
    "\n",
    "- 幾何分布\n",
    "  - ベルヌーイ試行を繰り返して、はじめて成功するまでの試行回数が従う確率分布\n",
    "  - とりうる値は、1以上の整数全体 $\\{1, 2, 3, ...\\}$\n",
    "- 幾何分布のパラメータ\n",
    "  - ベルヌーイ試行の成功確率 $p$\n",
    "  - $0 \\leq p \\leq 1$"
   ]
  },
  {
   "cell_type": "markdown",
   "metadata": {},
   "source": [
    "### 幾何分布 $Ge(p)$ 確率関数\n",
    "\n",
    "$$\n",
    "f(x) = \n",
    "\\begin{cases}\n",
    "\\begin{align*}\n",
    "(1 - p)^{(x - 1)}p ~~~ &(x \\in \\{1, 2, 3, ...\\})\n",
    "\\\\\n",
    "0 ~~~~~~~~~~~~~~~~~~~~~&(otherwise)\n",
    "\\end{align*}\n",
    "\\end{cases}\n",
    "$$"
   ]
  },
  {
   "cell_type": "markdown",
   "metadata": {},
   "source": [
    "#### コインを投げて、表が出るまでの回数\n",
    "\n",
    "- $p=1/2$のベルヌーイ試行が、はじめて成功するまでの試行回数となるので、\n",
    "- $Ge(1/2)$に従う。\n",
    "\n",
    "コインを投げて、5回目ではじめて表が出る確率は、\n",
    "\n",
    "$$\n",
    "P(X = 5) = (1 - 1/2)^4 * 1/2 = 1/32\n",
    "$$\n",
    "\n",
    "と求めることができる。"
   ]
  },
  {
   "cell_type": "markdown",
   "metadata": {},
   "source": [
    "#### サイコロを振って、出目6が出るまでの回数\n",
    "\n",
    "- $p=1/6$のベルヌーイ試行が、はじめて成功するまでの試行回数となるので、\n",
    "- $Ge(1/6)$に従う。\n",
    "\n",
    "サイコロを振って、3回目ではじめて出目6が出る確率は、\n",
    "\n",
    "$$\n",
    "P(X = 3) = (1 - 1/6)^2 * 1/6 = 25/216\n",
    "$$\n",
    "\n",
    "と求めることができる。"
   ]
  },
  {
   "cell_type": "markdown",
   "metadata": {},
   "source": [
    "### 幾何分布の期待値と分散\n",
    "\n",
    "$X \\sim Ge(p)$ とするとき、\n",
    "\n",
    "$$\n",
    "\\begin{align*}\n",
    "E(X) &= 1/p \\\\\n",
    "V(X) &= (1 -p)/p^2\n",
    "\\end{align*}\n",
    "$$"
   ]
  },
  {
   "cell_type": "code",
   "execution_count": 79,
   "metadata": {},
   "outputs": [],
   "source": [
    "# 幾何分布のとりうる値は、1以上の整数すべてだが、\n",
    "# x_setを1以上29以下の整数とする\n",
    "def Ge(p):\n",
    "    \"\"\"幾何分布\n",
    "    パラメータ(p)を引数に、x_setとfを返す関数\n",
    "    \"\"\"\n",
    "    x_set = np.arange(1, 30)\n",
    "    def f(x):\n",
    "        \"\"\"幾何分布の確率関数\"\"\"\n",
    "        if x in x_set:\n",
    "            return p * (1 - p)**(x-1)\n",
    "        else:\n",
    "            return 0\n",
    "    return x_set, f"
   ]
  },
  {
   "cell_type": "code",
   "execution_count": 81,
   "metadata": {},
   "outputs": [
    {
     "data": {
      "text/plain": [
       "(array([ 1,  2,  3,  4,  5,  6,  7,  8,  9, 10, 11, 12, 13, 14, 15, 16, 17,\n",
       "        18, 19, 20, 21, 22, 23, 24, 25, 26, 27, 28, 29]),\n",
       " <function __main__.Ge.<locals>.f(x)>)"
      ]
     },
     "execution_count": 81,
     "metadata": {},
     "output_type": "execute_result"
    }
   ],
   "source": [
    "# 確率変数Xは、Ge(1/2)に従う\n",
    "p = 0.5\n",
    "X = Ge(p)\n",
    "X"
   ]
  },
  {
   "cell_type": "code",
   "execution_count": 82,
   "metadata": {},
   "outputs": [
    {
     "name": "stdout",
     "output_type": "stream",
     "text": [
      "期待値: 2.0\n",
      "分散: 2.0\n"
     ]
    }
   ],
   "source": [
    "# Ge(p)に従う、確率変数Xの\n",
    "# 期待値 = 1/(1/2) = 2\n",
    "# 分散 = (1-1/2) / (1/2)^2 = 2\n",
    "check_prob(X)"
   ]
  },
  {
   "cell_type": "code",
   "execution_count": 83,
   "metadata": {},
   "outputs": [
    {
     "data": {
      "image/png": "[encoded data removed]",
      "text/plain": [
       "<Figure size 720x432 with 1 Axes>"
      ]
     },
     "metadata": {
      "needs_background": "light"
     },
     "output_type": "display_data"
    }
   ],
   "source": [
    "# Ge(p)に従う、確率変数Xを図示する\n",
    "plot_prob(X)"
   ]
  },
  {
   "cell_type": "code",
   "execution_count": 85,
   "metadata": {},
   "outputs": [
    {
     "data": {
      "image/png": "[encoded data removed]",
      "text/plain": [
       "<Figure size 720x432 with 1 Axes>"
      ]
     },
     "metadata": {
      "needs_background": "light"
     },
     "output_type": "display_data"
    }
   ],
   "source": [
    "# scipy.stats.geom()関数で、幾何分布を作成して図示する\n",
    "# パラメータp: (02, 0.5, 0.8)\n",
    "# x_set: 1以上、14以下の整数\n",
    "fig = plt.figure(figsize=(10, 6))\n",
    "ax = fig.add_subplot(111)\n",
    "\n",
    "x_set = np.arange(1, 15)\n",
    "for p, ls in zip([0.3, 0.5, 0.8], linestyles):\n",
    "    rv = stats.geom(p)\n",
    "    ax.plot(\n",
    "        x_set, rv.pmf(x_set),\n",
    "        label=f\"p: {p}\", ls=ls, color='gray'\n",
    "    )\n",
    "ax.set_xticks(x_set)\n",
    "ax.legend()\n",
    "\n",
    "plt.show()"
   ]
  },
  {
   "cell_type": "code",
   "execution_count": 86,
   "metadata": {},
   "outputs": [
    {
     "data": {
      "application/vnd.jupyter.widget-view+json": {
       "model_id": "8d0856ee365145478e9b018a346311ae",
       "version_major": 2,
       "version_minor": 0
      },
      "text/plain": [
       "interactive(children=(FloatSlider(value=0.5, description='p', max=0.9, min=0.1), Output()), _dom_classes=('wid…"
      ]
     },
     "metadata": {},
     "output_type": "display_data"
    }
   ],
   "source": [
    "# 図6.5: さまざまな幾何分布\n",
    "@interact(p=(0.1, 0.9, 0.1))\n",
    "\n",
    "def Ge(p=0.5):\n",
    "    x_set = np.arange(1, 15)\n",
    "    fig = plt.figure(figsize=(10, 6))\n",
    "    ax = fig.add_subplot(111)\n",
    "    rv = stats.geom(p)\n",
    "    ax.plot(x_set, rv.pmf(x_set))\n",
    "    ax.set_xticks(x_set)\n",
    "    ax.set_ylim(-0.02, 1.02)\n",
    "    plt.show()\n"
   ]
  },
  {
   "cell_type": "markdown",
   "metadata": {},
   "source": [
    "### 幾何分布のまとめ\n",
    "\n",
    "|||\n",
    "|:--:|:--:|\n",
    "|パラメータ|$p$|\n",
    "|とりうる値|$\\{0, 1, 2, 3, ...\\}$|\n",
    "|確率関数|$(1 - p)^{(x - 1)}p$|\n",
    "|期待値|$1/p$|\n",
    "|分散|$1-p / p^2$|\n",
    "|scipy.stats|geom(p)|"
   ]
  },
  {
   "cell_type": "markdown",
   "metadata": {},
   "source": [
    "## 6.4 ポアソン分布（Poisson distribution）\n",
    "\n",
    "- ポアソン分布\n",
    "  - ランダムな事象が単位時間あたりに発生する件数が従う確率分布\n",
    "  - とりうる値は、$\\{0, 1, 2, ...\\}$\n",
    "- ポアソン分布のパラメータ\n",
    "  - $\\lambda$ （正の実数）"
   ]
  },
  {
   "cell_type": "markdown",
   "metadata": {},
   "source": [
    "### ポアソン分布 $Poi(\\lambda)$ の確率関数\n",
    "\n",
    "$$\n",
    "f(x) = \n",
    "\\begin{cases}\n",
    "\\begin{align*}\n",
    "\\dfrac{\\lambda^x}{x!} \\cdot e^{-\\lambda} ~~~ &(x \\in \\{0, 1, 2, ...\\})\n",
    "\\\\\n",
    "0 ~~~~~~~~~~~~~~ &(otherwise)\n",
    "\\end{align*}\n",
    "\\end{cases}\n",
    "$$"
   ]
  },
  {
   "cell_type": "markdown",
   "metadata": {},
   "source": [
    "#### 1日あたり平均2件の交通事故が発生する地域における、1日の交通事故の発生件数\n",
    "\n",
    "- 交通事故を完全にランダムな事象と捉えると、\n",
    "- 単位時間（1日）あたりに発生する交通事故の発生件数は、$Poi(2)$に従う。\n",
    "\n",
    "この地域で1日に交通事故が、1件も起きない確率は、\n",
    "\n",
    "$$\n",
    "P(X =0) = \\dfrac{2^0}{0!} \\cdot e^{-2} \\simeq 0.135\n",
    "$$\n",
    "\n",
    "と求めることができる。"
   ]
  },
  {
   "cell_type": "markdown",
   "metadata": {},
   "source": [
    "#### 1時間あたり平均10アクセスあるサイトへの、1時間あたりのアクセス件数\n",
    "\n",
    "- サイトへのアクセスを完全なランダムな事象と捉えると、\n",
    "- 単位時間（1時間）あたりのサイトへのアクセス件数は、$Poi(10)$に従う。\n",
    "\n",
    "1時間に15件アクセスがある確率は、\n",
    "\n",
    "$$\n",
    "P(X = 15) = \\dfrac{10^{15}}{15!} \\cdot ^{-10} \\simeq 0.035\n",
    "$$\n",
    "\n",
    "と求めることができる。"
   ]
  },
  {
   "cell_type": "markdown",
   "metadata": {},
   "source": [
    "### ポアソン分布の期待値と分散\n",
    "\n",
    "$X \\sim Poi(\\lambda)$ とすると、\n",
    "\n",
    "$$\n",
    "\\begin{align*}\n",
    "E(X) &= \\lambda \\\\\n",
    "V(X) &= \\lambda\n",
    "\\end{align*}\n",
    "$$"
   ]
  },
  {
   "cell_type": "code",
   "execution_count": 88,
   "metadata": {},
   "outputs": [],
   "source": [
    "# 階乗x!は、\n",
    "# scipy.special.factorial()を使用する\n",
    "from scipy.special import factorial\n",
    "\n",
    "def Poi(lam):\n",
    "    \"\"\"ポアソン分布\n",
    "    パラメータ(lam)を引数に、x_setとfを返す関数\n",
    "    \"\"\"\n",
    "    x_set = np.arange(20)\n",
    "    def f(x):\n",
    "        \"\"\"ポアソン分布の確率関数\"\"\"\n",
    "        if x in x_set:\n",
    "            return np.power(lam, x) / factorial(x) * np.exp(-lam)\n",
    "        else:\n",
    "            return 0\n",
    "    return x_set, f"
   ]
  },
  {
   "cell_type": "code",
   "execution_count": 89,
   "metadata": {},
   "outputs": [
    {
     "data": {
      "text/plain": [
       "(array([ 0,  1,  2,  3,  4,  5,  6,  7,  8,  9, 10, 11, 12, 13, 14, 15, 16,\n",
       "        17, 18, 19]),\n",
       " <function __main__.Poi.<locals>.f(x)>)"
      ]
     },
     "execution_count": 89,
     "metadata": {},
     "output_type": "execute_result"
    }
   ],
   "source": [
    "# Poi(3)に従う、確率変数X\n",
    "lam = 3\n",
    "X = Poi(lam)\n",
    "X"
   ]
  },
  {
   "cell_type": "code",
   "execution_count": 90,
   "metadata": {},
   "outputs": [
    {
     "name": "stdout",
     "output_type": "stream",
     "text": [
      "期待値: 3.0\n",
      "分散: 3.0\n"
     ]
    }
   ],
   "source": [
    "# Poi(3)に従う、確率変数Xの\n",
    "# 期待値, 分散 = 3.0\n",
    "check_prob(X)"
   ]
  },
  {
   "cell_type": "code",
   "execution_count": 91,
   "metadata": {},
   "outputs": [
    {
     "data": {
      "image/png": "[encoded data removed]",
      "text/plain": [
       "<Figure size 720x432 with 1 Axes>"
      ]
     },
     "metadata": {
      "needs_background": "light"
     },
     "output_type": "display_data"
    }
   ],
   "source": [
    "# Poi(3)に従う、確率変数Xを図示する\n",
    "plot_prob(X)"
   ]
  },
  {
   "cell_type": "code",
   "execution_count": 93,
   "metadata": {},
   "outputs": [
    {
     "data": {
      "image/png": "[encoded data removed]",
      "text/plain": [
       "<Figure size 720x432 with 1 Axes>"
      ]
     },
     "metadata": {
      "needs_background": "light"
     },
     "output_type": "display_data"
    }
   ],
   "source": [
    "# scipy.stats.poisson()関数で、ポアソン分布を作成して図示する\n",
    "# パラメータλ: (3, 5, 8)\n",
    "# x_set: 1以上、14以下の整数\n",
    "fig = plt.figure(figsize=(10, 6))\n",
    "ax = fig.add_subplot(111)\n",
    "\n",
    "x_set = np.arange(20)\n",
    "for lam, ls in zip([3, 5, 8], linestyles):\n",
    "    rv = stats.poisson(lam)\n",
    "    ax.plot(\n",
    "        x_set, rv.pmf(x_set),\n",
    "        label=f\"lam: {lam}\", ls=ls, color='gray'\n",
    "    )\n",
    "ax.set_xticks(x_set)\n",
    "ax.legend()\n",
    "\n",
    "plt.show()"
   ]
  },
  {
   "cell_type": "code",
   "execution_count": 94,
   "metadata": {},
   "outputs": [
    {
     "data": {
      "application/vnd.jupyter.widget-view+json": {
       "model_id": "58534a3bf9094a15bc929313806101aa",
       "version_major": 2,
       "version_minor": 0
      },
      "text/plain": [
       "interactive(children=(IntSlider(value=8, description='l', max=15, min=1), Output()), _dom_classes=('widget-int…"
      ]
     },
     "metadata": {},
     "output_type": "display_data"
    }
   ],
   "source": [
    "# 図6.7 さまざまなポアソン分布\n",
    "@interact(l=(1, 15, 1))\n",
    "\n",
    "def Poi(l=8):\n",
    "    x_set = np.arange(21)\n",
    "    fig = plt.figure(figsize=(10, 6))\n",
    "    ax = fig.add_subplot(111)\n",
    "    rv = stats.poisson(l)\n",
    "    ax.plot(x_set, rv.pmf(x_set))\n",
    "    ax.set_xticks(x_set)\n",
    "    ax.set_ylim(-0.02, 0.4)\n",
    "    plt.show()\n"
   ]
  },
  {
   "cell_type": "markdown",
   "metadata": {},
   "source": [
    "### ポアソン分布のまとめ\n",
    "\n",
    "|||\n",
    "|:--:|:--:|\n",
    "|パラメータ|$\\lambda$|\n",
    "|とりうる値|$\\{0, 1, 2, 3, ...\\}$|\n",
    "|確率関数|$\\dfrac{\\lambda^x}{x!} \\cdot e^{-\\lambda}$|\n",
    "|期待値|$\\lambda$|\n",
    "|分散|$\\lambda$|\n",
    "|scipy.stats|poisson(λ)|"
   ]
  }
 ],
 "metadata": {
  "interpreter": {
   "hash": "18aa02ce14a85bb7f4615a92049f5200f59992eb58b8bc2715593121788c94f0"
  },
  "kernelspec": {
   "display_name": "Python 3.9.12 ('sap_env': venv)",
   "language": "python",
   "name": "python3"
  },
  "language_info": {
   "codemirror_mode": {
    "name": "ipython",
    "version": 3
   },
   "file_extension": ".py",
   "mimetype": "text/x-python",
   "name": "python",
   "nbconvert_exporter": "python",
   "pygments_lexer": "ipython3",
   "version": "3.9.12"
  },
  "orig_nbformat": 4
 },
 "nbformat": 4,
 "nbformat_minor": 2
}
