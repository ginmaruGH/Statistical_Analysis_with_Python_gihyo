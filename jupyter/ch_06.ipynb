{
 "cells": [
  {
   "cell_type": "markdown",
   "metadata": {},
   "source": [
    "# Chapter06 代表的な離散型確率分布\n",
    "\n",
    "- 推測統計\n",
    "  - 限られた標本から母集団の平均や分散といった指標を推定することが目的\n",
    "- ノンパラメトリックな手法\n",
    "  - 母集団の確率分布の形状に何も仮定を置かず、指標を推定する方法\n",
    "- パラメトリックな手法\n",
    "  - 母集団の確率分布にある程度仮定を置いて、確率分布の期待値や分散を決める少数のパラメータのみを推定する方法"
   ]
  },
  {
   "cell_type": "code",
   "execution_count": 28,
   "metadata": {},
   "outputs": [],
   "source": [
    "# ライブラリーの準備\n",
    "import numpy as np\n",
    "import matplotlib.pyplot as plt\n",
    "from matplotlib import rcParams\n",
    "from scipy import stats\n",
    "\n",
    "plt.style.use('seaborn')\n",
    "rcParams['font.family'] = 'IPAexgothic'\n",
    "%precision 3\n",
    "%matplotlib inline\n"
   ]
  },
  {
   "cell_type": "code",
   "execution_count": 29,
   "metadata": {},
   "outputs": [],
   "source": [
    "# グラフの線の種類\n",
    "linestyles = ['-', '--', ':']\n",
    "\n",
    "# 関数の定義\n",
    "def E(x, g=lambda x: x):\n",
    "    \"\"\"期待値の関数\"\"\"\n",
    "    x_set, f = X\n",
    "    return np.sum(\n",
    "        [g(x_k) * f(x_k) \n",
    "        for x_k in x_set]\n",
    "    )\n",
    "\n",
    "def V(X, g=lambda x: x):\n",
    "    x_set, f = X\n",
    "    mean = E(X, g)\n",
    "    return np.sum(\n",
    "        [g(x_k - mean)**2 * f(x_k)\n",
    "        for x_k in x_set]\n",
    "    )\n",
    "\n",
    "def check_prob(X):\n",
    "    \"\"\"確率変数を引数に、\n",
    "    その確率変数が確率の性質を満たしているか確認し、\n",
    "    期待値と分散を返す関数\n",
    "    \"\"\"\n",
    "    x_set, f = X\n",
    "    prob = np.array([f(x_k) for x_k in x_set])\n",
    "    assert np.all(prob >= 0), \"負の確率があります。\"\n",
    "\n",
    "    prob_sum = np.round(np.sum(prob), 6)\n",
    "    assert prob_sum == 1, f\"確率の和が{prob_sum}になりました。\"\n",
    "\n",
    "    print(f\"期待値: {E(X):.4}\")\n",
    "    print(f\"分散: {V(X):.4}\")\n",
    "\n",
    "def plot_prob(X):\n",
    "    \"\"\"確率変数を引数に、\n",
    "    その確率変数の確率関数と期待値を図示するための関数\n",
    "    \"\"\"\n",
    "    x_set, f = X\n",
    "    prob = np.array([f(x_k) for x_k in x_set])\n",
    "\n",
    "    fig = plt.figure(figsize=(10, 6))\n",
    "    ax = fig.add_subplot(111)\n",
    "    ax.bar(x_set, prob, label='prob')\n",
    "    ax.vlines(E(X), 0, 1, label='mean', colors='red')\n",
    "    ax.set_xticks(np.append(x_set, E(X)))\n",
    "    ax.set_ylim(0, prob.max()*1.2)\n",
    "    ax.legend()\n",
    "\n",
    "    plt.show()\n"
   ]
  },
  {
   "cell_type": "markdown",
   "metadata": {},
   "source": [
    "## 6.1 ベルヌーイ分布（Bernoulli distribution）\n",
    "\n",
    "- とりうる値が「0」と「1」しかない確率分布\n",
    "- ベルヌーイ分布に従う確率変数の試行を、「ベルヌーイ試行」という\n",
    "- ベルヌーイ試行\n",
    "  - 「1」が出ることを「成功」\n",
    "  - 「0」が出ることを「失敗」\n",
    "- ベルヌーイ分布\n",
    "  - 1が出る確率を$p$\n",
    "  - 0が出る確率$1-p$"
   ]
  },
  {
   "cell_type": "markdown",
   "metadata": {},
   "source": [
    "**ベルヌーイ分布$Bern(p)$の確率関数**\n",
    "\n",
    "$0 \\leq p \\leq 1$\n",
    "\n",
    "$$\n",
    "f(x) = \n",
    "\\begin{cases}\n",
    "p^x(1 - p)^{(1-x)} ~~~ (x \\in \\{0, 1\\}) \\\\\n",
    "0 ~~~~~~~~~~~~~~~~~~~~~~~~ (otherwise)\n",
    "\\end{cases}\n",
    "$$\n",
    "\n",
    "- この関数に「1」を代入すると、「$p$」が返り、\n",
    "- 「0」を代入すると、「$1 - p$」が返る。"
   ]
  },
  {
   "cell_type": "markdown",
   "metadata": {},
   "source": [
    "**コインを投げて表が出るかどうか**\n",
    "\n",
    "- 表と裏が出る確率が等しいふつうのコインを投げて、\n",
    "- 「表」が出たら「1」、「裏」が出たら「0」とする確率変数$X$は、\n",
    "- $Bern(1/2)$に従う。\n",
    "\n",
    "このことからコインを投げて表が出る確率は、\n",
    "\n",
    "$$\n",
    "P(X = 1) = (1/2)^1 * (1 - 1/2)^{(1 - 1)} = 1/2\n",
    "$$\n",
    "\n",
    "と求めることができる。"
   ]
  },
  {
   "cell_type": "markdown",
   "metadata": {},
   "source": [
    "**サイコロを1回振って、「6」が出るかどうか**\n",
    "\n",
    "- すべての出目が出る確率が等しいふつうのサイコロを振って、\n",
    "- 「6」が出たら「1」、「それ以外」なら「0」とする確率変数$X$は、\n",
    "- $Bern(1/6)$に従う。\n",
    "\n",
    "このことからサイコロを振って「6」が出ない確率は、\n",
    "\n",
    "$$\n",
    "P(X = 0) = (1/6)^0 * (1 - 1/6)^{1 - 0} = 5/6\n",
    "$$\n",
    "\n",
    "と求めることができる。"
   ]
  },
  {
   "cell_type": "markdown",
   "metadata": {},
   "source": [
    "**ベルヌーイ分布の期待値と分散**\n",
    "\n",
    "$X \\sim Bern(p)$とするとき、\n",
    "\n",
    "$$\n",
    "\\begin{align*}\n",
    "E(X) &= p \\\\\n",
    "V(X) &= p(1 -p)\n",
    "\\end{align*}\n",
    "$$"
   ]
  },
  {
   "cell_type": "code",
   "execution_count": 30,
   "metadata": {},
   "outputs": [],
   "source": [
    "def Bern(p):\n",
    "    \"\"\"ベルヌーイ分布\n",
    "    パラメータpを引数に、x_setとfを返す関数\n",
    "    \"\"\"\n",
    "    x_set = np.array([0, 1])\n",
    "    def f(x):\n",
    "        if x in x_set:\n",
    "            return p**x * (1 - p)**(1 - x)\n",
    "        else:\n",
    "            return 0\n",
    "    return x_set, f"
   ]
  },
  {
   "cell_type": "code",
   "execution_count": 31,
   "metadata": {},
   "outputs": [
    {
     "data": {
      "text/plain": [
       "(array([0, 1]), <function __main__.Bern.<locals>.f(x)>)"
      ]
     },
     "execution_count": 31,
     "metadata": {},
     "output_type": "execute_result"
    }
   ],
   "source": [
    "# Bern(0.3)に従う確率変数Xを作成する\n",
    "p = 0.3\n",
    "X = Bern(p)\n",
    "X"
   ]
  },
  {
   "cell_type": "code",
   "execution_count": 32,
   "metadata": {},
   "outputs": [
    {
     "name": "stdout",
     "output_type": "stream",
     "text": [
      "期待値: 0.3\n",
      "分散: 0.21\n"
     ]
    }
   ],
   "source": [
    "# Bern(0.3)に従う確率変数Xの期待値と分散\n",
    "check_prob(X)"
   ]
  },
  {
   "cell_type": "code",
   "execution_count": 33,
   "metadata": {},
   "outputs": [
    {
     "data": {
      "image/png": "[encoded data removed]",
      "text/plain": [
       "<Figure size 720x432 with 1 Axes>"
      ]
     },
     "metadata": {
      "needs_background": "light"
     },
     "output_type": "display_data"
    }
   ],
   "source": [
    "# Bern(0.3)に従う確率変数Xを図示する\n",
    "plot_prob(X)"
   ]
  },
  {
   "cell_type": "code",
   "execution_count": 34,
   "metadata": {},
   "outputs": [],
   "source": [
    "# scipy.statsを使った実装\n",
    "# rv(random variable, 確率変数)\n",
    "p = 0.3\n",
    "rv = stats.bernoulli(p)"
   ]
  },
  {
   "cell_type": "code",
   "execution_count": 35,
   "metadata": {},
   "outputs": [
    {
     "data": {
      "text/plain": [
       "(0.700, 0.300)"
      ]
     },
     "execution_count": 35,
     "metadata": {},
     "output_type": "execute_result"
    }
   ],
   "source": [
    "# pmf()メソッドは、確率関数を計算できる\n",
    "rv.pmf(0), rv.pmf(1)"
   ]
  },
  {
   "cell_type": "code",
   "execution_count": 36,
   "metadata": {},
   "outputs": [
    {
     "data": {
      "text/plain": [
       "array([0.7, 0.3])"
      ]
     },
     "execution_count": 36,
     "metadata": {},
     "output_type": "execute_result"
    }
   ],
   "source": [
    "# pmf()メソッドに、リストを渡す、Numpy.arrayが返ってくる\n",
    "rv.pmf([0, 1])"
   ]
  },
  {
   "cell_type": "code",
   "execution_count": 37,
   "metadata": {},
   "outputs": [
    {
     "data": {
      "text/plain": [
       "array([0.7, 1. ])"
      ]
     },
     "execution_count": 37,
     "metadata": {},
     "output_type": "execute_result"
    }
   ],
   "source": [
    "# cdf()メソッドで、累積密度関数を計算する\n",
    "rv.cdf([0, 1])"
   ]
  },
  {
   "cell_type": "code",
   "execution_count": 38,
   "metadata": {},
   "outputs": [
    {
     "data": {
      "text/plain": [
       "(0.300, 0.210)"
      ]
     },
     "execution_count": 38,
     "metadata": {},
     "output_type": "execute_result"
    }
   ],
   "source": [
    "# mean()メソッド、var()メソッド\n",
    "rv.mean(), rv.var()"
   ]
  }
 ],
 "metadata": {
  "interpreter": {
   "hash": "18aa02ce14a85bb7f4615a92049f5200f59992eb58b8bc2715593121788c94f0"
  },
  "kernelspec": {
   "display_name": "Python 3.9.12 ('sap_env': venv)",
   "language": "python",
   "name": "python3"
  },
  "language_info": {
   "codemirror_mode": {
    "name": "ipython",
    "version": 3
   },
   "file_extension": ".py",
   "mimetype": "text/x-python",
   "name": "python",
   "nbconvert_exporter": "python",
   "pygments_lexer": "ipython3",
   "version": "3.9.12"
  },
  "orig_nbformat": 4
 },
 "nbformat": 4,
 "nbformat_minor": 2
}
