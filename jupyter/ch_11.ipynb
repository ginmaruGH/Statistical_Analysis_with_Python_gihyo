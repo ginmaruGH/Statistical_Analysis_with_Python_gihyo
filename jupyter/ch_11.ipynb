{
 "cells": [
  {
   "cell_type": "markdown",
   "metadata": {},
   "source": [
    "# Chapter11 統計的仮説検定\n",
    "\n",
    "- 公表されているフライドポテトの重さの平均 130g\n",
    "- サンプルサイズ14個の標本平均 128.451g\n",
    "- 14個の標本平均 128.451g は、ただの偶然か？"
   ]
  },
  {
   "cell_type": "code",
   "execution_count": 12,
   "metadata": {},
   "outputs": [],
   "source": [
    "# ライブラリーの準備\n",
    "import numpy as np\n",
    "import pandas as pd\n",
    "from scipy import stats\n",
    "\n",
    "%precision 3\n",
    "np.random.seed(1111)"
   ]
  },
  {
   "cell_type": "code",
   "execution_count": 13,
   "metadata": {},
   "outputs": [
    {
     "data": {
      "text/plain": [
       "array([122.02, 131.73, 130.6 , 131.82, 132.05, 126.12, 124.43, 132.89,\n",
       "       122.79, 129.95, 126.14, 134.45, 127.64, 125.68])"
      ]
     },
     "execution_count": 13,
     "metadata": {},
     "output_type": "execute_result"
    }
   ],
   "source": [
    "# データの準備\n",
    "df = pd.read_csv('../data/ch11_potato.csv')\n",
    "sample = np.array(df['重さ'])\n",
    "sample"
   ]
  },
  {
   "cell_type": "code",
   "execution_count": 14,
   "metadata": {},
   "outputs": [
    {
     "data": {
      "text/plain": [
       "128.451"
      ]
     },
     "execution_count": 14,
     "metadata": {},
     "output_type": "execute_result"
    }
   ],
   "source": [
    "# 標本平均の求める\n",
    "s_mean = np.mean(sample)\n",
    "s_mean"
   ]
  },
  {
   "cell_type": "markdown",
   "metadata": {},
   "source": [
    "## 11.1 | 統計的仮説検定とは\n",
    "\n",
    "- 統計的仮説検定（statistical hypothesis testing）\n",
    "  - 母集団の母数に関する2つの仮設をたて、標本から計算される統計量を用いてどちらの仮設が正しいかを判断する統計的な枠組み。"
   ]
  },
  {
   "cell_type": "markdown",
   "metadata": {},
   "source": [
    "### 11.1.1 統計的仮説検定の基本\n",
    "\n",
    "- 母平均が 130g より少ないかどうか？\n",
    "- フライドポテトの母集団が「正規分布」にしたがっていて、母分散が「9」とする。\n",
    "- 仮説検定では、\n",
    "  - 「母平均が130g」と仮定する。\n",
    "  - この仮定のもとで、14個の標本は$X_1, X_2, ..., X_14 \\sim^i.i.d. N(130, 9)$ にしたがう。\n",
    "  - 標本平均 $\\overline{X}$ は $N(130, 9/14)$ にしたがうことになる。\n",
    "  - ここで、標本平均 $\\overline{X}$ が $P(\\overline{X} \\leq x) = 0.05$ を満たす $x$ を考える。"
   ]
  },
  {
   "cell_type": "code",
   "execution_count": 15,
   "metadata": {},
   "outputs": [
    {
     "data": {
      "text/plain": [
       "128.681"
      ]
     },
     "execution_count": 15,
     "metadata": {},
     "output_type": "execute_result"
    }
   ],
   "source": [
    "rv = stats.norm(130, np.sqrt(9/14))\n",
    "rv.isf(0.95)"
   ]
  },
  {
   "cell_type": "markdown",
   "metadata": {},
   "source": [
    "- $P(\\overline{X} \\leq 128.681) = 0.05$ となる。\n",
    "- 標本平均が「128.681g」以下の重さになることは「5%」の確率で発生する。\n",
    "- Aさんが抽出した標本平均が「128.451g」となったのは、5%の確率で発生する出来事と言える。\n",
    "- 仮説検定の大枠の考え方\n",
    "  - 「標本平均が 128.451g という 128.681g 以下の重さとなった」のは、「母平均 130g」という仮説のもとで「5% の確率でしか発生しない出来事」が偶然起きたのではなく、もともと「母平均が 130g より少ない」と考える。\n",
    "  - これによって、「母平均が 130g より少ない」と結論づける。"
   ]
  },
  {
   "cell_type": "markdown",
   "metadata": {},
   "source": [
    "- 仮説検定では母数に関する2つの仮説をたてる。\n",
    "  - 帰無仮説（null hypothesis）$H_0$\n",
    "    - 対立仮説とは逆の仮説。「差がない」、「効果がない」\n",
    "  - 対立仮説（alternative hypothesis）$H_1$\n",
    "    - 主張したい仮説。「差がある」、「効果がある」\n",
    "- 仮説検定から得られる結論\n",
    "  - 帰無仮説を棄却する（reject the null hypothesis）\n",
    "    - 「帰無仮説は正しくない」という結論。\n",
    "  - 帰無仮説を採択する（accept the null hypothesis）\n",
    "    - 「帰無仮説が正しくないとはいえない」という解釈\n",
    "    - 「帰無仮説が正しいかどうかわからない」という保留の結論\n",
    "  - 帰無仮説の「棄却・採択」の判断\n",
    "    - 帰無仮説を仮定したもとで標本から計算される統計量が珍しい値がどうかで判断する。\n",
    "    - 珍しい値が得られたら、「それは偶然ではなく何か意味のある値だ」と考えて帰無仮説を棄却する。\n",
    "    - そうでなければ、帰無仮説を採択する。\n",
    "  - 有意である（significant）\n",
    "    - 偶然ではなく何か意味がるということ。\n",
    "  - 棄却域（rejection region）\n",
    "    - 帰無仮説が棄却される区間のこと\n",
    "  - 採択域（acceptance region）\n",
    "    - 帰無仮説が採択される区間のこと\n",
    "  - 有意水準（level of significance）\n",
    "    - 棄却域に入る確率\n",
    "  - 臨界値（critical value）\n",
    "    - しきい値\n",
    "  - 検定統計量（test statistic）\n",
    "    - 検定に使われる統計量\n",
    "  - p値（p-value）\n",
    "    - 検定統計量より左側の領域の面積\n",
    "- フライドポテトの例では、\n",
    "  - 有意水準: 5%\n",
    "  - 検定統計量: 標本平均\n",
    "  - 臨界値: 128.681"
   ]
  },
  {
   "cell_type": "markdown",
   "metadata": {},
   "source": [
    "フライドポテトの重さの平均値について仮説検定を考える\n",
    "\n",
    "- 帰無仮説「母平均は 130g」を仮定\n",
    "- 14個のフライドポテトは互いに独立に $N(130, 9)$ にしたがう。\n",
    "- 標本平均 $\\overline{X}$ は $N(130, 9/14)$ にしたがう。\n",
    "- 一般化して説明するため、標本平均 $\\overline{X}$ を標準化する。\n",
    "  - $Z = (\\overline{X} - 130) / \\sqrt{\\frac{9}{14}}$\n",
    "- 標準化することで上側$100\\alpha\\%$点を $z_alpha$ で表すことができる。\n",
    "- 臨界値 $P((\\overline{X} - 130)/\\sqrt{\\frac{9}{14}} \\leq x) = 0.05$ を満たす $x$、すなわち $x = z_{0.95}$ を求めることができる。\n",
    "- $(\\overline{X} - 130)/\\sqrt{\\frac{9}{14}} \\leq  z_{0.95}$ であれば、帰無仮説を棄却する。\n",
    "- $(\\overline{X} - 130)/\\sqrt{\\frac{9}{14}} \\geq  z_{0.95}$ であれば、帰無仮説を採択する。"
   ]
  },
  {
   "cell_type": "code",
   "execution_count": 16,
   "metadata": {},
   "outputs": [
    {
     "data": {
      "text/plain": [
       "-1.932"
      ]
     },
     "execution_count": 16,
     "metadata": {},
     "output_type": "execute_result"
    }
   ],
   "source": [
    "# 検定統計量を求める\n",
    "z = (s_mean - 130) / np.sqrt(9/14)\n",
    "z"
   ]
  },
  {
   "cell_type": "code",
   "execution_count": 17,
   "metadata": {},
   "outputs": [
    {
     "data": {
      "text/plain": [
       "-1.645"
      ]
     },
     "execution_count": 17,
     "metadata": {},
     "output_type": "execute_result"
    }
   ],
   "source": [
    "# 臨界値を求める\n",
    "rv = stats.norm()\n",
    "rv.isf(0.95)"
   ]
  },
  {
   "cell_type": "markdown",
   "metadata": {},
   "source": [
    "- 検定統計量と臨界値を比較する\n",
    "  - 検定統計量のほうが小さい値になっている。\n",
    "  - 帰無仮説が棄却される。\n",
    "  - 平均は 130g より少ないという結論になる。"
   ]
  },
  {
   "cell_type": "code",
   "execution_count": 18,
   "metadata": {},
   "outputs": [
    {
     "data": {
      "text/plain": [
       "0.027"
      ]
     },
     "execution_count": 18,
     "metadata": {},
     "output_type": "execute_result"
    }
   ],
   "source": [
    "# p値を求める\n",
    "rv.cdf(z)"
   ]
  },
  {
   "cell_type": "markdown",
   "metadata": {},
   "source": [
    "- p値が 0.027 という有意水準 0.05 より小さい値になったので、帰無仮説は棄却される。\n",
    "\n",
    "- 仮説検定の流れ\n",
    "  - 仮説をたてる（帰無仮説・対立仮説）\n",
    "  - 有意水準を決める\n",
    "  - 検定統計量を計算する\n",
    "  - p値を計算する\n",
    "  - 有意水準より大きいか？\n",
    "    - yes: 帰無仮説を採択\n",
    "    - no: 帰無仮説を棄却"
   ]
  },
  {
   "cell_type": "markdown",
   "metadata": {},
   "source": [
    "### 11.1.2 片側検定と両側検定\n",
    "\n",
    "- 片側検定\n",
    "  - 「母平均 130g より少ない」という対立仮説\n",
    "- 両側検定\n",
    "  - 「母平均 130g ではない」という対立仮説\n",
    "  - 「母平均 130g」より少ない場合と、「母平均 130g」より多い場合を考える。"
   ]
  },
  {
   "cell_type": "code",
   "execution_count": 19,
   "metadata": {},
   "outputs": [
    {
     "data": {
      "text/plain": [
       "-1.932"
      ]
     },
     "execution_count": 19,
     "metadata": {},
     "output_type": "execute_result"
    }
   ],
   "source": [
    "# 検定統計量\n",
    "z = (s_mean - 130) / np.sqrt(9/14)\n",
    "z"
   ]
  },
  {
   "cell_type": "code",
   "execution_count": 20,
   "metadata": {},
   "outputs": [
    {
     "data": {
      "text/plain": [
       "(-1.960, 1.960)"
      ]
     },
     "execution_count": 20,
     "metadata": {},
     "output_type": "execute_result"
    }
   ],
   "source": [
    "# 両側検定の臨界値\n",
    "# 標準正規分布の95%信頼区間\n",
    "rv = stats.norm()\n",
    "rv.interval(0.95)"
   ]
  },
  {
   "cell_type": "markdown",
   "metadata": {},
   "source": [
    "- 臨界値と検定統計量を比較する\n",
    "- 検定統計量が採択域に入っている。\n",
    "- 両側検定では帰無仮説は棄却されない。\n",
    "- 片側検定のほうが帰無仮説を棄却しやすい。"
   ]
  },
  {
   "cell_type": "code",
   "execution_count": 21,
   "metadata": {},
   "outputs": [
    {
     "data": {
      "text/plain": [
       "0.053"
      ]
     },
     "execution_count": 21,
     "metadata": {},
     "output_type": "execute_result"
    }
   ],
   "source": [
    "# 両側検定のp値\n",
    "# 上側と下側の両方の面積を考慮するため累積密度関数の値を2倍する\n",
    "rv.cdf(z) * 2"
   ]
  },
  {
   "cell_type": "markdown",
   "metadata": {},
   "source": [
    "- p値が有意水準 0.05 より大きくなっていることから、帰無仮説は棄却されない。"
   ]
  },
  {
   "cell_type": "markdown",
   "metadata": {},
   "source": [
    "### 11.1.3 仮説検定における2つの過誤\n",
    "\n",
    "仮説検定は標本を用いて確率的に結論を導いているため、判断を間違うこと（過誤）がある。\n",
    "- 第1種の過誤\n",
    "  - 帰無仮説が正しいときに、帰無仮説を棄却してしまう過誤\n",
    "  - 誤検出（false positive）\n",
    "  - 本来検出するべきでないものを検出している。\n",
    "  - 「平均が 130g」であるにもかかわらず、「平均は 130g より少ない」と結論づけてしまう状況。\n",
    "- 危険率 $\\alpha$\n",
    "  - 第1種の過誤を犯す確率\n",
    "  - 危険率は有意水準と一致するため、分析者が制御できる確率。\n",
    "\n",
    "- 第2種の過誤\n",
    "  - 対立仮説が正しいときに、帰無仮説を採択してしまう過誤\n",
    "  - 検出漏れ（false negative）\n",
    "  - 本来検出するべきものを検出できていない。\n",
    "  - 「平均が 130g よりも少ない」にもかかわらず、「母平均は 130g より少ない」という結論を得ることができない状況。\n",
    "- 検出力（power）$1 - \\beta$\n",
    "  - 第2種の過誤を犯す確率 $\\beta$\n",
    "  - $\\beta$ は母集団の情報に依存する。\n",
    "  - 本来、母集団の情報はわからないものなので、$\\beta$ は分析者が制御できない。"
   ]
  },
  {
   "cell_type": "code",
   "execution_count": 22,
   "metadata": {},
   "outputs": [
    {
     "data": {
      "text/plain": [
       "0.053"
      ]
     },
     "execution_count": 22,
     "metadata": {},
     "output_type": "execute_result"
    }
   ],
   "source": [
    "# 第1種の過誤（誤検出）がどのくらいの割合で発生してしまうかのシミュレーション\n",
    "# 「母平均が130g」であるにもかかわらず、「母平均は130gより少ない」と結論づけてしまう割合\n",
    "rv = stats.norm(130, 3)\n",
    "c = stats.norm().isf(0.95)\n",
    "n_samples = 10_000\n",
    "cnt = 0\n",
    "for _ in range(n_samples):\n",
    "    sample_ = np.round(rv.rvs(14), 2)\n",
    "    s_mean_ = np.mean(sample_)\n",
    "    z = (s_mean_ -130) / np.sqrt(9/14)\n",
    "    if z < c:\n",
    "        cnt += 1\n",
    "cnt / n_samples"
   ]
  },
  {
   "cell_type": "code",
   "execution_count": 23,
   "metadata": {},
   "outputs": [
    {
     "data": {
      "text/plain": [
       "0.197"
      ]
     },
     "execution_count": 23,
     "metadata": {},
     "output_type": "execute_result"
    }
   ],
   "source": [
    "# 第2種の過誤（検出漏れ）がどのくらいの割合で発生してしまうかのシミュレーション\n",
    "# 「母平均は130gより少ない」にもかかわらず、「母平均は130gより少ない」という結論を得ることができない割合\n",
    "rv = stats.norm(128, 3)\n",
    "c = stats.norm().isf(0.95)\n",
    "n_samples = 10_000\n",
    "cnt = 0\n",
    "for _ in range(n_samples):\n",
    "    sample_ = np.round(rv.rvs(14), 2)\n",
    "    s_mean_ = np.mean(sample_)\n",
    "    z = (s_mean_ - 130) / np.sqrt(9/14)\n",
    "    if z >= c:\n",
    "        cnt += 1\n",
    "cnt / n_samples\n"
   ]
  },
  {
   "cell_type": "markdown",
   "metadata": {},
   "source": [
    "## 11.2 | 基本的な仮説検定"
   ]
  },
  {
   "cell_type": "markdown",
   "metadata": {},
   "source": [
    "### 11.2.1 正規分布の母平均の検定（母分散既知）\n",
    "\n",
    "$X_1, X_2, ..., X_n \\sim^{i.i.d.} ~ N(\\mu, \\sigma^2)$ とする。\n",
    "\n",
    "このとき母平均 $\\mu$ に関する有意水準 $\\alpha$ の両側検定\n",
    "\n",
    "- 帰無仮説: $\\mu = \\mu_0$\n",
    "- 対立仮説: $\\mu \\neq \\mu_0$\n",
    "\n",
    "は、検定統計量に $Z = (\\overline{X} - \\mu_0) / \\sqrt{\\frac{\\sigma^2}{n}}$ を使い、\n",
    "\n",
    "$$\n",
    "\\begin{cases}\n",
    "Z < z_{1-\\alpha/2} ~ または ~ z_{\\alpha/2} < Z ~ ならば帰無仮説を棄却 \\\\\n",
    "z_{1-\\alpha/2} \\leq Z \\leq z_{\\alpha/2} ~ ならば帰無仮説を採択\n",
    "\\end{cases}\n",
    "$$\n",
    "\n",
    "で行われる。"
   ]
  },
  {
   "cell_type": "code",
   "execution_count": 25,
   "metadata": {},
   "outputs": [],
   "source": [
    "# 正規分布の母平均の検定（母分散既知）の実装\n",
    "def pmean_test(sample, mean0, p_var, alpha=0.05):\n",
    "    \"\"\"正規分布の母平均の検定（母分散既知）\"\"\"\n",
    "    s_mean = np.mean(sample)\n",
    "    n = len(sample)\n",
    "    rv = stats.norm()\n",
    "    interval = rv.interval(1 - alpha)\n",
    "\n",
    "    z = (s_mean - mean0) / np.sqrt(p_var/n)\n",
    "\n",
    "    if interval[0] <= z <= interval[1]:\n",
    "        print(\"帰無仮説を採択\")\n",
    "    else:\n",
    "        print(\"帰無仮説を棄却\")\n",
    "\n",
    "    if z < 0:\n",
    "        p = rv.cdf(z) * 2\n",
    "    else:\n",
    "        p = (1 - rv.cdf(z)) * 2\n",
    "    print(f\"p値: {p:.3f}\")\n"
   ]
  },
  {
   "cell_type": "code",
   "execution_count": 26,
   "metadata": {},
   "outputs": [
    {
     "name": "stdout",
     "output_type": "stream",
     "text": [
      "帰無仮説を採択\n",
      "p値: 0.053\n"
     ]
    }
   ],
   "source": [
    "# フライドポテトの標本データ\n",
    "pmean_test(sample, 130, 9)"
   ]
  },
  {
   "cell_type": "markdown",
   "metadata": {},
   "source": [
    "### 11.2.2 正規分布の母分散の検定\n",
    "\n",
    "$X_1, X_2, ..., X_n \\sim^{i.i.d.} ~ N(\\mu, \\sigma^2)$ とする。\n",
    "\n",
    "このとき母分散 $\\sigma^2$ に関する有意水準 $\\alpha$ の両側検定\n",
    "\n",
    "- 帰無仮説: $\\sigma^2 = \\sigma_0^2$\n",
    "- 対立仮説: $\\sigma^2 \\neq \\sigma_0^2$\n",
    "\n",
    "は、検定統計量に $Y = (n - 1)s^2 / \\sigma_0^2$ を使い、\n",
    "\n",
    "$$\n",
    "\\begin{cases}\n",
    "Y < \\chi_{1-\\alpha/2}^2 (n - 1) ~ または ~ \\chi_{\\alpha/2}^2 (n - 1) < Y ~ ならば帰無仮説を棄却 \\\\\n",
    "\\chi_{1-\\alpha/2}^2 (n - 1) \\leq Y \\leq \\chi_{\\alpha/2}^2 (n - 1) ~ ならば帰無仮説を採択\n",
    "\\end{cases}\n",
    "$$\n",
    "\n",
    "で行われる。"
   ]
  },
  {
   "cell_type": "code",
   "execution_count": 27,
   "metadata": {},
   "outputs": [],
   "source": [
    "# 正規分布の母分散の検定の実装\n",
    "def pvar_test(sample, var0, alpha=0.05):\n",
    "    \"\"\"正規分布の母分散の検定\"\"\"\n",
    "    u_var = np.var(sample, ddof=1)\n",
    "    n = len(sample)\n",
    "    rv = stats.chi2(df=n-1)\n",
    "    interval = rv.interval(1 - alpha)\n",
    "\n",
    "    y = (n - 1) * u_var / var0\n",
    "\n",
    "    if interval[0] <= y <= interval[1]:\n",
    "        print(\"帰無仮説を採択\")\n",
    "    else:\n",
    "        print(\"帰無仮説を棄却\")\n",
    "    \n",
    "    if y < rv.isf(0.5):\n",
    "        p = rv.cdf(y) * 2\n",
    "    else:\n",
    "        p = (1 - rv.cdf(y)) * 2\n",
    "    print(f\"p値: {p:.3f}\")"
   ]
  },
  {
   "cell_type": "code",
   "execution_count": 28,
   "metadata": {},
   "outputs": [
    {
     "name": "stdout",
     "output_type": "stream",
     "text": [
      "帰無仮説を採択\n",
      "p値: 0.085\n"
     ]
    }
   ],
   "source": [
    "# フライドポテトの標本データ\n",
    "pvar_test(sample, 9)"
   ]
  },
  {
   "cell_type": "markdown",
   "metadata": {},
   "source": [
    "### 11.2.3 正規分布の母分散の検定（母分散未知）\n",
    "\n",
    "- 1標本の t 検定（1sample t-test）\n",
    "  - 母分散がわからない状況における正規分布の母平均の検定\n",
    "  - t 検定統計量 $t = (\\overline{X} - \\mu_0) / \\sqrt{\\frac{s^2}{n}}$ を検定料として使う。\n",
    "  - 自由度 $n - 1$ の t分布にしたがう。\n",
    "\n",
    "&nbsp;\n",
    "\n",
    "$X_1, X_2, ..., X_n \\sim^{i.i.d.} ~ N(\\mu, \\sigma^2)$ とする。\n",
    "\n",
    "このとき母平均 $\\mu$ に関する有意水準 $\\alpha$ の両側検定\n",
    "\n",
    "- 帰無仮説: $\\mu = \\mu_0$\n",
    "- 対立仮説: $\\mu \\neq \\mu_0$\n",
    "\n",
    "は、検定統計量に $t = (\\overline{X} - \\mu_0) / \\sqrt{\\frac{s^2}{n}}$ を使い、\n",
    "\n",
    "$$\n",
    "\\begin{cases}\n",
    "t < t_{1-\\alpha/2}(n - 1) ~ または ~ t_{\\alpha/2}(n - 1) < t ~ ならば帰無仮説を棄却 \\\\\n",
    "t_{1-\\alpha/2}(n - 1) \\leq t \\leq t_{\\alpha/2}(n - 1) ~ ならば帰無仮説を採択\n",
    "\\end{cases}\n",
    "$$\n",
    "\n",
    "で行われる。"
   ]
  },
  {
   "cell_type": "code",
   "execution_count": 31,
   "metadata": {},
   "outputs": [],
   "source": [
    "# 正規分布の母分散の検定（母分散未知）の実装\n",
    "def pmean_test(sample, mean0, alpha=0.05):\n",
    "    \"\"\"正規分布の母分散の検定（母分散未知）\"\"\"\n",
    "    s_mean = np.mean(sample)\n",
    "    u_var = np.var(sample, ddof=1)\n",
    "    n = len(sample)\n",
    "    rv = stats.t(df=n-1)\n",
    "    interval = rv.interval(1 - alpha)\n",
    "\n",
    "    t = (s_mean - mean0) / np.sqrt(u_var/n)\n",
    "\n",
    "    if interval[0] <= t <= interval[1]:\n",
    "        print(\"帰無仮説を採択\")\n",
    "    else:\n",
    "        print(\"帰無仮説を棄却\")\n",
    "\n",
    "    if t < 0:\n",
    "        p = rv.cdf(t) * 2\n",
    "    else:\n",
    "        p = (1 - rv.cdf(t)) * 2\n",
    "    print(f\"p値: {p:.3f}\")"
   ]
  },
  {
   "cell_type": "code",
   "execution_count": 32,
   "metadata": {},
   "outputs": [
    {
     "name": "stdout",
     "output_type": "stream",
     "text": [
      "帰無仮説を採択\n",
      "p値: 0.169\n"
     ]
    }
   ],
   "source": [
    "# フライドポテトの標本データ\n",
    "pmean_test(sample, 130)"
   ]
  },
  {
   "cell_type": "code",
   "execution_count": 34,
   "metadata": {},
   "outputs": [
    {
     "data": {
      "text/plain": [
       "(-1.455, 0.169)"
      ]
     },
     "execution_count": 34,
     "metadata": {},
     "output_type": "execute_result"
    }
   ],
   "source": [
    "t, p = stats.ttest_1samp(sample, 130)\n",
    "t, p"
   ]
  }
 ],
 "metadata": {
  "interpreter": {
   "hash": "18aa02ce14a85bb7f4615a92049f5200f59992eb58b8bc2715593121788c94f0"
  },
  "kernelspec": {
   "display_name": "Python 3.9.12 ('sap_env': venv)",
   "language": "python",
   "name": "python3"
  },
  "language_info": {
   "codemirror_mode": {
    "name": "ipython",
    "version": 3
   },
   "file_extension": ".py",
   "mimetype": "text/x-python",
   "name": "python",
   "nbconvert_exporter": "python",
   "pygments_lexer": "ipython3",
   "version": "3.9.12"
  },
  "orig_nbformat": 4
 },
 "nbformat": 4,
 "nbformat_minor": 2
}
