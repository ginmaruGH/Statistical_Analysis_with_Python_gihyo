{
 "cells": [
  {
   "cell_type": "markdown",
   "metadata": {},
   "source": [
    "# Chapter11 統計的仮説検定\n",
    "\n",
    "- 公表されているフライドポテトの重さの平均 130g\n",
    "- サンプルサイズ14個の標本平均 128.451g\n",
    "- 14個の標本平均 128.451g は、ただの偶然か？"
   ]
  },
  {
   "cell_type": "code",
   "execution_count": 43,
   "metadata": {},
   "outputs": [],
   "source": [
    "# ライブラリーの準備\n",
    "import numpy as np\n",
    "import pandas as pd\n",
    "from scipy import stats\n",
    "\n",
    "%precision 3\n",
    "np.random.seed(1111)"
   ]
  },
  {
   "cell_type": "code",
   "execution_count": 44,
   "metadata": {},
   "outputs": [
    {
     "data": {
      "text/plain": [
       "array([122.02, 131.73, 130.6 , 131.82, 132.05, 126.12, 124.43, 132.89,\n",
       "       122.79, 129.95, 126.14, 134.45, 127.64, 125.68])"
      ]
     },
     "execution_count": 44,
     "metadata": {},
     "output_type": "execute_result"
    }
   ],
   "source": [
    "# データの準備\n",
    "df = pd.read_csv('../data/ch11_potato.csv')\n",
    "sample = np.array(df['重さ'])\n",
    "sample"
   ]
  },
  {
   "cell_type": "code",
   "execution_count": 45,
   "metadata": {},
   "outputs": [
    {
     "data": {
      "text/plain": [
       "128.451"
      ]
     },
     "execution_count": 45,
     "metadata": {},
     "output_type": "execute_result"
    }
   ],
   "source": [
    "# 標本平均の求める\n",
    "s_mean = np.mean(sample)\n",
    "s_mean"
   ]
  },
  {
   "cell_type": "markdown",
   "metadata": {},
   "source": [
    "## 11.1 | 統計的仮説検定とは\n",
    "\n",
    "- 統計的仮説検定（statistical hypothesis testing）\n",
    "  - 母集団の母数に関する2つの仮設をたて、標本から計算される統計量を用いてどちらの仮設が正しいかを判断する統計的な枠組み。"
   ]
  },
  {
   "cell_type": "markdown",
   "metadata": {},
   "source": [
    "### 11.1.1 統計的仮説検定の基本\n",
    "\n",
    "- 母平均が 130g より少ないかどうか？\n",
    "- フライドポテトの母集団が「正規分布」にしたがっていて、母分散が「9」とする。\n",
    "- 仮説検定では、\n",
    "  - 「母平均が130g」と仮定する。\n",
    "  - この仮定のもとで、14個の標本は$X_1, X_2, ..., X_14 \\sim^i.i.d. N(130, 9)$ にしたがう。\n",
    "  - 標本平均 $\\overline{X}$ は $N(130, 9/14)$ にしたがうことになる。\n",
    "  - ここで、標本平均 $\\overline{X}$ が $P(\\overline{X} \\leq x) = 0.05$ を満たす $x$ を考える。"
   ]
  },
  {
   "cell_type": "code",
   "execution_count": 46,
   "metadata": {},
   "outputs": [
    {
     "data": {
      "text/plain": [
       "128.681"
      ]
     },
     "execution_count": 46,
     "metadata": {},
     "output_type": "execute_result"
    }
   ],
   "source": [
    "rv = stats.norm(130, np.sqrt(9/14))\n",
    "rv.isf(0.95)"
   ]
  },
  {
   "cell_type": "markdown",
   "metadata": {},
   "source": [
    "- $P(\\overline{X} \\leq 128.681) = 0.05$ となる。\n",
    "- 標本平均が「128.681g」以下の重さになることは「5%」の確率で発生する。\n",
    "- Aさんが抽出した標本平均が「128.451g」となったのは、5%の確率で発生する出来事と言える。\n",
    "- 仮説検定の大枠の考え方\n",
    "  - 「標本平均が 128.451g という 128.681g 以下の重さとなった」のは、「母平均 130g」という仮説のもとで「5% の確率でしか発生しない出来事」が偶然起きたのではなく、もともと「母平均が 130g より少ない」と考える。\n",
    "  - これによって、「母平均が 130g より少ない」と結論づける。"
   ]
  },
  {
   "cell_type": "markdown",
   "metadata": {},
   "source": [
    "- 仮説検定では母数に関する2つの仮説をたてる。\n",
    "  - 帰無仮説（null hypothesis）$H_0$\n",
    "    - 対立仮説とは逆の仮説。「差がない」、「効果がない」\n",
    "  - 対立仮説（alternative hypothesis）$H_1$\n",
    "    - 主張したい仮説。「差がある」、「効果がある」\n",
    "- 仮説検定から得られる結論\n",
    "  - 帰無仮説を棄却する（reject the null hypothesis）\n",
    "    - 「帰無仮説は正しくない」という結論。\n",
    "  - 帰無仮説を採択する（accept the null hypothesis）\n",
    "    - 「帰無仮説が正しくないとはいえない」という解釈\n",
    "    - 「帰無仮説が正しいかどうかわからない」という保留の結論\n",
    "  - 帰無仮説の「棄却・採択」の判断\n",
    "    - 帰無仮説を仮定したもとで標本から計算される統計量が珍しい値がどうかで判断する。\n",
    "    - 珍しい値が得られたら、「それは偶然ではなく何か意味のある値だ」と考えて帰無仮説を棄却する。\n",
    "    - そうでなければ、帰無仮説を採択する。\n",
    "  - 有意である（significant）\n",
    "    - 偶然ではなく何か意味がるということ。\n",
    "  - 棄却域（rejection region）\n",
    "    - 帰無仮説が棄却される区間のこと\n",
    "  - 採択域（acceptance region）\n",
    "    - 帰無仮説が採択される区間のこと\n",
    "  - 有意水準（level of significance）\n",
    "    - 棄却域に入る確率\n",
    "  - 臨界値（critical value）\n",
    "    - しきい値\n",
    "  - 検定統計量（test statistic）\n",
    "    - 検定に使われる統計量\n",
    "  - p値（p-value）\n",
    "    - 検定統計量より左側の領域の面積\n",
    "- フライドポテトの例では、\n",
    "  - 有意水準: 5%\n",
    "  - 検定統計量: 標本平均\n",
    "  - 臨界値: 128.681"
   ]
  },
  {
   "cell_type": "markdown",
   "metadata": {},
   "source": [
    "フライドポテトの重さの平均値について仮説検定を考える\n",
    "\n",
    "- 帰無仮説「母平均は 130g」を仮定\n",
    "- 14個のフライドポテトは互いに独立に $N(130, 9)$ にしたがう。\n",
    "- 標本平均 $\\overline{X}$ は $N(130, 9/14)$ にしたがう。\n",
    "- 一般化して説明するため、標本平均 $\\overline{X}$ を標準化する。\n",
    "  - $Z = (\\overline{X} - 130) / \\sqrt{\\frac{9}{14}}$\n",
    "- 標準化することで上側$100\\alpha\\%$点を $z_alpha$ で表すことができる。\n",
    "- 臨界値 $P((\\overline{X} - 130)/\\sqrt{\\frac{9}{14}} \\leq x) = 0.05$ を満たす $x$、すなわち $x = z_{0.95}$ を求めることができる。\n",
    "- $(\\overline{X} - 130)/\\sqrt{\\frac{9}{14}} \\leq  z_{0.95}$ であれば、帰無仮説を棄却する。\n",
    "- $(\\overline{X} - 130)/\\sqrt{\\frac{9}{14}} \\geq  z_{0.95}$ であれば、帰無仮説を採択する。"
   ]
  },
  {
   "cell_type": "code",
   "execution_count": 47,
   "metadata": {},
   "outputs": [
    {
     "data": {
      "text/plain": [
       "-1.932"
      ]
     },
     "execution_count": 47,
     "metadata": {},
     "output_type": "execute_result"
    }
   ],
   "source": [
    "# 検定統計量を求める\n",
    "z = (s_mean - 130) / np.sqrt(9/14)\n",
    "z"
   ]
  },
  {
   "cell_type": "code",
   "execution_count": 48,
   "metadata": {},
   "outputs": [
    {
     "data": {
      "text/plain": [
       "-1.645"
      ]
     },
     "execution_count": 48,
     "metadata": {},
     "output_type": "execute_result"
    }
   ],
   "source": [
    "# 臨界値を求める\n",
    "rv = stats.norm()\n",
    "rv.isf(0.95)"
   ]
  },
  {
   "cell_type": "markdown",
   "metadata": {},
   "source": [
    "- 検定統計量と臨界値を比較する\n",
    "  - 検定統計量のほうが小さい値になっている。\n",
    "  - 帰無仮説が棄却される。\n",
    "  - 平均は 130g より少ないという結論になる。"
   ]
  },
  {
   "cell_type": "code",
   "execution_count": 49,
   "metadata": {},
   "outputs": [
    {
     "data": {
      "text/plain": [
       "0.027"
      ]
     },
     "execution_count": 49,
     "metadata": {},
     "output_type": "execute_result"
    }
   ],
   "source": [
    "# p値を求める\n",
    "rv.cdf(z)"
   ]
  },
  {
   "cell_type": "markdown",
   "metadata": {},
   "source": [
    "- p値が 0.027 という有意水準 0.05 より小さい値になったので、帰無仮説は棄却される。\n",
    "\n",
    "- 仮説検定の流れ\n",
    "  - 仮説をたてる（帰無仮説・対立仮説）\n",
    "  - 有意水準を決める\n",
    "  - 検定統計量を計算する\n",
    "  - p値を計算する\n",
    "  - 有意水準より大きいか？\n",
    "    - yes: 帰無仮説を採択\n",
    "    - no: 帰無仮説を棄却"
   ]
  },
  {
   "cell_type": "markdown",
   "metadata": {},
   "source": [
    "### 11.1.2 片側検定と両側検定\n",
    "\n",
    "- 片側検定\n",
    "  - 「母平均 130g より少ない」という対立仮説\n",
    "- 両側検定\n",
    "  - 「母平均 130g ではない」という対立仮説\n",
    "  - 「母平均 130g」より少ない場合と、「母平均 130g」より多い場合を考える。"
   ]
  },
  {
   "cell_type": "code",
   "execution_count": 50,
   "metadata": {},
   "outputs": [
    {
     "data": {
      "text/plain": [
       "-1.932"
      ]
     },
     "execution_count": 50,
     "metadata": {},
     "output_type": "execute_result"
    }
   ],
   "source": [
    "# 検定統計量\n",
    "z = (s_mean - 130) / np.sqrt(9/14)\n",
    "z"
   ]
  },
  {
   "cell_type": "code",
   "execution_count": 51,
   "metadata": {},
   "outputs": [
    {
     "data": {
      "text/plain": [
       "(-1.960, 1.960)"
      ]
     },
     "execution_count": 51,
     "metadata": {},
     "output_type": "execute_result"
    }
   ],
   "source": [
    "# 両側検定の臨界値\n",
    "# 標準正規分布の95%信頼区間\n",
    "rv = stats.norm()\n",
    "rv.interval(0.95)"
   ]
  },
  {
   "cell_type": "markdown",
   "metadata": {},
   "source": [
    "- 臨界値と検定統計量を比較する\n",
    "- 検定統計量が採択域に入っている。\n",
    "- 両側検定では帰無仮説は棄却されない。\n",
    "- 片側検定のほうが帰無仮説を棄却しやすい。"
   ]
  },
  {
   "cell_type": "code",
   "execution_count": 52,
   "metadata": {},
   "outputs": [
    {
     "data": {
      "text/plain": [
       "0.053"
      ]
     },
     "execution_count": 52,
     "metadata": {},
     "output_type": "execute_result"
    }
   ],
   "source": [
    "# 両側検定のp値\n",
    "# 上側と下側の両方の面積を考慮するため累積密度関数の値を2倍する\n",
    "rv.cdf(z) * 2"
   ]
  },
  {
   "cell_type": "markdown",
   "metadata": {},
   "source": [
    "- p値が有意水準 0.05 より大きくなっていることから、帰無仮説は棄却されない。"
   ]
  },
  {
   "cell_type": "markdown",
   "metadata": {},
   "source": [
    "### 11.1.3 仮説検定における2つの過誤\n",
    "\n",
    "仮説検定は標本を用いて確率的に結論を導いているため、判断を間違うこと（過誤）がある。\n",
    "- 第1種の過誤\n",
    "  - 帰無仮説が正しいときに、帰無仮説を棄却してしまう過誤\n",
    "  - 誤検出（false positive）\n",
    "  - 本来検出するべきでないものを検出している。\n",
    "  - 「平均が 130g」であるにもかかわらず、「平均は 130g より少ない」と結論づけてしまう状況。\n",
    "- 危険率 $\\alpha$\n",
    "  - 第1種の過誤を犯す確率\n",
    "  - 危険率は有意水準と一致するため、分析者が制御できる確率。\n",
    "\n",
    "- 第2種の過誤\n",
    "  - 対立仮説が正しいときに、帰無仮説を採択してしまう過誤\n",
    "  - 検出漏れ（false negative）\n",
    "  - 本来検出するべきものを検出できていない。\n",
    "  - 「平均が 130g よりも少ない」にもかかわらず、「母平均は 130g より少ない」という結論を得ることができない状況。\n",
    "- 検出力（power）$1 - \\beta$\n",
    "  - 第2種の過誤を犯す確率 $\\beta$\n",
    "  - $\\beta$ は母集団の情報に依存する。\n",
    "  - 本来、母集団の情報はわからないものなので、$\\beta$ は分析者が制御できない。"
   ]
  },
  {
   "cell_type": "code",
   "execution_count": 53,
   "metadata": {},
   "outputs": [
    {
     "data": {
      "text/plain": [
       "0.053"
      ]
     },
     "execution_count": 53,
     "metadata": {},
     "output_type": "execute_result"
    }
   ],
   "source": [
    "# 第1種の過誤（誤検出）がどのくらいの割合で発生してしまうかのシミュレーション\n",
    "# 「母平均が130g」であるにもかかわらず、「母平均は130gより少ない」と結論づけてしまう割合\n",
    "rv = stats.norm(130, 3)\n",
    "c = stats.norm().isf(0.95)\n",
    "n_samples = 10_000\n",
    "cnt = 0\n",
    "for _ in range(n_samples):\n",
    "    sample_ = np.round(rv.rvs(14), 2)\n",
    "    s_mean_ = np.mean(sample_)\n",
    "    z = (s_mean_ -130) / np.sqrt(9/14)\n",
    "    if z < c:\n",
    "        cnt += 1\n",
    "cnt / n_samples"
   ]
  },
  {
   "cell_type": "code",
   "execution_count": 54,
   "metadata": {},
   "outputs": [
    {
     "data": {
      "text/plain": [
       "0.197"
      ]
     },
     "execution_count": 54,
     "metadata": {},
     "output_type": "execute_result"
    }
   ],
   "source": [
    "# 第2種の過誤（検出漏れ）がどのくらいの割合で発生してしまうかのシミュレーション\n",
    "# 「母平均は130gより少ない」にもかかわらず、「母平均は130gより少ない」という結論を得ることができない割合\n",
    "rv = stats.norm(128, 3)\n",
    "c = stats.norm().isf(0.95)\n",
    "n_samples = 10_000\n",
    "cnt = 0\n",
    "for _ in range(n_samples):\n",
    "    sample_ = np.round(rv.rvs(14), 2)\n",
    "    s_mean_ = np.mean(sample_)\n",
    "    z = (s_mean_ - 130) / np.sqrt(9/14)\n",
    "    if z >= c:\n",
    "        cnt += 1\n",
    "cnt / n_samples\n"
   ]
  },
  {
   "cell_type": "markdown",
   "metadata": {},
   "source": [
    "## 11.2 | 基本的な仮説検定"
   ]
  },
  {
   "cell_type": "markdown",
   "metadata": {},
   "source": [
    "### 11.2.1 正規分布の母平均の検定（母分散既知）\n",
    "\n",
    "$X_1, X_2, ..., X_n \\sim^{i.i.d.} ~ N(\\mu, \\sigma^2)$ とする。\n",
    "\n",
    "このとき母平均 $\\mu$ に関する有意水準 $\\alpha$ の両側検定\n",
    "\n",
    "- 帰無仮説: $\\mu = \\mu_0$\n",
    "- 対立仮説: $\\mu \\neq \\mu_0$\n",
    "\n",
    "は、検定統計量に $Z = (\\overline{X} - \\mu_0) / \\sqrt{\\frac{\\sigma^2}{n}}$ を使い、\n",
    "\n",
    "$$\n",
    "\\begin{cases}\n",
    "Z < z_{1-\\alpha/2} ~ または ~ z_{\\alpha/2} < Z ~ ならば帰無仮説を棄却 \\\\\n",
    "z_{1-\\alpha/2} \\leq Z \\leq z_{\\alpha/2} ~ ならば帰無仮説を採択\n",
    "\\end{cases}\n",
    "$$\n",
    "\n",
    "で行われる。"
   ]
  },
  {
   "cell_type": "code",
   "execution_count": 55,
   "metadata": {},
   "outputs": [],
   "source": [
    "# 正規分布の母平均の検定（母分散既知）の実装\n",
    "def pmean_test(sample, mean0, p_var, alpha=0.05):\n",
    "    \"\"\"正規分布の母平均の検定（母分散既知）\"\"\"\n",
    "    s_mean = np.mean(sample)\n",
    "    n = len(sample)\n",
    "    rv = stats.norm()\n",
    "    interval = rv.interval(1 - alpha)\n",
    "\n",
    "    z = (s_mean - mean0) / np.sqrt(p_var/n)\n",
    "\n",
    "    if interval[0] <= z <= interval[1]:\n",
    "        print(\"帰無仮説を採択\")\n",
    "    else:\n",
    "        print(\"帰無仮説を棄却\")\n",
    "\n",
    "    if z < 0:\n",
    "        p = rv.cdf(z) * 2\n",
    "    else:\n",
    "        p = (1 - rv.cdf(z)) * 2\n",
    "    print(f\"p値: {p:.3f}\")\n"
   ]
  },
  {
   "cell_type": "code",
   "execution_count": 56,
   "metadata": {},
   "outputs": [
    {
     "name": "stdout",
     "output_type": "stream",
     "text": [
      "帰無仮説を採択\n",
      "p値: 0.053\n"
     ]
    }
   ],
   "source": [
    "# フライドポテトの標本データ\n",
    "pmean_test(sample, 130, 9)"
   ]
  },
  {
   "cell_type": "markdown",
   "metadata": {},
   "source": [
    "### 11.2.2 正規分布の母分散の検定\n",
    "\n",
    "$X_1, X_2, ..., X_n \\sim^{i.i.d.} ~ N(\\mu, \\sigma^2)$ とする。\n",
    "\n",
    "このとき母分散 $\\sigma^2$ に関する有意水準 $\\alpha$ の両側検定\n",
    "\n",
    "- 帰無仮説: $\\sigma^2 = \\sigma_0^2$\n",
    "- 対立仮説: $\\sigma^2 \\neq \\sigma_0^2$\n",
    "\n",
    "は、検定統計量に $Y = (n - 1)s^2 / \\sigma_0^2$ を使い、\n",
    "\n",
    "$$\n",
    "\\begin{cases}\n",
    "Y < \\chi_{1-\\alpha/2}^2 (n - 1) ~ または ~ \\chi_{\\alpha/2}^2 (n - 1) < Y ~ ならば帰無仮説を棄却 \\\\\n",
    "\\chi_{1-\\alpha/2}^2 (n - 1) \\leq Y \\leq \\chi_{\\alpha/2}^2 (n - 1) ~ ならば帰無仮説を採択\n",
    "\\end{cases}\n",
    "$$\n",
    "\n",
    "で行われる。"
   ]
  },
  {
   "cell_type": "code",
   "execution_count": 57,
   "metadata": {},
   "outputs": [],
   "source": [
    "# 正規分布の母分散の検定の実装\n",
    "def pvar_test(sample, var0, alpha=0.05):\n",
    "    \"\"\"正規分布の母分散の検定\"\"\"\n",
    "    u_var = np.var(sample, ddof=1)\n",
    "    n = len(sample)\n",
    "    rv = stats.chi2(df=n-1)\n",
    "    interval = rv.interval(1 - alpha)\n",
    "\n",
    "    y = (n - 1) * u_var / var0\n",
    "\n",
    "    if interval[0] <= y <= interval[1]:\n",
    "        print(\"帰無仮説を採択\")\n",
    "    else:\n",
    "        print(\"帰無仮説を棄却\")\n",
    "    \n",
    "    if y < rv.isf(0.5):\n",
    "        p = rv.cdf(y) * 2\n",
    "    else:\n",
    "        p = (1 - rv.cdf(y)) * 2\n",
    "    print(f\"p値: {p:.3f}\")"
   ]
  },
  {
   "cell_type": "code",
   "execution_count": 58,
   "metadata": {},
   "outputs": [
    {
     "name": "stdout",
     "output_type": "stream",
     "text": [
      "帰無仮説を採択\n",
      "p値: 0.085\n"
     ]
    }
   ],
   "source": [
    "# フライドポテトの標本データ\n",
    "pvar_test(sample, 9)"
   ]
  },
  {
   "cell_type": "markdown",
   "metadata": {},
   "source": [
    "### 11.2.3 正規分布の母分散の検定（母分散未知）\n",
    "\n",
    "- 1標本の t 検定（1sample t-test）\n",
    "  - 母分散がわからない状況における正規分布の母平均の検定\n",
    "  - t 検定統計量 $t = (\\overline{X} - \\mu_0) / \\sqrt{\\frac{s^2}{n}}$ を検定料として使う。\n",
    "  - 自由度 $n - 1$ の t分布にしたがう。\n",
    "\n",
    "&nbsp;\n",
    "\n",
    "$X_1, X_2, ..., X_n \\sim^{i.i.d.} ~ N(\\mu, \\sigma^2)$ とする。\n",
    "\n",
    "このとき母平均 $\\mu$ に関する有意水準 $\\alpha$ の両側検定\n",
    "\n",
    "- 帰無仮説: $\\mu = \\mu_0$\n",
    "- 対立仮説: $\\mu \\neq \\mu_0$\n",
    "\n",
    "は、検定統計量に $t = (\\overline{X} - \\mu_0) / \\sqrt{\\frac{s^2}{n}}$ を使い、\n",
    "\n",
    "$$\n",
    "\\begin{cases}\n",
    "t < t_{1-\\alpha/2}(n - 1) ~ または ~ t_{\\alpha/2}(n - 1) < t ~ ならば帰無仮説を棄却 \\\\\n",
    "t_{1-\\alpha/2}(n - 1) \\leq t \\leq t_{\\alpha/2}(n - 1) ~ ならば帰無仮説を採択\n",
    "\\end{cases}\n",
    "$$\n",
    "\n",
    "で行われる。"
   ]
  },
  {
   "cell_type": "code",
   "execution_count": 59,
   "metadata": {},
   "outputs": [],
   "source": [
    "# 正規分布の母分散の検定（母分散未知）の実装\n",
    "def pmean_test(sample, mean0, alpha=0.05):\n",
    "    \"\"\"正規分布の母分散の検定（母分散未知）\"\"\"\n",
    "    s_mean = np.mean(sample)\n",
    "    u_var = np.var(sample, ddof=1)\n",
    "    n = len(sample)\n",
    "    rv = stats.t(df=n-1)\n",
    "    interval = rv.interval(1 - alpha)\n",
    "\n",
    "    t = (s_mean - mean0) / np.sqrt(u_var/n)\n",
    "\n",
    "    if interval[0] <= t <= interval[1]:\n",
    "        print(\"帰無仮説を採択\")\n",
    "    else:\n",
    "        print(\"帰無仮説を棄却\")\n",
    "\n",
    "    if t < 0:\n",
    "        p = rv.cdf(t) * 2\n",
    "    else:\n",
    "        p = (1 - rv.cdf(t)) * 2\n",
    "    print(f\"p値: {p:.3f}\")"
   ]
  },
  {
   "cell_type": "code",
   "execution_count": 60,
   "metadata": {},
   "outputs": [
    {
     "name": "stdout",
     "output_type": "stream",
     "text": [
      "帰無仮説を採択\n",
      "p値: 0.169\n"
     ]
    }
   ],
   "source": [
    "# フライドポテトの標本データ\n",
    "pmean_test(sample, 130)"
   ]
  },
  {
   "cell_type": "code",
   "execution_count": 61,
   "metadata": {},
   "outputs": [
    {
     "data": {
      "text/plain": [
       "(-1.455, 0.169)"
      ]
     },
     "execution_count": 61,
     "metadata": {},
     "output_type": "execute_result"
    }
   ],
   "source": [
    "t, p = stats.ttest_1samp(sample, 130)\n",
    "t, p"
   ]
  },
  {
   "cell_type": "markdown",
   "metadata": {},
   "source": [
    "## 11.2 | 基本的な仮説検定\n",
    "\n",
    "- 2標本問題（two-sample problem）\n",
    "  - 2つの母集団に関する検定\n",
    "\n",
    "2標本の代表値の差の検定\n",
    "\n",
    "||正規分を仮定できる|正規分布を仮定できない|\n",
    "|:--:|:--:|:--:|\n",
    "|データに対応あり|対応のある t 検定|ウィルコクソンの符号付き順位検定|\n",
    "|データに対応なし|対応のない t 検定|マン・ホイットニーの U 検定|\n",
    "\n",
    "- データに対応があるとは、\n",
    "  - 2つのデータが同一の個体を異なる条件で測定したデータになっていること\n",
    "  - 同じ被験者に薬の「投与前」と「投与後」の2つの条件で血圧を計測したデータ\n",
    "  - ある試薬に血圧を上昇させる効果があるかを確かめるなど\n",
    "- データに対応がないとは、\n",
    "  - 2つのデータで個体が異なるデータになっていること\n",
    "  - A組のテストの点数とB組のテストの点数\n",
    "  - 2つのクラスで平均点に差があるかを確かめるなど\n",
    "- 独立性の検定\n",
    "  - WebマーケティングにおけるA/Bテストでもよく使われる検定手法\n",
    "  - 広告Aと広告Bで商品の購入割合が変わったかどうか調べることができる"
   ]
  },
  {
   "cell_type": "markdown",
   "metadata": {},
   "source": [
    "### 11.3.1 対応のあるt検定\n",
    "\n",
    "- 対応のある t 検定（paired t-test）\n",
    "  - 「データに対応があり」、「差に正規分布を仮定できる」場合の「平均値の差」の検定"
   ]
  },
  {
   "cell_type": "code",
   "execution_count": 62,
   "metadata": {},
   "outputs": [
    {
     "name": "stdout",
     "output_type": "stream",
     "text": [
      "(20, 2)\n"
     ]
    },
    {
     "data": {
      "text/html": [
       "<div>\n",
       "<style scoped>\n",
       "    .dataframe tbody tr th:only-of-type {\n",
       "        vertical-align: middle;\n",
       "    }\n",
       "\n",
       "    .dataframe tbody tr th {\n",
       "        vertical-align: top;\n",
       "    }\n",
       "\n",
       "    .dataframe thead th {\n",
       "        text-align: right;\n",
       "    }\n",
       "</style>\n",
       "<table border=\"1\" class=\"dataframe\">\n",
       "  <thead>\n",
       "    <tr style=\"text-align: right;\">\n",
       "      <th></th>\n",
       "      <th>前</th>\n",
       "      <th>後</th>\n",
       "    </tr>\n",
       "  </thead>\n",
       "  <tbody>\n",
       "    <tr>\n",
       "      <th>0</th>\n",
       "      <td>59</td>\n",
       "      <td>41</td>\n",
       "    </tr>\n",
       "    <tr>\n",
       "      <th>1</th>\n",
       "      <td>52</td>\n",
       "      <td>63</td>\n",
       "    </tr>\n",
       "    <tr>\n",
       "      <th>2</th>\n",
       "      <td>55</td>\n",
       "      <td>68</td>\n",
       "    </tr>\n",
       "    <tr>\n",
       "      <th>3</th>\n",
       "      <td>61</td>\n",
       "      <td>59</td>\n",
       "    </tr>\n",
       "    <tr>\n",
       "      <th>4</th>\n",
       "      <td>59</td>\n",
       "      <td>84</td>\n",
       "    </tr>\n",
       "  </tbody>\n",
       "</table>\n",
       "</div>"
      ],
      "text/plain": [
       "    前   後\n",
       "0  59  41\n",
       "1  52  63\n",
       "2  55  68\n",
       "3  61  59\n",
       "4  59  84"
      ]
     },
     "execution_count": 62,
     "metadata": {},
     "output_type": "execute_result"
    }
   ],
   "source": [
    "# データの準備\n",
    "training_rel = pd.read_csv('../data/ch11_training_rel.csv')\n",
    "print(training_rel.shape)\n",
    "training_rel.head()"
   ]
  },
  {
   "cell_type": "markdown",
   "metadata": {},
   "source": [
    "- 筋トレに集中力を向上させる効果があるかどうか\n",
    "- 筋トレ前後の集中力テストの平均点を比較する\n",
    "- 筋トレ前の集中力テストの平均点 $\\mu_{before}$\n",
    "- 筋トレ後の集中力テストの平均点 $\\mu_{after}$\n",
    "- 平均の差の検定\n",
    "  - 帰無仮説: $\\mu_{after} - \\mu_{before} = 0$\n",
    "  - 対立仮説: $\\mu_{after} - \\mu_{before} \\neq 0$"
   ]
  },
  {
   "cell_type": "code",
   "execution_count": 63,
   "metadata": {},
   "outputs": [
    {
     "data": {
      "text/html": [
       "<div>\n",
       "<style scoped>\n",
       "    .dataframe tbody tr th:only-of-type {\n",
       "        vertical-align: middle;\n",
       "    }\n",
       "\n",
       "    .dataframe tbody tr th {\n",
       "        vertical-align: top;\n",
       "    }\n",
       "\n",
       "    .dataframe thead th {\n",
       "        text-align: right;\n",
       "    }\n",
       "</style>\n",
       "<table border=\"1\" class=\"dataframe\">\n",
       "  <thead>\n",
       "    <tr style=\"text-align: right;\">\n",
       "      <th></th>\n",
       "      <th>前</th>\n",
       "      <th>後</th>\n",
       "      <th>差</th>\n",
       "    </tr>\n",
       "  </thead>\n",
       "  <tbody>\n",
       "    <tr>\n",
       "      <th>0</th>\n",
       "      <td>59</td>\n",
       "      <td>41</td>\n",
       "      <td>-18</td>\n",
       "    </tr>\n",
       "    <tr>\n",
       "      <th>1</th>\n",
       "      <td>52</td>\n",
       "      <td>63</td>\n",
       "      <td>11</td>\n",
       "    </tr>\n",
       "    <tr>\n",
       "      <th>2</th>\n",
       "      <td>55</td>\n",
       "      <td>68</td>\n",
       "      <td>13</td>\n",
       "    </tr>\n",
       "    <tr>\n",
       "      <th>3</th>\n",
       "      <td>61</td>\n",
       "      <td>59</td>\n",
       "      <td>-2</td>\n",
       "    </tr>\n",
       "    <tr>\n",
       "      <th>4</th>\n",
       "      <td>59</td>\n",
       "      <td>84</td>\n",
       "      <td>25</td>\n",
       "    </tr>\n",
       "  </tbody>\n",
       "</table>\n",
       "</div>"
      ],
      "text/plain": [
       "    前   後   差\n",
       "0  59  41 -18\n",
       "1  52  63  11\n",
       "2  55  68  13\n",
       "3  61  59  -2\n",
       "4  59  84  25"
      ]
     },
     "execution_count": 63,
     "metadata": {},
     "output_type": "execute_result"
    }
   ],
   "source": [
    "training_rel['差'] = training_rel['後'] - training_rel['前']\n",
    "training_rel.head()"
   ]
  },
  {
   "cell_type": "markdown",
   "metadata": {},
   "source": [
    "- もし筋トレが集中力テストに与える影響がないのであれば、その差はランダムにばらつき平均が「0」の分布となるはず。\n",
    "- そのため、この仮説検定は差の平均を $\\mu_{diff}$ として、\n",
    "  - 帰無仮説: $\\mu_{diff} = 0$\n",
    "  - 対立仮説: $\\mu_{diff} \\neq 0$\n",
    "\n",
    "と言い換えることができる。\n",
    "\n",
    "- 平均の差がそれぞれ独立に同一の正規分布にしたがっていると仮定できると、\n",
    "- 母分散のわからない場合の正規分布の母平均の検定（1標本のt検定）に帰着できる。"
   ]
  },
  {
   "cell_type": "code",
   "execution_count": 64,
   "metadata": {},
   "outputs": [
    {
     "data": {
      "text/plain": [
       "0.040"
      ]
     },
     "execution_count": 64,
     "metadata": {},
     "output_type": "execute_result"
    }
   ],
   "source": [
    "t, p = stats.ttest_1samp(training_rel['差'], 0)\n",
    "p"
   ]
  },
  {
   "cell_type": "markdown",
   "metadata": {},
   "source": [
    "- p値が有意水準を下回ったため、帰無仮説は棄却される。\n",
    "- どうやら筋トレは集中力テストに有意な差をもたらすよう。"
   ]
  },
  {
   "cell_type": "code",
   "execution_count": 65,
   "metadata": {},
   "outputs": [
    {
     "data": {
      "text/plain": [
       "0.040"
      ]
     },
     "execution_count": 65,
     "metadata": {},
     "output_type": "execute_result"
    }
   ],
   "source": [
    "t, p = stats.ttest_rel(training_rel['後'], training_rel['前'])\n",
    "p"
   ]
  },
  {
   "cell_type": "markdown",
   "metadata": {},
   "source": [
    "### 11.3.2 対応のないt検定\n",
    "\n",
    "- 対応のない t 検定（independent t-test）\n",
    "  - データに対応がなく、2標本の母集団に正規分布を仮定できる場合の平均値の差の検定"
   ]
  },
  {
   "cell_type": "code",
   "execution_count": 66,
   "metadata": {},
   "outputs": [
    {
     "name": "stdout",
     "output_type": "stream",
     "text": [
      "(20, 2)\n"
     ]
    },
    {
     "data": {
      "text/html": [
       "<div>\n",
       "<style scoped>\n",
       "    .dataframe tbody tr th:only-of-type {\n",
       "        vertical-align: middle;\n",
       "    }\n",
       "\n",
       "    .dataframe tbody tr th {\n",
       "        vertical-align: top;\n",
       "    }\n",
       "\n",
       "    .dataframe thead th {\n",
       "        text-align: right;\n",
       "    }\n",
       "</style>\n",
       "<table border=\"1\" class=\"dataframe\">\n",
       "  <thead>\n",
       "    <tr style=\"text-align: right;\">\n",
       "      <th></th>\n",
       "      <th>A</th>\n",
       "      <th>B</th>\n",
       "    </tr>\n",
       "  </thead>\n",
       "  <tbody>\n",
       "    <tr>\n",
       "      <th>0</th>\n",
       "      <td>47</td>\n",
       "      <td>49</td>\n",
       "    </tr>\n",
       "    <tr>\n",
       "      <th>1</th>\n",
       "      <td>50</td>\n",
       "      <td>52</td>\n",
       "    </tr>\n",
       "    <tr>\n",
       "      <th>2</th>\n",
       "      <td>37</td>\n",
       "      <td>54</td>\n",
       "    </tr>\n",
       "    <tr>\n",
       "      <th>3</th>\n",
       "      <td>60</td>\n",
       "      <td>48</td>\n",
       "    </tr>\n",
       "    <tr>\n",
       "      <th>4</th>\n",
       "      <td>39</td>\n",
       "      <td>51</td>\n",
       "    </tr>\n",
       "  </tbody>\n",
       "</table>\n",
       "</div>"
      ],
      "text/plain": [
       "    A   B\n",
       "0  47  49\n",
       "1  50  52\n",
       "2  37  54\n",
       "3  60  48\n",
       "4  39  51"
      ]
     },
     "execution_count": 66,
     "metadata": {},
     "output_type": "execute_result"
    }
   ],
   "source": [
    "# データの準備\n",
    "training_ind = pd.read_csv('../data/ch11_training_ind.csv')\n",
    "print(training_ind.shape)\n",
    "training_ind.head()"
   ]
  },
  {
   "cell_type": "markdown",
   "metadata": {},
   "source": [
    "- 筋トレに集中力を向上させる効果があるかどうか\n",
    "- 文化系（クラスA）と体育会系（クラスB）の集中力テストの平均点を比較する\n",
    "- クラスAの平均点 $\\mu_1$\n",
    "- クラスBの平均点 $\\mu_2$\n",
    "- 仮説検定\n",
    "  - 帰無仮説: $\\mu_1 - \\mu_2 = 0$\n",
    "  - 対立仮説: $\\mu_1 - \\mu_2 \\neq 0$\n",
    "- クラスAの標本、クラスBの標本は別々の母集団から抽出されたものと考える\n",
    "- それらの母集団に正規分布を仮定できると、\n",
    "  - クラスAの点数 $X_1, X_2, ..., X_{n1} ~ \\sim^{i.i.d.} ~ N(\\mu_1, \\sigma_1^2)$\n",
    "  - クラスBの点数 $Y_1, Y_2, ..., Y_{n2} ~ \\sim^{i.i.d.} ~ N(\\mu_2, \\sigma_2^2)$\n",
    "- と書くことができる\n",
    "\n",
    "これらの仮定のもとで検定統計量には、\n",
    "\n",
    "$$\n",
    "t = \\dfrac{(\\overline{X} - \\overline{Y}) - (\\mu_1 - \\mu_2)}\n",
    "{\\sqrt{\\frac{s_1^2}{n_1}} + \\frac{s_2^2}{n_2}}\n",
    "$$\n",
    "\n",
    "で表される t を使う。\n",
    "\n",
    "この t は自由度が、\n",
    "\n",
    "$$\n",
    "df = \\dfrac{(\\frac{s_1^2}{n_1} + \\frac{s_2^2}{n_2})^2}\n",
    "{\\frac{s_1^4}{n_1^2(n_1 - 1)} + \\frac{s_2^4}{n_2^2(n_2 - 1)}}\n",
    "$$\n",
    "\n",
    "の t 分布にしたがう。（これをウェルチの方法という）"
   ]
  },
  {
   "cell_type": "code",
   "execution_count": 67,
   "metadata": {},
   "outputs": [
    {
     "data": {
      "text/plain": [
       "0.087"
      ]
     },
     "execution_count": 67,
     "metadata": {},
     "output_type": "execute_result"
    }
   ],
   "source": [
    "# ウェルチの方法\n",
    "t, p = stats.ttest_ind(training_ind['A'], training_ind['B'], equal_var=False)\n",
    "p"
   ]
  },
  {
   "cell_type": "markdown",
   "metadata": {},
   "source": [
    "- 帰無仮説が採択される。\n",
    "- 文化系（クラスA）と体育会系（クラスB）の間に平均点に有意な差があるとはいえないという結論"
   ]
  },
  {
   "cell_type": "markdown",
   "metadata": {},
   "source": [
    "### 11.3.3 ウィルコクソンの符号付き順位検定\n",
    "\n",
    "- ウィルコクソンの符号付き順位検定（Wilcoxon signed=rank test）\n",
    "  - データに対応あり、差に正規分布を仮定できない場合の「中央値」の差の検定"
   ]
  },
  {
   "cell_type": "code",
   "execution_count": 68,
   "metadata": {},
   "outputs": [
    {
     "data": {
      "text/html": [
       "<div>\n",
       "<style scoped>\n",
       "    .dataframe tbody tr th:only-of-type {\n",
       "        vertical-align: middle;\n",
       "    }\n",
       "\n",
       "    .dataframe tbody tr th {\n",
       "        vertical-align: top;\n",
       "    }\n",
       "\n",
       "    .dataframe thead th {\n",
       "        text-align: right;\n",
       "    }\n",
       "</style>\n",
       "<table border=\"1\" class=\"dataframe\">\n",
       "  <thead>\n",
       "    <tr style=\"text-align: right;\">\n",
       "      <th></th>\n",
       "      <th>前</th>\n",
       "      <th>後</th>\n",
       "    </tr>\n",
       "  </thead>\n",
       "  <tbody>\n",
       "    <tr>\n",
       "      <th>0</th>\n",
       "      <td>59</td>\n",
       "      <td>41</td>\n",
       "    </tr>\n",
       "    <tr>\n",
       "      <th>1</th>\n",
       "      <td>52</td>\n",
       "      <td>63</td>\n",
       "    </tr>\n",
       "    <tr>\n",
       "      <th>2</th>\n",
       "      <td>55</td>\n",
       "      <td>68</td>\n",
       "    </tr>\n",
       "    <tr>\n",
       "      <th>3</th>\n",
       "      <td>61</td>\n",
       "      <td>59</td>\n",
       "    </tr>\n",
       "    <tr>\n",
       "      <th>4</th>\n",
       "      <td>59</td>\n",
       "      <td>84</td>\n",
       "    </tr>\n",
       "    <tr>\n",
       "      <th>5</th>\n",
       "      <td>45</td>\n",
       "      <td>37</td>\n",
       "    </tr>\n",
       "  </tbody>\n",
       "</table>\n",
       "</div>"
      ],
      "text/plain": [
       "    前   後\n",
       "0  59  41\n",
       "1  52  63\n",
       "2  55  68\n",
       "3  61  59\n",
       "4  59  84\n",
       "5  45  37"
      ]
     },
     "execution_count": 68,
     "metadata": {},
     "output_type": "execute_result"
    }
   ],
   "source": [
    "# データの準備\n",
    "training_rel = pd.read_csv('../data/ch11_training_rel.csv')\n",
    "toy_df = training_rel[:6].copy()\n",
    "toy_df"
   ]
  },
  {
   "cell_type": "code",
   "execution_count": 69,
   "metadata": {},
   "outputs": [
    {
     "data": {
      "text/html": [
       "<div>\n",
       "<style scoped>\n",
       "    .dataframe tbody tr th:only-of-type {\n",
       "        vertical-align: middle;\n",
       "    }\n",
       "\n",
       "    .dataframe tbody tr th {\n",
       "        vertical-align: top;\n",
       "    }\n",
       "\n",
       "    .dataframe thead th {\n",
       "        text-align: right;\n",
       "    }\n",
       "</style>\n",
       "<table border=\"1\" class=\"dataframe\">\n",
       "  <thead>\n",
       "    <tr style=\"text-align: right;\">\n",
       "      <th></th>\n",
       "      <th>前</th>\n",
       "      <th>後</th>\n",
       "      <th>差</th>\n",
       "    </tr>\n",
       "  </thead>\n",
       "  <tbody>\n",
       "    <tr>\n",
       "      <th>0</th>\n",
       "      <td>59</td>\n",
       "      <td>41</td>\n",
       "      <td>-18</td>\n",
       "    </tr>\n",
       "    <tr>\n",
       "      <th>1</th>\n",
       "      <td>52</td>\n",
       "      <td>63</td>\n",
       "      <td>11</td>\n",
       "    </tr>\n",
       "    <tr>\n",
       "      <th>2</th>\n",
       "      <td>55</td>\n",
       "      <td>68</td>\n",
       "      <td>13</td>\n",
       "    </tr>\n",
       "    <tr>\n",
       "      <th>3</th>\n",
       "      <td>61</td>\n",
       "      <td>59</td>\n",
       "      <td>-2</td>\n",
       "    </tr>\n",
       "    <tr>\n",
       "      <th>4</th>\n",
       "      <td>59</td>\n",
       "      <td>84</td>\n",
       "      <td>25</td>\n",
       "    </tr>\n",
       "    <tr>\n",
       "      <th>5</th>\n",
       "      <td>45</td>\n",
       "      <td>37</td>\n",
       "      <td>-8</td>\n",
       "    </tr>\n",
       "  </tbody>\n",
       "</table>\n",
       "</div>"
      ],
      "text/plain": [
       "    前   後   差\n",
       "0  59  41 -18\n",
       "1  52  63  11\n",
       "2  55  68  13\n",
       "3  61  59  -2\n",
       "4  59  84  25\n",
       "5  45  37  -8"
      ]
     },
     "execution_count": 69,
     "metadata": {},
     "output_type": "execute_result"
    }
   ],
   "source": [
    "diff = toy_df['後'] - toy_df['前']\n",
    "toy_df['差'] = diff\n",
    "toy_df"
   ]
  },
  {
   "cell_type": "code",
   "execution_count": 70,
   "metadata": {},
   "outputs": [
    {
     "data": {
      "text/html": [
       "<div>\n",
       "<style scoped>\n",
       "    .dataframe tbody tr th:only-of-type {\n",
       "        vertical-align: middle;\n",
       "    }\n",
       "\n",
       "    .dataframe tbody tr th {\n",
       "        vertical-align: top;\n",
       "    }\n",
       "\n",
       "    .dataframe thead th {\n",
       "        text-align: right;\n",
       "    }\n",
       "</style>\n",
       "<table border=\"1\" class=\"dataframe\">\n",
       "  <thead>\n",
       "    <tr style=\"text-align: right;\">\n",
       "      <th></th>\n",
       "      <th>前</th>\n",
       "      <th>後</th>\n",
       "      <th>差</th>\n",
       "      <th>順位</th>\n",
       "    </tr>\n",
       "  </thead>\n",
       "  <tbody>\n",
       "    <tr>\n",
       "      <th>0</th>\n",
       "      <td>59</td>\n",
       "      <td>41</td>\n",
       "      <td>-18</td>\n",
       "      <td>5</td>\n",
       "    </tr>\n",
       "    <tr>\n",
       "      <th>1</th>\n",
       "      <td>52</td>\n",
       "      <td>63</td>\n",
       "      <td>11</td>\n",
       "      <td>3</td>\n",
       "    </tr>\n",
       "    <tr>\n",
       "      <th>2</th>\n",
       "      <td>55</td>\n",
       "      <td>68</td>\n",
       "      <td>13</td>\n",
       "      <td>4</td>\n",
       "    </tr>\n",
       "    <tr>\n",
       "      <th>3</th>\n",
       "      <td>61</td>\n",
       "      <td>59</td>\n",
       "      <td>-2</td>\n",
       "      <td>1</td>\n",
       "    </tr>\n",
       "    <tr>\n",
       "      <th>4</th>\n",
       "      <td>59</td>\n",
       "      <td>84</td>\n",
       "      <td>25</td>\n",
       "      <td>6</td>\n",
       "    </tr>\n",
       "    <tr>\n",
       "      <th>5</th>\n",
       "      <td>45</td>\n",
       "      <td>37</td>\n",
       "      <td>-8</td>\n",
       "      <td>2</td>\n",
       "    </tr>\n",
       "  </tbody>\n",
       "</table>\n",
       "</div>"
      ],
      "text/plain": [
       "    前   後   差  順位\n",
       "0  59  41 -18   5\n",
       "1  52  63  11   3\n",
       "2  55  68  13   4\n",
       "3  61  59  -2   1\n",
       "4  59  84  25   6\n",
       "5  45  37  -8   2"
      ]
     },
     "execution_count": 70,
     "metadata": {},
     "output_type": "execute_result"
    }
   ],
   "source": [
    "# 差の絶対値が小さいものから順位付けを行う\n",
    "rank = stats.rankdata(abs(diff)).astype(int)\n",
    "toy_df['順位'] = rank\n",
    "toy_df"
   ]
  },
  {
   "cell_type": "code",
   "execution_count": 71,
   "metadata": {},
   "outputs": [
    {
     "data": {
      "text/plain": [
       "(8, 13)"
      ]
     },
     "execution_count": 71,
     "metadata": {},
     "output_type": "execute_result"
    }
   ],
   "source": [
    "# 「差の符号がマイナスの順位の和」と\n",
    "# 「差の符号がプラスの順位の和」を求める\n",
    "r_minus = np.sum((diff < 0) * rank)\n",
    "r_plus = np.sum((diff > 0) * rank)\n",
    "\n",
    "r_minus, r_plus"
   ]
  },
  {
   "cell_type": "markdown",
   "metadata": {},
   "source": [
    "- `r_minus, r_plus` のうち小さい方が検定統計量になる。\n",
    "- `r_minus = 8` \n",
    "- ウィルコクソンの符号付き順位検定では、検定統計量が臨界値より小さい場合に\n",
    "  - 帰無仮説が棄却されるような片側検定を行う。"
   ]
  },
  {
   "cell_type": "markdown",
   "metadata": {},
   "source": [
    "中央値に差がある状況を作る\n",
    "\n",
    "- 筋トレ後のテスト結果が全員向上した状況を作る"
   ]
  },
  {
   "cell_type": "code",
   "execution_count": 72,
   "metadata": {},
   "outputs": [
    {
     "data": {
      "text/html": [
       "<div>\n",
       "<style scoped>\n",
       "    .dataframe tbody tr th:only-of-type {\n",
       "        vertical-align: middle;\n",
       "    }\n",
       "\n",
       "    .dataframe tbody tr th {\n",
       "        vertical-align: top;\n",
       "    }\n",
       "\n",
       "    .dataframe thead th {\n",
       "        text-align: right;\n",
       "    }\n",
       "</style>\n",
       "<table border=\"1\" class=\"dataframe\">\n",
       "  <thead>\n",
       "    <tr style=\"text-align: right;\">\n",
       "      <th></th>\n",
       "      <th>前</th>\n",
       "      <th>後</th>\n",
       "      <th>差</th>\n",
       "      <th>順位</th>\n",
       "    </tr>\n",
       "  </thead>\n",
       "  <tbody>\n",
       "    <tr>\n",
       "      <th>0</th>\n",
       "      <td>59</td>\n",
       "      <td>60</td>\n",
       "      <td>1</td>\n",
       "      <td>1</td>\n",
       "    </tr>\n",
       "    <tr>\n",
       "      <th>1</th>\n",
       "      <td>52</td>\n",
       "      <td>54</td>\n",
       "      <td>2</td>\n",
       "      <td>2</td>\n",
       "    </tr>\n",
       "    <tr>\n",
       "      <th>2</th>\n",
       "      <td>55</td>\n",
       "      <td>58</td>\n",
       "      <td>3</td>\n",
       "      <td>3</td>\n",
       "    </tr>\n",
       "    <tr>\n",
       "      <th>3</th>\n",
       "      <td>61</td>\n",
       "      <td>65</td>\n",
       "      <td>4</td>\n",
       "      <td>4</td>\n",
       "    </tr>\n",
       "    <tr>\n",
       "      <th>4</th>\n",
       "      <td>59</td>\n",
       "      <td>64</td>\n",
       "      <td>5</td>\n",
       "      <td>5</td>\n",
       "    </tr>\n",
       "    <tr>\n",
       "      <th>5</th>\n",
       "      <td>45</td>\n",
       "      <td>51</td>\n",
       "      <td>6</td>\n",
       "      <td>6</td>\n",
       "    </tr>\n",
       "  </tbody>\n",
       "</table>\n",
       "</div>"
      ],
      "text/plain": [
       "    前   後  差  順位\n",
       "0  59  60  1   1\n",
       "1  52  54  2   2\n",
       "2  55  58  3   3\n",
       "3  61  65  4   4\n",
       "4  59  64  5   5\n",
       "5  45  51  6   6"
      ]
     },
     "execution_count": 72,
     "metadata": {},
     "output_type": "execute_result"
    }
   ],
   "source": [
    "toy_df['後'] = toy_df['前'] + np.arange(1, 7)\n",
    "diff = toy_df['後'] - toy_df['前']\n",
    "rank = stats.rankdata(abs(diff)).astype(int)\n",
    "toy_df['差'] = diff\n",
    "toy_df['順位'] = rank\n",
    "toy_df"
   ]
  },
  {
   "cell_type": "code",
   "execution_count": 73,
   "metadata": {},
   "outputs": [
    {
     "data": {
      "text/plain": [
       "(0, 21)"
      ]
     },
     "execution_count": 73,
     "metadata": {},
     "output_type": "execute_result"
    }
   ],
   "source": [
    "# 「差の符号がマイナスの順位の和」と\n",
    "# 「差の符号がプラスの順位の和」を求める\n",
    "r_minus = np.sum((diff < 0) * rank)\n",
    "r_plus = np.sum((diff > 0) * rank)\n",
    "\n",
    "r_minus, r_plus"
   ]
  },
  {
   "cell_type": "markdown",
   "metadata": {},
   "source": [
    "中央値に差がない状況を作る\n",
    "\n",
    "- 筋トレ後のテスト結果が上がった人、下がった人がいる状況を作る"
   ]
  },
  {
   "cell_type": "code",
   "execution_count": 74,
   "metadata": {},
   "outputs": [
    {
     "data": {
      "text/html": [
       "<div>\n",
       "<style scoped>\n",
       "    .dataframe tbody tr th:only-of-type {\n",
       "        vertical-align: middle;\n",
       "    }\n",
       "\n",
       "    .dataframe tbody tr th {\n",
       "        vertical-align: top;\n",
       "    }\n",
       "\n",
       "    .dataframe thead th {\n",
       "        text-align: right;\n",
       "    }\n",
       "</style>\n",
       "<table border=\"1\" class=\"dataframe\">\n",
       "  <thead>\n",
       "    <tr style=\"text-align: right;\">\n",
       "      <th></th>\n",
       "      <th>前</th>\n",
       "      <th>後</th>\n",
       "      <th>差</th>\n",
       "      <th>順位</th>\n",
       "    </tr>\n",
       "  </thead>\n",
       "  <tbody>\n",
       "    <tr>\n",
       "      <th>0</th>\n",
       "      <td>59</td>\n",
       "      <td>60</td>\n",
       "      <td>1</td>\n",
       "      <td>1</td>\n",
       "    </tr>\n",
       "    <tr>\n",
       "      <th>1</th>\n",
       "      <td>52</td>\n",
       "      <td>50</td>\n",
       "      <td>-2</td>\n",
       "      <td>2</td>\n",
       "    </tr>\n",
       "    <tr>\n",
       "      <th>2</th>\n",
       "      <td>55</td>\n",
       "      <td>52</td>\n",
       "      <td>-3</td>\n",
       "      <td>3</td>\n",
       "    </tr>\n",
       "    <tr>\n",
       "      <th>3</th>\n",
       "      <td>61</td>\n",
       "      <td>65</td>\n",
       "      <td>4</td>\n",
       "      <td>4</td>\n",
       "    </tr>\n",
       "    <tr>\n",
       "      <th>4</th>\n",
       "      <td>59</td>\n",
       "      <td>64</td>\n",
       "      <td>5</td>\n",
       "      <td>5</td>\n",
       "    </tr>\n",
       "    <tr>\n",
       "      <th>5</th>\n",
       "      <td>45</td>\n",
       "      <td>39</td>\n",
       "      <td>-6</td>\n",
       "      <td>6</td>\n",
       "    </tr>\n",
       "  </tbody>\n",
       "</table>\n",
       "</div>"
      ],
      "text/plain": [
       "    前   後  差  順位\n",
       "0  59  60  1   1\n",
       "1  52  50 -2   2\n",
       "2  55  52 -3   3\n",
       "3  61  65  4   4\n",
       "4  59  64  5   5\n",
       "5  45  39 -6   6"
      ]
     },
     "execution_count": 74,
     "metadata": {},
     "output_type": "execute_result"
    }
   ],
   "source": [
    "toy_df['後'] = toy_df['前'] + [1, -2, -3, 4, 5, -6]\n",
    "diff = toy_df['後'] - toy_df['前']\n",
    "rank = stats.rankdata(abs(diff)).astype(int)\n",
    "toy_df['差'] = diff\n",
    "toy_df['順位'] = rank\n",
    "toy_df"
   ]
  },
  {
   "cell_type": "code",
   "execution_count": 75,
   "metadata": {},
   "outputs": [
    {
     "data": {
      "text/plain": [
       "(11, 10)"
      ]
     },
     "execution_count": 75,
     "metadata": {},
     "output_type": "execute_result"
    }
   ],
   "source": [
    "# 「差の符号がマイナスの順位の和」と\n",
    "# 「差の符号がプラスの順位の和」を求める\n",
    "r_minus = np.sum((diff < 0) * rank)\n",
    "r_plus = np.sum((diff > 0) * rank)\n",
    "\n",
    "r_minus, r_plus"
   ]
  },
  {
   "cell_type": "markdown",
   "metadata": {},
   "source": [
    "- 差に偏りがあると\n",
    "  - 「差の符号がマイナスの順位の和」と「差の符号がプラスの順位の和」に差が大きくなる。\n",
    "  - 検定統計量は小さい値になる。\n",
    "- 差に偏りがないと\n",
    "  - 「差の符号がマイナスの順位の和」と「差の符号がプラスの順位の和」に差が小さくなる。\n",
    "  - 検定統計量は大きい値になる。\n",
    "- この理屈よって\n",
    "  - 検定統計量が臨界値を下回れば、中央値に差があると主張できる。\n",
    "- scipy.stats.wilcoxon()関数\n",
    "  - 符号付きの順位和を計算したあとに、標準化を行い正規分で検定を行う"
   ]
  },
  {
   "cell_type": "code",
   "execution_count": 76,
   "metadata": {},
   "outputs": [
    {
     "data": {
      "text/plain": [
       "(49.500, 0.036)"
      ]
     },
     "execution_count": 76,
     "metadata": {},
     "output_type": "execute_result"
    }
   ],
   "source": [
    "# scipy.stats.wilcoxon()関数を使用して検定する\n",
    "T, p = stats.wilcoxon(training_rel['前'], training_rel['後'])\n",
    "T, p"
   ]
  },
  {
   "cell_type": "code",
   "execution_count": 77,
   "metadata": {},
   "outputs": [
    {
     "data": {
      "text/plain": [
       "(49.500, 0.040)"
      ]
     },
     "execution_count": 77,
     "metadata": {},
     "output_type": "execute_result"
    }
   ],
   "source": [
    "T, p = stats.wilcoxon(training_rel['後'] - training_rel['前'])\n",
    "T, p"
   ]
  },
  {
   "cell_type": "markdown",
   "metadata": {},
   "source": [
    "- ウィルコクソンの符号付き順位検定は、母集団が正規分布にしたがう場合でも使える。\n",
    "- 母集団が正規分布に従っている場合、ウィルコクソンの符号付き順位検定は対応ありのt検定に比べて、検出力が下がる。"
   ]
  },
  {
   "cell_type": "code",
   "execution_count": 79,
   "metadata": {},
   "outputs": [],
   "source": [
    "# 差は、N(3, 4^2)にしたがうとして、サンプルサイズ20の標本データを1万組用意する\n",
    "n = 10_000\n",
    "diffs = np.round(stats.norm(3, 4).rvs(size=(n, 20)))"
   ]
  },
  {
   "cell_type": "code",
   "execution_count": 80,
   "metadata": {},
   "outputs": [
    {
     "data": {
      "text/plain": [
       "0.883"
      ]
     },
     "execution_count": 80,
     "metadata": {},
     "output_type": "execute_result"
    }
   ],
   "source": [
    "# 対応ありのt検定の検出力\n",
    "cnt = 0\n",
    "alpha = 0.05\n",
    "for diff in diffs:\n",
    "    t, p = stats.ttest_1samp(diff, 0)\n",
    "    if p < alpha:\n",
    "        cnt += 1\n",
    "cnt / n"
   ]
  },
  {
   "cell_type": "code",
   "execution_count": 81,
   "metadata": {},
   "outputs": [
    {
     "name": "stderr",
     "output_type": "stream",
     "text": [
      "/Users/takeru/Library/CloudStorage/OneDrive-個人用/Learn/Python/Statistical_Analysis_with_Python_gihyo/sap_env/lib/python3.9/site-packages/scipy/stats/_morestats.py:3145: UserWarning: Exact p-value calculation does not work if there are ties. Switching to normal approximation.\n",
      "  warnings.warn(\"Exact p-value calculation does not work if there are \"\n"
     ]
    },
    {
     "data": {
      "text/plain": [
       "0.873"
      ]
     },
     "execution_count": 81,
     "metadata": {},
     "output_type": "execute_result"
    }
   ],
   "source": [
    "# ウィルコクソンの符号付き順位検定の検出力\n",
    "cnt = 0\n",
    "alpha = 0.05\n",
    "for diff in diffs:\n",
    "    T, p = stats.wilcoxon(diff)\n",
    "    if p < alpha:\n",
    "        cnt += 1\n",
    "cnt / n"
   ]
  },
  {
   "cell_type": "markdown",
   "metadata": {},
   "source": [
    "### 11.3.4 マン・ホイットニーのU検定\n",
    "\n",
    "- マン・ホイットニーのU検定（Mann-Whitney rank test）\n",
    "  - データに対応がなく、2標本の母集団に正規分布を仮定できない場合の中央値の差の検定。\n",
    "  - ウィルコクソンの順位和検定ともいう。"
   ]
  },
  {
   "cell_type": "code",
   "execution_count": 82,
   "metadata": {},
   "outputs": [
    {
     "data": {
      "text/html": [
       "<div>\n",
       "<style scoped>\n",
       "    .dataframe tbody tr th:only-of-type {\n",
       "        vertical-align: middle;\n",
       "    }\n",
       "\n",
       "    .dataframe tbody tr th {\n",
       "        vertical-align: top;\n",
       "    }\n",
       "\n",
       "    .dataframe thead th {\n",
       "        text-align: right;\n",
       "    }\n",
       "</style>\n",
       "<table border=\"1\" class=\"dataframe\">\n",
       "  <thead>\n",
       "    <tr style=\"text-align: right;\">\n",
       "      <th></th>\n",
       "      <th>A</th>\n",
       "      <th>B</th>\n",
       "    </tr>\n",
       "  </thead>\n",
       "  <tbody>\n",
       "    <tr>\n",
       "      <th>0</th>\n",
       "      <td>47</td>\n",
       "      <td>49</td>\n",
       "    </tr>\n",
       "    <tr>\n",
       "      <th>1</th>\n",
       "      <td>50</td>\n",
       "      <td>52</td>\n",
       "    </tr>\n",
       "    <tr>\n",
       "      <th>2</th>\n",
       "      <td>37</td>\n",
       "      <td>54</td>\n",
       "    </tr>\n",
       "    <tr>\n",
       "      <th>3</th>\n",
       "      <td>60</td>\n",
       "      <td>48</td>\n",
       "    </tr>\n",
       "    <tr>\n",
       "      <th>4</th>\n",
       "      <td>39</td>\n",
       "      <td>51</td>\n",
       "    </tr>\n",
       "  </tbody>\n",
       "</table>\n",
       "</div>"
      ],
      "text/plain": [
       "    A   B\n",
       "0  47  49\n",
       "1  50  52\n",
       "2  37  54\n",
       "3  60  48\n",
       "4  39  51"
      ]
     },
     "execution_count": 82,
     "metadata": {},
     "output_type": "execute_result"
    }
   ],
   "source": [
    "# データの準備\n",
    "training_ind = pd.read_csv('../data/ch11_training_ind.csv')\n",
    "toy_df = training_ind[:5].copy()\n",
    "toy_df\n"
   ]
  },
  {
   "cell_type": "code",
   "execution_count": 83,
   "metadata": {},
   "outputs": [
    {
     "data": {
      "text/html": [
       "<div>\n",
       "<style scoped>\n",
       "    .dataframe tbody tr th:only-of-type {\n",
       "        vertical-align: middle;\n",
       "    }\n",
       "\n",
       "    .dataframe tbody tr th {\n",
       "        vertical-align: top;\n",
       "    }\n",
       "\n",
       "    .dataframe thead th {\n",
       "        text-align: right;\n",
       "    }\n",
       "</style>\n",
       "<table border=\"1\" class=\"dataframe\">\n",
       "  <thead>\n",
       "    <tr style=\"text-align: right;\">\n",
       "      <th></th>\n",
       "      <th>A</th>\n",
       "      <th>B</th>\n",
       "    </tr>\n",
       "  </thead>\n",
       "  <tbody>\n",
       "    <tr>\n",
       "      <th>0</th>\n",
       "      <td>3</td>\n",
       "      <td>5</td>\n",
       "    </tr>\n",
       "    <tr>\n",
       "      <th>1</th>\n",
       "      <td>6</td>\n",
       "      <td>8</td>\n",
       "    </tr>\n",
       "    <tr>\n",
       "      <th>2</th>\n",
       "      <td>1</td>\n",
       "      <td>9</td>\n",
       "    </tr>\n",
       "    <tr>\n",
       "      <th>3</th>\n",
       "      <td>10</td>\n",
       "      <td>4</td>\n",
       "    </tr>\n",
       "    <tr>\n",
       "      <th>4</th>\n",
       "      <td>2</td>\n",
       "      <td>7</td>\n",
       "    </tr>\n",
       "  </tbody>\n",
       "</table>\n",
       "</div>"
      ],
      "text/plain": [
       "    A  B\n",
       "0   3  5\n",
       "1   6  8\n",
       "2   1  9\n",
       "3  10  4\n",
       "4   2  7"
      ]
     },
     "execution_count": 83,
     "metadata": {},
     "output_type": "execute_result"
    }
   ],
   "source": [
    "# U検定では、データ全体に対して値が小さい順に順位付けを行う\n",
    "rank = stats.rankdata(np.concatenate([toy_df['A'], toy_df['B']]))\n",
    "rank_df = pd.DataFrame({\n",
    "    'A': rank[:5],\n",
    "    'B': rank[5:10]\n",
    "}).astype(int)\n",
    "rank_df"
   ]
  },
  {
   "cell_type": "markdown",
   "metadata": {},
   "source": [
    "- 検定統計量には「A」を使う。\n",
    "- 「A」によい順位が集まっていると、「A」の順位和は小さくなり、\n",
    "- 「A」に悪い順位が集まっていると、「A」の順位和は大きくなる。\n",
    "- 順位和は、2標本間のデータの偏りをうまく反映する。\n",
    "- U検定の検定統計量は、「A」についての順位和から「A」の大きさを $n_1$として、\n",
    "  - $n_1(n_1 + 1) / 2$ を引いたもの"
   ]
  },
  {
   "cell_type": "code",
   "execution_count": 84,
   "metadata": {},
   "outputs": [
    {
     "data": {
      "text/plain": [
       "7.000"
      ]
     },
     "execution_count": 84,
     "metadata": {},
     "output_type": "execute_result"
    }
   ],
   "source": [
    "n1 = len(rank_df['A'])\n",
    "u = rank_df['A'].sum() - (n1 * (n1 + 1)) / 2\n",
    "u"
   ]
  },
  {
   "cell_type": "markdown",
   "metadata": {},
   "source": [
    "- $n_1(n_1 + 1) / 2$は検定統計量の最小値を「0」にするため。\n",
    "  - $\\sum_{i=1}^n = n(n + 1)/2$\n",
    "- 「A」の順位和が最小となるのは、「A」によい順位がすべて集まった場合。"
   ]
  },
  {
   "cell_type": "code",
   "execution_count": 85,
   "metadata": {},
   "outputs": [
    {
     "data": {
      "text/html": [
       "<div>\n",
       "<style scoped>\n",
       "    .dataframe tbody tr th:only-of-type {\n",
       "        vertical-align: middle;\n",
       "    }\n",
       "\n",
       "    .dataframe tbody tr th {\n",
       "        vertical-align: top;\n",
       "    }\n",
       "\n",
       "    .dataframe thead th {\n",
       "        text-align: right;\n",
       "    }\n",
       "</style>\n",
       "<table border=\"1\" class=\"dataframe\">\n",
       "  <thead>\n",
       "    <tr style=\"text-align: right;\">\n",
       "      <th></th>\n",
       "      <th>A</th>\n",
       "      <th>B</th>\n",
       "    </tr>\n",
       "  </thead>\n",
       "  <tbody>\n",
       "    <tr>\n",
       "      <th>0</th>\n",
       "      <td>1</td>\n",
       "      <td>6</td>\n",
       "    </tr>\n",
       "    <tr>\n",
       "      <th>1</th>\n",
       "      <td>2</td>\n",
       "      <td>7</td>\n",
       "    </tr>\n",
       "    <tr>\n",
       "      <th>2</th>\n",
       "      <td>3</td>\n",
       "      <td>8</td>\n",
       "    </tr>\n",
       "    <tr>\n",
       "      <th>3</th>\n",
       "      <td>4</td>\n",
       "      <td>9</td>\n",
       "    </tr>\n",
       "    <tr>\n",
       "      <th>4</th>\n",
       "      <td>5</td>\n",
       "      <td>10</td>\n",
       "    </tr>\n",
       "  </tbody>\n",
       "</table>\n",
       "</div>"
      ],
      "text/plain": [
       "   A   B\n",
       "0  1   6\n",
       "1  2   7\n",
       "2  3   8\n",
       "3  4   9\n",
       "4  5  10"
      ]
     },
     "execution_count": 85,
     "metadata": {},
     "output_type": "execute_result"
    }
   ],
   "source": [
    "# 「A」によい順位が集まった場合のデータを作る\n",
    "rank_df = pd.DataFrame(\n",
    "    np.arange(1, 11).reshape(2, 5).T,\n",
    "    columns=['A', 'B']\n",
    ")\n",
    "rank_df"
   ]
  },
  {
   "cell_type": "code",
   "execution_count": 86,
   "metadata": {},
   "outputs": [
    {
     "data": {
      "text/plain": [
       "0.000"
      ]
     },
     "execution_count": 86,
     "metadata": {},
     "output_type": "execute_result"
    }
   ],
   "source": [
    "# U検定の検定統計量を計算する\n",
    "u = rank_df['A'].sum() - (n1 * (n1 + 1)) / 2\n",
    "u"
   ]
  },
  {
   "cell_type": "code",
   "execution_count": 87,
   "metadata": {},
   "outputs": [
    {
     "data": {
      "text/html": [
       "<div>\n",
       "<style scoped>\n",
       "    .dataframe tbody tr th:only-of-type {\n",
       "        vertical-align: middle;\n",
       "    }\n",
       "\n",
       "    .dataframe tbody tr th {\n",
       "        vertical-align: top;\n",
       "    }\n",
       "\n",
       "    .dataframe thead th {\n",
       "        text-align: right;\n",
       "    }\n",
       "</style>\n",
       "<table border=\"1\" class=\"dataframe\">\n",
       "  <thead>\n",
       "    <tr style=\"text-align: right;\">\n",
       "      <th></th>\n",
       "      <th>A</th>\n",
       "      <th>B</th>\n",
       "    </tr>\n",
       "  </thead>\n",
       "  <tbody>\n",
       "    <tr>\n",
       "      <th>0</th>\n",
       "      <td>6</td>\n",
       "      <td>1</td>\n",
       "    </tr>\n",
       "    <tr>\n",
       "      <th>1</th>\n",
       "      <td>7</td>\n",
       "      <td>2</td>\n",
       "    </tr>\n",
       "    <tr>\n",
       "      <th>2</th>\n",
       "      <td>8</td>\n",
       "      <td>3</td>\n",
       "    </tr>\n",
       "    <tr>\n",
       "      <th>3</th>\n",
       "      <td>9</td>\n",
       "      <td>4</td>\n",
       "    </tr>\n",
       "    <tr>\n",
       "      <th>4</th>\n",
       "      <td>10</td>\n",
       "      <td>5</td>\n",
       "    </tr>\n",
       "  </tbody>\n",
       "</table>\n",
       "</div>"
      ],
      "text/plain": [
       "    A  B\n",
       "0   6  1\n",
       "1   7  2\n",
       "2   8  3\n",
       "3   9  4\n",
       "4  10  5"
      ]
     },
     "execution_count": 87,
     "metadata": {},
     "output_type": "execute_result"
    }
   ],
   "source": [
    "# 「A」に悪い順位が集まった場合のデータを作る\n",
    "rank_df = pd.DataFrame(\n",
    "    np.arange(1, 11).reshape(2, 5)[::-1].T,\n",
    "    columns=['A', 'B']\n",
    ")\n",
    "rank_df\n"
   ]
  },
  {
   "cell_type": "code",
   "execution_count": 88,
   "metadata": {},
   "outputs": [
    {
     "data": {
      "text/plain": [
       "25.000"
      ]
     },
     "execution_count": 88,
     "metadata": {},
     "output_type": "execute_result"
    }
   ],
   "source": [
    "# U検定の検定統計量を計算する\n",
    "u = rank_df['A'].sum() - (n1 * (n1 + 1)) / 2\n",
    "u"
   ]
  },
  {
   "cell_type": "markdown",
   "metadata": {},
   "source": [
    "- 「A」によい順位ばかりが集まっている場合でも、\n",
    "- 「A」に悪い順位ばかりが集まっている場合でも、\n",
    "- 2標本の中央値に偏りがあることに変わりはない。\n",
    "- そのため、U検定は両側検定を行う。\n",
    "- 臨界値\n",
    "  - scipy.stats.mannwhitneyu()\n",
    "  - 引数: alternative='two-sided'"
   ]
  },
  {
   "cell_type": "code",
   "execution_count": 89,
   "metadata": {},
   "outputs": [
    {
     "data": {
      "text/plain": [
       "(130.000, 0.059)"
      ]
     },
     "execution_count": 89,
     "metadata": {},
     "output_type": "execute_result"
    }
   ],
   "source": [
    "u, p = stats.mannwhitneyu(\n",
    "    training_ind['A'], training_ind['B'],\n",
    "    alternative='two-sided'\n",
    ")\n",
    "u, p"
   ]
  },
  {
   "cell_type": "markdown",
   "metadata": {},
   "source": [
    "- U検定は母集団が正規分布にしたがっている場合、対応なしのt検定に比べて検出力が低くなる。"
   ]
  },
  {
   "cell_type": "markdown",
   "metadata": {},
   "source": [
    "### 11.3.5 カイ二乗検定\n",
    "\n",
    "- 独立性の検定（test for independence）\n",
    "  - 2つの変数 $X と Y$ について、「$X と Y$ は独立である」という帰無仮説\n",
    "  - 2つの変数 $X と Y$ について、「$X と Y$ は独立ではない」という対立仮説\n",
    "- によって行われる検定。\n",
    "  - カイ二乗検定（chi-square test）とも呼ばれる。\n",
    "  - カイ二乗分布が使われるため。"
   ]
  },
  {
   "cell_type": "code",
   "execution_count": 90,
   "metadata": {},
   "outputs": [
    {
     "name": "stdout",
     "output_type": "stream",
     "text": [
      "1000\n"
     ]
    },
    {
     "data": {
      "text/html": [
       "<div>\n",
       "<style scoped>\n",
       "    .dataframe tbody tr th:only-of-type {\n",
       "        vertical-align: middle;\n",
       "    }\n",
       "\n",
       "    .dataframe tbody tr th {\n",
       "        vertical-align: top;\n",
       "    }\n",
       "\n",
       "    .dataframe thead th {\n",
       "        text-align: right;\n",
       "    }\n",
       "</style>\n",
       "<table border=\"1\" class=\"dataframe\">\n",
       "  <thead>\n",
       "    <tr style=\"text-align: right;\">\n",
       "      <th></th>\n",
       "      <th>広告</th>\n",
       "      <th>購入</th>\n",
       "    </tr>\n",
       "  </thead>\n",
       "  <tbody>\n",
       "    <tr>\n",
       "      <th>0</th>\n",
       "      <td>B</td>\n",
       "      <td>しなかった</td>\n",
       "    </tr>\n",
       "    <tr>\n",
       "      <th>1</th>\n",
       "      <td>B</td>\n",
       "      <td>しなかった</td>\n",
       "    </tr>\n",
       "    <tr>\n",
       "      <th>2</th>\n",
       "      <td>A</td>\n",
       "      <td>した</td>\n",
       "    </tr>\n",
       "    <tr>\n",
       "      <th>3</th>\n",
       "      <td>A</td>\n",
       "      <td>した</td>\n",
       "    </tr>\n",
       "    <tr>\n",
       "      <th>4</th>\n",
       "      <td>B</td>\n",
       "      <td>しなかった</td>\n",
       "    </tr>\n",
       "  </tbody>\n",
       "</table>\n",
       "</div>"
      ],
      "text/plain": [
       "  広告     購入\n",
       "0  B  しなかった\n",
       "1  B  しなかった\n",
       "2  A     した\n",
       "3  A     した\n",
       "4  B  しなかった"
      ]
     },
     "execution_count": 90,
     "metadata": {},
     "output_type": "execute_result"
    }
   ],
   "source": [
    "# データの準備\n",
    "ad_df = pd.read_csv('../data/ch11_ad.csv')\n",
    "n = len(ad_df)\n",
    "print(n)\n",
    "ad_df.head()"
   ]
  },
  {
   "cell_type": "markdown",
   "metadata": {},
   "source": [
    "- クロス集計表\n",
    "  - 2変数版の度数分布のようなもの\n",
    "  - pd.crosstab()"
   ]
  },
  {
   "cell_type": "code",
   "execution_count": 91,
   "metadata": {},
   "outputs": [
    {
     "data": {
      "text/html": [
       "<div>\n",
       "<style scoped>\n",
       "    .dataframe tbody tr th:only-of-type {\n",
       "        vertical-align: middle;\n",
       "    }\n",
       "\n",
       "    .dataframe tbody tr th {\n",
       "        vertical-align: top;\n",
       "    }\n",
       "\n",
       "    .dataframe thead th {\n",
       "        text-align: right;\n",
       "    }\n",
       "</style>\n",
       "<table border=\"1\" class=\"dataframe\">\n",
       "  <thead>\n",
       "    <tr style=\"text-align: right;\">\n",
       "      <th>購入</th>\n",
       "      <th>した</th>\n",
       "      <th>しなかった</th>\n",
       "    </tr>\n",
       "    <tr>\n",
       "      <th>広告</th>\n",
       "      <th></th>\n",
       "      <th></th>\n",
       "    </tr>\n",
       "  </thead>\n",
       "  <tbody>\n",
       "    <tr>\n",
       "      <th>A</th>\n",
       "      <td>49</td>\n",
       "      <td>351</td>\n",
       "    </tr>\n",
       "    <tr>\n",
       "      <th>B</th>\n",
       "      <td>51</td>\n",
       "      <td>549</td>\n",
       "    </tr>\n",
       "  </tbody>\n",
       "</table>\n",
       "</div>"
      ],
      "text/plain": [
       "購入  した  しなかった\n",
       "広告           \n",
       "A   49    351\n",
       "B   51    549"
      ]
     },
     "execution_count": 91,
     "metadata": {},
     "output_type": "execute_result"
    }
   ],
   "source": [
    "ad_cross = pd.crosstab(ad_df['広告'], ad_df['購入'])\n",
    "ad_cross"
   ]
  },
  {
   "cell_type": "code",
   "execution_count": 92,
   "metadata": {},
   "outputs": [
    {
     "data": {
      "text/plain": [
       "広告\n",
       "A    0.1225\n",
       "B    0.0850\n",
       "dtype: float64"
      ]
     },
     "execution_count": 92,
     "metadata": {},
     "output_type": "execute_result"
    }
   ],
   "source": [
    "# 広告A, Bのそれぞれで商品を購入した割合を計算する\n",
    "ad_cross['した'] / (ad_cross['した'] + ad_cross['しなかった'])"
   ]
  },
  {
   "cell_type": "code",
   "execution_count": 93,
   "metadata": {},
   "outputs": [
    {
     "data": {
      "text/plain": [
       "(100, 900)"
      ]
     },
     "execution_count": 93,
     "metadata": {},
     "output_type": "execute_result"
    }
   ],
   "source": [
    "# 広告A, Bのいずれかの商品を購入した人数、購入しなかった人数\n",
    "n_yes, n_not = ad_cross.sum()\n",
    "n_yes, n_not"
   ]
  },
  {
   "cell_type": "code",
   "execution_count": 94,
   "metadata": {},
   "outputs": [
    {
     "data": {
      "text/plain": [
       "(400, 600)"
      ]
     },
     "execution_count": 94,
     "metadata": {},
     "output_type": "execute_result"
    }
   ],
   "source": [
    "# 広告A, Bのいずれかの広告を見た人数\n",
    "n_adA, n_adB = ad_cross.sum(axis=1)\n",
    "n_adA, n_adB"
   ]
  },
  {
   "cell_type": "markdown",
   "metadata": {},
   "source": [
    "- もし広告と購入が独立で、広告によって購入した割合が変わらないのであれば、\n",
    "- クロス集計はどのような結果になるのが、妥当かということを考える。\n",
    "- 期待度数（expected frequency）\n",
    "  - 広告と購入が独立な変数のときに期待される度数のこと\n",
    "- 観測度数（observed frequency）\n",
    "  - 実際に観測されたデータ"
   ]
  },
  {
   "cell_type": "code",
   "execution_count": 95,
   "metadata": {},
   "outputs": [
    {
     "data": {
      "text/html": [
       "<div>\n",
       "<style scoped>\n",
       "    .dataframe tbody tr th:only-of-type {\n",
       "        vertical-align: middle;\n",
       "    }\n",
       "\n",
       "    .dataframe tbody tr th {\n",
       "        vertical-align: top;\n",
       "    }\n",
       "\n",
       "    .dataframe thead th {\n",
       "        text-align: right;\n",
       "    }\n",
       "</style>\n",
       "<table border=\"1\" class=\"dataframe\">\n",
       "  <thead>\n",
       "    <tr style=\"text-align: right;\">\n",
       "      <th></th>\n",
       "      <th>した</th>\n",
       "      <th>しなかった</th>\n",
       "    </tr>\n",
       "  </thead>\n",
       "  <tbody>\n",
       "    <tr>\n",
       "      <th>A</th>\n",
       "      <td>40.0</td>\n",
       "      <td>360.0</td>\n",
       "    </tr>\n",
       "    <tr>\n",
       "      <th>B</th>\n",
       "      <td>60.0</td>\n",
       "      <td>540.0</td>\n",
       "    </tr>\n",
       "  </tbody>\n",
       "</table>\n",
       "</div>"
      ],
      "text/plain": [
       "     した  しなかった\n",
       "A  40.0  360.0\n",
       "B  60.0  540.0"
      ]
     },
     "execution_count": 95,
     "metadata": {},
     "output_type": "execute_result"
    }
   ],
   "source": [
    "# 期待度数の計算\n",
    "ad_ef = pd.DataFrame({\n",
    "    'した': [n_adA * n_yes / n, n_adB * n_yes / n],\n",
    "    'しなかった': [n_adA * n_not / n, n_adB * n_not / n]\n",
    "}, index=['A', 'B'])\n",
    "ad_ef"
   ]
  },
  {
   "cell_type": "markdown",
   "metadata": {},
   "source": [
    "- カイ二乗検定では、期待度数と観測度数の乖離を測ることで検定を行う。\n",
    "\n",
    "$$\n",
    "Y = \\sum_i \\sum_j \\dfrac{(O_{ij} - E_{ij})^2}{E_{ij}}\n",
    "$$\n",
    "\n",
    "- $O_{ij}$ : 観測度数の$i$行$j$列\n",
    "- $E_{ij}$ : 期待度数の$i$行$j$列"
   ]
  },
  {
   "cell_type": "code",
   "execution_count": 98,
   "metadata": {},
   "outputs": [
    {
     "data": {
      "text/plain": [
       "3.750"
      ]
     },
     "execution_count": 98,
     "metadata": {},
     "output_type": "execute_result"
    }
   ],
   "source": [
    "y = ((ad_cross - ad_ef) ** 2 / ad_ef).sum().sum()\n",
    "y"
   ]
  },
  {
   "cell_type": "markdown",
   "metadata": {},
   "source": [
    "- $Y$ は、自由度「1」のカイ二乗分布に近似的にしたがうことが知られている。"
   ]
  },
  {
   "cell_type": "code",
   "execution_count": 99,
   "metadata": {},
   "outputs": [
    {
     "data": {
      "text/plain": [
       "0.053"
      ]
     },
     "execution_count": 99,
     "metadata": {},
     "output_type": "execute_result"
    }
   ],
   "source": [
    "# p値を求める\n",
    "rv = stats.chi2(1)\n",
    "1 - rv.cdf(y)"
   ]
  },
  {
   "cell_type": "markdown",
   "metadata": {},
   "source": [
    "- これにより、帰無仮説は採択される。\n",
    "- 広告A,Bに有意な差は認められないという結論\n",
    "- scipy.stats.chi2_contingency()\n",
    "  - 返り値: 検定統計量、p値、自由度、期待度数"
   ]
  },
  {
   "cell_type": "code",
   "execution_count": 100,
   "metadata": {},
   "outputs": [
    {
     "data": {
      "text/plain": [
       "(3.750,\n",
       " 0.053,\n",
       " 1,\n",
       " array([[ 40., 360.],\n",
       "        [ 60., 540.]]))"
      ]
     },
     "execution_count": 100,
     "metadata": {},
     "output_type": "execute_result"
    }
   ],
   "source": [
    "chi2, p, dof, ef = stats.chi2_contingency(\n",
    "    ad_cross, correction=False\n",
    ")\n",
    "chi2, p, dof, ef"
   ]
  }
 ],
 "metadata": {
  "interpreter": {
   "hash": "18aa02ce14a85bb7f4615a92049f5200f59992eb58b8bc2715593121788c94f0"
  },
  "kernelspec": {
   "display_name": "Python 3.9.12 ('sap_env': venv)",
   "language": "python",
   "name": "python3"
  },
  "language_info": {
   "codemirror_mode": {
    "name": "ipython",
    "version": 3
   },
   "file_extension": ".py",
   "mimetype": "text/x-python",
   "name": "python",
   "nbconvert_exporter": "python",
   "pygments_lexer": "ipython3",
   "version": "3.9.12"
  },
  "orig_nbformat": 4
 },
 "nbformat": 4,
 "nbformat_minor": 2
}
