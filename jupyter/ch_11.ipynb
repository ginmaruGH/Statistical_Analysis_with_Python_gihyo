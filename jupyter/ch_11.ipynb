{
 "cells": [
  {
   "cell_type": "markdown",
   "metadata": {},
   "source": [
    "# Chapter11 統計的仮説検定\n",
    "\n",
    "- 公表されているフライドポテトの重さの平均 130g\n",
    "- サンプルサイズ14個の標本平均 128.451g\n",
    "- 14個の標本平均 128.451g は、ただの偶然か？"
   ]
  },
  {
   "cell_type": "code",
   "execution_count": 2,
   "metadata": {},
   "outputs": [],
   "source": [
    "# ライブラリーの準備\n",
    "import numpy as np\n",
    "import pandas as pd\n",
    "from scipy import stats\n",
    "\n",
    "%precision 3\n",
    "np.random.seed(1111)"
   ]
  },
  {
   "cell_type": "code",
   "execution_count": 3,
   "metadata": {},
   "outputs": [
    {
     "data": {
      "text/plain": [
       "array([122.02, 131.73, 130.6 , 131.82, 132.05, 126.12, 124.43, 132.89,\n",
       "       122.79, 129.95, 126.14, 134.45, 127.64, 125.68])"
      ]
     },
     "execution_count": 3,
     "metadata": {},
     "output_type": "execute_result"
    }
   ],
   "source": [
    "# データの準備\n",
    "df = pd.read_csv('../data/ch11_potato.csv')\n",
    "sample = np.array(df['重さ'])\n",
    "sample"
   ]
  },
  {
   "cell_type": "code",
   "execution_count": 4,
   "metadata": {},
   "outputs": [
    {
     "data": {
      "text/plain": [
       "128.451"
      ]
     },
     "execution_count": 4,
     "metadata": {},
     "output_type": "execute_result"
    }
   ],
   "source": [
    "# 標本平均の求める\n",
    "s_mean = np.mean(sample)\n",
    "s_mean"
   ]
  },
  {
   "cell_type": "markdown",
   "metadata": {},
   "source": [
    "## 11.1 | 統計的仮説検定とは\n",
    "\n",
    "- 統計的仮説検定（statistical hypothesis testing）\n",
    "  - 母集団の母数に関する2つの仮設をたて、標本から計算される統計量を用いてどちらの仮設が正しいかを判断する統計的な枠組み。"
   ]
  },
  {
   "cell_type": "markdown",
   "metadata": {},
   "source": [
    "### 11.1.1 統計的仮説検定の基本\n",
    "\n",
    "- 母平均が 130g より少ないかどうか？\n",
    "- フライドポテトの母集団が「正規分布」にしたがっていて、母分散が「9」とする。\n",
    "- 仮説検定では、\n",
    "  - 「母平均が130g」と仮定する。\n",
    "  - この仮定のもとで、14個の標本は$X_1, X_2, ..., X_14 \\sim^i.i.d. N(130, 9)$ にしたがう。\n",
    "  - 標本平均 $\\overline{X}$ は $N(130, 9/14)$ にしたがうことになる。\n",
    "  - ここで、標本平均 $\\overline{X}$ が $P(\\overline{X} \\leq x) = 0.05$ を満たす $x$ を考える。"
   ]
  },
  {
   "cell_type": "code",
   "execution_count": 5,
   "metadata": {},
   "outputs": [
    {
     "data": {
      "text/plain": [
       "128.681"
      ]
     },
     "execution_count": 5,
     "metadata": {},
     "output_type": "execute_result"
    }
   ],
   "source": [
    "rv = stats.norm(130, np.sqrt(9/14))\n",
    "rv.isf(0.95)"
   ]
  },
  {
   "cell_type": "markdown",
   "metadata": {},
   "source": [
    "- $P(\\overline{X} \\leq 128.681) = 0.05$ となる。\n",
    "- 標本平均が「128.681g」以下の重さになることは「5%」の確率で発生する。\n",
    "- Aさんが抽出した標本平均が「128.451g」となったのは、5%の確率で発生する出来事と言える。\n",
    "- 仮説検定の大枠の考え方\n",
    "  - 「標本平均が 128.451g という 128.681g 以下の重さとなった」のは、「母平均 130g」という仮説のもとで「5% の確率でしか発生しない出来事」が偶然起きたのではなく、もともと「母平均が 130g より少ない」と考える。\n",
    "  - これによって、「母平均が 130g より少ない」と結論づける。"
   ]
  },
  {
   "cell_type": "markdown",
   "metadata": {},
   "source": [
    "- 仮説検定では母数に関する2つの仮説をたてる。\n",
    "  - 帰無仮説（null hypothesis）$H_0$\n",
    "    - 対立仮説とは逆の仮説。「差がない」、「効果がない」\n",
    "  - 対立仮説（alternative hypothesis）$H_1$\n",
    "    - 主張したい仮説。「差がある」、「効果がある」\n",
    "- 仮説検定から得られる結論\n",
    "  - 帰無仮説を棄却する（reject the null hypothesis）\n",
    "    - 「帰無仮説は正しくない」という結論。\n",
    "  - 帰無仮説を採択する（accept the null hypothesis）\n",
    "    - 「帰無仮説が正しくないとはいえない」という解釈\n",
    "    - 「帰無仮説が正しいかどうかわからない」という保留の結論\n",
    "  - 帰無仮説の「棄却・採択」の判断\n",
    "    - 帰無仮説を仮定したもとで標本から計算される統計量が珍しい値がどうかで判断する。\n",
    "    - 珍しい値が得られたら、「それは偶然ではなく何か意味のある値だ」と考えて帰無仮説を棄却する。\n",
    "    - そうでなければ、帰無仮説を採択する。\n",
    "  - 有意である（significant）\n",
    "    - 偶然ではなく何か意味がるということ。\n",
    "  - 棄却域（rejection region）\n",
    "    - 帰無仮説が棄却される区間のこと\n",
    "  - 採択域（acceptance region）\n",
    "    - 帰無仮説が採択される区間のこと\n",
    "  - 有意水準（level of significance）\n",
    "    - 棄却域に入る確率\n",
    "  - 臨界値（critical value）\n",
    "    - しきい値\n",
    "  - 検定統計量（test statistic）\n",
    "    - 検定に使われる統計量\n",
    "  - p値（p-value）\n",
    "    - 検定統計量より左側の領域の面積\n",
    "- フライドポテトの例では、\n",
    "  - 有意水準: 5%\n",
    "  - 検定統計量: 標本平均\n",
    "  - 臨界値: 128.681"
   ]
  },
  {
   "cell_type": "markdown",
   "metadata": {},
   "source": [
    "フライドポテトの重さの平均値について仮説検定を考える\n",
    "\n",
    "- 帰無仮説「母平均は 130g」を仮定\n",
    "- 14個のフライドポテトは互いに独立に $N(130, 9)$ にしたがう。\n",
    "- 標本平均 $\\overline{X}$ は $N(130, 9/14)$ にしたがう。\n",
    "- 一般化して説明するため、標本平均 $\\overline{X}$ を標準化する。\n",
    "  - $Z = (\\overline{X} - 130) / \\sqrt{\\frac{9}{14}}$\n",
    "- 標準化することで上側$100\\alpha\\%$点を $z_alpha$ で表すことができる。\n",
    "- 臨界値 $P((\\overline{X} - 130)/\\sqrt{\\frac{9}{14}} \\leq x) = 0.05$ を満たす $x$、すなわち $x = z_{0.95}$ を求めることができる。\n",
    "- $(\\overline{X} - 130)/\\sqrt{\\frac{9}{14}} \\leq  z_{0.95}$ であれば、帰無仮説を棄却する。\n",
    "- $(\\overline{X} - 130)/\\sqrt{\\frac{9}{14}} \\geq  z_{0.95}$ であれば、帰無仮説を採択する。"
   ]
  },
  {
   "cell_type": "code",
   "execution_count": 6,
   "metadata": {},
   "outputs": [
    {
     "data": {
      "text/plain": [
       "-1.932"
      ]
     },
     "execution_count": 6,
     "metadata": {},
     "output_type": "execute_result"
    }
   ],
   "source": [
    "# 検定統計量を求める\n",
    "z = (s_mean - 130) / np.sqrt(9/14)\n",
    "z"
   ]
  },
  {
   "cell_type": "code",
   "execution_count": 7,
   "metadata": {},
   "outputs": [
    {
     "data": {
      "text/plain": [
       "-1.645"
      ]
     },
     "execution_count": 7,
     "metadata": {},
     "output_type": "execute_result"
    }
   ],
   "source": [
    "# 臨界値を求める\n",
    "rv = stats.norm()\n",
    "rv.isf(0.95)"
   ]
  },
  {
   "cell_type": "markdown",
   "metadata": {},
   "source": [
    "- 検定統計量と臨界値を比較する\n",
    "  - 検定統計量のほうが小さい値になっている。\n",
    "  - 帰無仮説が棄却される。\n",
    "  - 平均は 130g より少ないという結論になる。"
   ]
  },
  {
   "cell_type": "code",
   "execution_count": 8,
   "metadata": {},
   "outputs": [
    {
     "data": {
      "text/plain": [
       "0.027"
      ]
     },
     "execution_count": 8,
     "metadata": {},
     "output_type": "execute_result"
    }
   ],
   "source": [
    "# p値を求める\n",
    "rv.cdf(z)"
   ]
  },
  {
   "cell_type": "markdown",
   "metadata": {},
   "source": [
    "- p値が 0.027 という有意水準 0.05 より小さい値になったので、帰無仮説は棄却される。\n",
    "\n",
    "- 仮説検定の流れ\n",
    "  - 仮説をたてる（帰無仮説・対立仮説）\n",
    "  - 有意水準を決める\n",
    "  - 検定統計量を計算する\n",
    "  - p値を計算する\n",
    "  - 有意水準より大きいか？\n",
    "    - yes: 帰無仮説を採択\n",
    "    - no: 帰無仮説を棄却"
   ]
  }
 ],
 "metadata": {
  "interpreter": {
   "hash": "18aa02ce14a85bb7f4615a92049f5200f59992eb58b8bc2715593121788c94f0"
  },
  "kernelspec": {
   "display_name": "Python 3.9.12 ('sap_env': venv)",
   "language": "python",
   "name": "python3"
  },
  "language_info": {
   "codemirror_mode": {
    "name": "ipython",
    "version": 3
   },
   "file_extension": ".py",
   "mimetype": "text/x-python",
   "name": "python",
   "nbconvert_exporter": "python",
   "pygments_lexer": "ipython3",
   "version": "3.9.12"
  },
  "orig_nbformat": 4
 },
 "nbformat": 4,
 "nbformat_minor": 2
}
