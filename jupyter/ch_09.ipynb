{
 "cells": [
  {
   "cell_type": "markdown",
   "metadata": {},
   "source": [
    "# Chapter09 独立同一分布\n",
    "\n",
    "- 確率変数が互いに独立であるとは、\n",
    "  - 確率変数がほかの確率変数に影響を及ぼさないこと。\n",
    "- 独立同一分布（independently and identically distributed, i.i.d.）\n",
    "  - お互いに独立で、さらにそれぞれが同じ確率分布に従う多次元確率変数のこと\n",
    "  - それらが従う確率分を$F$とすると、\n",
    "    - $X_1, X_2, ..., X_n \\ims^{iid} F$\n",
    "  - と表される。\n",
    "  - 「同じ条件下で行われる実験や観測を複数回繰り返すことでデータを得る」ということを、数学の言葉で表したもの\n",
    "  - 統計解析においてもっとも基本的でかつ重要な条件設定。"
   ]
  },
  {
   "cell_type": "code",
   "execution_count": 20,
   "metadata": {},
   "outputs": [],
   "source": [
    "# ライブラリーの準備\n",
    "import numpy as np\n",
    "import matplotlib.pyplot as plt\n",
    "from matplotlib import rcParams\n",
    "from scipy import stats\n",
    "import matplotlib.animation as ani\n",
    "from IPython.display import HTML\n",
    "\n",
    "plt.style.use('seaborn')\n",
    "rcParams['font.family'] = 'IPAexgothic'\n",
    "np.random.seed(0)\n",
    "%precision 3\n",
    "%matplotlib inline"
   ]
  },
  {
   "cell_type": "code",
   "execution_count": 21,
   "metadata": {},
   "outputs": [],
   "source": [
    "# 離散型確率変数の関する関数\n",
    "linestyles = ['-', '--', '-.']\n",
    "\n",
    "def E(XY, g):\n",
    "    \"\"\"2次元の離散型確率変数の期待値\"\"\"\n",
    "    x_set, y_set, f_XY = XY\n",
    "    return np.sum([\n",
    "        g(x_i, y_j) * f_XY(x_i, y_j)\n",
    "        for x_i in x_set for y_j in y_set\n",
    "    ])\n",
    "\n",
    "def Cov(XY):\n",
    "    \"\"\"2次元の離散型確率変数の共分散\"\"\"\n",
    "    x_set, y_set, f_XY = XY\n",
    "    mean_X = E(XY, lambda x, y: x)\n",
    "    mean_Y = E(XY, lambda x, y: y)\n",
    "    return np.sum([\n",
    "        (x_i-mean_X) * (y_j-mean_Y) * f_XY(x_i, y_j)\n",
    "        for x_i in x_set for y_j in y_set\n",
    "    ])\n",
    "\n",
    "def f_X(x):\n",
    "    \"\"\"確率変数Xの周辺分布\"\"\"\n",
    "    return np.sum([\n",
    "        f_XY(x, y_k) for y_k in y_set\n",
    "    ])\n",
    "\n",
    "def f_Y(y):\n",
    "    \"\"\"確率変数Yの周辺分布\"\"\"\n",
    "    return np.sum([\n",
    "        f_XY(x_k, y) for x_k in x_set\n",
    "    ])"
   ]
  },
  {
   "cell_type": "markdown",
   "metadata": {},
   "source": [
    "## 9.1 | 独立性\n",
    "\n",
    "### 9.1.1 独立性の定義\n",
    "\n",
    "- 確率変数の独立性（independence）とは\n",
    "  - 2つ以上の確率変数が互いに影響を及ぼさず無関係であることを表す概念\n",
    "\n",
    "2次元確率変数$(X, Y)$の場合、次のような関係が成り立つことを、**独立である**という。\n",
    "\n",
    "$$\n",
    "f_{X, Y}(x, y) = f_X(x)f_Y(y)\n",
    "$$\n",
    "\n",
    "すなわち、確率変数が独立なとき、同時確率は周辺確率の積で書くことができる。"
   ]
  },
  {
   "cell_type": "markdown",
   "metadata": {},
   "source": [
    "#### 独立性\n",
    "\n",
    "n個の確率変数 $X_1, X_2, ..., X_n$ が、\n",
    "\n",
    "$$\n",
    "f_{X_1, X_2, ..., X_n}(x_1, x_2, ..., x_n) = \n",
    "f_{X_1}(x_1)f_{X_2}(x_2)...f_{X_n}(x_n)\n",
    "$$\n",
    "\n",
    "を満たすとき、$X_1, X_2, ..., X_n$は互いに独立であるという。\n",
    "\n",
    "ただし、関数$f$は、\n",
    "\n",
    "- 離散型であれば、確率関数\n",
    "- 連続型であれば、密度関数\n",
    "\n",
    "を表す。"
   ]
  },
  {
   "cell_type": "markdown",
   "metadata": {},
   "source": [
    "### 9.1.2 独立性と無相関性\n",
    "\n",
    "- 共分散や相関係数が「0」のとき、\n",
    "  - 2つの確率変数の間に、相関性がないことを表している。\n",
    "  - 相関性がないとは、直線的な関係がないこと。\n",
    "\n",
    "- 無相関性より独立性のほうが強い概念\n",
    "  - 2つの確率変数$XとY$が「独立なとき」、$XとY$は「無相関」。\n",
    "  - 2つの確率変数$XとY$が「無相関なとき」$XとY$は「必ずしも独立とはなっていない」。\n",
    "    - 2つの確率変数の間に直線的な関係はないものの、影響を及ぼし合う場合がある。"
   ]
  },
  {
   "cell_type": "markdown",
   "metadata": {},
   "source": [
    "#### 2つの確率変数$XとY$が「独立なとき」、$XとY$は「無相関」"
   ]
  },
  {
   "cell_type": "code",
   "execution_count": 22,
   "metadata": {},
   "outputs": [],
   "source": [
    "x_set = np.array([1, 2, 3, 4, 5, 6])\n",
    "y_set = np.array([1, 2, 3, 4, 5, 6])\n",
    "\n",
    "def f_XY(x, y):\n",
    "    \"\"\"2つのいかさまサイコロの期待値\"\"\"\n",
    "    if x in x_set and y in y_set:\n",
    "        return x * y / 441\n",
    "    else:\n",
    "        return 0\n",
    "\n",
    "# 確率変数の定義\n",
    "XY = [x_set, y_set, f_XY]"
   ]
  },
  {
   "cell_type": "code",
   "execution_count": 23,
   "metadata": {},
   "outputs": [
    {
     "data": {
      "text/plain": [
       "-0.000"
      ]
     },
     "execution_count": 23,
     "metadata": {},
     "output_type": "execute_result"
    }
   ],
   "source": [
    "Cov(XY)"
   ]
  },
  {
   "cell_type": "markdown",
   "metadata": {},
   "source": [
    "独立性の定義はすべての$x, y$に対して、\n",
    "\n",
    "$$\n",
    "f_{X, Y}(x, y) = f_X(x)f_Y(y)\n",
    "$$\n",
    "\n",
    "が成り立つ。\n",
    "\n",
    "ここで、$x = 1, y = 1$を代入して、\n",
    "\n",
    "$$\n",
    "f_{X, Y}(1, 1) = f_X(1)f_Y(1)\n",
    "$$\n",
    "\n",
    "が成り立つか確認する。"
   ]
  },
  {
   "cell_type": "code",
   "execution_count": 24,
   "metadata": {},
   "outputs": [
    {
     "data": {
      "text/plain": [
       "(0.002, 0.002)"
      ]
     },
     "execution_count": 24,
     "metadata": {},
     "output_type": "execute_result"
    }
   ],
   "source": [
    "f_XY(1, 1), f_X(1) * f_Y(1)"
   ]
  },
  {
   "cell_type": "markdown",
   "metadata": {},
   "source": [
    "等式が成り立っている、$XとY$は独立。"
   ]
  },
  {
   "cell_type": "markdown",
   "metadata": {},
   "source": [
    "#### 2つの確率変数$XとY$が「無相関なとき」$XとY$は「必ずしも独立とはなっていない」\n",
    "\n",
    "- 無相関なのに、独立でない例\n",
    "  - とりうる値の組み合わせが$\\{(0, 0), (1, 1), (1, -1)\\}$で、\n",
    "  - それぞれの確率が等しい2次元確率変数$(X, Y)$を使う。\n",
    "\n",
    "$$\n",
    "f_{XY}(x, y) = \n",
    "\\begin{cases}\n",
    "\\begin{align*}\n",
    "1/3 ~~~ &(~(x, y) \\in \\{(0, 0), (1, 1), (1, -1)\\}~)\n",
    "\\\\\n",
    "0 ~~~~~ &(otherwise)\n",
    "\\end{align*}\n",
    "\\end{cases}\n",
    "$$"
   ]
  },
  {
   "cell_type": "code",
   "execution_count": 25,
   "metadata": {},
   "outputs": [],
   "source": [
    "x_set = np.array([0, 1])\n",
    "y_set = np.array([-1, 0, 1])\n",
    "\n",
    "def f_XY(x, y):\n",
    "    if (x, y) in [(0, 0), (1, 1), (1, -1)]:\n",
    "        return 1 / 3\n",
    "    else:\n",
    "        return 0\n",
    "\n",
    "XY = [x_set, y_set, f_XY]"
   ]
  },
  {
   "cell_type": "code",
   "execution_count": 26,
   "metadata": {},
   "outputs": [
    {
     "data": {
      "text/plain": [
       "0.000"
      ]
     },
     "execution_count": 26,
     "metadata": {},
     "output_type": "execute_result"
    }
   ],
   "source": [
    "Cov(XY)"
   ]
  },
  {
   "cell_type": "markdown",
   "metadata": {},
   "source": [
    "独立性の定義はすべての$x, y$に対して、\n",
    "\n",
    "$$\n",
    "f_{X, Y}(x, y) = f_X(x)f_Y(y)\n",
    "$$\n",
    "\n",
    "が成り立つ。\n",
    "\n",
    "ここで、$x = 0, y = 0$を代入して、\n",
    "\n",
    "$$\n",
    "f_{X, Y}(0, 0) = f_X(0)f_Y(0)\n",
    "$$\n",
    "\n",
    "が成り立つか確認する。"
   ]
  },
  {
   "cell_type": "code",
   "execution_count": 27,
   "metadata": {},
   "outputs": [
    {
     "data": {
      "text/plain": [
       "(0.333, 0.111)"
      ]
     },
     "execution_count": 27,
     "metadata": {},
     "output_type": "execute_result"
    }
   ],
   "source": [
    "f_XY(0, 0), f_X(0) * f_Y(0)"
   ]
  },
  {
   "cell_type": "markdown",
   "metadata": {},
   "source": [
    "等式が成り立っていないため、$XとY$は独立ではない。"
   ]
  },
  {
   "cell_type": "markdown",
   "metadata": {},
   "source": [
    "## | 9.2 和の分布\n",
    "\n",
    "- 和の分布\n",
    "  - 互いに独立に同一の確率分布に従う「確率変数 $X_1, X_2, ..., X_n$」の<br>\n",
    "    「和 $\\sum_{i=1}^{n} X_i = X_1 + X_2 + ... + X_n$」が従う確率分布のこと\n",
    "\n",
    "### 確率変数の和の期待値\n",
    "\n",
    "和の分布の期待値は、それぞれの確率変数の期待の和で計算できる。\n",
    "\n",
    "確率変数 $X_1, X_2, ..., X_n$ について、\n",
    "\n",
    "$$\n",
    "E(X_1 + X_2 + ... + X_n) = E(X_1) + E(X_2) + ... + E(X_n)\n",
    "$$\n",
    "\n",
    "が成り立つ。\n",
    "\n",
    "※この公式は確率変数が独立でなくても成り立つ。\n",
    "\n",
    "### 確率変数の和の分散\n",
    "\n",
    "和の分布の分散も、それぞれの確率変数の分散の和で計算できる。\n",
    "\n",
    "確率変数 $X_1, X_2, ..., X_n$ が互いに独立ならば、\n",
    "\n",
    "$$\n",
    "V(X_1 + X_2 + ... + X_n) = V(X_1) + V(X_2) + ... + V(X_n)\n",
    "$$\n",
    "\n",
    "が成り立つ。"
   ]
  },
  {
   "cell_type": "markdown",
   "metadata": {},
   "source": [
    "### 9.2.1 正規分布の和の分布"
   ]
  }
 ],
 "metadata": {
  "interpreter": {
   "hash": "18aa02ce14a85bb7f4615a92049f5200f59992eb58b8bc2715593121788c94f0"
  },
  "kernelspec": {
   "display_name": "Python 3.9.12 ('sap_env': venv)",
   "language": "python",
   "name": "python3"
  },
  "language_info": {
   "codemirror_mode": {
    "name": "ipython",
    "version": 3
   },
   "file_extension": ".py",
   "mimetype": "text/x-python",
   "name": "python",
   "nbconvert_exporter": "python",
   "pygments_lexer": "ipython3",
   "version": "3.9.12"
  },
  "orig_nbformat": 4
 },
 "nbformat": 4,
 "nbformat_minor": 2
}
