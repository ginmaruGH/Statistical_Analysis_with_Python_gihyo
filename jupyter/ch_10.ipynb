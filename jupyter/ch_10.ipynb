{
 "cells": [
  {
   "cell_type": "markdown",
   "metadata": {},
   "source": [
    "# Chapter10 統計的推定"
   ]
  },
  {
   "cell_type": "code",
   "execution_count": 1,
   "metadata": {},
   "outputs": [],
   "source": [
    "# ライブラリーの準備\n",
    "import numpy as np\n",
    "import pandas as pd\n",
    "import matplotlib.pyplot as plt\n",
    "from matplotlib import rcParams\n",
    "from scipy import stats\n",
    "\n",
    "plt.style.use('seaborn')\n",
    "rcParams['font.family'] = 'IPAexgothic'\n",
    "%precision 3\n",
    "%matplotlib inline"
   ]
  },
  {
   "cell_type": "code",
   "execution_count": 2,
   "metadata": {},
   "outputs": [],
   "source": [
    "# テストデータの準備\n",
    "df = pd.read_csv('../data/ch4_scores400.csv')\n",
    "scores = np.array(df['点数'])"
   ]
  },
  {
   "cell_type": "code",
   "execution_count": 3,
   "metadata": {},
   "outputs": [
    {
     "data": {
      "text/plain": [
       "(69.530, 206.669)"
      ]
     },
     "execution_count": 3,
     "metadata": {},
     "output_type": "execute_result"
    }
   ],
   "source": [
    "# 母平均、母分散の表示\n",
    "p_mean = np.mean(scores)\n",
    "p_var = np.var(scores)\n",
    "\n",
    "p_mean, p_var"
   ]
  },
  {
   "cell_type": "code",
   "execution_count": 4,
   "metadata": {},
   "outputs": [
    {
     "data": {
      "image/png": "[encoded data removed]",
      "text/plain": [
       "<Figure size 720x432 with 1 Axes>"
      ]
     },
     "metadata": {
      "needs_background": "light"
     },
     "output_type": "display_data"
    }
   ],
   "source": [
    "# 全生徒の点数のヒストグラム\n",
    "fig = plt.figure(figsize=(10, 6))\n",
    "ax = fig.add_subplot(111)\n",
    "\n",
    "xs = np.arange(101)\n",
    "rv = stats.norm(p_mean, np.sqrt(p_var))\n",
    "\n",
    "ax.plot(xs, rv.pdf(xs), color='gray')\n",
    "ax.hist(scores, bins=100, range=(0, 100), density=True)\n",
    "\n",
    "plt.show()"
   ]
  },
  {
   "cell_type": "code",
   "execution_count": 5,
   "metadata": {},
   "outputs": [
    {
     "data": {
      "text/plain": [
       "array([49, 60, 72, 86, 52, 61, 77, 91, 80, 56, 69, 67, 90, 56, 75, 79, 60,\n",
       "       79, 68, 81])"
      ]
     },
     "execution_count": 5,
     "metadata": {},
     "output_type": "execute_result"
    }
   ],
   "source": [
    "# 無作為抽出した20人分の標本データ\n",
    "\n",
    "np.random.seed(0)\n",
    "n = 20\n",
    "sample = np.random.choice(scores, n)\n",
    "sample"
   ]
  },
  {
   "cell_type": "code",
   "execution_count": 6,
   "metadata": {},
   "outputs": [],
   "source": [
    "# サンプルサイズ20の標本データ * 10,000組\n",
    "\n",
    "np.random.seed(1111)\n",
    "n_samples = 10_000\n",
    "samples = np.random.choice(scores, (n_samples, n))"
   ]
  },
  {
   "cell_type": "markdown",
   "metadata": {},
   "source": [
    "## 10.1 | 点推定\n",
    "\n",
    "- 点推定\n",
    "  - 母平均や母分散といった母数を1つの数値で推定する。\n",
    "\n",
    "### 10.1.1 母平均の点推定\n",
    "\n",
    "- 無作為抽出で得た20人のテストの点数は、\n",
    "  - 期待値 $\\mu$、分散 $\\sigma^2$ の確率分布にしたがう互いに独立な確率変数 $X_1, X_2, ..., X_20$ と考えることができる。\n",
    "  - それらから計算される標本平均 $\\overline{X} = \\frac{X_1 + X_2 + ... + X_n}{n}$ もまた確率変数になっており、試行のたびに得られる結果は異なる。"
   ]
  },
  {
   "cell_type": "code",
   "execution_count": 7,
   "metadata": {},
   "outputs": [
    {
     "name": "stdout",
     "output_type": "stream",
     "text": [
      "1回目の標本平均: 67.000\n",
      "2回目の標本平均: 72.850\n",
      "3回目の標本平均: 69.200\n",
      "4回目の標本平均: 64.450\n",
      "5回目の標本平均: 72.650\n"
     ]
    }
   ],
   "source": [
    "for i in range(5):\n",
    "    s_mean = np.mean(samples[i])\n",
    "    print(f\"{i+1}回目の標本平均: {s_mean:.3f}\")"
   ]
  },
  {
   "cell_type": "markdown",
   "metadata": {},
   "source": [
    "- 不偏性（unbiasedness）\n",
    "  - 推定量の期待値が推測したい母数になる性質のこと\n",
    "- 不偏推定量（unbiased estimator）\n",
    "  - 不偏性を持っている推定量のこと\n",
    "\n",
    "標本平均の期待値と分散\n",
    "\n",
    "確率変数 $X_1, X_2, ..., X_n$ が互いに独立に、期待値 $\\mu$ で分散 $\\sigma^2$ の確率分布 $F$ にしたがっているとき、\n",
    "\n",
    "$$\n",
    "\\begin{align*}\n",
    "E(\\overline{X}) &= \\mu \\\\\n",
    "V(\\overline{X}) &= \\dfrac{\\sigma^2}{n} \\\\\n",
    "\\end{align*}\n",
    "$$\n",
    "\n",
    "が成り立つ。"
   ]
  },
  {
   "cell_type": "markdown",
   "metadata": {},
   "source": [
    "標本平均 $\\overline{X}$ の期待値が母平均 $\\mu$ であることを大数の法則を使って確かめる\n",
    "\n",
    "- 用意した1万組の標本データそれぞれについて標本平均を求める\n",
    "- 標本平均の平均を計算する"
   ]
  },
  {
   "cell_type": "code",
   "execution_count": 8,
   "metadata": {},
   "outputs": [
    {
     "data": {
      "text/plain": [
       "(69.530, 69.538)"
      ]
     },
     "execution_count": 8,
     "metadata": {},
     "output_type": "execute_result"
    }
   ],
   "source": [
    "sample_mean = np.mean(samples, axis=1)\n",
    "p_mean, np.mean(sample_mean)"
   ]
  },
  {
   "cell_type": "markdown",
   "metadata": {},
   "source": [
    "- 一致性（consistency）\n",
    "  - サンプルサイズ $n$ を増やしていくと推定したい母数に収束していく性質。\n",
    "- 一致推定量（consistent estimator）\n",
    "  - 一致性を持った推定量のこと。"
   ]
  },
  {
   "cell_type": "markdown",
   "metadata": {},
   "source": [
    "- 標本平均は一致推定量でもある。\n",
    "- サンプルサイズ $n$ を100万にしたときの、標本平均 $\\overline{X}$を計算する。"
   ]
  },
  {
   "cell_type": "code",
   "execution_count": 9,
   "metadata": {},
   "outputs": [
    {
     "data": {
      "text/plain": [
       "69.543"
      ]
     },
     "execution_count": 9,
     "metadata": {},
     "output_type": "execute_result"
    }
   ],
   "source": [
    "np.mean(\n",
    "    np.random.choice(scores, int(1e6))\n",
    ")"
   ]
  },
  {
   "cell_type": "code",
   "execution_count": 10,
   "metadata": {},
   "outputs": [
    {
     "data": {
      "text/plain": [
       "70.400"
      ]
     },
     "execution_count": 10,
     "metadata": {},
     "output_type": "execute_result"
    }
   ],
   "source": [
    "# 20人分の標本データの標本平均\n",
    "s_mean = np.mean(sample)\n",
    "s_mean"
   ]
  },
  {
   "cell_type": "markdown",
   "metadata": {},
   "source": [
    "### 10.1.2 母分散の点推定\n",
    "\n",
    "標本平均と同じように、標本分散 $\\frac{1}{n} \\sum_{i=1}^{n} (X_i - \\overline{X})^2$ は確率変数になっているので、試行のたびに結果は変わる。"
   ]
  },
  {
   "cell_type": "code",
   "execution_count": 11,
   "metadata": {},
   "outputs": [
    {
     "name": "stdout",
     "output_type": "stream",
     "text": [
      "1回目の標本分散: 116.800\n",
      "2回目の標本分散: 162.928\n",
      "3回目の標本分散: 187.060\n",
      "4回目の標本分散: 149.148\n",
      "5回目の標本分散: 111.528\n"
     ]
    }
   ],
   "source": [
    "for i in range(5):\n",
    "    s_var = np.var(samples[i])\n",
    "    print(f\"{i+1}回目の標本分散: {s_var:.3f}\")"
   ]
  },
  {
   "cell_type": "markdown",
   "metadata": {},
   "source": [
    "- 標本分散が母分散の不偏推定量になっているかどうか、大数の法則で確かめる。\n",
    "  - 用意しておいた1万組の標本データそれぞれについて標本分散を求める。\n",
    "  - 求めた標本分散の平均を計算する。"
   ]
  },
  {
   "cell_type": "code",
   "execution_count": 12,
   "metadata": {},
   "outputs": [
    {
     "data": {
      "text/plain": [
       "(206.669, 196.344)"
      ]
     },
     "execution_count": 12,
     "metadata": {},
     "output_type": "execute_result"
    }
   ],
   "source": [
    "sample_vars = np.var(samples, axis=1)\n",
    "p_var, np.mean(sample_vars)"
   ]
  },
  {
   "cell_type": "markdown",
   "metadata": {},
   "source": [
    "- 不偏分散（unbiased variance）$s^2$\n",
    "  - 母分散の不偏推定量になる推定量\n",
    "  - 標本分散$S^2$における割る数 $n$ を $n-1$ に置き換える\n",
    "\n",
    "$$\n",
    "s^2 = \\dfrac{1}{n - 1} \\sum_{i=1}^{n} (X_i - \\overline{X})^2\n",
    "$$\n",
    "\n",
    "- 自由度（degree of freedom）\n",
    "  - 自由に値を取ることができる変数の数のこと"
   ]
  },
  {
   "cell_type": "code",
   "execution_count": 13,
   "metadata": {},
   "outputs": [
    {
     "data": {
      "text/plain": [
       "(206.669, 206.678)"
      ]
     },
     "execution_count": 13,
     "metadata": {},
     "output_type": "execute_result"
    }
   ],
   "source": [
    "# 不偏分散の計算\n",
    "sample_u_vars = np.var(samples, axis=1, ddof=1)\n",
    "p_var, np.mean(sample_u_vars)"
   ]
  },
  {
   "cell_type": "markdown",
   "metadata": {},
   "source": [
    "- 不偏分散は一致推定量でもある。\n",
    "- サンプルサイズ $n$ を100万にしたときの、不偏分散 $s^2$を計算する。"
   ]
  },
  {
   "cell_type": "code",
   "execution_count": 14,
   "metadata": {},
   "outputs": [
    {
     "data": {
      "text/plain": [
       "207.083"
      ]
     },
     "execution_count": 14,
     "metadata": {},
     "output_type": "execute_result"
    }
   ],
   "source": [
    "np.var(np.random.choice(scores, int(1e6)), ddof=1)"
   ]
  },
  {
   "cell_type": "code",
   "execution_count": 15,
   "metadata": {},
   "outputs": [
    {
     "data": {
      "text/plain": [
       "158.253"
      ]
     },
     "execution_count": 15,
     "metadata": {},
     "output_type": "execute_result"
    }
   ],
   "source": [
    "# 20人分の標本データの不偏分散\n",
    "u_var = np.var(sample, ddof=1)\n",
    "u_var"
   ]
  },
  {
   "cell_type": "markdown",
   "metadata": {},
   "source": [
    "### 10.1.2 点推定のまとめ\n",
    "\n",
    "- 不偏性（unbiasedness）\n",
    "  - 期待値が推測したい母数になる性質\n",
    "- 一致性（consistency）\n",
    "  - サンプルサイズを増やしていくと、推測したい母数に収束していく性質\n",
    "- 母平均と母分散の点推定\n",
    "  - $X_1, X_2, ..., X_n$ が互いに独立に期待値 $\\mu$ で分散 $\\sigma^2$ であるような確率分布にしたがっているとする。\n",
    "  - このとき標本平均 $\\overline{X}$ と不偏分散 $s^2$ はそれぞれ母平均 $\\mu$ と母分散 $\\sigma^2$ に対して不偏性と一致性をもつ推定量となる。"
   ]
  },
  {
   "cell_type": "markdown",
   "metadata": {},
   "source": [
    "## 10.2 | 区間推定\n",
    "\n",
    "### 10.2.1 正規分布の母平均（分散既知）の区間推定\n",
    "\n",
    "母集団に正規分布を仮定し、その母分散がわかっている場合の母平均の区間推定\n",
    "\n",
    "- 標準誤差（standard error）\n",
    "  - 推定量の標準偏差\n",
    "\n",
    "- 標本平均 $\\overline{X}$ は、$N(\\mu, \\sigma^2/n)$ に従う。\n",
    "  - 標本平均という推定量は期待値こそ母平均であるものの標準偏差 $\\sqrt{\\sigma^2/n}$ でばらついている。\n",
    "  - このような推定量の標準偏差を**標準誤差**という。\n",
    "\n",
    "- 標本平均 $\\overline{X}$ は $N(\\mu, \\sigma^2/n)$ に従っているので、\n",
    "- $Z = (\\overline{X} - \\mu) / \\sqrt{\\frac{\\sigma^2}{n}}$ という標準化で標準正規分布に変換できる。\n",
    "- 標準正規分布に変換すると、$100(1-\\alpha)\\%$ 区間を計算できる。\n",
    "- $(\\overline{X} - \\mu) / \\sqrt{\\frac{\\sigma^2}{n}}$ について、95%区間は、\n",
    "\n",
    "$$\n",
    "P(z_{0.975} \\leq \n",
    "(\\overline{X} - \\mu) / \\sqrt{\\frac{\\sigma^2}{n}} \n",
    "\\leq z_{0.025}) = 0.95\n",
    "$$\n",
    "\n",
    "- 確率変数 $(\\overline{X} - \\mu) / \\sqrt{\\frac{\\sigma^2}{n}}$ が区間 $[z_{0.975}, z_{0.025}]$ に日ある確率が95%ということ。\n",
    "- $P$ の中身が $\\mu$ についての不等式になるように式変形する。\n",
    "\n",
    "$$\n",
    "P(\\overline{X} - z_{0.025}\\sqrt{\\frac{\\sigma^2}{n}} \\leq \n",
    "\\mu \\leq \n",
    "\\overline{X} - z_{0.975}\\sqrt{\\frac{\\sigma^2}{n}}) = 0.95\n",
    "$$\n",
    "\n",
    "- この式は区間\n",
    "\n",
    "$$\n",
    "\\left[ ~\n",
    "\\overline{X} - z_{0.025}\\sqrt{\\frac{\\sigma^2}{n}}, ~\n",
    "\\overline{X} - z_{0.975}\\sqrt{\\frac{\\sigma^2}{n}}\n",
    "~ \\right]\n",
    "$$\n",
    "\n",
    "- が母平均 $\\mu$ を含む確率が95%であると解釈できる。\n",
    "- これを信頼係数95%の**信頼区間（confidence interval, CI）**\n",
    "- または、95%信頼区間という。\n",
    "- 上側信頼限界（upper confidence limit）\n",
    "  - 信頼区間の上側\n",
    "- 下側信頼限界（lower confidence limit）\n",
    "  - 信頼区間の下側"
   ]
  },
  {
   "cell_type": "markdown",
   "metadata": {},
   "source": [
    "#### 母分散が既知のときの母平均の信頼区間\n",
    "\n",
    "$X_1, X_2, ..., X_n ~ \\sim i.i.d. ~ N(\\mu, \\sigma^2)$ とする。\n",
    "\n",
    "このとき母分散 $\\sigma^2$ が既知であれば、信頼区間$100(1-\\alpha)\\%$ の信頼区間は、\n",
    "\n",
    "$$\n",
    "\\left[ ~\n",
    "\\overline{X} - z_{\\alpha/2}\\sqrt{\\frac{\\sigma^2}{n}}, ~\n",
    "\\overline{X} - z_{1-\\alpha/2}\\sqrt{\\frac{\\sigma^2}{n}}\n",
    "~ \\right]\n",
    "$$\n",
    "\n",
    "となる。"
   ]
  },
  {
   "cell_type": "code",
   "execution_count": 17,
   "metadata": {},
   "outputs": [
    {
     "data": {
      "text/plain": [
       "(64.100, 69.530, 76.700)"
      ]
     },
     "execution_count": 17,
     "metadata": {},
     "output_type": "execute_result"
    }
   ],
   "source": [
    "# 20人分の標本データを使って母平均の95%信頼区間を求める\n",
    "\n",
    "rv = stats.norm()\n",
    "lcl = s_mean - rv.isf(0.025) * np.sqrt(p_var/n)\n",
    "ucl = s_mean - rv.isf(0.975) * np.sqrt(p_var/n)\n",
    "\n",
    "lcl, p_mean, ucl\n"
   ]
  },
  {
   "cell_type": "markdown",
   "metadata": {},
   "source": [
    "#### 95%信頼区間の解釈\n",
    "\n",
    "- 95%の確率で、信頼区間が母平均 $\\mu$ を含んでいる。\n",
    "  - 区間推定を何度も行うと、そのうち95%の区間推定には母平均が含まれるということ。"
   ]
  },
  {
   "cell_type": "code",
   "execution_count": 19,
   "metadata": {},
   "outputs": [
    {
     "data": {
      "image/png": "[encoded data removed]",
      "text/plain": [
       "<Figure size 720x864 with 1 Axes>"
      ]
     },
     "metadata": {
      "needs_background": "light"
     },
     "output_type": "display_data"
    }
   ],
   "source": [
    "# 信頼区間の計算を100回行う\n",
    "# このうち何回、信頼区間内に母平均を含んでいるかを図示する\n",
    "# 中央の縦線が母平均\n",
    "# 母平均を含まなかった区間推定を青色にする\n",
    "\n",
    "fig = plt.figure(figsize=(10,12))\n",
    "ax = fig.add_subplot(111)\n",
    "\n",
    "rv = stats.norm()\n",
    "n_samples = 100\n",
    "ax.vlines(p_mean, 0, 101)\n",
    "\n",
    "for i in range(n_samples):\n",
    "    sample_ = samples[i]\n",
    "    s_mean_ = np.mean(sample_)\n",
    "    lcl = s_mean_ - rv.isf(0.025) * np.sqrt(p_var/n) \n",
    "    ucl = s_mean_ - rv.isf(0.975) * np.sqrt(p_var/n)\n",
    "    if lcl <= p_mean <= ucl:\n",
    "        ax.scatter(s_mean_, n_samples-i, color='gray')\n",
    "        ax.hlines(n_samples-i, lcl, ucl, color='gray')\n",
    "    else:\n",
    "        ax.scatter(s_mean_, n_samples-i, color='blue')\n",
    "        ax.hlines(n_samples-i, lcl, ucl, color='blue')\n",
    "\n",
    "ax.set_xticks([p_mean])\n",
    "ax.set_xticklabels(['母平均'])\n",
    "plt.show()"
   ]
  },
  {
   "cell_type": "code",
   "execution_count": 20,
   "metadata": {},
   "outputs": [
    {
     "data": {
      "text/plain": [
       "0.951"
      ]
     },
     "execution_count": 20,
     "metadata": {},
     "output_type": "execute_result"
    }
   ],
   "source": [
    "# 1万回の信頼区間を計算して、信頼区間に母平均が含まれた割合を計算する\n",
    "\n",
    "rv = stats.norm()\n",
    "cnt = 0\n",
    "\n",
    "for sample_ in samples:\n",
    "    s_mean_ = np.mean(sample_)\n",
    "    lcl = s_mean_ - rv.isf(0.025) * np.sqrt(p_var/n)\n",
    "    ucl = s_mean_ - rv.isf(0.975) * np.sqrt(p_var/n)\n",
    "    if lcl <= p_mean <= ucl:\n",
    "        cnt += 1\n",
    "\n",
    "cnt / len(samples)\n"
   ]
  }
 ],
 "metadata": {
  "interpreter": {
   "hash": "18aa02ce14a85bb7f4615a92049f5200f59992eb58b8bc2715593121788c94f0"
  },
  "kernelspec": {
   "display_name": "Python 3.9.12 ('sap_env': venv)",
   "language": "python",
   "name": "python3"
  },
  "language_info": {
   "codemirror_mode": {
    "name": "ipython",
    "version": 3
   },
   "file_extension": ".py",
   "mimetype": "text/x-python",
   "name": "python",
   "nbconvert_exporter": "python",
   "pygments_lexer": "ipython3",
   "version": "3.9.12"
  },
  "orig_nbformat": 4
 },
 "nbformat": 4,
 "nbformat_minor": 2
}
