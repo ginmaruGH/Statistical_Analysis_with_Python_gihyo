{
 "cells": [
  {
   "cell_type": "markdown",
   "metadata": {},
   "source": [
    "# Chapter10 統計的推定"
   ]
  },
  {
   "cell_type": "code",
   "execution_count": 4,
   "metadata": {},
   "outputs": [],
   "source": [
    "# ライブラリーの準備\n",
    "import numpy as np\n",
    "import pandas as pd\n",
    "import matplotlib.pyplot as plt\n",
    "from matplotlib import rcParams\n",
    "from scipy import stats\n",
    "\n",
    "plt.style.use('seaborn')\n",
    "rcParams['font.family'] = 'IPAexgothic'\n",
    "%precision 3\n",
    "%matplotlib inline"
   ]
  },
  {
   "cell_type": "code",
   "execution_count": 5,
   "metadata": {},
   "outputs": [],
   "source": [
    "# テストデータの準備\n",
    "df = pd.read_csv('../data/ch4_scores400.csv')\n",
    "scores = np.array(df['点数'])"
   ]
  },
  {
   "cell_type": "code",
   "execution_count": 7,
   "metadata": {},
   "outputs": [
    {
     "data": {
      "text/plain": [
       "(69.530, 206.669)"
      ]
     },
     "execution_count": 7,
     "metadata": {},
     "output_type": "execute_result"
    }
   ],
   "source": [
    "# 母平均、母分散の表示\n",
    "p_mean = np.mean(scores)\n",
    "p_var = np.var(scores)\n",
    "\n",
    "p_mean, p_var"
   ]
  },
  {
   "cell_type": "code",
   "execution_count": 9,
   "metadata": {},
   "outputs": [
    {
     "data": {
      "image/png": "[encoded data removed]",
      "text/plain": [
       "<Figure size 720x432 with 1 Axes>"
      ]
     },
     "metadata": {
      "needs_background": "light"
     },
     "output_type": "display_data"
    }
   ],
   "source": [
    "# 全生徒の点数のヒストグラム\n",
    "fig = plt.figure(figsize=(10, 6))\n",
    "ax = fig.add_subplot(111)\n",
    "\n",
    "xs = np.arange(101)\n",
    "rv = stats.norm(p_mean, np.sqrt(p_var))\n",
    "\n",
    "ax.plot(xs, rv.pdf(xs), color='gray')\n",
    "ax.hist(scores, bins=100, range=(0, 100), density=True)\n",
    "\n",
    "plt.show()"
   ]
  },
  {
   "cell_type": "code",
   "execution_count": 10,
   "metadata": {},
   "outputs": [
    {
     "data": {
      "text/plain": [
       "array([49, 60, 72, 86, 52, 61, 77, 91, 80, 56, 69, 67, 90, 56, 75, 79, 60,\n",
       "       79, 68, 81])"
      ]
     },
     "execution_count": 10,
     "metadata": {},
     "output_type": "execute_result"
    }
   ],
   "source": [
    "# 無作為抽出した20人分の標本データ\n",
    "\n",
    "np.random.seed(0)\n",
    "n = 20\n",
    "sample = np.random.choice(scores, n)\n",
    "sample"
   ]
  },
  {
   "cell_type": "code",
   "execution_count": 11,
   "metadata": {},
   "outputs": [],
   "source": [
    "# サンプルサイズ20の標本データ * 10,000組\n",
    "\n",
    "np.random.seed(1111)\n",
    "n_samples = 10_000\n",
    "samples = np.random.choice(scores, (n_samples, n))"
   ]
  },
  {
   "cell_type": "markdown",
   "metadata": {},
   "source": [
    "## 10.1 | 点推定\n",
    "\n",
    "- 点推定\n",
    "  - 母平均や母分散といった母数を1つの数値で推定する。\n",
    "\n",
    "### 10.1.1 母平均の点推定\n",
    "\n",
    "- 無作為抽出で得た20人のテストの点数は、\n",
    "  - 期待値 $\\mu$、分散 $\\sigma^2$ の確率分布にしたがう互いに独立な確率変数 $X_1, X_2, ..., X_20$ と考えることができる。\n",
    "  - それらから計算される標本平均 $\\overline{X} = \\frac{X_1 + X_2 + ... + X_n}{n}$ もまた確率変数になっており、試行のたびに得られる結果は異なる。"
   ]
  },
  {
   "cell_type": "code",
   "execution_count": 12,
   "metadata": {},
   "outputs": [
    {
     "name": "stdout",
     "output_type": "stream",
     "text": [
      "1回目の標本平均: 67.000\n",
      "2回目の標本平均: 72.850\n",
      "3回目の標本平均: 69.200\n",
      "4回目の標本平均: 64.450\n",
      "5回目の標本平均: 72.650\n"
     ]
    }
   ],
   "source": [
    "for i in range(5):\n",
    "    s_mean = np.mean(samples[i])\n",
    "    print(f\"{i+1}回目の標本平均: {s_mean:.3f}\")"
   ]
  },
  {
   "cell_type": "markdown",
   "metadata": {},
   "source": [
    "- 不偏性（unbiasedness）\n",
    "  - 推定量の期待値が推測したい母数になる性質のこと\n",
    "- 不偏推定量（unbiased estimator）\n",
    "  - 不偏性を持っている推定量のこと\n",
    "\n",
    "標本平均の期待値と分散\n",
    "\n",
    "確率変数 $X_1, X_2, ..., X_n$ が互いに独立に、期待値 $\\mu$ で分散 $\\sigma^2$ の確率分布 $F$ にしたがっているとき、\n",
    "\n",
    "$$\n",
    "\\begin{align*}\n",
    "E(\\overline{X}) &= \\mu \\\\\n",
    "V(\\overline{X}) &= \\dfrac{\\sigma^2}{n} \\\\\n",
    "\\end{align*}\n",
    "$$\n",
    "\n",
    "が成り立つ。"
   ]
  },
  {
   "cell_type": "markdown",
   "metadata": {},
   "source": [
    "標本平均 $\\overline{X}$ の期待値が母平均 $\\mu$ であることを大数の法則を使って確かめる\n",
    "\n",
    "- 用意した1万組の標本データそれぞれについて標本平均を求める\n",
    "- 標本平均の平均を計算する"
   ]
  },
  {
   "cell_type": "code",
   "execution_count": 14,
   "metadata": {},
   "outputs": [
    {
     "data": {
      "text/plain": [
       "(69.530, 69.538)"
      ]
     },
     "execution_count": 14,
     "metadata": {},
     "output_type": "execute_result"
    }
   ],
   "source": [
    "sample_mean = np.mean(samples, axis=1)\n",
    "p_mean, np.mean(sample_mean)"
   ]
  },
  {
   "cell_type": "markdown",
   "metadata": {},
   "source": [
    "- 一致性（consistency）\n",
    "  - サンプルサイズ $n$ を増やしていくと推定したい母数に収束していく性質。\n",
    "- 一致推定量（consistent estimator）\n",
    "  - 一致性を持った推定量のこと。"
   ]
  },
  {
   "cell_type": "markdown",
   "metadata": {},
   "source": [
    "- 標本平均は一致推定量でもある。\n",
    "- サンプルサイズ $n$ を100万にしたときの、標本平均 $\\overline{X}$を計算する。"
   ]
  },
  {
   "cell_type": "code",
   "execution_count": 15,
   "metadata": {},
   "outputs": [
    {
     "data": {
      "text/plain": [
       "69.543"
      ]
     },
     "execution_count": 15,
     "metadata": {},
     "output_type": "execute_result"
    }
   ],
   "source": [
    "np.mean(\n",
    "    np.random.choice(scores, int(1e6))\n",
    ")"
   ]
  },
  {
   "cell_type": "code",
   "execution_count": 16,
   "metadata": {},
   "outputs": [
    {
     "data": {
      "text/plain": [
       "70.400"
      ]
     },
     "execution_count": 16,
     "metadata": {},
     "output_type": "execute_result"
    }
   ],
   "source": [
    "# 20人分の標本データの標本平均\n",
    "s_mean = np.mean(sample)\n",
    "s_mean"
   ]
  },
  {
   "cell_type": "markdown",
   "metadata": {},
   "source": [
    "### 10.1.2 母分散の点推定\n",
    "\n",
    "標本平均と同じように、標本分散 $\\frac{1}{n} \\sum_{i=1}^{n} (X_i - \\overline{X})^2$ は確率変数になっているので、試行のたびに結果は変わる。"
   ]
  },
  {
   "cell_type": "code",
   "execution_count": 17,
   "metadata": {},
   "outputs": [
    {
     "name": "stdout",
     "output_type": "stream",
     "text": [
      "1回目の標本分散: 116.800\n",
      "2回目の標本分散: 162.928\n",
      "3回目の標本分散: 187.060\n",
      "4回目の標本分散: 149.148\n",
      "5回目の標本分散: 111.528\n"
     ]
    }
   ],
   "source": [
    "for i in range(5):\n",
    "    s_var = np.var(samples[i])\n",
    "    print(f\"{i+1}回目の標本分散: {s_var:.3f}\")"
   ]
  },
  {
   "cell_type": "markdown",
   "metadata": {},
   "source": [
    "- 標本分散が母分散の不偏推定量になっているかどうか、大数の法則で確かめる。\n",
    "  - 用意しておいた1万組の標本データそれぞれについて標本分散を求める。\n",
    "  - 求めた標本分散の平均を計算する。"
   ]
  },
  {
   "cell_type": "code",
   "execution_count": 18,
   "metadata": {},
   "outputs": [
    {
     "data": {
      "text/plain": [
       "(206.669, 196.344)"
      ]
     },
     "execution_count": 18,
     "metadata": {},
     "output_type": "execute_result"
    }
   ],
   "source": [
    "sample_vars = np.var(samples, axis=1)\n",
    "p_var, np.mean(sample_vars)"
   ]
  },
  {
   "cell_type": "markdown",
   "metadata": {},
   "source": [
    "- 不偏分散（unbiased variance）$s^2$\n",
    "  - 母分散の不偏推定量になる推定量\n",
    "  - 標本分散$S^2$における割る数 $n$ を $n-1$ に置き換える\n",
    "\n",
    "$$\n",
    "s^2 = \\dfrac{1}{n - 1} \\sum_{i=1}^{n} (X_i - \\overline{X})^2\n",
    "$$\n",
    "\n",
    "- 自由度（degree of freedom）\n",
    "  - 自由に値を取ることができる変数の数のこと"
   ]
  },
  {
   "cell_type": "code",
   "execution_count": 20,
   "metadata": {},
   "outputs": [
    {
     "data": {
      "text/plain": [
       "(206.669, 206.678)"
      ]
     },
     "execution_count": 20,
     "metadata": {},
     "output_type": "execute_result"
    }
   ],
   "source": [
    "# 不偏分散の計算\n",
    "sample_u_vars = np.var(samples, axis=1, ddof=1)\n",
    "p_var, np.mean(sample_u_vars)"
   ]
  },
  {
   "cell_type": "markdown",
   "metadata": {},
   "source": [
    "- 不偏分散は一致推定量でもある。\n",
    "- サンプルサイズ $n$ を100万にしたときの、不偏分散 $s^2$を計算する。"
   ]
  },
  {
   "cell_type": "code",
   "execution_count": 21,
   "metadata": {},
   "outputs": [
    {
     "data": {
      "text/plain": [
       "207.083"
      ]
     },
     "execution_count": 21,
     "metadata": {},
     "output_type": "execute_result"
    }
   ],
   "source": [
    "np.var(np.random.choice(scores, int(1e6)), ddof=1)"
   ]
  },
  {
   "cell_type": "code",
   "execution_count": 22,
   "metadata": {},
   "outputs": [
    {
     "data": {
      "text/plain": [
       "158.253"
      ]
     },
     "execution_count": 22,
     "metadata": {},
     "output_type": "execute_result"
    }
   ],
   "source": [
    "# 20人分の標本データの不偏分散\n",
    "u_var = np.var(sample, ddof=1)\n",
    "u_var"
   ]
  },
  {
   "cell_type": "markdown",
   "metadata": {},
   "source": [
    "### 10.1.2 点推定のまとめ\n",
    "\n",
    "- 不偏性（unbiasedness）\n",
    "  - 期待値が推測したい母数になる性質\n",
    "- 一致性（consistency）\n",
    "  - サンプルサイズを増やしていくと、推測したい母数に収束していく性質\n",
    "- 母平均と母分散の点推定\n",
    "  - $X_1, X_2, ..., X_n$ が互いに独立に期待値 $\\mu$ で分散 $\\sigma^2$ であるような確率分布にしたがっているとする。\n",
    "  - このとき標本平均 $\\overline{X}$ と不偏分散 $s^2$ はそれぞれ母平均 $\\mu$ と母分散 $\\sigma^2$ に対して不偏性と一致性をもつ推定量となる。"
   ]
  },
  {
   "cell_type": "markdown",
   "metadata": {},
   "source": [
    "## 10.2 | 区間推定\n"
   ]
  }
 ],
 "metadata": {
  "interpreter": {
   "hash": "18aa02ce14a85bb7f4615a92049f5200f59992eb58b8bc2715593121788c94f0"
  },
  "kernelspec": {
   "display_name": "Python 3.9.12 ('sap_env': venv)",
   "language": "python",
   "name": "python3"
  },
  "language_info": {
   "codemirror_mode": {
    "name": "ipython",
    "version": 3
   },
   "file_extension": ".py",
   "mimetype": "text/x-python",
   "name": "python",
   "nbconvert_exporter": "python",
   "pygments_lexer": "ipython3",
   "version": "3.9.12"
  },
  "orig_nbformat": 4
 },
 "nbformat": 4,
 "nbformat_minor": 2
}
