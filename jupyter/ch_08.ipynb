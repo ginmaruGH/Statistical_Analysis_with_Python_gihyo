{
 "cells": [
  {
   "cell_type": "markdown",
   "metadata": {},
   "source": [
    "# Chapter08 代表的な連続型確率分布\n",
    "\n",
    "- Numpy\n",
    "  - 確率変数を「とりうる値」と「密度関数」から定義していく数式レベルの実装\n",
    "- SciPy.stats\n",
    "  - 実際の統計解析を行ううえで、便利な機能に触れつつ、確率分布の特徴について考察する"
   ]
  },
  {
   "cell_type": "code",
   "execution_count": 1,
   "metadata": {},
   "outputs": [],
   "source": [
    "# ライブラリーの準備\n",
    "import numpy as np\n",
    "import matplotlib.pyplot as plt\n",
    "from matplotlib import rcParams\n",
    "from scipy import stats, integrate\n",
    "from scipy.optimize import minimize_scalar\n",
    "\n",
    "plt.style.use('seaborn')\n",
    "rcParams['font.family'] = 'IPAexgothic'\n",
    "%precision 3\n",
    "%matplotlib inline"
   ]
  },
  {
   "cell_type": "code",
   "execution_count": 2,
   "metadata": {},
   "outputs": [],
   "source": [
    "# 関数の作成\n",
    "linestyles = ['-', '--', ':']\n",
    "\n",
    "def E(X, g=lambda x: x):\n",
    "    \"\"\"1次元の連続型確率変数の期待値 E(X)\"\"\"\n",
    "    x_range, f = X\n",
    "    def integrand(x):\n",
    "        \"\"\"被積分関数\"\"\"\n",
    "        return g(x) * f(x)\n",
    "\n",
    "    return integrate.quad(\n",
    "        integrand,\n",
    "        -np.inf, np.inf\n",
    "    )[0]\n",
    "\n",
    "def V(X, g=lambda x: x):\n",
    "    \"\"\"1次元の連続型確率変数の分散 V(X)\"\"\"\n",
    "    x_range, f = X\n",
    "    mean = E(X, g)\n",
    "    def integrand(x):\n",
    "        \"\"\"被積分関数\"\"\"\n",
    "        return (g(x) - mean)**2 * f(x)\n",
    "\n",
    "    return integrate.quad(\n",
    "        integrand,\n",
    "        -np.inf, np.inf\n",
    "    )[0]\n",
    "\n",
    "def check_prob(X):\n",
    "    \"\"\"\n",
    "    確率変数を引数に、その確率変数が確率の性質を満たしているか確認数する\n",
    "    期待値と分散を返す\n",
    "    \"\"\"\n",
    "    x_range, f = X\n",
    "    f_min = minimize_scalar(f).fun\n",
    "    assert f_min >= 0, \"密度関数が負の値をとります。\"\n",
    "\n",
    "    prob_sum = np.round(integrate.quad(f, -np.inf, np.inf)[0], 6)\n",
    "    assert prob_sum == 1, f\"確率の和が{prob_sum}になりました。\"\n",
    "\n",
    "    print(f\"期待値: {E(X):.3f}\")\n",
    "    print(f\"分散: {V(X):.3f}\")\n",
    "\n",
    "def plot_prob(X, x_min, x_max):\n",
    "    \"\"\"\n",
    "    確率変数と区間を引数に、\n",
    "    その確率変数の密度関数と分布関数を図示する\n",
    "    \"\"\"\n",
    "    x_range, f = X\n",
    "    def F(x):\n",
    "        \"\"\"密度関数\"\"\"\n",
    "        return integrate.quad(f, -np.inf, x)[0]\n",
    "\n",
    "    xs = np.linspace(x_min, x_max, 100)\n",
    "\n",
    "    fig = plt.figure(figsize=(10, 6))\n",
    "    ax = fig.add_subplot(111)\n",
    "    ax.plot(xs, [f(x) for x in xs], label='f(x)', color='gray')\n",
    "    ax.plot(xs, [F(x) for x in xs], label='F(x)', ls='--', color='gray')\n",
    "    ax.legend()\n",
    "    plt.show()"
   ]
  },
  {
   "cell_type": "markdown",
   "metadata": {},
   "source": [
    "## 8.1 正規分布\n",
    "\n",
    "- 正規分布（normal distribution）\n",
    "  - ガウス分布（Gaussian distribution）\n",
    "  - とりうる値は、実数全体\n",
    "  - $N(\\mu, \\sigma^2)$\n",
    "  - パラメータ\n",
    "    - $\\mu$（実数）\n",
    "    - $\\sigma^2$（$\\sigma$は正の実数）\n",
    "\n",
    "#### 正規分布の密度関数\n",
    "\n",
    "$N(\\mu, \\sigma^2)$の密度関数\n",
    "\n",
    "$$\n",
    "f(x) = \\dfrac{1}{\\sqrt{2\\pi}\\sigma}exp\\left\\{ -\\dfrac{(x - \\mu)^2}{2\\sigma^2} \\right\\}\n",
    "~~~ (-\\infty < x < \\infty)\n",
    "$$\n",
    "\n",
    "#### 正規分布の期待値と分散\n",
    "\n",
    "$X \\sim N(\\mu, \\sigma^2)$とするとき\n",
    "\n",
    "$$\n",
    "\\begin{align*}\n",
    "E(X) &= \\mu\n",
    "\\\\\n",
    "V(X) &= \\sigma^2\n",
    "\\end{align*}\n",
    "$$\n",
    "\n",
    "#### 正規分布の変換\n",
    "\n",
    "$N \\sim N(\\mu, \\sigma^2)$とするとき、任意の実数$a, b$に対して\n",
    "\n",
    "$$\n",
    "aX + b \\sim N(a\\mu + b, ~ a^2\\sigma^2)\n",
    "$$\n",
    "\n",
    "が成り立つ。\n",
    "\n",
    "これを利用することで、\n",
    "\n",
    "$X \\sim N(\\mu, \\sigma^2)$を標準化した確率変数$Z = (X - \\mu)/\\sigma$は、$N(0, 1)$に従うことがわかる。\n",
    "\n",
    "- **標準正規分布（standard normal distribution）**\n",
    "  - 標準化した正規分布$N(0, 1)$"
   ]
  },
  {
   "cell_type": "code",
   "execution_count": 3,
   "metadata": {},
   "outputs": [],
   "source": [
    "# NumPy\n",
    "# 正規分布の密度関数\n",
    "def N(mu, sigma):\n",
    "    x_range = [-np.inf, np.inf]\n",
    "    def f(x):\n",
    "        return 1 / np.sqrt(2 * np.pi * sigma**2) *\\\n",
    "            np.exp(-(x-mu)**2 / (2 * sigma**2))\n",
    "    \n",
    "    return x_range, f"
   ]
  },
  {
   "cell_type": "code",
   "execution_count": 4,
   "metadata": {},
   "outputs": [],
   "source": [
    "# N(2, 0.5^2)に従う確率変数X\n",
    "mu, sigma = 2, 0.5\n",
    "X = N(mu, sigma)"
   ]
  },
  {
   "cell_type": "code",
   "execution_count": 5,
   "metadata": {},
   "outputs": [
    {
     "name": "stdout",
     "output_type": "stream",
     "text": [
      "期待値: 2.000\n",
      "分散: 0.250\n"
     ]
    }
   ],
   "source": [
    "# N(2, 0.5^2)に従う確率変数Xの\n",
    "# 期待値と分散\n",
    "check_prob(X)"
   ]
  },
  {
   "cell_type": "code",
   "execution_count": 6,
   "metadata": {},
   "outputs": [
    {
     "data": {
      "image/png": "[encoded data removed]",
      "text/plain": [
       "<Figure size 720x432 with 1 Axes>"
      ]
     },
     "metadata": {
      "needs_background": "light"
     },
     "output_type": "display_data"
    }
   ],
   "source": [
    "# N(2, 0.5^2)に従う確率変数Xの\n",
    "# 密度関数と分布関数の図示\n",
    "# 区間: [0, 4]\n",
    "plot_prob(X, 0, 4)"
   ]
  },
  {
   "cell_type": "code",
   "execution_count": 7,
   "metadata": {},
   "outputs": [],
   "source": [
    "# scipy.statsを使った実装\n",
    "# 正規分布に従う確率変数\n",
    "# stats.norm(μ, σ)\n",
    "rv = stats.norm(2, 0.5)"
   ]
  },
  {
   "cell_type": "code",
   "execution_count": 8,
   "metadata": {},
   "outputs": [
    {
     "data": {
      "text/plain": [
       "(2.000, 0.250)"
      ]
     },
     "execution_count": 8,
     "metadata": {},
     "output_type": "execute_result"
    }
   ],
   "source": [
    "# 期待値と分散\n",
    "rv.mean(), rv.var()"
   ]
  },
  {
   "cell_type": "code",
   "execution_count": 9,
   "metadata": {},
   "outputs": [
    {
     "data": {
      "text/plain": [
       "0.798"
      ]
     },
     "execution_count": 9,
     "metadata": {},
     "output_type": "execute_result"
    }
   ],
   "source": [
    "# 密度関数\n",
    "rv.pdf(2)"
   ]
  },
  {
   "cell_type": "code",
   "execution_count": 10,
   "metadata": {},
   "outputs": [
    {
     "data": {
      "text/plain": [
       "0.274"
      ]
     },
     "execution_count": 10,
     "metadata": {},
     "output_type": "execute_result"
    }
   ],
   "source": [
    "# 分布関数\n",
    "# 確率P(X <= x)\n",
    "rv.cdf(1.7)"
   ]
  },
  {
   "cell_type": "markdown",
   "metadata": {},
   "source": [
    "- **上側100α%点（upper 100α% point）**\n",
    "  - $P(X \\geq x) = \\alpha$を満たすような$x$\n",
    "  - 領域の面積が$\\alpha$となるような左側の$x$座標に相当\n",
    "- $z_\\alpha$\n",
    "  - $Z \\sim N(0, 1)$とすると、$P(Z \\geq z_\\alpha) = \\alpha$を満たす\n",
    "- 標準正規分布は、$x=0$を中心に対称な形をしているので、$z_{1-\\alpha} = -z_\\alpha$が成り立つ"
   ]
  },
  {
   "cell_type": "code",
   "execution_count": 11,
   "metadata": {},
   "outputs": [
    {
     "data": {
      "text/plain": [
       "2.262"
      ]
     },
     "execution_count": 11,
     "metadata": {},
     "output_type": "execute_result"
    }
   ],
   "source": [
    "# 上側30%点を求める\n",
    "rv.isf(0.3)"
   ]
  },
  {
   "cell_type": "markdown",
   "metadata": {},
   "source": [
    "- **$100_\\alpha\\%$区間**\n",
    "  - 確率が$\\alpha$となる中央の区間\n",
    "  - 領域の面積が$\\alpha$となるような、$a, b$を求める\n",
    "  - このときの左と右の余った部分の面積は等しくなる\n",
    "  - $aとｂ$は$P(a \\leq X \\leq b) = \\alpha$を満たし、\n",
    "  - さらに$P(X \\leq a) = P(X \\geq b) = (1 - \\alpha)/2$\n",
    "  - このような区間$[a, b]$のこと"
   ]
  },
  {
   "cell_type": "code",
   "execution_count": 12,
   "metadata": {},
   "outputs": [
    {
     "data": {
      "text/plain": [
       "(1.178, 2.822)"
      ]
     },
     "execution_count": 12,
     "metadata": {},
     "output_type": "execute_result"
    }
   ],
   "source": [
    "# 90%区間を求める\n",
    "rv.interval(0.9)"
   ]
  },
  {
   "cell_type": "code",
   "execution_count": 15,
   "metadata": {},
   "outputs": [
    {
     "data": {
      "text/plain": [
       "(1.178, 2.822)"
      ]
     },
     "execution_count": 15,
     "metadata": {},
     "output_type": "execute_result"
    }
   ],
   "source": [
    "# 右と左に5%ずつ余っているので、\n",
    "# a, bは次のようにも求めることができる\n",
    "rv.isf(0.95), rv.isf(0.05)"
   ]
  },
  {
   "cell_type": "markdown",
   "metadata": {},
   "source": [
    "- 標準正規分布の場合、\n",
    "  - $100(1 - \\alpha)\\%$区間を$z_\\alpha$を使って、$[z_{1-\\alpha/2}, z_{\\alpha/2}]$で表すことができる\n",
    "  - 標準正規分布の95%区間は$\\alpha = 0.05$に対応することから、$[z_{0.975}, z_{0.025}]$と求めることができる"
   ]
  },
  {
   "cell_type": "code",
   "execution_count": 17,
   "metadata": {},
   "outputs": [
    {
     "data": {
      "image/png": "[encoded data removed]",
      "text/plain": [
       "<Figure size 720x432 with 1 Axes>"
      ]
     },
     "metadata": {
      "needs_background": "light"
     },
     "output_type": "display_data"
    }
   ],
   "source": [
    "# 正規分布\n",
    "# N(0, 1), N(0, 4), N(1, 1)を図示\n",
    "fig = plt.figure(figsize=(10, 6))\n",
    "ax = fig.add_subplot(111)\n",
    "\n",
    "xs = np.linspace(-5, 5, 100)\n",
    "params = [(0, 1), (0, 2), (1, 1)]\n",
    "for param, ls in zip(params, linestyles):\n",
    "    mu, sigma = param\n",
    "    rv = stats.norm(mu, sigma)\n",
    "    ax.plot(\n",
    "        xs, rv.pdf(xs),\n",
    "        label=f'N({mu}, {sigma**2})', ls=ls, color='gray'\n",
    "    )\n",
    "ax.legend()\n",
    "\n",
    "plt.show()"
   ]
  },
  {
   "cell_type": "markdown",
   "metadata": {},
   "source": [
    "#### 正規分布のまとめ\n",
    "\n",
    "|||\n",
    "|:--:|:--:|\n",
    "|パラメータ|$\\mu, \\sigma$|\n",
    "|とりうる値|実数全体|\n",
    "|密度関数|$\\dfrac{1}{\\sqrt{2\\pi}\\sigma}exp\\left\\{ -\\dfrac{(x - \\mu)^2}{2\\sigma^2} \\right\\}$|\n",
    "|期待値|$\\mu$|\n",
    "|分散|$\\sigma^2$|\n",
    "|scipy.stats|norm($\\mu, \\sigma$)|"
   ]
  }
 ],
 "metadata": {
  "interpreter": {
   "hash": "18aa02ce14a85bb7f4615a92049f5200f59992eb58b8bc2715593121788c94f0"
  },
  "kernelspec": {
   "display_name": "Python 3.9.12 ('sap_env': venv)",
   "language": "python",
   "name": "python3"
  },
  "language_info": {
   "codemirror_mode": {
    "name": "ipython",
    "version": 3
   },
   "file_extension": ".py",
   "mimetype": "text/x-python",
   "name": "python",
   "nbconvert_exporter": "python",
   "pygments_lexer": "ipython3",
   "version": "3.9.12"
  },
  "orig_nbformat": 4
 },
 "nbformat": 4,
 "nbformat_minor": 2
}
